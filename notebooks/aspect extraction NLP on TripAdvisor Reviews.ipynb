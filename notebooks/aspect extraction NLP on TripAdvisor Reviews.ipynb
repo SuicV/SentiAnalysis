{
 "cells": [
  {
   "cell_type": "code",
   "execution_count": 2,
   "id": "2c37f33b-b4a7-4179-8976-24a01e3ee51e",
   "metadata": {},
   "outputs": [],
   "source": [
    "import pandas as pd\n",
    "import importlib\n",
    "import time\n",
    "import os\n",
    "os.chdir(\"..\")"
   ]
  },
  {
   "cell_type": "code",
   "execution_count": 14,
   "id": "58217d75-e6ec-405d-88d2-f8ebad4e0948",
   "metadata": {},
   "outputs": [
    {
     "data": {
      "text/plain": [
       "<spacytextblob.spacytextblob.SpacyTextBlob at 0x15cf039c430>"
      ]
     },
     "execution_count": 14,
     "metadata": {},
     "output_type": "execute_result"
    }
   ],
   "source": [
    "import spacy\n",
    "from spacytextblob.spacytextblob import SpacyTextBlob\n",
    "from Preprocessors.ReviewPreprocessor import ReviewPreprocessor\n",
    "from nltk.tokenize import sent_tokenize\n",
    "nlp = spacy.load(\"en_core_web_sm\")\n",
    "nlp.add_pipe('spacytextblob')"
   ]
  },
  {
   "cell_type": "code",
   "execution_count": null,
   "id": "2b0c19cd-b87e-4576-a4f4-7ddef6a5563e",
   "metadata": {},
   "outputs": [],
   "source": [
    "%load_ext autoreload\n",
    "%autoreload 2"
   ]
  },
  {
   "cell_type": "code",
   "execution_count": 5,
   "id": "d4cf2631-af28-4f83-af54-93b5af8bd2c7",
   "metadata": {},
   "outputs": [
    {
     "data": {
      "text/html": [
       "<div>\n",
       "<style scoped>\n",
       "    .dataframe tbody tr th:only-of-type {\n",
       "        vertical-align: middle;\n",
       "    }\n",
       "\n",
       "    .dataframe tbody tr th {\n",
       "        vertical-align: top;\n",
       "    }\n",
       "\n",
       "    .dataframe thead th {\n",
       "        text-align: right;\n",
       "    }\n",
       "</style>\n",
       "<table border=\"1\" class=\"dataframe\">\n",
       "  <thead>\n",
       "    <tr style=\"text-align: right;\">\n",
       "      <th></th>\n",
       "      <th>listing_name</th>\n",
       "      <th>listing_score</th>\n",
       "      <th>username</th>\n",
       "      <th>review_score</th>\n",
       "      <th>review_title</th>\n",
       "      <th>review</th>\n",
       "    </tr>\n",
       "  </thead>\n",
       "  <tbody>\n",
       "    <tr>\n",
       "      <th>0</th>\n",
       "      <td>Le Bristol Paris</td>\n",
       "      <td>5.0</td>\n",
       "      <td>Traveldiarist</td>\n",
       "      <td>5.0</td>\n",
       "      <td>Still excellent—even during the pandemic</td>\n",
       "      <td>Le Bristol was just perfect during my trip to ...</td>\n",
       "    </tr>\n",
       "    <tr>\n",
       "      <th>1</th>\n",
       "      <td>Le Bristol Paris</td>\n",
       "      <td>5.0</td>\n",
       "      <td>EdgeyP</td>\n",
       "      <td>5.0</td>\n",
       "      <td>Beautiful romantic get away</td>\n",
       "      <td>Beautiful hotel and grounds, attentive staff s...</td>\n",
       "    </tr>\n",
       "    <tr>\n",
       "      <th>2</th>\n",
       "      <td>Le Bristol Paris</td>\n",
       "      <td>5.0</td>\n",
       "      <td>Califorays</td>\n",
       "      <td>5.0</td>\n",
       "      <td>Le Bristol Hotel: this is what perfection look...</td>\n",
       "      <td>Le Bristol hotel receives so much praise that ...</td>\n",
       "    </tr>\n",
       "    <tr>\n",
       "      <th>3</th>\n",
       "      <td>Le Bristol Paris</td>\n",
       "      <td>5.0</td>\n",
       "      <td>Villa_Eros_Kefalonia</td>\n",
       "      <td>5.0</td>\n",
       "      <td>Our most perfect hotel, ever</td>\n",
       "      <td>What can I say but after a nearly two year abs...</td>\n",
       "    </tr>\n",
       "    <tr>\n",
       "      <th>4</th>\n",
       "      <td>Le Bristol Paris</td>\n",
       "      <td>5.0</td>\n",
       "      <td>Allston C</td>\n",
       "      <td>5.0</td>\n",
       "      <td>Simply the Best!</td>\n",
       "      <td>Le Bristol is simply the best of Any hotel Any...</td>\n",
       "    </tr>\n",
       "    <tr>\n",
       "      <th>...</th>\n",
       "      <td>...</td>\n",
       "      <td>...</td>\n",
       "      <td>...</td>\n",
       "      <td>...</td>\n",
       "      <td>...</td>\n",
       "      <td>...</td>\n",
       "    </tr>\n",
       "    <tr>\n",
       "      <th>215</th>\n",
       "      <td>Hotel Peyris Opera</td>\n",
       "      <td>4.0</td>\n",
       "      <td>Conor O</td>\n",
       "      <td>3.0</td>\n",
       "      <td>Id try elsewhere first</td>\n",
       "      <td>Very small room, bit shoddy, staff where excel...</td>\n",
       "    </tr>\n",
       "    <tr>\n",
       "      <th>216</th>\n",
       "      <td>Hotel Peyris Opera</td>\n",
       "      <td>4.0</td>\n",
       "      <td>Vivacious_Lady</td>\n",
       "      <td>4.0</td>\n",
       "      <td>Charming hotel in the Opera district</td>\n",
       "      <td>We stayed five nights at this charming hotel d...</td>\n",
       "    </tr>\n",
       "    <tr>\n",
       "      <th>217</th>\n",
       "      <td>Hotel Peyris Opera</td>\n",
       "      <td>4.0</td>\n",
       "      <td>journeyman29</td>\n",
       "      <td>3.0</td>\n",
       "      <td>Adequate for a night</td>\n",
       "      <td>The hotel was fine. The room was clean. The lo...</td>\n",
       "    </tr>\n",
       "    <tr>\n",
       "      <th>218</th>\n",
       "      <td>Hotel Peyris Opera</td>\n",
       "      <td>4.0</td>\n",
       "      <td>Spooner2011</td>\n",
       "      <td>5.0</td>\n",
       "      <td>Perfection</td>\n",
       "      <td>Stopped here for 2 nights and can’t say a bad ...</td>\n",
       "    </tr>\n",
       "    <tr>\n",
       "      <th>219</th>\n",
       "      <td>Hotel Peyris Opera</td>\n",
       "      <td>4.0</td>\n",
       "      <td>Ross</td>\n",
       "      <td>1.0</td>\n",
       "      <td>A Disgrace</td>\n",
       "      <td>We stayed here in April 2019 , the room we wer...</td>\n",
       "    </tr>\n",
       "  </tbody>\n",
       "</table>\n",
       "<p>220 rows × 6 columns</p>\n",
       "</div>"
      ],
      "text/plain": [
       "           listing_name  listing_score              username  review_score  \\\n",
       "0      Le Bristol Paris            5.0         Traveldiarist           5.0   \n",
       "1      Le Bristol Paris            5.0                EdgeyP           5.0   \n",
       "2      Le Bristol Paris            5.0            Califorays           5.0   \n",
       "3      Le Bristol Paris            5.0  Villa_Eros_Kefalonia           5.0   \n",
       "4      Le Bristol Paris            5.0             Allston C           5.0   \n",
       "..                  ...            ...                   ...           ...   \n",
       "215  Hotel Peyris Opera            4.0               Conor O           3.0   \n",
       "216  Hotel Peyris Opera            4.0        Vivacious_Lady           4.0   \n",
       "217  Hotel Peyris Opera            4.0          journeyman29           3.0   \n",
       "218  Hotel Peyris Opera            4.0           Spooner2011           5.0   \n",
       "219  Hotel Peyris Opera            4.0                  Ross           1.0   \n",
       "\n",
       "                                          review_title  \\\n",
       "0             Still excellent—even during the pandemic   \n",
       "1                          Beautiful romantic get away   \n",
       "2    Le Bristol Hotel: this is what perfection look...   \n",
       "3                         Our most perfect hotel, ever   \n",
       "4                                     Simply the Best!   \n",
       "..                                                 ...   \n",
       "215                             Id try elsewhere first   \n",
       "216               Charming hotel in the Opera district   \n",
       "217                               Adequate for a night   \n",
       "218                                         Perfection   \n",
       "219                                         A Disgrace   \n",
       "\n",
       "                                                review  \n",
       "0    Le Bristol was just perfect during my trip to ...  \n",
       "1    Beautiful hotel and grounds, attentive staff s...  \n",
       "2    Le Bristol hotel receives so much praise that ...  \n",
       "3    What can I say but after a nearly two year abs...  \n",
       "4    Le Bristol is simply the best of Any hotel Any...  \n",
       "..                                                 ...  \n",
       "215  Very small room, bit shoddy, staff where excel...  \n",
       "216  We stayed five nights at this charming hotel d...  \n",
       "217  The hotel was fine. The room was clean. The lo...  \n",
       "218  Stopped here for 2 nights and can’t say a bad ...  \n",
       "219  We stayed here in April 2019 , the room we wer...  \n",
       "\n",
       "[220 rows x 6 columns]"
      ]
     },
     "execution_count": 5,
     "metadata": {},
     "output_type": "execute_result"
    }
   ],
   "source": [
    "data = pd.read_csv(\"data/reviews_paris_hotels.csv\")\n",
    "data"
   ]
  },
  {
   "cell_type": "code",
   "execution_count": 6,
   "id": "65744229-7ec9-415e-89b2-8169481178ed",
   "metadata": {},
   "outputs": [
    {
     "data": {
      "text/plain": [
       "'Le Bristol was just perfect during my trip to visit my son in Paris. With the pandemic, I was concerned if it would be the same sublime experience as it was in 2018 when I was last there. In some ways, it was even more so as they managed to meet and exceed cleanliness while at the same time not skipping a beat on providing outstanding service and truly three Michelin-star quality food. The atmosphere was so warm and helpful. I must again thank the concierge team led by Jean-Marie Burlet. They not only recommended excellent restaurants for us to try, local shops to visit, but they also secured hard to come by reservations for us, and tickets to exhibits. They also expertly packed up and mailed back to the States my purchases. Le Bristol is simply the best hotel. When I arrived I was greeted as an old friend. Jean-Marie remembered me and during my 8 night visit told me I’m family. It’s not often one feels that way about a hotel, but I must say the feeling is mutual. The Bristol is family to me too. Thank you.'"
      ]
     },
     "execution_count": 6,
     "metadata": {},
     "output_type": "execute_result"
    }
   ],
   "source": [
    "data[\"review\"][0]"
   ]
  },
  {
   "cell_type": "code",
   "execution_count": 15,
   "id": "ffa52f02-3227-48e9-aa76-6dfc1632ca85",
   "metadata": {},
   "outputs": [
    {
     "name": "stdout",
     "output_type": "stream",
     "text": [
      "remove_tags done\n"
     ]
    },
    {
     "name": "stderr",
     "output_type": "stream",
     "text": [
      "220it [00:25,  8.67it/s]\n"
     ]
    },
    {
     "name": "stdout",
     "output_type": "stream",
     "text": [
      "spelling_correction done\n"
     ]
    },
    {
     "name": "stderr",
     "output_type": "stream",
     "text": [
      "220it [00:00, 708.52it/s]"
     ]
    },
    {
     "name": "stdout",
     "output_type": "stream",
     "text": [
      "remove_objective_sentences done\n",
      "25.890079021453857 s\n"
     ]
    },
    {
     "name": "stderr",
     "output_type": "stream",
     "text": [
      "\n"
     ]
    },
    {
     "data": {
      "text/plain": [
       "0      Le Bristol was just perfect during my trip to ...\n",
       "1      Beautiful hotel and grounds, attentive staff s...\n",
       "2      But I’aall do it anyway, because it’s so deser...\n",
       "3      I love Paris but staying at Le Bristol feels l...\n",
       "4      It’s more of a Paris home - better than my rea...\n",
       "                             ...                        \n",
       "215    Very small room, bit shoddy, staff where excel...\n",
       "216    We stayed five nights at this charming hotel d...\n",
       "217    The hotel was fine. The room was clean. The lo...\n",
       "218    Stopped here for 2 nights and can’t say a bad ...\n",
       "219               we will not stay at this hotel again .\n",
       "Name: review, Length: 220, dtype: object"
      ]
     },
     "execution_count": 15,
     "metadata": {},
     "output_type": "execute_result"
    }
   ],
   "source": [
    "preprocessor = ReviewPreprocessor(data[\"review\"])\n",
    "t = time.time()\n",
    "cleaned_reviews = preprocessor.start()\n",
    "print(f\"{time.time() - t} s\")\n",
    "cleaned_reviews"
   ]
  },
  {
   "cell_type": "code",
   "execution_count": 10,
   "id": "b71e4b1d-c706-477c-8a89-73c9615861a0",
   "metadata": {},
   "outputs": [],
   "source": [
    "data[\"cleaned_review\"] = cleaned_reviews"
   ]
  },
  {
   "cell_type": "code",
   "execution_count": 64,
   "id": "042845a9-07a8-4686-9275-dea97ffa88bd",
   "metadata": {},
   "outputs": [],
   "source": [
    "def extract_aspects(review):\n",
    "    aspects = []\n",
    "    doc = nlp(review)\n",
    "    for sentence in doc.sents:\n",
    "        descriptive_term = ''\n",
    "        target = ''\n",
    "        for token in sentence:\n",
    "            if token.dep_ == 'nsubj' and token.pos_ == 'NOUN':\n",
    "                target = token.text.lower()\n",
    "            if token.pos_ == 'ADJ':\n",
    "                prepend = ''\n",
    "                for child in token.children:\n",
    "                    if child.pos_ != 'ADV':\n",
    "                        continue\n",
    "                    prepend += child.text.lower() + ' '\n",
    "                descriptive_term = prepend + token.text.lower()\n",
    "\n",
    "            if target != '' and descriptive_term != '' and {'aspect': target, 'description': descriptive_term} not in aspects:\n",
    "                aspects.append({'aspect': target, 'description': descriptive_term})\n",
    "    return aspects"
   ]
  },
  {
   "cell_type": "code",
   "execution_count": 65,
   "id": "d3f20854-258b-4694-aed2-ffa3163808d7",
   "metadata": {},
   "outputs": [],
   "source": [
    "data[\"aspect_desc\"] = data[\"cleaned_review\"].apply( lambda r : extract_aspects(r) )"
   ]
  },
  {
   "cell_type": "code",
   "execution_count": 66,
   "id": "b2854bcb-1d04-43d1-8201-64f369590f62",
   "metadata": {},
   "outputs": [
    {
     "data": {
      "text/html": [
       "<div>\n",
       "<style scoped>\n",
       "    .dataframe tbody tr th:only-of-type {\n",
       "        vertical-align: middle;\n",
       "    }\n",
       "\n",
       "    .dataframe tbody tr th {\n",
       "        vertical-align: top;\n",
       "    }\n",
       "\n",
       "    .dataframe thead th {\n",
       "        text-align: right;\n",
       "    }\n",
       "</style>\n",
       "<table border=\"1\" class=\"dataframe\">\n",
       "  <thead>\n",
       "    <tr style=\"text-align: right;\">\n",
       "      <th></th>\n",
       "      <th>cleaned_review</th>\n",
       "      <th>aspect_desc</th>\n",
       "    </tr>\n",
       "  </thead>\n",
       "  <tbody>\n",
       "    <tr>\n",
       "      <th>0</th>\n",
       "      <td>Le Bristol was just perfect during my trip to ...</td>\n",
       "      <td>[{'aspect': 'atmosphere', 'description': 'so w...</td>\n",
       "    </tr>\n",
       "    <tr>\n",
       "      <th>1</th>\n",
       "      <td>Beautiful hotel and grounds, attentive staff s...</td>\n",
       "      <td>[{'aspect': 'staff', 'description': 'attentive...</td>\n",
       "    </tr>\n",
       "    <tr>\n",
       "      <th>2</th>\n",
       "      <td>But I’aall do it anyway, because it’s so deser...</td>\n",
       "      <td>[{'aspect': 'property', 'description': 'gorgeo...</td>\n",
       "    </tr>\n",
       "    <tr>\n",
       "      <th>3</th>\n",
       "      <td>I love Paris but staying at Le Bristol feels l...</td>\n",
       "      <td>[{'aspect': 'apartment', 'description': 'first...</td>\n",
       "    </tr>\n",
       "    <tr>\n",
       "      <th>4</th>\n",
       "      <td>It’s more of a Paris home - better than my rea...</td>\n",
       "      <td>[{'aspect': 'rooms', 'description': 'beautiful...</td>\n",
       "    </tr>\n",
       "    <tr>\n",
       "      <th>...</th>\n",
       "      <td>...</td>\n",
       "      <td>...</td>\n",
       "    </tr>\n",
       "    <tr>\n",
       "      <th>215</th>\n",
       "      <td>Very small room, bit shoddy, staff where excel...</td>\n",
       "      <td>[]</td>\n",
       "    </tr>\n",
       "    <tr>\n",
       "      <th>216</th>\n",
       "      <td>We stayed five nights at this charming hotel d...</td>\n",
       "      <td>[{'aspect': 'room', 'description': 'clean'}, {...</td>\n",
       "    </tr>\n",
       "    <tr>\n",
       "      <th>217</th>\n",
       "      <td>The hotel was fine. The room was clean. The lo...</td>\n",
       "      <td>[{'aspect': 'hotel', 'description': 'fine'}, {...</td>\n",
       "    </tr>\n",
       "    <tr>\n",
       "      <th>218</th>\n",
       "      <td>Stopped here for 2 nights and can’t say a bad ...</td>\n",
       "      <td>[{'aspect': 'hello', 'description': 'friendly'}]</td>\n",
       "    </tr>\n",
       "    <tr>\n",
       "      <th>219</th>\n",
       "      <td>we will not stay at this hotel again .</td>\n",
       "      <td>[]</td>\n",
       "    </tr>\n",
       "  </tbody>\n",
       "</table>\n",
       "<p>220 rows × 2 columns</p>\n",
       "</div>"
      ],
      "text/plain": [
       "                                        cleaned_review  \\\n",
       "0    Le Bristol was just perfect during my trip to ...   \n",
       "1    Beautiful hotel and grounds, attentive staff s...   \n",
       "2    But I’aall do it anyway, because it’s so deser...   \n",
       "3    I love Paris but staying at Le Bristol feels l...   \n",
       "4    It’s more of a Paris home - better than my rea...   \n",
       "..                                                 ...   \n",
       "215  Very small room, bit shoddy, staff where excel...   \n",
       "216  We stayed five nights at this charming hotel d...   \n",
       "217  The hotel was fine. The room was clean. The lo...   \n",
       "218  Stopped here for 2 nights and can’t say a bad ...   \n",
       "219             we will not stay at this hotel again .   \n",
       "\n",
       "                                           aspect_desc  \n",
       "0    [{'aspect': 'atmosphere', 'description': 'so w...  \n",
       "1    [{'aspect': 'staff', 'description': 'attentive...  \n",
       "2    [{'aspect': 'property', 'description': 'gorgeo...  \n",
       "3    [{'aspect': 'apartment', 'description': 'first...  \n",
       "4    [{'aspect': 'rooms', 'description': 'beautiful...  \n",
       "..                                                 ...  \n",
       "215                                                 []  \n",
       "216  [{'aspect': 'room', 'description': 'clean'}, {...  \n",
       "217  [{'aspect': 'hotel', 'description': 'fine'}, {...  \n",
       "218   [{'aspect': 'hello', 'description': 'friendly'}]  \n",
       "219                                                 []  \n",
       "\n",
       "[220 rows x 2 columns]"
      ]
     },
     "execution_count": 66,
     "metadata": {},
     "output_type": "execute_result"
    }
   ],
   "source": [
    "data[[\"cleaned_review\", \"aspect_desc\"]]"
   ]
  },
  {
   "cell_type": "code",
   "execution_count": 31,
   "id": "54941896-7fba-4935-8bf6-ed6218b6883d",
   "metadata": {},
   "outputs": [
    {
     "data": {
      "text/plain": [
       "'Le Bristol was just perfect during my trip to visit my son in Paris. In some ways, it was even more so as they managed to meet and exceed cleanliness while at the same time not skipping a beat on providing outstanding service and truly three Michelin-star quality food. The atmosphere was so warm and helpful. They not only recommended excellent restaurants for us to try, local shops to visit, but they also secured hard to come by reservations for us, and tickets to exhibits. Le Bristol is simply the best hotel. Jean-Marie remembered me and during my 8 night visit told me I’m family. The Bristol is family to me too.'"
      ]
     },
     "execution_count": 31,
     "metadata": {},
     "output_type": "execute_result"
    }
   ],
   "source": [
    "data[\"cleaned_review\"][0]"
   ]
  },
  {
   "cell_type": "code",
   "execution_count": 67,
   "id": "3c121451-4f42-4001-b140-6e9371784813",
   "metadata": {},
   "outputs": [
    {
     "data": {
      "text/plain": [
       "[{'aspect': 'atmosphere', 'description': 'so warm'},\n",
       " {'aspect': 'atmosphere', 'description': 'helpful'},\n",
       " {'aspect': 'shops', 'description': 'local'}]"
      ]
     },
     "execution_count": 67,
     "metadata": {},
     "output_type": "execute_result"
    }
   ],
   "source": [
    "data[\"aspect_desc\"][0]"
   ]
  },
  {
   "cell_type": "code",
   "execution_count": 68,
   "id": "55c0ad7f-9dbb-4aea-a5cc-519cc626da29",
   "metadata": {},
   "outputs": [],
   "source": [
    "def get_sentiment(elements):\n",
    "    for aspect in elements:\n",
    "        aspect[\"sentiment\"] = nlp(aspect['description'])._.blob.polarity\n",
    "    return elements\n",
    "\n",
    "data[\"aspect_desc\"] = data[\"aspect_desc\"].apply(lambda els: get_sentiment(els))"
   ]
  },
  {
   "cell_type": "code",
   "execution_count": 69,
   "id": "c04ef05d-da94-44f1-afa0-0b6fc710e66c",
   "metadata": {},
   "outputs": [
    {
     "data": {
      "text/plain": [
       "[{'aspect': 'atmosphere', 'description': 'so warm', 'sentiment': 0.6},\n",
       " {'aspect': 'atmosphere', 'description': 'helpful', 'sentiment': 0.0},\n",
       " {'aspect': 'shops', 'description': 'local', 'sentiment': 0.0}]"
      ]
     },
     "execution_count": 69,
     "metadata": {},
     "output_type": "execute_result"
    }
   ],
   "source": [
    "data[\"aspect_desc\"][0]"
   ]
  }
 ],
 "metadata": {
  "kernelspec": {
   "display_name": "Python 3 (ipykernel)",
   "language": "python",
   "name": "python3"
  },
  "language_info": {
   "codemirror_mode": {
    "name": "ipython",
    "version": 3
   },
   "file_extension": ".py",
   "mimetype": "text/x-python",
   "name": "python",
   "nbconvert_exporter": "python",
   "pygments_lexer": "ipython3",
   "version": "3.8.8"
  }
 },
 "nbformat": 4,
 "nbformat_minor": 5
}
