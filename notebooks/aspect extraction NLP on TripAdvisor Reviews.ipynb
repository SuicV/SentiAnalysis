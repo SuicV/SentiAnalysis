{
 "cells": [
  {
   "cell_type": "code",
   "execution_count": 1,
   "id": "2c37f33b-b4a7-4179-8976-24a01e3ee51e",
   "metadata": {},
   "outputs": [],
   "source": [
    "import pandas as pd\n",
    "import importlib\n",
    "import time\n",
    "import os\n",
    "os.chdir(\"..\")"
   ]
  },
  {
   "cell_type": "code",
   "execution_count": 2,
   "id": "58217d75-e6ec-405d-88d2-f8ebad4e0948",
   "metadata": {},
   "outputs": [
    {
     "data": {
      "text/plain": [
       "<spacytextblob.spacytextblob.SpacyTextBlob at 0x1cf389b7cd0>"
      ]
     },
     "execution_count": 2,
     "metadata": {},
     "output_type": "execute_result"
    }
   ],
   "source": [
    "import spacy\n",
    "from spacytextblob.spacytextblob import SpacyTextBlob\n",
    "from nltk.tokenize import sent_tokenize\n",
    "nlp = spacy.load(\"en_core_web_sm\")\n",
    "nlp.add_pipe('spacytextblob')"
   ]
  },
  {
   "cell_type": "code",
   "execution_count": 3,
   "id": "2b0c19cd-b87e-4576-a4f4-7ddef6a5563e",
   "metadata": {},
   "outputs": [],
   "source": [
    "%load_ext autoreload\n",
    "%autoreload 2"
   ]
  },
  {
   "cell_type": "code",
   "execution_count": 5,
   "id": "d4cf2631-af28-4f83-af54-93b5af8bd2c7",
   "metadata": {},
   "outputs": [
    {
     "data": {
      "text/html": [
       "<div>\n",
       "<style scoped>\n",
       "    .dataframe tbody tr th:only-of-type {\n",
       "        vertical-align: middle;\n",
       "    }\n",
       "\n",
       "    .dataframe tbody tr th {\n",
       "        vertical-align: top;\n",
       "    }\n",
       "\n",
       "    .dataframe thead th {\n",
       "        text-align: right;\n",
       "    }\n",
       "</style>\n",
       "<table border=\"1\" class=\"dataframe\">\n",
       "  <thead>\n",
       "    <tr style=\"text-align: right;\">\n",
       "      <th></th>\n",
       "      <th>listing_name</th>\n",
       "      <th>listing_score</th>\n",
       "      <th>username</th>\n",
       "      <th>review_score</th>\n",
       "      <th>review_title</th>\n",
       "      <th>review</th>\n",
       "    </tr>\n",
       "  </thead>\n",
       "  <tbody>\n",
       "    <tr>\n",
       "      <th>0</th>\n",
       "      <td>Hotel Moderniste</td>\n",
       "      <td>5.0</td>\n",
       "      <td>Alex M</td>\n",
       "      <td>5.0</td>\n",
       "      <td>Quality over the quantity!</td>\n",
       "      <td>l have stayed in many hotels. But Moderniste i...</td>\n",
       "    </tr>\n",
       "    <tr>\n",
       "      <th>1</th>\n",
       "      <td>Hotel Moderniste</td>\n",
       "      <td>5.0</td>\n",
       "      <td>Andrea Saade</td>\n",
       "      <td>5.0</td>\n",
       "      <td>Great experience!</td>\n",
       "      <td>We stayed at the Moderniste in December 2021 d...</td>\n",
       "    </tr>\n",
       "    <tr>\n",
       "      <th>2</th>\n",
       "      <td>Hotel Moderniste</td>\n",
       "      <td>5.0</td>\n",
       "      <td>halloCairns</td>\n",
       "      <td>5.0</td>\n",
       "      <td>Just renovated hotel in a nice neighbourhood i...</td>\n",
       "      <td>Very helpful at reception. Good service. Clean...</td>\n",
       "    </tr>\n",
       "    <tr>\n",
       "      <th>3</th>\n",
       "      <td>Hotel Malte - Astotel</td>\n",
       "      <td>5.0</td>\n",
       "      <td>Grace L</td>\n",
       "      <td>5.0</td>\n",
       "      <td>Fabulous</td>\n",
       "      <td>Myself &amp; my husband cannot recommend this hote...</td>\n",
       "    </tr>\n",
       "    <tr>\n",
       "      <th>4</th>\n",
       "      <td>Hotel Malte - Astotel</td>\n",
       "      <td>5.0</td>\n",
       "      <td>TomosParsons</td>\n",
       "      <td>5.0</td>\n",
       "      <td>Great location, modern and spacious</td>\n",
       "      <td>Great location, being so close to the Louvre a...</td>\n",
       "    </tr>\n",
       "    <tr>\n",
       "      <th>...</th>\n",
       "      <td>...</td>\n",
       "      <td>...</td>\n",
       "      <td>...</td>\n",
       "      <td>...</td>\n",
       "      <td>...</td>\n",
       "      <td>...</td>\n",
       "    </tr>\n",
       "    <tr>\n",
       "      <th>208</th>\n",
       "      <td>St Christopher's Inn Canal Paris</td>\n",
       "      <td>4.0</td>\n",
       "      <td>Fernando T</td>\n",
       "      <td>5.0</td>\n",
       "      <td>Eurotrip</td>\n",
       "      <td>Amazing. The staff Pedro was very kind with us...</td>\n",
       "    </tr>\n",
       "    <tr>\n",
       "      <th>209</th>\n",
       "      <td>St Christopher's Inn Canal Paris</td>\n",
       "      <td>4.0</td>\n",
       "      <td>Spencer S</td>\n",
       "      <td>5.0</td>\n",
       "      <td>such an amazing trip</td>\n",
       "      <td>Barry is the sexiest bartender alive i love th...</td>\n",
       "    </tr>\n",
       "    <tr>\n",
       "      <th>210</th>\n",
       "      <td>St Christopher's Inn Canal Paris</td>\n",
       "      <td>4.0</td>\n",
       "      <td>Timmy B</td>\n",
       "      <td>4.0</td>\n",
       "      <td>Good value and good staff</td>\n",
       "      <td>Overall a very good hostel experience, staff e...</td>\n",
       "    </tr>\n",
       "    <tr>\n",
       "      <th>211</th>\n",
       "      <td>St Christopher's Inn Canal Paris</td>\n",
       "      <td>4.0</td>\n",
       "      <td>Teigan L</td>\n",
       "      <td>3.0</td>\n",
       "      <td>Pleasant Hostel</td>\n",
       "      <td>This was a pleasant stay. Very economical and ...</td>\n",
       "    </tr>\n",
       "    <tr>\n",
       "      <th>212</th>\n",
       "      <td>St Christopher's Inn Canal Paris</td>\n",
       "      <td>4.0</td>\n",
       "      <td>LenaMayerw23</td>\n",
       "      <td>4.0</td>\n",
       "      <td>attractive price-performance ratio</td>\n",
       "      <td>The room was clean and it seemed to be very ne...</td>\n",
       "    </tr>\n",
       "  </tbody>\n",
       "</table>\n",
       "<p>213 rows × 6 columns</p>\n",
       "</div>"
      ],
      "text/plain": [
       "                         listing_name  listing_score      username  \\\n",
       "0                    Hotel Moderniste            5.0        Alex M   \n",
       "1                    Hotel Moderniste            5.0  Andrea Saade   \n",
       "2                    Hotel Moderniste            5.0   halloCairns   \n",
       "3               Hotel Malte - Astotel            5.0       Grace L   \n",
       "4               Hotel Malte - Astotel            5.0  TomosParsons   \n",
       "..                                ...            ...           ...   \n",
       "208  St Christopher's Inn Canal Paris            4.0    Fernando T   \n",
       "209  St Christopher's Inn Canal Paris            4.0     Spencer S   \n",
       "210  St Christopher's Inn Canal Paris            4.0       Timmy B   \n",
       "211  St Christopher's Inn Canal Paris            4.0      Teigan L   \n",
       "212  St Christopher's Inn Canal Paris            4.0  LenaMayerw23   \n",
       "\n",
       "     review_score                                       review_title  \\\n",
       "0             5.0                         Quality over the quantity!   \n",
       "1             5.0                                  Great experience!   \n",
       "2             5.0  Just renovated hotel in a nice neighbourhood i...   \n",
       "3             5.0                                           Fabulous   \n",
       "4             5.0                Great location, modern and spacious   \n",
       "..            ...                                                ...   \n",
       "208           5.0                                           Eurotrip   \n",
       "209           5.0                               such an amazing trip   \n",
       "210           4.0                          Good value and good staff   \n",
       "211           3.0                                    Pleasant Hostel   \n",
       "212           4.0                 attractive price-performance ratio   \n",
       "\n",
       "                                                review  \n",
       "0    l have stayed in many hotels. But Moderniste i...  \n",
       "1    We stayed at the Moderniste in December 2021 d...  \n",
       "2    Very helpful at reception. Good service. Clean...  \n",
       "3    Myself & my husband cannot recommend this hote...  \n",
       "4    Great location, being so close to the Louvre a...  \n",
       "..                                                 ...  \n",
       "208  Amazing. The staff Pedro was very kind with us...  \n",
       "209  Barry is the sexiest bartender alive i love th...  \n",
       "210  Overall a very good hostel experience, staff e...  \n",
       "211  This was a pleasant stay. Very economical and ...  \n",
       "212  The room was clean and it seemed to be very ne...  \n",
       "\n",
       "[213 rows x 6 columns]"
      ]
     },
     "execution_count": 5,
     "metadata": {},
     "output_type": "execute_result"
    }
   ],
   "source": [
    "data = pd.read_csv(\"data/reviews_paris_hotels.csv\")\n",
    "data"
   ]
  },
  {
   "cell_type": "code",
   "execution_count": 6,
   "id": "65744229-7ec9-415e-89b2-8169481178ed",
   "metadata": {},
   "outputs": [
    {
     "data": {
      "text/plain": [
       "'l have stayed in many hotels. But Moderniste is really exceeded my expectation. Manager and all staff were very welcoming. Breakfast was excellent. Room was very nice and very comfortable bed.\\n\\nWe also love the location. On our next visit we will defiantly stay here.\\n\\nThank you Moderniste.'"
      ]
     },
     "execution_count": 6,
     "metadata": {},
     "output_type": "execute_result"
    }
   ],
   "source": [
    "data[\"review\"][0]"
   ]
  },
  {
   "cell_type": "code",
   "execution_count": 7,
   "id": "ab083c31-be55-47b4-9c7c-45a29cb57bcb",
   "metadata": {},
   "outputs": [],
   "source": [
    "from Preprocessors.ReviewPreprocessor import ReviewPreprocessor"
   ]
  },
  {
   "cell_type": "code",
   "execution_count": 8,
   "id": "fe18e3c6-9a28-4dde-b742-97d67cdf8516",
   "metadata": {},
   "outputs": [],
   "source": [
    "import Preprocessors.ReviewPreprocessor"
   ]
  },
  {
   "cell_type": "code",
   "execution_count": 9,
   "id": "4dbce7cc-77ba-4dff-b571-321dbbd19a1a",
   "metadata": {},
   "outputs": [
    {
     "data": {
      "text/plain": [
       "<module 'Preprocessors.ReviewPreprocessor' from 'E:\\\\PychCarmProjects\\\\s4\\\\SentiAnalysis\\\\Preprocessors\\\\ReviewPreprocessor.py'>"
      ]
     },
     "execution_count": 9,
     "metadata": {},
     "output_type": "execute_result"
    }
   ],
   "source": [
    "importlib.reload(Preprocessors.ReviewPreprocessor)"
   ]
  },
  {
   "cell_type": "code",
   "execution_count": 10,
   "id": "ffa52f02-3227-48e9-aa76-6dfc1632ca85",
   "metadata": {},
   "outputs": [
    {
     "name": "stdout",
     "output_type": "stream",
     "text": [
      "remove_tags done\n",
      "spelling_correction done\n",
      "remove_objective_sentences done\n",
      "26.31265354156494 s\n"
     ]
    },
    {
     "data": {
      "text/plain": [
       "0      l have stayed in many hotels. Manager and all ...\n",
       "1      We were a family of 4 (2 adults and 2 kids) an...\n",
       "2      Good service. Clean. Nice room. The hotel is c...\n",
       "3      Myself & my husband cannot recommend this hote...\n",
       "4      Great location, being so close to the Louvre a...\n",
       "                             ...                        \n",
       "208    Amazing. The staff Pedro was very kind with us...\n",
       "209    Barry is the sexiest bartender alive i love th...\n",
       "210    Overall a very good hostel experience, staff e...\n",
       "211    This was a pleasant stay. Very economical and ...\n",
       "212    The room was clean and it seemed to be very ne...\n",
       "Name: review, Length: 213, dtype: object"
      ]
     },
     "execution_count": 10,
     "metadata": {},
     "output_type": "execute_result"
    }
   ],
   "source": [
    "preprocessor = ReviewPreprocessor(data[\"review\"])\n",
    "t = time.time()\n",
    "cleaned_reviews = preprocessor.start()\n",
    "print(f\"{time.time() - t} s\")\n",
    "cleaned_reviews"
   ]
  },
  {
   "cell_type": "code",
   "execution_count": 13,
   "id": "b71e4b1d-c706-477c-8a89-73c9615861a0",
   "metadata": {},
   "outputs": [],
   "source": [
    "data[\"cleaned_review\"] = cleaned_reviews"
   ]
  },
  {
   "cell_type": "code",
   "execution_count": 14,
   "id": "4ce9f58b-ebf4-4ea8-95dd-cf77aefc57d5",
   "metadata": {},
   "outputs": [
    {
     "data": {
      "text/plain": [
       "'Myself & my husband cannot recommend this hotel highly enough. Rooms were beautiful and spacious, breakfast was lovely with plenty of different options to choose from.'"
      ]
     },
     "execution_count": 14,
     "metadata": {},
     "output_type": "execute_result"
    }
   ],
   "source": [
    "data[\"cleaned_review\"][3]"
   ]
  },
  {
   "cell_type": "code",
   "execution_count": 15,
   "id": "a74a19c0-732f-4cd7-b757-43485d6fddf6",
   "metadata": {},
   "outputs": [
    {
     "data": {
      "text/plain": [
       "'Myself & my husband cannot recommend this hotel highly enough. From the minute we walked in the staff were all so helpful and welcoming. Rooms were beautiful and spacious, breakfast was lovely with plenty of different options to choose from. We will definitely be back.'"
      ]
     },
     "execution_count": 15,
     "metadata": {},
     "output_type": "execute_result"
    }
   ],
   "source": [
    "data[\"review\"][3]"
   ]
  },
  {
   "cell_type": "code",
   "execution_count": 56,
   "id": "042845a9-07a8-4686-9275-dea97ffa88bd",
   "metadata": {},
   "outputs": [],
   "source": [
    "def extract_aspects(review):\n",
    "    aspects = []\n",
    "    doc = nlp(review)\n",
    "    for sentence in doc.sents:\n",
    "        descriptive_term = ''\n",
    "        target = ''\n",
    "        for token in doc:\n",
    "            if token.dep_ == 'nsubj' and token.pos_ == 'NOUN':\n",
    "                target = token.text\n",
    "            if token.pos_ == 'ADJ':\n",
    "                prepend = ''\n",
    "                for child in token.children:\n",
    "                    if child.pos_ != 'ADV':\n",
    "                        continue\n",
    "                    prepend += child.text + ' '\n",
    "                descriptive_term = prepend + token.text\n",
    "\n",
    "            if target != '' and descriptive_term != '' and {'aspect': target, 'description': descriptive_term} not in aspects:\n",
    "                aspects.append({'aspect': target, 'description': descriptive_term})\n",
    "    return aspects"
   ]
  },
  {
   "cell_type": "code",
   "execution_count": 76,
   "id": "d3f20854-258b-4694-aed2-ffa3163808d7",
   "metadata": {},
   "outputs": [
    {
     "data": {
      "text/plain": [
       "[{'aspect': 'l', 'description': 'many'},\n",
       " {'aspect': 'l', 'description': 'very welcoming'},\n",
       " {'aspect': 'Breakfast', 'description': 'very welcoming'},\n",
       " {'aspect': 'Breakfast', 'description': 'excellent'},\n",
       " {'aspect': 'Room', 'description': 'excellent'},\n",
       " {'aspect': 'Room', 'description': 'very nice'},\n",
       " {'aspect': 'Room', 'description': 'very comfortable'}]"
      ]
     },
     "execution_count": 76,
     "metadata": {},
     "output_type": "execute_result"
    }
   ],
   "source": [
    "extract_aspects(data[\"cleaned_review\"][0])"
   ]
  },
  {
   "cell_type": "code",
   "execution_count": 77,
   "id": "c1f175e4-2960-4176-a652-7d7387a4368a",
   "metadata": {},
   "outputs": [
    {
     "name": "stdout",
     "output_type": "stream",
     "text": [
      "[{'aspect': 'l', 'description': 'many'}, {'aspect': 'l', 'description': 'very welcoming'}, {'aspect': 'Breakfast', 'description': 'very welcoming'}, {'aspect': 'Breakfast', 'description': 'excellent'}, {'aspect': 'Room', 'description': 'excellent'}, {'aspect': 'Room', 'description': 'very nice'}, {'aspect': 'Room', 'description': 'very comfortable'}, {'aspect': 'hotel', 'description': 'new'}, {'aspect': 'amenities', 'description': 'new'}, {'aspect': 'staff', 'description': 'new'}, {'aspect': 'staff', 'description': 'very professional'}, {'aspect': 'staff', 'description': 'extremely nice'}, {'aspect': 'staff', 'description': 'careful'}, {'aspect': 'Cleaners', 'description': 'careful'}, {'aspect': 'Cleaners', 'description': 'very efficient'}, {'aspect': 'Cleaners', 'description': 'noisy'}, {'aspect': 'Cleaners', 'description': 'hot'}, {'aspect': 'Cleaners', 'description': 'available'}, {'aspect': 'kids', 'description': 'available'}, {'aspect': 'holidays', 'description': 'available'}, {'aspect': 'holidays', 'description': 'enjoyable'}, {'aspect': 'hotel', 'description': 'Nice'}, {'aspect': 'hotel', 'description': 'close'}, {'aspect': 'hotel', 'description': 'many'}, {'aspect': 'staff', 'description': 'many'}, {'aspect': 'staff', 'description': 'great'}, {'aspect': 'staff', 'description': 'helpful'}, {'aspect': 'Rooms', 'description': 'beautiful'}, {'aspect': 'Rooms', 'description': 'spacious'}, {'aspect': 'breakfast', 'description': 'spacious'}, {'aspect': 'breakfast', 'description': 'lovely'}, {'aspect': 'breakfast', 'description': 'different'}, {'aspect': 'hotel', 'description': 'central'}, {'aspect': 'hotel', 'description': 'spacious'}, {'aspect': 'hotel', 'description': 'modern'}, {'aspect': 'hotel', 'description': 'very good'}, {'aspect': 'hotel', 'description': 'other'}, {'aspect': 'hotel', 'description': 'great'}, {'aspect': 'view', 'description': 'top'}, {'aspect': 'staff', 'description': 'top'}, {'aspect': 'staff', 'description': 'terrible'}, {'aspect': 'Rooms', 'description': 'terrible'}, {'aspect': 'Rooms', 'description': 'spotless'}, {'aspect': 'Rooms', 'description': 'very comfortable'}, {'aspect': 'Staff', 'description': 'great'}, {'aspect': 'Staff', 'description': 'very friendly'}, {'aspect': 'Staff', 'description': 'helpful'}, {'aspect': 'Staff', 'description': 'fantastic'}, {'aspect': 'Staff', 'description': 'general'}, {'aspect': 'mins', 'description': 'general'}, {'aspect': 'house', 'description': 'general'}, {'aspect': 'house', 'description': 'perfect'}, {'aspect': 'house', 'description': 'great'}, {'aspect': 'house', 'description': 'few'}, {'aspect': 'Breakfast', 'description': 'few'}, {'aspect': 'Breakfast', 'description': 'really good'}, {'aspect': 'Breakfast', 'description': 'delicious'}, {'aspect': 'room', 'description': 'delicious'}, {'aspect': 'room', 'description': 'lovely'}, {'aspect': 'room', 'description': 'excellent'}, {'aspect': 'room', 'description': 'very comfortable'}, {'aspect': 'room', 'description': 'hot'}, {'aspect': 'room', 'description': 'cold'}, {'aspect': 'drinks', 'description': 'cold'}, {'aspect': 'drinks', 'description': 'available'}, {'aspect': 'drinks', 'description': 'Excellent'}, {'aspect': 'breakfast', 'description': 'Excellent'}, {'aspect': 'breakfast', 'description': 'big'}, {'aspect': 'breakfast', 'description': 'generous'}, {'aspect': 'breakfast', 'description': 'special'}, {'aspect': 'reviews', 'description': 'great'}, {'aspect': 'staff', 'description': 'great'}, {'aspect': 'staff', 'description': 'very welcoming'}, {'aspect': 'staff', 'description': 'helpful'}, {'aspect': 'room', 'description': 'helpful'}, {'aspect': 'room', 'description': 'spacious'}, {'aspect': 'room', 'description': 'clean'}, {'aspect': 'bed', 'description': 'clean'}, {'aspect': 'bed', 'description': 'huge'}, {'aspect': 'bed', 'description': 'comfortable'}, {'aspect': 'choices', 'description': 'comfortable'}, {'aspect': 'choices', 'description': 'abundant'}, {'aspect': 'choices', 'description': 'plentiful'}, {'aspect': 'choices', 'description': 'able'}, {'aspect': 'choices', 'description': 'huge'}, {'aspect': 'staff', 'description': 'few'}, {'aspect': 'staff', 'description': 'simply amazing'}, {'aspect': 'staff', 'description': 'super helpful'}, {'aspect': 'breakfast', 'description': 'adjacent'}, {'aspect': 'breakfast', 'description': 'good'}, {'aspect': 'guests', 'description': 'good'}, {'aspect': 'hotel', 'description': 'good'}, {'aspect': 'hotel', 'description': 'clean'}, {'aspect': 'hotel', 'description': 'Nice'}, {'aspect': 'hotel', 'description': 'free'}, {'aspect': 'hotel', 'description': 'soft'}, {'aspect': 'location', 'description': 'Great'}, {'aspect': 'location', 'description': 'excellent'}, {'aspect': 'location', 'description': 'quite'}, {'aspect': 'location', 'description': 'definitely worth'}, {'aspect': 'location', 'description': 'great'}, {'aspect': 'location', 'description': 'able'}, {'aspect': 'location', 'description': 'other'}, {'aspect': 'location', 'description': 'Very easy'}, {'aspect': 'Staff', 'description': 'Very easy'}, {'aspect': 'Staff', 'description': 'available'}, {'aspect': 'Location', 'description': 'best'}, {'aspect': 'Location', 'description': 'good'}, {'aspect': 'Location', 'description': 'clean'}, {'aspect': 'Location', 'description': 'pretty'}, {'aspect': 'Location', 'description': 'too big'}, {'aspect': 'service', 'description': 'too big'}, {'aspect': 'service', 'description': 'friendly'}, {'aspect': 'service', 'description': 'Single'}, {'aspect': 'room', 'description': 'Single'}, {'aspect': 'room', 'description': 'perfect'}, {'aspect': 'Room', 'description': 'perfect'}, {'aspect': 'Room', 'description': 'quiet'}, {'aspect': 'Room', 'description': 'other'}, {'aspect': 'Room', 'description': 'disturbing'}, {'aspect': 'Breakfast', 'description': 'disturbing'}, {'aspect': 'Breakfast', 'description': 'soft'}, {'aspect': 'Breakfast', 'description': 'free'}, {'aspect': 'staff', 'description': 'helpful'}, {'aspect': 'staff', 'description': 'kind'}, {'aspect': 'room', 'description': 'kind'}, {'aspect': 'room', 'description': 'spacious'}, {'aspect': 'room', 'description': 'meticulously clean'}, {'aspect': 'location', 'description': 'so glad'}, {'aspect': 'location', 'description': 'central'}, {'aspect': 'location', 'description': 'excellent'}, {'aspect': 'location', 'description': 'ecological'}, {'aspect': 'location', 'description': 'complementary'}, {'aspect': 'location', 'description': 'mini'}, {'aspect': 'location', 'description': 'open'}, {'aspect': 'place', 'description': 'open'}, {'aspect': 'place', 'description': 'impeccable'}, {'aspect': 'desk', 'description': 'so very impressed'}, {'aspect': 'desk', 'description': 'fantastic'}, {'aspect': 'desk', 'description': 'same'}, {'aspect': 'rooms', 'description': 'same'}, {'aspect': 'rooms', 'description': 'decent'}, {'aspect': 'rooms', 'description': 'first'}, {'aspect': 'location', 'description': 'first'}, {'aspect': 'location', 'description': 'great'}, {'aspect': 'location', 'description': 'nice'}, {'aspect': 'location', 'description': 'by close'}, {'aspect': 'breakfast', 'description': 'by close'}, {'aspect': 'breakfast', 'description': 'simple'}, {'aspect': 'breakfast', 'description': 'very nice'}, {'aspect': 'breakfast', 'description': 'mid'}, {'aspect': 'snacks', 'description': 'mid'}, {'aspect': 'snacks', 'description': 'very welcome'}, {'aspect': 'friend', 'description': 'much'}, {'aspect': 'friend', 'description': 'cheapest'}, {'aspect': 'friend', 'description': 'surprised'}, {'aspect': 'hotel', 'description': 'surprised'}, {'aspect': 'hotel', 'description': 'very clean'}, {'aspect': 'hotel', 'description': 'comfortable'}, {'aspect': 'hotel', 'description': 'stylish'}, {'aspect': 'hotel', 'description': 'other'}, {'aspect': 'hotel', 'description': 'such'}, {'aspect': 'hotel', 'description': 'sacre'}, {'aspect': 'walking', 'description': 'sacre'}, {'aspect': 'walking', 'description': 'many'}, {'aspect': 'walking', 'description': 'great'}, {'aspect': 'nightlife', 'description': 'great'}, {'aspect': 'nightlife', 'description': 'same'}, {'aspect': 'nightlife', 'description': 'safe'}, {'aspect': 'staff', 'description': 'great'}, {'aspect': 'staff', 'description': 'very kind'}, {'aspect': 'location', 'description': 'amazing'}, {'aspect': 'location', 'description': 'very good'}, {'aspect': 'Breakfast', 'description': 'very good'}, {'aspect': 'Breakfast', 'description': 'good'}, {'aspect': 'staff', 'description': 'good'}, {'aspect': 'staff', 'description': 'very attentive'}, {'aspect': 'service', 'description': 'Excellent'}, {'aspect': 'service', 'description': 'friendly'}, {'aspect': 'service', 'description': 'Wonderful'}, {'aspect': 'service', 'description': 'very helpful'}, {'aspect': 'service', 'description': 'so helpful'}, {'aspect': 'service', 'description': 'comfortable'}, {'aspect': 'service', 'description': 'favorite'}, {'aspect': 'thing', 'description': 'favorite'}, {'aspect': 'thing', 'description': 'warmer'}, {'aspect': 'staff', 'description': 'common'}, {'aspect': 'staff', 'description': 'lovely'}, {'aspect': 'staff', 'description': 'Good'}, {'aspect': 'staff', 'description': 'immediate'}, {'aspect': 'staff', 'description': 'quiet'}, {'aspect': 'staff', 'description': 'safe'}, {'aspect': 'staff', 'description': 'Great'}, {'aspect': 'staff', 'description': 'fortunate'}, {'aspect': 'staff', 'description': 'polite'}, {'aspect': 'staff', 'description': 'committed'}, {'aspect': 'staff', 'description': 'well prepared'}, {'aspect': 'staff', 'description': 'sure'}, {'aspect': 'stay', 'description': 'sure'}, {'aspect': 'stay', 'description': 'seamless'}, {'aspect': 'hotel', 'description': 'helpful'}, {'aspect': 'hotel', 'description': 'so warm'}, {'aspect': 'hotel', 'description': 'attentive'}, {'aspect': 'hotel', 'description': 'Amazing'}, {'aspect': 'facilities', 'description': 'Amazing'}, {'aspect': 'hotel', 'description': 'short'}, {'aspect': 'hotel', 'description': 'safe'}, {'aspect': 'hotel', 'description': 'famous'}, {'aspect': 'hotel', 'description': 'complimentary'}, {'aspect': 'hotel', 'description': 'clean'}, {'aspect': 'hotel', 'description': 'good'}, {'aspect': 'hotel', 'description': 'long'}, {'aspect': 'hotel', 'description': 'stylish'}, {'aspect': 'hotel', 'description': 'real'}, {'aspect': 'hotel', 'description': 'parisian'}, {'aspect': 'hotel', 'description': 'just few'}, {'aspect': 'hotel', 'description': 'spacious'}, {'aspect': 'hotel', 'description': 'great'}, {'aspect': 'cheeses', 'description': 'tired'}, {'aspect': 'cheeses', 'description': 'good'}, {'aspect': 'Staff', 'description': 'so great'}, {'aspect': 'Staff', 'description': 'so friendly'}, {'aspect': 'Staff', 'description': 'kind'}, {'aspect': 'Staff', 'description': 'nice'}, {'aspect': 'room', 'description': 'nice'}, {'aspect': 'room', 'description': 'clean'}, {'aspect': 'room', 'description': 'very comfortable'}, {'aspect': 'breakfast', 'description': 'very comfortable'}, {'aspect': 'breakfast', 'description': 'delicious'}, {'aspect': 'breakfast', 'description': 'Beautiful'}, {'aspect': 'breakfast', 'description': 'Great'}, {'aspect': 'staff', 'description': 'top'}, {'aspect': 'staff', 'description': 'very friendly'}, {'aspect': 'staff', 'description': 'helpful'}, {'aspect': 'breakfast', 'description': 'helpful'}, {'aspect': 'breakfast', 'description': 'excellent'}, {'aspect': 'snacks', 'description': 'excellent'}, {'aspect': 'snacks', 'description': 'available'}, {'aspect': 'snacks', 'description': 'free'}, {'aspect': 'minibar', 'description': 'free'}, {'aspect': 'minibar', 'description': 'real'}, {'aspect': 'location', 'description': 'real'}, {'aspect': 'location', 'description': 'great'}, {'aspect': 'hotel', 'description': 'small'}, {'aspect': 'hotel', 'description': 'perfectly functional'}, {'aspect': 'hotel', 'description': 'clean'}, {'aspect': 'hotel', 'description': 'Good'}, {'aspect': 'breakfast', 'description': 'Good'}, {'aspect': 'breakfast', 'description': 'free'}, {'aspect': 'Breakfast', 'description': 'helpful'}, {'aspect': 'Breakfast', 'description': 'really good'}, {'aspect': 'Breakfast', 'description': 'good'}, {'aspect': 'Breakfast', 'description': 'french'}, {'aspect': 'Breakfast', 'description': 'few'}, {'aspect': 'Breakfast', 'description': 'great'}, {'aspect': 'Breakfast', 'description': 'other'}, {'aspect': 'Breakfast', 'description': 'fresh'}, {'aspect': 'interior', 'description': 'good'}, {'aspect': 'interior', 'description': 'very nice'}, {'aspect': 'interior', 'description': 'much'}, {'aspect': 'room', 'description': 'much'}, {'aspect': 'room', 'description': 'very cosy'}, {'aspect': 'room', 'description': 'great'}, {'aspect': 'room', 'description': 'u'}, {'aspect': 'room', 'description': 'fresh'}, {'aspect': 'room', 'description': 'mini'}, {'aspect': 'bar', 'description': 'mini'}, {'aspect': 'bar', 'description': 'free'}, {'aspect': 'Location', 'description': 'free'}, {'aspect': 'Location', 'description': 'perfect'}, {'aspect': 'Location', 'description': 'few'}, {'aspect': 'Location', 'description': 'so great'}, {'aspect': 'Location', 'description': 'really surprised'}, {'aspect': 'Staff', 'description': 'great'}, {'aspect': 'Staff', 'description': 'friendly'}, {'aspect': 'Staff', 'description': 'well organized'}, {'aspect': 'breakfast', 'description': 'well organized'}, {'aspect': 'breakfast', 'description': 'good'}, {'aspect': 'breakfast', 'description': 'nice'}, {'aspect': 'staff', 'description': 'small'}, {'aspect': 'staff', 'description': 'calm'}, {'aspect': 'staff', 'description': 'lovely'}, {'aspect': 'staff', 'description': 'bigger'}, {'aspect': 'staff', 'description': 'very helpful'}, {'aspect': 'staff', 'description': 'friendly'}, {'aspect': 'staff', 'description': 'quiet'}, {'aspect': 'hotel', 'description': 'quiet'}, {'aspect': 'hotel', 'description': 'right'}, {'aspect': 'breakfast', 'description': 'Good'}, {'aspect': 'breakfast', 'description': 'first'}, {'aspect': 'rooms', 'description': 'regular'}, {'aspect': 'bathrooms', 'description': 'regular'}, {'aspect': 'bathrooms', 'description': 'tiny'}, {'aspect': 'bathrooms', 'description': 'very clean'}, {'aspect': 'breakfast', 'description': 'very clean'}, {'aspect': 'breakfast', 'description': 'magnificent'}, {'aspect': 'Buffet', 'description': 'magnificent'}, {'aspect': 'Buffet', 'description': 'various'}, {'aspect': 'Buffet', 'description': 'free'}, {'aspect': 'Buffet', 'description': 'fresh'}, {'aspect': 'Buffet', 'description': 'cold'}, {'aspect': 'Buffet', 'description': 'warm'}, {'aspect': 'Buffet', 'description': 'soft'}, {'aspect': 'Buffet', 'description': 'scrambled'}, {'aspect': 'Buffet', 'description': 'sweet'}, {'aspect': 'Buffet', 'description': 'great'}, {'aspect': 'hotel', 'description': 'great'}, {'aspect': 'hotel', 'description': 'quiet'}, {'aspect': 'hotel', 'description': 'close'}, {'aspect': 'stations', 'description': 'close'}, {'aspect': 'stations', 'description': 'easy'}, {'aspect': 'stations', 'description': 'safe'}, {'aspect': 'assistance', 'description': 'suitable'}, {'aspect': 'assistance', 'description': 'remarkable'}, {'aspect': 'assistance', 'description': 'efficient'}, {'aspect': 'breakfast', 'description': 'efficient'}, {'aspect': 'breakfast', 'description': 'delicious'}, {'aspect': 'staff', 'description': 'late'}, {'aspect': 'Breakfast', 'description': 'late'}, {'aspect': 'Breakfast', 'description': 'available'}, {'aspect': 'Breakfast', 'description': 'cold'}, {'aspect': 'hotel', 'description': 'cold'}, {'aspect': 'hotel', 'description': 'very very happy'}, {'aspect': 'staff', 'description': 'So nice'}, {'aspect': 'staff', 'description': 'welcoming'}, {'aspect': 'staff', 'description': 'very minded'}, {'aspect': 'staff', 'description': 'great'}, {'aspect': 'room', 'description': 'best'}, {'aspect': 'room', 'description': 'perfect'}, {'aspect': 'room', 'description': 'top'}, {'aspect': 'room', 'description': 'Free'}, {'aspect': 'coffee', 'description': 'Free'}, {'aspect': 'coffee', 'description': 'fantastic'}, {'aspect': 'coffee', 'description': 'very stressful'}, {'aspect': 'coffee', 'description': 'comfortable'}, {'aspect': 'staff', 'description': 'comfortable'}, {'aspect': 'kindness', 'description': 'comfortable'}, {'aspect': 'staff', 'description': 'Fantastic'}, {'aspect': 'staff', 'description': 'really helpful'}, {'aspect': 'staff', 'description': 'cheerful'}, {'aspect': 'staff', 'description': 'next'}, {'aspect': 'staff', 'description': 'extremely helpful'}, {'aspect': 'city', 'description': 'extremely helpful'}, {'aspect': 'staff', 'description': 'extremely welcoming'}, {'aspect': 'staff', 'description': 'informative'}, {'aspect': 'staff', 'description': 'numerous'}, {'aspect': 'staff', 'description': 'very diverse'}, {'aspect': 'rooms', 'description': 'very diverse'}, {'aspect': 'rooms', 'description': 'very comfortable'}, {'aspect': 'rooms', 'description': 'truly enjoyable'}, {'aspect': 'hotel', 'description': 'very helpful'}, {'aspect': 'hotel', 'description': 'willing'}, {'aspect': 'hotel', 'description': 'friendly'}, {'aspect': 'location', 'description': 'friendly'}, {'aspect': 'location', 'description': 'nearest'}, {'aspect': 'subway', 'description': 'nearest'}, {'aspect': 'subway', 'description': 'many'}, {'aspect': 'room', 'description': 'many'}, {'aspect': 'room', 'description': 'fine'}, {'aspect': 'bed', 'description': 'fine'}, {'aspect': 'bed', 'description': 'good'}, {'aspect': 'bed', 'description': 'small'}, {'aspect': 'sound', 'description': 'small'}, {'aspect': 'sound', 'description': 'good'}, {'aspect': 'room', 'description': 'good'}, {'aspect': 'room', 'description': 'excellent'}, {'aspect': 'Breakfast', 'description': 'stunning'}, {'aspect': 'Breakfast', 'description': 'available'}, {'aspect': 'Breakfast', 'description': 'delicious'}, {'aspect': 'hotel', 'description': 'delicious'}, {'aspect': 'hotel', 'description': 'famous'}, {'aspect': 'hotel', 'description': 'METRO'}, {'aspect': 'Claudia', 'description': 'METRO'}, {'aspect': 'Claudia', 'description': 'very friendly'}, {'aspect': 'Claudia', 'description': 'positive'}, {'aspect': 'Claudia', 'description': 'good'}, {'aspect': 'Claudia', 'description': 'absolutely amazing'}, {'aspect': 'Claudia', 'description': 'willing'}, {'aspect': 'Claudia', 'description': 'very good'}, {'aspect': 'hotel', 'description': 'very good'}, {'aspect': 'hotel', 'description': 'kind'}, {'aspect': 'hotel', 'description': 'good'}, {'aspect': 'balcony', 'description': 'good'}, {'aspect': 'balcony', 'description': 'very good'}, {'aspect': 'sun', 'description': 'very good'}, {'aspect': 'Location', 'description': 'great'}, {'aspect': 'room', 'description': 'great'}, {'aspect': 'room', 'description': 'nice'}, {'aspect': 'staff', 'description': 'nice'}, {'aspect': 'staff', 'description': 'exceptionally friendly'}, {'aspect': 'staff', 'description': 'various'}, {'aspect': 'staff', 'description': 'pleasant'}, {'aspect': 'hotel', 'description': 'good'}, {'aspect': 'rooms', 'description': 'good'}, {'aspect': 'rooms', 'description': 'very very small'}, {'aspect': 'rooms', 'description': 'Executive'}, {'aspect': 'rooms', 'description': 'double'}, {'aspect': 'rooms', 'description': 'very small'}, {'aspect': 'adult', 'description': 'very small'}, {'aspect': 'lady', 'description': 'very small'}, {'aspect': 'lady', 'description': 'very kind'}, {'aspect': 'lady', 'description': 'real'}, {'aspect': 'Breakfast', 'description': 'real'}, {'aspect': 'Breakfast', 'description': 'fancy'}, {'aspect': 'u', 'description': 'fancy'}, {'aspect': 'u', 'description': 'so exigent'}, {'aspect': 'croissants', 'description': 'so exigent'}, {'aspect': 'croissants', 'description': 'very good'}, {'aspect': 'croissants', 'description': 'fresh'}, {'aspect': 'tours', 'description': 'Great'}, {'aspect': 'tours', 'description': 'very handy'}, {'aspect': 'tours', 'description': 'Continental'}, {'aspect': 'breakfast', 'description': 'Continental'}, {'aspect': 'breakfast', 'description': 'genuinely old'}, {'aspect': 'breakfast', 'description': 'authentic'}, {'aspect': 'breakfast', 'description': 'complete'}, {'aspect': 'breakfast', 'description': 'arched'}, {'aspect': 'breakfast', 'description': 'delicious'}, {'aspect': 'breakfast', 'description': 'fresh'}, {'aspect': 'breakfast', 'description': 'hot'}, {'aspect': 'room', 'description': 'Lovely'}, {'aspect': 'room', 'description': 'tiny'}, {'aspect': 'room', 'description': 'broken'}, {'aspect': 'room', 'description': 'lovely'}, {'aspect': 'man', 'description': 'lovely'}, {'aspect': 'Cleaners', 'description': 'lovely'}, {'aspect': 'Cleaners', 'description': 'rude'}, {'aspect': 'Cleaners', 'description': 'Lovely'}, {'aspect': 'staff', 'description': 'several'}, {'aspect': 'staff', 'description': 'great'}, {'aspect': 'staff', 'description': 'very clean'}, {'aspect': 'staff', 'description': 'comfortable'}, {'aspect': 'staff', 'description': 'next'}, {'aspect': 'steps', 'description': 'authentic'}, {'aspect': 'steps', 'description': 'slant'}, {'aspect': 'steps', 'description': 'just so so authentic'}, {'aspect': 'steps', 'description': 'real'}, {'aspect': 'hotel', 'description': 'real'}, {'aspect': 'hotel', 'description': 'clean'}, {'aspect': 'areas', 'description': 'clean'}, {'aspect': 'areas', 'description': 'little'}, {'aspect': 'areas', 'description': 'available'}, {'aspect': 'areas', 'description': 'nice'}, {'aspect': 'area', 'description': 'little'}, {'aspect': 'area', 'description': 'such'}, {'aspect': 'area', 'description': 'clean'}, {'aspect': 'area', 'description': 'really nice'}, {'aspect': 'area', 'description': 'hot'}, {'aspect': 'area', 'description': 'cold'}, {'aspect': 'area', 'description': 'traditional'}, {'aspect': 'chocolate', 'description': 'hot'}, {'aspect': 'chocolate', 'description': 'twin'}, {'aspect': 'chocolate', 'description': 'superior'}, {'aspect': 'chocolate', 'description': 'good'}, {'aspect': 'chocolate', 'description': 'mini'}, {'aspect': 'chocolate', 'description': 'more'}, {'aspect': 'chocolate', 'description': 'amazing'}, {'aspect': 'chocolate', 'description': 'Parisian'}, {'aspect': 'space', 'description': 'Parisian'}, {'aspect': 'space', 'description': 'nice'}, {'aspect': 'space', 'description': 'good'}, {'aspect': 'bathroom', 'description': 'good'}, {'aspect': 'bathroom', 'description': 'clean'}, {'aspect': 'bathroom', 'description': 'tub'}, {'aspect': 'bathroom', 'description': 'decent'}, {'aspect': 'location', 'description': 'decent'}, {'aspect': 'location', 'description': 'amazing'}, {'aspect': 'location', 'description': 'little'}, {'aspect': 'location', 'description': 'front'}, {'aspect': 'desk', 'description': 'front'}, {'aspect': 'desk', 'description': 'large'}, {'aspect': 'hotel', 'description': 'front'}, {'aspect': 'hotel', 'description': 'so valuable'}, {'aspect': 'hotel', 'description': 'other'}, {'aspect': 'location', 'description': 'other'}, {'aspect': 'location', 'description': 'so good'}, {'aspect': 'location', 'description': 'good'}, {'aspect': 'hotel', 'description': 'great'}, {'aspect': 'hotel', 'description': 'close'}, {'aspect': 'room', 'description': 'close'}, {'aspect': 'room', 'description': 'clean'}, {'aspect': 'staff', 'description': 'clean'}, {'aspect': 'staff', 'description': 'really friendly'}, {'aspect': 'staff', 'description': 'very helpful'}, {'aspect': 'staff', 'description': 'very enjoyable'}, {'aspect': 'area', 'description': 'perfect'}, {'aspect': 'area', 'description': 'small'}, {'aspect': 'area', 'description': 'good'}, {'aspect': 'area', 'description': 'real'}, {'aspect': 'staff', 'description': 'helpful'}, {'aspect': 'staff', 'description': 'so friendly'}, {'aspect': 'location', 'description': 'excellent'}, {'aspect': 'location', 'description': 'perfect'}, {'aspect': 'location', 'description': 'friendly'}, {'aspect': 'location', 'description': 'clean'}, {'aspect': 'location', 'description': 'amazing'}, {'aspect': 'staff', 'description': 'amazing'}, {'aspect': 'staff', 'description': 'very friendly'}, {'aspect': 'staff', 'description': 'helpful'}, {'aspect': 'bedroom', 'description': 'helpful'}, {'aspect': 'bedroom', 'description': 'little'}, {'aspect': 'bedroom', 'description': 'small'}, {'aspect': 'bedroom', 'description': 'very clean'}, {'aspect': 'bed', 'description': 'very clean'}, {'aspect': 'bed', 'description': 'very comfortable'}, {'aspect': 'hotel', 'description': 'near'}, {'aspect': 'hotel', 'description': 'very beautiful'}, {'aspect': 'hotel', 'description': 'most'}, {'aspect': 'book', 'description': 'sure'}, {'aspect': 'book', 'description': 'upfront'}, {'aspect': 'book', 'description': 'cheaper'}, {'aspect': 'desk', 'description': 'front'}, {'aspect': 'desk', 'description': 'sweet'}, {'aspect': 'beds', 'description': 'spacious'}, {'aspect': 'beds', 'description': 'very comfortable'}, {'aspect': 'lobby', 'description': 'good'}, {'aspect': 'lobby', 'description': 'small'}, {'aspect': 'lobby', 'description': 'no more'}, {'aspect': 'lobby', 'description': 'ideal'}, {'aspect': 'check', 'description': 'very helpful'}, {'aspect': 'check', 'description': 'friendly'}, {'aspect': 'check', 'description': 'too important'}, {'aspect': 'room', 'description': 'ok'}, {'aspect': 'room', 'description': 'clean'}, {'aspect': 'room', 'description': 'very small'}, {'aspect': 'room', 'description': 'empty'}, {'aspect': 'dryer', 'description': 'empty'}, {'aspect': 'dryer', 'description': 'true'}, {'aspect': 'problem', 'description': 'true'}, {'aspect': 'heater', 'description': 'true'}, {'aspect': 'heater', 'description': 'possible'}, {'aspect': 'heater', 'description': 'remote'}, {'aspect': 'heater', 'description': 'quite frustrated'}, {'aspect': 'person', 'description': 'quite frustrated'}, {'aspect': 'receptionist', 'description': 'quite frustrated'}, {'aspect': 'room', 'description': 'quite frustrated'}, {'aspect': 'room', 'description': 'warm'}, {'aspect': 'room', 'description': 'happy'}, {'aspect': 'room', 'description': 'quite expensive'}, {'aspect': 'room', 'description': 'very unpleasant'}, {'aspect': 'room', 'description': 'very warm'}, {'aspect': 'room', 'description': 'following'}, {'aspect': 'lady', 'description': 'following'}, {'aspect': 'lady', 'description': 'total'}, {'aspect': 'lady', 'description': 'disinterest'}, {'aspect': 'lady', 'description': 'central'}, {'aspect': 'lady', 'description': 'warm'}, {'aspect': 'lady', 'description': 'bad'}, {'aspect': 'lady', 'description': 'more'}, {'aspect': 'lady', 'description': 'duvet'}, {'aspect': 'room', 'description': 'duvet'}, {'aspect': 'room', 'description': 'so bad'}, {'aspect': 'place', 'description': 'so bad'}, {'aspect': 'place', 'description': 'so many'}, {'aspect': 'place', 'description': 'good'}, {'aspect': 'place', 'description': 'terrible'}, {'aspect': 'place', 'description': 'many'}, {'aspect': 'place', 'description': 'other'}, {'aspect': 'place', 'description': 'better'}, {'aspect': 'place', 'description': 'less expensive'}, {'aspect': 'rooms', 'description': 'best'}, {'aspect': 'rooms', 'description': 'large'}, {'aspect': 'place', 'description': 'large'}, {'aspect': 'place', 'description': 'close'}, {'aspect': 'place', 'description': 'safe'}, {'aspect': 'place', 'description': 'better'}, {'aspect': 'place', 'description': 'very little'}, {'aspect': 'people', 'description': 'very kind'}, {'aspect': 'people', 'description': 'helpful'}, {'aspect': 'room', 'description': 'helpful'}, {'aspect': 'room', 'description': 'small'}, {'aspect': 'room', 'description': 'very clean'}, {'aspect': 'staff', 'description': 'very clean'}, {'aspect': 'staff', 'description': 'great'}, {'aspect': 'staff', 'description': 'little'}, {'aspect': 'room', 'description': 'delicious'}, {'aspect': 'room', 'description': 'extremely clean'}, {'aspect': 'room', 'description': 'clean'}, {'aspect': 'staff', 'description': 'clean'}, {'aspect': 'staff', 'description': 'very kind'}, {'aspect': 'staff', 'description': 'helpful'}, {'aspect': 'service', 'description': 'helpful'}, {'aspect': 'service', 'description': 'efficient'}, {'aspect': 'service', 'description': 'free'}, {'aspect': 'service', 'description': 'hot'}, {'aspect': 'service', 'description': 'own'}, {'aspect': 'personnel', 'description': 'own'}, {'aspect': 'personnel', 'description': 'kind'}, {'aspect': 'personnel', 'description': 'whole'}, {'aspect': 'personnel', 'description': 'great'}, {'aspect': 'personnel', 'description': 'late'}, {'aspect': 'experience', 'description': 'late'}, {'aspect': 'experience', 'description': 'lovely'}, {'aspect': 'dance', 'description': 'lovely'}, {'aspect': 'dance', 'description': 'wonderful'}, {'aspect': 'dance', 'description': 'good'}, {'aspect': 'area', 'description': 'very nice'}, {'aspect': 'area', 'description': 'full'}, {'aspect': 'area', 'description': 'good'}, {'aspect': 'area', 'description': 'calm'}, {'aspect': 'hotel', 'description': 'calm'}, {'aspect': 'beds', 'description': 'very clean'}, {'aspect': 'beds', 'description': 'comfortable'}, {'aspect': 'shower', 'description': 'comfortable'}, {'aspect': 'shower', 'description': 'big'}, {'aspect': 'shower', 'description': 'simple'}, {'aspect': 'shower', 'description': 'perfect'}, {'aspect': 'staff', 'description': 'front'}, {'aspect': 'staff', 'description': 'so nice'}, {'aspect': 'staff', 'description': 'helpful'}, {'aspect': 'staff', 'description': 'other'}, {'aspect': 'staff', 'description': 'free'}, {'aspect': 'location', 'description': 'free'}, {'aspect': 'location', 'description': 'perfect'}, {'aspect': 'location', 'description': 'wonderful'}, {'aspect': 'design', 'description': 'wonderful'}, {'aspect': 'design', 'description': 'really interesting'}, {'aspect': 'stay', 'description': 'perfect'}, {'aspect': 'stay', 'description': 'fast'}, {'aspect': 'stay', 'description': 'professional'}, {'aspect': 'stay', 'description': 'high'}, {'aspect': 'stay', 'description': 'earlier'}, {'aspect': 'stay', 'description': 'elegant'}, {'aspect': 'stay', 'description': 'cozy'}, {'aspect': 'stay', 'description': 'tasty'}, {'aspect': 'stay', 'description': 'very relaxed'}, {'aspect': 'Room', 'description': 'very relaxed'}, {'aspect': 'Room', 'description': 'comfortable'}, {'aspect': 'hotel', 'description': 'comfortable'}, {'aspect': 'hotel', 'description': 'free'}, {'aspect': 'hotel', 'description': 'minibar'}, {'aspect': 'drinks', 'description': 'minibar'}, {'aspect': 'Location', 'description': 'minibar'}, {'aspect': 'Location', 'description': 'amazing'}, {'aspect': 'Location', 'description': 'easily reachable'}, {'aspect': 'Location', 'description': 'genuine'}, {'aspect': 'staff', 'description': 'amazing'}, {'aspect': 'staff', 'description': 'so friendly'}, {'aspect': 'staff', 'description': 'efficient'}, {'aspect': 'staff', 'description': 'complimentary'}, {'aspect': 'staff', 'description': 'soft'}, {'aspect': 'atmosphere', 'description': 'soft'}, {'aspect': 'atmosphere', 'description': 'relaxed'}, {'aspect': 'atmosphere', 'description': 'comfortable'}, {'aspect': 'atmosphere', 'description': 'FREE'}, {'aspect': 'atmosphere', 'description': 'great'}, {'aspect': 'location', 'description': 'great'}, {'aspect': 'location', 'description': 'super'}, {'aspect': 'location', 'description': 'most'}, {'aspect': 'location', 'description': 'main'}, {'aspect': 'location', 'description': 'more perfect'}, {'aspect': 'check', 'description': 'Very good'}, {'aspect': 'check', 'description': 'Great'}, {'aspect': 'check', 'description': 'nice'}, {'aspect': 'check', 'description': 'very good'}, {'aspect': 'check', 'description': 'enough'}, {'aspect': 'check', 'description': 'friendly'}, {'aspect': 'staff', 'description': 'friendly'}, {'aspect': 'staff', 'description': 'also non'}, {'aspect': 'staff', 'description': 'astute'}, {'aspect': 'service', 'description': 'Excellent'}, {'aspect': 'service', 'description': 'very helpful'}, {'aspect': 'service', 'description': 'great'}, {'aspect': 'service', 'description': 'Very clean'}, {'aspect': 'service', 'description': 'spacious'}, {'aspect': 'service', 'description': 'perfect'}, {'aspect': 'room', 'description': 'clean'}, {'aspect': 'room', 'description': 'well decorated'}, {'aspect': 'room', 'description': 'quiet'}, {'aspect': 'hotel', 'description': 'quiet'}, {'aspect': 'hotel', 'description': 'beautiful'}, {'aspect': 'hotel', 'description': 'central'}, {'aspect': 'hotel', 'description': 'major'}, {'aspect': 'hotel', 'description': 'absolutely amazing'}, {'aspect': 'hotel', 'description': 'consummate'}, {'aspect': 'location', 'description': 'great'}, {'aspect': 'location', 'description': 'much'}, {'aspect': 'location', 'description': 'glad'}, {'aspect': 'location', 'description': 'more wrong'}, {'aspect': 'location', 'description': 'real'}, {'aspect': 'location', 'description': 'biggest'}, {'aspect': 'location', 'description': 'huge'}, {'aspect': 'location', 'description': 'underground'}, {'aspect': 'location', 'description': 'retail'}, {'aspect': 'location', 'description': 'then away less'}, {'aspect': 'location', 'description': 'lovely'}, {'aspect': 'location', 'description': 'bustling'}, {'aspect': 'location', 'description': 'good'}, {'aspect': 'rooms', 'description': 'good'}, {'aspect': 'rooms', 'description': 'comfortable'}, {'aspect': 'rooms', 'description': 'spacious'}, {'aspect': 'Breakfast', 'description': 'good'}, {'aspect': 'area', 'description': 'good'}, {'aspect': 'area', 'description': 'comfortably large'}, {'aspect': 'area', 'description': 'outside'}, {'aspect': 'buffet', 'description': 'outside'}, {'aspect': 'buffet', 'description': 'huge'}, {'aspect': 'buffet', 'description': 'regular'}, {'aspect': 'buffet', 'description': 'great'}, {'aspect': 'buffet', 'description': 'french'}, {'aspect': 'buffet', 'description': 'superautomatic'}, {'aspect': 'buffet', 'description': 'pretty sure'}, {'aspect': 'rest', 'description': 'pretty sure'}, {'aspect': 'rest', 'description': 'standard'}, {'aspect': 'rest', 'description': 'Nice'}, {'aspect': 'rest', 'description': 'spacious'}, {'aspect': 'rest', 'description': 'comfortable'}, {'aspect': 'rest', 'description': 'mid'}, {'aspect': 'rest', 'description': '-'}, {'aspect': 'rest', 'description': 'range'}, {'aspect': 'accommodation', 'description': 'great'}, {'aspect': 'accommodation', 'description': 'attentive'}, {'aspect': 'accommodation', 'description': 'very helpful'}, {'aspect': 'accommodation', 'description': 'kind'}, {'aspect': 'accommodation', 'description': 'friendly'}, {'aspect': 'rooms', 'description': 'very nice'}, {'aspect': 'rooms', 'description': 'comfortable'}, {'aspect': 'rooms', 'description': 'main'}, {'aspect': 'cause', 'description': 'main'}, {'aspect': 'cause', 'description': 'very professional'}, {'aspect': 'cause', 'description': 'very helpful'}, {'aspect': 'cause', 'description': 'friendly'}, {'aspect': 'cause', 'description': 'best'}, {'aspect': 'cause', 'description': 'very comfortable'}, {'aspect': 'location', 'description': 'Superb'}, {'aspect': 'location', 'description': 'very lively'}, {'aspect': 'food', 'description': 'very lively'}, {'aspect': 'food', 'description': 'very good'}, {'aspect': 'food', 'description': 'very helpful'}, {'aspect': 'thing', 'description': 'very helpful'}, {'aspect': 'thing', 'description': 'upgrade'}, {'aspect': 'thing', 'description': 'crowded'}, {'aspect': 'thing', 'description': 'good'}, {'aspect': 'desk', 'description': 'front'}, {'aspect': 'desk', 'description': 'very cool'}, {'aspect': 'desk', 'description': 'Confortable'}, {'aspect': 'desk', 'description': 'great'}, {'aspect': 'desk', 'description': 'delicious'}, {'aspect': 'staff', 'description': 'delicious'}, {'aspect': 'staff', 'description': 'amazing'}, {'aspect': 'staff', 'description': 'highly efficient'}, {'aspect': 'hotel', 'description': 'highly efficient'}, {'aspect': 'hotel', 'description': 'almost full'}, {'aspect': 'hotel', 'description': 'quickly great'}, {'aspect': 'hotel', 'description': 'Front'}, {'aspect': 'staff', 'description': 'Front'}, {'aspect': 'staff', 'description': 'cool'}, {'aspect': 'staff', 'description': 'polite'}, {'aspect': 'ladies', 'description': 'polite'}, {'aspect': 'yuo', 'description': 'polite'}, {'aspect': 'yuo', 'description': 'terrible'}, {'aspect': 'stay', 'description': 'terrible'}, {'aspect': 'stay', 'description': 'very good'}, {'aspect': 'stay', 'description': 'very kind'}, {'aspect': 'stay', 'description': 'polite'}, {'aspect': 'staff', 'description': 'clean'}, {'aspect': 'staff', 'description': 'friendly'}, {'aspect': 'staff', 'description': 'helpful'}, {'aspect': 'location', 'description': 'helpful'}, {'aspect': 'location', 'description': 'excellent'}, {'aspect': 'location', 'description': 'only'}, {'aspect': 'fault', 'description': 'only'}, {'aspect': 'fault', 'description': 'full'}, {'aspect': 'fault', 'description': 'ready'}, {'aspect': 'fault', 'description': 'simple'}, {'aspect': 'one', 'description': 'best'}, {'aspect': 'location', 'description': 'best'}, {'aspect': 'location', 'description': 'perfect'}, {'aspect': 'rooms', 'description': 'perfect'}, {'aspect': 'rooms', 'description': 'really big'}, {'aspect': 'rooms', 'description': 'very quiet'}, {'aspect': 'rooms', 'description': 'empty'}, {'aspect': 'Breakfast', 'description': 'empty'}, {'aspect': 'Breakfast', 'description': 'amazing'}, {'aspect': 'Breakfast', 'description': 'such'}, {'aspect': 'Breakfast', 'description': 'full'}, {'aspect': 'Breakfast', 'description': 'English'}, {'aspect': 'staff', 'description': 'English'}, {'aspect': 'staff', 'description': 'commendable'}, {'aspect': 'staff', 'description': 'more'}, {'aspect': 'people', 'description': 'more'}, {'aspect': 'people', 'description': 'thin'}, {'aspect': 'people', 'description': 'exceptional'}, {'aspect': 'hotel', 'description': 'Top'}, {'aspect': 'hotel', 'description': 'top'}, {'aspect': 'hotel', 'description': 'Great'}, {'aspect': 'hotel', 'description': 'good'}, {'aspect': 'hotel', 'description': 'convenient'}, {'aspect': 'hotel', 'description': 'more'}, {'aspect': 'hotel', 'description': 'most'}, {'aspect': 'hotel', 'description': 'couid'}, {'aspect': 'tests', 'description': 'couid'}, {'aspect': 'tests', 'description': 'available'}, {'aspect': 'tests', 'description': 'so many'}, {'aspect': 'tests', 'description': 'Accessible'}, {'aspect': 'tests', 'description': 'prepared'}, {'aspect': 'tests', 'description': 'comfortable'}, {'aspect': 'tests', 'description': 'great'}, {'aspect': 'tests', 'description': 'clean'}, {'aspect': 'tests', 'description': 'good'}, {'aspect': 'tests', 'description': 'sized'}, {'aspect': 'tests', 'description': 'bigger'}, {'aspect': 'tests', 'description': 'sorry'}, {'aspect': 'tests', 'description': 'very helpful'}, {'aspect': 'tests', 'description': 'polite'}, {'aspect': 'tests', 'description': 'able'}, {'aspect': 'tests', 'description': 'Sustainable'}, {'aspect': 'approach', 'description': 'Sustainable'}, {'aspect': 'approach', 'description': 'generous'}, {'aspect': 'staffs', 'description': 'generous'}, {'aspect': 'staffs', 'description': 'available'}, {'aspect': 'staffs', 'description': 'canned'}, {'aspect': 'breakfast', 'description': 'canned'}, {'aspect': 'breakfast', 'description': 'abundant'}, {'aspect': 'breakfast', 'description': 'good'}, {'aspect': 'breakfast', 'description': 'so many'}, {'aspect': 'breakfast', 'description': 'few'}, {'aspect': 'stone', 'description': 'few'}, {'aspect': 'hotel', 'description': 'very clean'}, {'aspect': 'hotel', 'description': 'front'}, {'aspect': 'lady', 'description': 'front'}, {'aspect': 'lady', 'description': 'very nice'}, {'aspect': 'lady', 'description': 'same'}, {'aspect': 'room', 'description': 'same'}, {'aspect': 'room', 'description': 'TOO'}, {'aspect': 'room', 'description': 'SMALL'}, {'aspect': 'closet', 'description': 'SMALL'}, {'aspect': 'shower', 'description': 'SMALL'}, {'aspect': 'shower', 'description': 'smaller'}, {'aspect': 'toilet', 'description': 'smaller'}, {'aspect': 'toilet', 'description': 'so close'}, {'aspect': 'head', 'description': 'so close'}, {'aspect': 'head', 'description': 'front'}, {'aspect': 'members', 'description': 'nice'}, {'aspect': 'members', 'description': 'very kind'}, {'aspect': 'hotel', 'description': 'nice'}, {'aspect': 'hotel', 'description': 'clean'}, {'aspect': 'hotel', 'description': 'close'}, {'aspect': 'hotel', 'description': 'most beautiful'}, {'aspect': 'hotel', 'description': 'good'}, {'aspect': 'guys', 'description': 'good'}, {'aspect': 'guys', 'description': 'very kind'}, {'aspect': 'guys', 'description': 'special'}, {'aspect': 'thanks', 'description': 'special'}, {'aspect': 'Rooms', 'description': 'still very reasonable'}, {'aspect': 'Rooms', 'description': 'small'}, {'aspect': 'Rooms', 'description': 'wonderful'}, {'aspect': 'location', 'description': 'excited'}, {'aspect': 'location', 'description': 'more perfect'}, {'aspect': 'location', 'description': 'valuable'}, {'aspect': 'location', 'description': 'key'}, {'aspect': 'location', 'description': 'satisfied'}, {'aspect': 'location', 'description': 'pleased'}, {'aspect': 'location', 'description': 'certain'}, {'aspect': 'staff', 'description': 'certain'}, {'aspect': 'service', 'description': 'certain'}, {'aspect': 'staff', 'description': 'alternative'}, {'aspect': 'staff', 'description': 'very drunk'}, {'aspect': 'staff', 'description': 'homeless'}, {'aspect': 'staff', 'description': 'extremely impressed'}, {'aspect': 'staff', 'description': 'calm'}, {'aspect': 'team', 'description': 'calm'}, {'aspect': 'skill', 'description': 'calm'}, {'aspect': 'skill', 'description': 'negative'}, {'aspect': 'skill', 'description': 'safe'}, {'aspect': 'skill', 'description': 'same'}, {'aspect': 'skill', 'description': 'poor'}, {'aspect': 'skill', 'description': 'possible'}, {'aspect': 'team', 'description': 'possible'}, {'aspect': 'man', 'description': 'possible'}, {'aspect': 'man', 'description': 'human'}, {'aspect': 'man', 'description': 'Incredible'}, {'aspect': 'man', 'description': 'very comfortable'}, {'aspect': 'man', 'description': 'excellent'}, {'aspect': 'bathrooms', 'description': 'excellent'}, {'aspect': 'showers', 'description': 'excellent'}, {'aspect': 'showers', 'description': 'incredible'}, {'aspect': 'showers', 'description': 'Nice'}, {'aspect': 'showers', 'description': 'complimentary'}, {'aspect': 'showers', 'description': 'Large'}, {'aspect': 'showers', 'description': 'fresh'}, {'aspect': 'showers', 'description': 'delicious'}, {'aspect': 'window', 'description': 'delicious'}, {'aspect': 'window', 'description': 'open'}, {'aspect': 'room', 'description': 'open'}, {'aspect': 'room', 'description': 'very quiet'}, {'aspect': 'room', 'description': 'easy'}, {'aspect': 'BREAKFAST', 'description': 'easy'}, {'aspect': 'BREAKFAST', 'description': 'plentiful'}, {'aspect': 'BREAKFAST', 'description': 'Very clean'}, {'aspect': 'BREAKFAST', 'description': 'delicious'}, {'aspect': 'BREAKFAST', 'description': 'thrilled'}, {'aspect': 'BREAKFAST', 'description': 'meticulously clean'}, {'aspect': 'BREAKFAST', 'description': 'small'}, {'aspect': 'equipment', 'description': 'small'}, {'aspect': 'equipment', 'description': 'sophisticated'}, {'aspect': 'equipment', 'description': 'high'}, {'aspect': 'equipment', 'description': 'sorry'}, {'aspect': 'equipment', 'description': 'entire'}, {'aspect': 'equipment', 'description': 'so wonderful'}, {'aspect': 'staff', 'description': 'high'}, {'aspect': 'staff', 'description': 'extremely kind'}, {'aspect': 'room', 'description': 'extremely kind'}, {'aspect': 'room', 'description': 'very nice'}, {'aspect': 'room', 'description': 'most amazing'}, {'aspect': 'room', 'description': 'elevated'}, {'aspect': 'room', 'description': 'amazing'}, {'aspect': 'location', 'description': 'excellent'}, {'aspect': 'location', 'description': 'really helpful'}, {'aspect': 'location', 'description': 'small'}, {'aspect': 'location', 'description': 'very clean'}, {'aspect': 'location', 'description': '😊'}, {'aspect': 'location', 'description': 'Complimentary'}, {'aspect': 'hotel', 'description': 'perfect'}, {'aspect': 'hotel', 'description': 'Perfect'}, {'aspect': 'hotel', 'description': 'vibrant'}, {'aspect': 'rooms', 'description': 'vibrant'}, {'aspect': 'rooms', 'description': 'very convenient'}, {'aspect': 'rooms', 'description': 'quiet'}, {'aspect': 'rooms', 'description': 'well equipped'}, {'aspect': 'staff', 'description': 'well equipped'}, {'aspect': 'staff', 'description': 'amazing'}, {'aspect': 'staff', 'description': 'very friendly'}, {'aspect': 'stations', 'description': 'very friendly'}, {'aspect': 'stations', 'description': 'close'}, {'aspect': 'stations', 'description': 'easy'}, {'aspect': 'hotel', 'description': 'immaculate'}, {'aspect': 'hotel', 'description': 'clean'}, {'aspect': 'hotel', 'description': 'modern'}, {'aspect': 'hotel', 'description': 'little'}, {'aspect': 'hotel', 'description': 'amazing'}, {'aspect': 'hotel', 'description': 'fantasist'}, {'aspect': 'hotel', 'description': 'best'}, {'aspect': 'stay', 'description': 'best'}, {'aspect': 'stay', 'description': 'so special'}, {'aspect': 'hotel', 'description': 'Great'}, {'aspect': 'hotel', 'description': 'clean'}, {'aspect': 'hotel', 'description': 'comfortable'}, {'aspect': 'hotel', 'description': 'perfect'}, {'aspect': 'room', 'description': 'clean'}, {'aspect': 'room', 'description': 'small'}, {'aspect': 'room', 'description': 'perfect'}, {'aspect': 'room', 'description': 'Fantastic'}, {'aspect': 'room', 'description': 'safe'}, {'aspect': 'staff', 'description': 'safe'}, {'aspect': 'staff', 'description': 'friendly'}, {'aspect': 'staff', 'description': 'helpful'}, {'aspect': 'rooms', 'description': 'cosy'}, {'aspect': 'rooms', 'description': 'nice'}, {'aspect': 'rooms', 'description': 'well equipped'}, {'aspect': 'rooms', 'description': 'efficient'}, {'aspect': 'rooms', 'description': 'most important'}, {'aspect': 'staff', 'description': 'most important'}, {'aspect': 'staff', 'description': 'great'}, {'aspect': 'staff', 'description': 'professional'}, {'aspect': 'hotel', 'description': 'delighted'}, {'aspect': 'hotel', 'description': 'even better'}, {'aspect': 'hotel', 'description': 'Small'}, {'aspect': 'hotel', 'description': 'only'}, {'aspect': 'hotel', 'description': 'true'}, {'aspect': 'hotel', 'description': 'favourite'}, {'aspect': 'hotel', 'description': 'European'}, {'aspect': 'hotel', 'description': 'super'}, {'aspect': 'hotel', 'description': '-'}, {'aspect': 'hotel', 'description': 'knowledgeable'}, {'aspect': 'hotel', 'description': 'more'}, {'aspect': 'hotel', 'description': 'happy'}, {'aspect': 'hotel', 'description': 'top'}, {'aspect': 'hotel', 'description': 'big'}, {'aspect': 'hotel', 'description': 'small'}, {'aspect': 'location', 'description': 'small'}, {'aspect': 'location', 'description': 'huge'}, {'aspect': 'location', 'description': 'very Parisian'}, {'aspect': 'location', 'description': 'adorable'}, {'aspect': 'staff', 'description': 'helpful'}, {'aspect': 'staff', 'description': 'Nice'}, {'aspect': 'rooms', 'description': 'Nice'}, {'aspect': 'marquis', 'description': 'many'}, {'aspect': 'marquis', 'description': 'similar'}, {'aspect': 'marquis', 'description': 'standard'}, {'aspect': 'marquis', 'description': 'very good'}, {'aspect': 'marquis', 'description': 'wonderful'}, {'aspect': 'marquis', 'description': 'friendly'}, {'aspect': 'marquis', 'description': 'helpful'}, {'aspect': 'rooms', 'description': 'helpful'}, {'aspect': 'rooms', 'description': 'modern'}, {'aspect': 'rooms', 'description': 'comfortable'}, {'aspect': 'hotel', 'description': 'comfortable'}, {'aspect': 'hotel', 'description': 'immaculate'}, {'aspect': 'hotel', 'description': 'absolutely safe'}, {'aspect': 'room', 'description': 'surprisingly spacious'}, {'aspect': 'room', 'description': 'clean'}, {'aspect': 'room', 'description': 'mini'}, {'aspect': 'room', 'description': 'private'}, {'aspect': 'staff', 'description': 'private'}, {'aspect': 'staff', 'description': 'wonderful'}, {'aspect': 'location', 'description': 'wonderful'}, {'aspect': 'location', 'description': 'excellent'}, {'aspect': 'location', 'description': 'Highly recommend'}, {'aspect': 'hotel', 'description': 'good'}, {'aspect': 'hotel', 'description': 'very nice'}, {'aspect': 'hotel', 'description': 'industrial'}, {'aspect': 'hotel', 'description': 'like'}, {'aspect': 'Cleanliness', 'description': 'like'}, {'aspect': 'Cleanliness', 'description': 'perfect'}, {'aspect': 'room', 'description': 'perfect'}, {'aspect': 'room', 'description': 'extremely quiet'}, {'aspect': 'room', 'description': 'real'}, {'aspect': 'quality', 'description': 'real'}, {'aspect': 'quality', 'description': 'excellent'}, {'aspect': 'quality', 'description': 'Few'}, {'aspect': 'quality', 'description': 'first'}, {'aspect': 'quality', 'description': 'main'}, {'aspect': 'quality', 'description': 'inventive'}, {'aspect': 'quality', 'description': 'Same'}, {'aspect': 'quality', 'description': 'little'}, {'aspect': 'quality', 'description': 'sufficient'}, {'aspect': 'owners', 'description': 'super friendly'}, {'aspect': 'owners', 'description': 'personal'}, {'aspect': 'rooms', 'description': 'personal'}, {'aspect': 'rooms', 'description': 'spacious'}, {'aspect': 'rooms', 'description': 'super modern'}, {'aspect': 'rooms', 'description': 'great'}, {'aspect': 'rooms', 'description': 'QUIET'}, {'aspect': 'rooms', 'description': 'more'}, {'aspect': 'staff', 'description': 'very comfortable'}, {'aspect': 'staff', 'description': 'very welcoming'}, {'aspect': 'staff', 'description': 'friendly'}, {'aspect': 'room', 'description': 'friendly'}, {'aspect': 'room', 'description': 'very clean'}, {'aspect': 'bathroom', 'description': 'very clean'}, {'aspect': 'bathroom', 'description': 'spacious'}, {'aspect': 'bathroom', 'description': 'nice'}, {'aspect': 'bathroom', 'description': 'great'}, {'aspect': 'bathroom', 'description': 'close'}, {'aspect': 'room', 'description': 'clean'}, {'aspect': 'room', 'description': 'Great'}, {'aspect': 'room', 'description': 'Nice'}, {'aspect': 'room', 'description': 'friendly'}, {'aspect': 'area', 'description': 'friendly'}, {'aspect': 'area', 'description': 'lovely'}, {'aspect': 'giraffes', 'description': 'many'}, {'aspect': 'giraffes', 'description': 'personal'}, {'aspect': 'giraffes', 'description': 'good'}, {'aspect': 'hotel', 'description': 'nice'}, {'aspect': 'hotel', 'description': 'many'}, {'aspect': 'hotel', 'description': 'good'}, {'aspect': 'room', 'description': 'good'}, {'aspect': 'room', 'description': 'clean'}, {'aspect': 'beds', 'description': 'clean'}, {'aspect': 'beds', 'description': 'nice'}, {'aspect': 'beds', 'description': 'sure'}, {'aspect': 'rooms', 'description': 'extremely warm'}, {'aspect': 'rooms', 'description': 'colder'}, {'aspect': 'rooms', 'description': 'very small'}, {'aspect': 'rooms', 'description': 'little'}, {'aspect': 'rooms', 'description': 'ok'}, {'aspect': 'rooms', 'description': 'that picky'}, {'aspect': 'rooms', 'description': 'optional'}, {'aspect': 'rooms', 'description': 'simple'}, {'aspect': 'rooms', 'description': 'limited'}, {'aspect': 'rooms', 'description': 'few'}, {'aspect': 'rooms', 'description': 'big'}, {'aspect': 'rooms', 'description': 'large'}, {'aspect': 'personnel', 'description': 'large'}, {'aspect': 'personnel', 'description': 'friendly'}, {'aspect': 'personnel', 'description': 'helpful'}, {'aspect': 'Location', 'description': 'great'}, {'aspect': 'stations', 'description': 'great'}, {'aspect': 'area', 'description': 'great'}, {'aspect': 'area', 'description': 'relatively quiet'}, {'aspect': 'area', 'description': 'green'}, {'aspect': 'area', 'description': 'close'}, {'aspect': 'area', 'description': 'public'}, {'aspect': 'parents', 'description': 'public'}, {'aspect': 'games', 'description': 'public'}, {'aspect': 'games', 'description': 'attractive'}, {'aspect': 'games', 'description': 'long'}, {'aspect': 'Staff', 'description': 'long'}, {'aspect': 'Staff', 'description': 'really friendly'}, {'aspect': 'Staff', 'description': 'helpful'}, {'aspect': 'Staff', 'description': 'sure'}, {'aspect': 'Staff', 'description': 'upfront'}, {'aspect': 'hotel', 'description': 'Very Nice'}, {'aspect': 'hotel', 'description': 'very quiet'}, {'aspect': 'hotel', 'description': 'great'}, {'aspect': 'hotel', 'description': 'central'}, {'aspect': 'room', 'description': 'very nice'}, {'aspect': 'room', 'description': 'smaller'}, {'aspect': 'room', 'description': 'clean'}, {'aspect': 'room', 'description': 'personal'}, {'aspect': 'room', 'description': 'nice'}, {'aspect': 'room', 'description': 'sur'}, {'aspect': 'neighborhood', 'description': 'early'}, {'aspect': 'neighborhood', 'description': 'nice'}, {'aspect': 'neighborhood', 'description': 'best'}, {'aspect': 'wifi', 'description': 'best'}, {'aspect': 'wifi', 'description': 'fast stable'}, {'aspect': 'brekkie', 'description': 'fast stable'}, {'aspect': 'brekkie', 'description': 'good'}, {'aspect': 'Staff', 'description': 'good'}, {'aspect': 'Staff', 'description': 'consistently friendly'}, {'aspect': 'Staff', 'description': 'attentive'}, {'aspect': 'hotel', 'description': 'attentive'}, {'aspect': 'hotel', 'description': 'easily reachable'}, {'aspect': 'Transport', 'description': 'Small'}, {'aspect': 'Transport', 'description': 'really easy'}, {'aspect': 'Transport', 'description': 'young'}, {'aspect': 'staff', 'description': 'cold'}, {'aspect': 'staff', 'description': 'marginally polite'}, {'aspect': 'staff', 'description': 'great'}, {'aspect': 'staff', 'description': 'Safe'}, {'aspect': 'receptionist', 'description': 'drinkable'}, {'aspect': 'receptionist', 'description': 'able'}, {'aspect': 'receptionist', 'description': 'first'}, {'aspect': 'receptionist', 'description': 'ridiculous'}, {'aspect': 'situation', 'description': 'ridiculous'}, {'aspect': 'situation', 'description': 'next'}, {'aspect': 'situation', 'description': 'able'}, {'aspect': 'room', 'description': 'ready'}, {'aspect': 'clients', 'description': 'ready'}, {'aspect': 'clients', 'description': 'electronic'}, {'aspect': 'key', 'description': 'electronic'}, {'aspect': 'key', 'description': 'sudden'}, {'aspect': 'key', 'description': 'safe'}, {'aspect': 'box', 'description': 'safe'}, {'aspect': 'box', 'description': 'unable'}, {'aspect': 'box', 'description': 'previous'}, {'aspect': 'box', 'description': 'good'}, {'aspect': 'box', 'description': 'front'}, {'aspect': 'box', 'description': 'different'}, {'aspect': 'box', 'description': 'responsible'}, {'aspect': 'box', 'description': 'very polite'}, {'aspect': 'kind', 'description': 'very polite'}, {'aspect': 'client', 'description': 'very polite'}, {'aspect': 'employees', 'description': 'clean'}, {'aspect': 'employees', 'description': 'gentle'}, {'aspect': 'employees', 'description': 'many'}, {'aspect': 'employees', 'description': 'wonderful'}, {'aspect': 'employees', 'description': 'good'}, {'aspect': 'hotel', 'description': 'amazing'}, {'aspect': 'hotel', 'description': 'very cozy'}, {'aspect': 'hotel', 'description': 'practical'}, {'aspect': 'room', 'description': 'practical'}, {'aspect': 'room', 'description': 'excellent'}, {'aspect': 'room', 'description': 'very clean'}, {'aspect': 'location', 'description': 'very clean'}, {'aspect': 'location', 'description': 'awesome'}, {'aspect': 'breakfast', 'description': 'awesome'}, {'aspect': 'breakfast', 'description': 'delicious'}, {'aspect': 'hostess', 'description': 'delicious'}, {'aspect': 'hostess', 'description': 'very friendly'}, {'aspect': 'hostess', 'description': 'communicative'}, {'aspect': 'hostess', 'description': 'extremely helpful'}, {'aspect': 'service', 'description': 'extremely helpful'}, {'aspect': 'service', 'description': 'flawless'}, {'aspect': 'meal', 'description': 'good'}, {'aspect': 'rooms', 'description': 'good'}, {'aspect': 'rooms', 'description': 'clean'}, {'aspect': 'rooms', 'description': 'nice'}, {'aspect': 'hotel', 'description': 'little'}, {'aspect': 'hotel', 'description': 'very good'}, {'aspect': 'hotel', 'description': 'nearby'}, {'aspect': 'hotel', 'description': 'very nice'}, {'aspect': 'room', 'description': 'double'}, {'aspect': 'room', 'description': 'perfect'}, {'aspect': 'room', 'description': 'simple'}, {'aspect': 'room', 'description': 'nice'}, {'aspect': 'room', 'description': 'clean'}, {'aspect': 'staff', 'description': 'clean'}, {'aspect': 'staff', 'description': 'friendly'}, {'aspect': 'balcony', 'description': 'twin'}, {'aspect': 'balcony', 'description': 'lovely'}, {'aspect': 'balcony', 'description': 'very quiet'}, {'aspect': 'trip', 'description': 'Annual'}, {'aspect': 'trip', 'description': 'lovely'}, {'aspect': 'Location', 'description': 'lovely'}, {'aspect': 'Location', 'description': 'great'}, {'aspect': 'Location', 'description': 'nice'}, {'aspect': 'staff', 'description': 'nice'}, {'aspect': 'staff', 'description': 'really especially helpful'}, {'aspect': 'staff', 'description': 'friendly'}, {'aspect': 'staff', 'description': 'sorry'}, {'aspect': 'staff', 'description': 'next'}, {'aspect': 'hotel', 'description': 'bad'}, {'aspect': 'hotel', 'description': 'great'}, {'aspect': 'staff', 'description': 'great'}, {'aspect': 'staff', 'description': 'very friendly'}, {'aspect': 'rooms', 'description': 'very friendly'}, {'aspect': 'rooms', 'description': 'great'}, {'aspect': 'rooms', 'description': 'very funky'}, {'aspect': 'rooms', 'description': 'black'}, {'aspect': 'mold', 'description': 'black'}, {'aspect': 'mold', 'description': 'pretty prevalent'}, {'aspect': 'mold', 'description': 'sick'}, {'aspect': 'people', 'description': 'amazing'}, {'aspect': 'people', 'description': 'so kind'}, {'aspect': 'people', 'description': 'supportive'}, {'aspect': 'people', 'description': 'small'}, {'aspect': 'people', 'description': 'great'}, {'aspect': 'people', 'description': 'weird'}, {'aspect': 'thing', 'description': 'weird'}, {'aspect': 'mother', 'description': 'weird'}, {'aspect': 'mother', 'description': 'present'}, {'aspect': 'members', 'description': 'exceptional'}, {'aspect': 'members', 'description': 'extremely accommodating'}, {'aspect': 'members', 'description': 'Good'}, {'aspect': 'members', 'description': 'clean'}, {'aspect': 'members', 'description': 'necessary'}, {'aspect': 'members', 'description': 'Only'}, {'aspect': 'issue', 'description': 'Only'}, {'aspect': 'issue', 'description': 'wonderful'}, {'aspect': 'staff', 'description': 'excellent'}, {'aspect': 'staff', 'description': 'able'}, {'aspect': 'hotel', 'description': 'Lovely'}, {'aspect': 'hotel', 'description': 'very kind'}, {'aspect': 'hotel', 'description': 'helpful'}, {'aspect': 'hotel', 'description': 'delicious'}, {'aspect': 'hotel', 'description': 'French'}, {'aspect': 'hotel', 'description': 'well serviced'}, {'aspect': 'hotel', 'description': 'excellent'}, {'aspect': 'ambiance', 'description': 'quite'}, {'aspect': 'ambiance', 'description': 'such'}, {'aspect': 'ambiance', 'description': 'real'}, {'aspect': 'breakfast', 'description': 'quiet'}, {'aspect': 'breakfast', 'description': 'amazing'}, {'aspect': 'people', 'description': 'amazing'}, {'aspect': 'place', 'description': 'amazing'}, {'aspect': 'place', 'description': 'special'}, {'aspect': 'place', 'description': 'Excellent'}, {'aspect': 'location', 'description': 'great'}, {'aspect': 'location', 'description': 'still open'}, {'aspect': 'staff', 'description': 'still open'}, {'aspect': 'staff', 'description': 'very friendly'}, {'aspect': 'staff', 'description': 'helpful'}, {'aspect': 'room', 'description': 'helpful'}, {'aspect': 'room', 'description': 'of small'}, {'aspect': 'room', 'description': 'sized'}, {'aspect': 'room', 'description': 'only'}, {'aspect': 'complaint', 'description': 'only'}, {'aspect': 'room', 'description': 'too warm'}, {'aspect': 'room', 'description': 'cold'}, {'aspect': 'authors', 'description': 'famous'}, {'aspect': 'user', 'description': 'famous'}, {'aspect': 'user', 'description': 'easy'}, {'aspect': 'Breakfasts', 'description': 'easy'}, {'aspect': 'Breakfasts', 'description': 'wonderful'}, {'aspect': 'Breakfasts', 'description': 'fabulous'}, {'aspect': 'Breakfasts', 'description': 'perfect'}, {'aspect': 'location', 'description': 'perfect'}, {'aspect': 'location', 'description': 'relatively little'}, {'aspect': 'location', 'description': 'short'}, {'aspect': 'area', 'description': 'short'}, {'aspect': 'area', 'description': 'small'}, {'aspect': 'area', 'description': 'great'}, {'aspect': 'room', 'description': 'great'}, {'aspect': 'room', 'description': 'clean'}, {'aspect': 'room', 'description': 'decent'}, {'aspect': 'room', 'description': 'little'}, {'aspect': 'staff', 'description': 'little'}, {'aspect': 'staff', 'description': 'courteous'}, {'aspect': 'staff', 'description': 'very helpful'}, {'aspect': 'concierge', 'description': 'very helpful'}, {'aspect': 'concierge', 'description': 'clearly impressed'}, {'aspect': 'hotel', 'description': 'many'}, {'aspect': 'hotel', 'description': 'small'}, {'aspect': 'hotel', 'description': 'quiet'}, {'aspect': 'rooms', 'description': 'quiet'}, {'aspect': 'rooms', 'description': 'great'}, {'aspect': 'rooms', 'description': 'Many'}, {'aspect': 'rooms', 'description': 'rare'}, {'aspect': 'rooms', 'description': 'top'}, {'aspect': 'suits', 'description': 'top'}, {'aspect': 'suits', 'description': 'very large'}, {'aspect': 'suits', 'description': 'very nice'}, {'aspect': 'suits', 'description': 'helpful'}, {'aspect': 'room', 'description': 'most popular'}, {'aspect': 'room', 'description': 'comfortable'}, {'aspect': 'room', 'description': 'small'}, {'aspect': 'location', 'description': 'small'}, {'aspect': 'location', 'description': 'great'}, {'aspect': 'location', 'description': 'Easy'}, {'aspect': 'host', 'description': 'beautiful'}, {'aspect': 'host', 'description': 'wonderful'}, {'aspect': 'Location', 'description': 'great'}, {'aspect': 'Location', 'description': 'close'}, {'aspect': 'Location', 'description': 'many'}, {'aspect': 'Location', 'description': 'importantly close'}, {'aspect': 'Rooms', 'description': 'importantly close'}, {'aspect': 'Rooms', 'description': 'very good'}, {'aspect': 'Staff', 'description': 'very good'}, {'aspect': 'Staff', 'description': 'very helpful'}, {'aspect': 'Staff', 'description': 'friendly'}, {'aspect': 'shops', 'description': 'wonderful'}, {'aspect': 'shops', 'description': 'only few'}, {'aspect': 'shops', 'description': 'huge'}, {'aspect': 'shops', 'description': 'great'}, {'aspect': 'shops', 'description': 'french'}, {'aspect': 'shops', 'description': 'same'}, {'aspect': 'room', 'description': 'famous'}, {'aspect': 'room', 'description': 'wonderful'}, {'aspect': 'room', 'description': 'very friendly'}, {'aspect': 'room', 'description': 'helpful'}, {'aspect': 'breakfast', 'description': 'helpful'}, {'aspect': 'breakfast', 'description': 'free'}, {'aspect': 'breakfast', 'description': 'only'}, {'aspect': 'gripes', 'description': 'only'}, {'aspect': 'gripes', 'description': 'American'}, {'aspect': 'gripes', 'description': 'accessible'}, {'aspect': 'gripes', 'description': 'very narrow'}, {'aspect': 'gripes', 'description': 'steep'}, {'aspect': 'gripes', 'description': 'sure'}, {'aspect': 'gripes', 'description': 'lower'}, {'aspect': 'floor', 'description': 'lower'}, {'aspect': 'floor', 'description': 'of annoying'}, {'aspect': 'floor', 'description': 'ready'}, {'aspect': 'hotel', 'description': 'fabulous'}, {'aspect': 'hotel', 'description': 'memorable'}, {'aspect': 'hotel', 'description': 'first'}, {'aspect': 'location', 'description': 'first'}, {'aspect': 'location', 'description': 'so many'}, {'aspect': 'location', 'description': 'free'}, {'aspect': 'service', 'description': 'free'}, {'aspect': 'service', 'description': 'superb'}, {'aspect': 'service', 'description': 'comfortable'}, {'aspect': 'rooms', 'description': 'nice'}, {'aspect': 'rooms', 'description': 'quite small'}, {'aspect': 'rooms', 'description': 'clean'}, {'aspect': 'location', 'description': 'clean'}, {'aspect': 'location', 'description': 'perfect'}, {'aspect': 'location', 'description': 'enough close'}, {'aspect': 'location', 'description': 'other'}, {'aspect': 'location', 'description': 'several'}, {'aspect': 'location', 'description': 'good'}, {'aspect': 'location', 'description': 'quite good'}, {'aspect': 'location', 'description': 'careful'}, {'aspect': 'location', 'description': 'great'}, {'aspect': 'staff', 'description': 'very helpful'}, {'aspect': 'room', 'description': 'very helpful'}, {'aspect': 'room', 'description': 'super clean'}, {'aspect': 'location', 'description': 'super clean'}, {'aspect': 'location', 'description': 'easy'}, {'aspect': 'Breakfast', 'description': 'easy'}, {'aspect': 'Breakfast', 'description': 'simple'}, {'aspect': 'Breakfast', 'description': 'better'}, {'aspect': 'Breakfast', 'description': 'distinguish'}, {'aspect': 'hotel', 'description': 'just perfect'}, {'aspect': 'location', 'description': 'just perfect'}, {'aspect': 'location', 'description': 'great'}, {'aspect': 'room', 'description': 'great'}, {'aspect': 'room', 'description': 'nice'}, {'aspect': 'bed', 'description': 'nice'}, {'aspect': 'bed', 'description': 'comfortable'}, {'aspect': 'bed', 'description': 'best'}, {'aspect': 'bed', 'description': 'so friendly'}, {'aspect': 'bed', 'description': 'helpful'}, {'aspect': 'atmosphere', 'description': 'Great'}, {'aspect': 'atmosphere', 'description': 'most polite'}, {'aspect': 'atmosphere', 'description': 'positive'}, {'aspect': 'atmosphere', 'description': 'Really clean'}, {'aspect': 'atmosphere', 'description': 'good'}, {'aspect': 'Room', 'description': 'Good'}, {'aspect': 'Room', 'description': 'clean'}, {'aspect': 'Room', 'description': 'friendly'}, {'aspect': 'surroundings', 'description': 'Very nice'}, {'aspect': 'surroundings', 'description': 'safer'}, {'aspect': 'surroundings', 'description': 'cleaner'}, {'aspect': 'hotel', 'description': 'cleaner'}, {'aspect': 'hotel', 'description': 'very clean'}, {'aspect': 'hotel', 'description': 'very careful'}, {'aspect': 'Connections', 'description': 'very careful'}, {'aspect': 'Connections', 'description': 'very good'}, {'aspect': 'staff', 'description': 'great'}, {'aspect': 'staff', 'description': 'very helpful'}, {'aspect': 'room', 'description': 'very helpful'}, {'aspect': 'room', 'description': 'clean'}, {'aspect': 'room', 'description': 'strong'}, {'aspect': 'Location', 'description': 'perfect'}, {'aspect': 'connection', 'description': 'perfect'}, {'aspect': 'connection', 'description': 'incredible'}, {'aspect': 'Breakfast', 'description': 'incredible'}, {'aspect': 'Breakfast', 'description': 'good'}, {'aspect': 'staff', 'description': 'good'}, {'aspect': 'staff', 'description': 'very kind'}, {'aspect': 'staff', 'description': 'Only'}, {'aspect': 'thing', 'description': 'Only'}, {'aspect': 'room', 'description': 'Single'}, {'aspect': 'room', 'description': 'really small'}, {'aspect': 'room', 'description': 'very functional'}, {'aspect': 'room', 'description': 'comfortable'}, {'aspect': 'room', 'description': 'modern'}, {'aspect': 'Location', 'description': 'great'}, {'aspect': 'Room', 'description': 'great'}, {'aspect': 'Room', 'description': 'quiet'}, {'aspect': 'Room', 'description': 'clean'}, {'aspect': 'Room', 'description': 'modern'}, {'aspect': 'Room', 'description': 'very nice'}, {'aspect': 'Price', 'description': 'very nice'}, {'aspect': 'Price', 'description': 'reasonable'}, {'aspect': 'Rooms', 'description': 'small'}, {'aspect': 'Rooms', 'description': 'Easy'}, {'aspect': 'Rooms', 'description': 'public'}, {'aspect': 'couid', 'description': 'public'}, {'aspect': 'bed', 'description': 'forward easy'}, {'aspect': 'bed', 'description': 'huge'}, {'aspect': 'bed', 'description': 'so comfortable'}, {'aspect': 'bed', 'description': 'more'}, {'aspect': 'bed', 'description': 'enough'}, {'aspect': 'bed', 'description': 'great'}, {'aspect': 'Showers', 'description': 'great'}, {'aspect': 'hotel', 'description': 'clean'}, {'aspect': 'staff', 'description': 'clean'}, {'aspect': 'staff', 'description': 'really nice'}, {'aspect': 'staff', 'description': 'great'}, {'aspect': 'staff', 'description': 'fantastic'}, {'aspect': 'spots', 'description': 'fantastic'}, {'aspect': 'spots', 'description': 'very close'}, {'aspect': 'location', 'description': 'fabulous'}, {'aspect': 'location', 'description': 'extremely happy'}, {'aspect': 'location', 'description': 'bright'}, {'aspect': 'hotel', 'description': 'bright'}, {'aspect': 'room', 'description': 'bright'}, {'aspect': 'room', 'description': 'decent'}, {'aspect': 'room', 'description': 'friendly'}, {'aspect': 'room', 'description': 'very pleased'}, {'aspect': 'room', 'description': 'different'}, {'aspect': 'location', 'description': 'different'}, {'aspect': 'location', 'description': 'amazing'}, {'aspect': 'location', 'description': 'nearby'}, {'aspect': 'location', 'description': 'Easy'}, {'aspect': 'location', 'description': 'perfect'}, {'aspect': 'location', 'description': 'so many'}, {'aspect': 'location', 'description': 'great'}, {'aspect': 'rooms', 'description': 'great'}, {'aspect': 'rooms', 'description': 'tiny'}, {'aspect': 'rooms', 'description': 'comfortable'}, {'aspect': 'rooms', 'description': 'clean'}, {'aspect': 'rooms', 'description': 'only'}, {'aspect': 'rooms', 'description': 'last'}, {'aspect': 'review', 'description': 'last'}, {'aspect': 'manager', 'description': 'last'}, {'aspect': 'manager', 'description': 'that friendly'}, {'aspect': 'taxi', 'description': 'that friendly'}, {'aspect': 'taxi', 'description': 'fast'}, {'aspect': 'reply', 'description': 'fast'}, {'aspect': 'reply', 'description': 'rude'}, {'aspect': 'gentleman', 'description': 'rude'}, {'aspect': 'gentleman', 'description': 'front'}, {'aspect': 'gentleman', 'description': 'very nice'}, {'aspect': 'gentleman', 'description': 'young'}, {'aspect': 'lady', 'description': 'young'}, {'aspect': 'lady', 'description': 'very nice'}, {'aspect': 'Staff', 'description': 'stylish'}, {'aspect': 'Staff', 'description': 'friendly'}, {'aspect': 'breakfast', 'description': 'friendly'}, {'aspect': 'breakfast', 'description': 'delicious'}, {'aspect': 'breakfast', 'description': 'perfect'}, {'aspect': 'Rates', 'description': 'perfect'}, {'aspect': 'Rates', 'description': 'very reasonable'}, {'aspect': 'hotel', 'description': 'fantastic'}, {'aspect': 'rooms', 'description': 'fantastic'}, {'aspect': 'rooms', 'description': 'small'}, {'aspect': 'rooms', 'description': 'very stylish'}, {'aspect': 'rooms', 'description': 'clean'}, {'aspect': 'rooms', 'description': 'comfortable'}, {'aspect': 'room', 'description': 'comfortable'}, {'aspect': 'room', 'description': 'lovely'}, {'aspect': 'hotel', 'description': 'perfect'}, {'aspect': 'hotel', 'description': 'short'}, {'aspect': 'staff', 'description': 'short'}, {'aspect': 'staff', 'description': 'friendly'}, {'aspect': 'staff', 'description': 'helpful'}, {'aspect': 'room', 'description': 'helpful'}, {'aspect': 'room', 'description': 'small'}, {'aspect': 'room', 'description': 'clean'}, {'aspect': 'room', 'description': 'very reasonable'}, {'aspect': 'Room', 'description': 'very clean'}, {'aspect': 'Room', 'description': 'very near'}, {'aspect': 'Room', 'description': 'very satisfied'}, {'aspect': 'Room', 'description': 'good'}, {'aspect': 'Room', 'description': 'very helpful'}, {'aspect': 'Room', 'description': 'more'}, {'aspect': 'Room', 'description': 'special'}, {'aspect': 'hotel', 'description': 'very clean'}, {'aspect': 'hotel', 'description': 'very good'}, {'aspect': 'hotel', 'description': 'Other'}, {'aspect': 'places', 'description': 'Other'}, {'aspect': 'places', 'description': 'cheaper'}, {'aspect': 'places', 'description': 'worse'}, {'aspect': 'places', 'description': 'super central'}, {'aspect': 'places', 'description': 'average'}, {'aspect': 'time', 'description': 'average'}, {'aspect': 'time', 'description': 'most'}, {'aspect': 'time', 'description': 'great'}, {'aspect': 'time', 'description': 'quite safe'}, {'aspect': 'time', 'description': 'bad'}, {'aspect': 'area', 'description': 'bad'}, {'aspect': 'area', 'description': 'even safer'}, {'aspect': 'area', 'description': 'central'}, {'aspect': 'area', 'description': 'great'}, {'aspect': 'buildings', 'description': 'great'}, {'aspect': 'buildings', 'description': 'small'}, {'aspect': 'buildings', 'description': 'slow'}, {'aspect': 'breakfast', 'description': 'slow'}, {'aspect': 'breakfast', 'description': 'very ok'}, {'aspect': 'breakfast', 'description': 'very bland'}, {'aspect': 'breakfast', 'description': 'delicious'}, {'aspect': 'breakfast', 'description': 'quick'}, {'aspect': 'room', 'description': 'quick'}, {'aspect': 'room', 'description': 'ready'}, {'aspect': 'room', 'description': 'nice'}, {'aspect': 'room', 'description': 'uncomfortable'}, {'aspect': 'room', 'description': 'tired'}, {'aspect': 'room', 'description': 'overnight'}, {'aspect': 'check', 'description': 'overnight'}, {'aspect': 'check', 'description': 'empty'}, {'aspect': 'room', 'description': 'empty'}, {'aspect': 'room', 'description': 'second'}, {'aspect': 'room', 'description': 'other'}, {'aspect': 'room', 'description': 'dirty'}, {'aspect': 'stuff', 'description': 'dirty'}, {'aspect': 'stuff', 'description': 'clean'}, {'aspect': 'stuff', 'description': 'multiple'}, {'aspect': 'stuff', 'description': 'final'}, {'aspect': 'staff', 'description': 'clean'}, {'aspect': 'staff', 'description': 'unpleasant'}, {'aspect': 'staff', 'description': 'salty'}, {'aspect': 'staff', 'description': 'huge'}, {'aspect': 'thing', 'description': 'huge'}, {'aspect': 'service', 'description': 'huge'}, {'aspect': 'service', 'description': 'subpar'}, {'aspect': 'service', 'description': 'Easy'}, {'aspect': 'service', 'description': 'excellent'}, {'aspect': 'Cleanliness', 'description': 'excellent'}, {'aspect': 'Cleanliness', 'description': 'est'}, {'aspect': 'Cleanliness', 'description': 'very decent'}, {'aspect': 'Cleanliness', 'description': 'pleased'}, {'aspect': 'one', 'description': 'dirty'}, {'aspect': 'ladies', 'description': 'dirty'}, {'aspect': 'ladies', 'description': 'many'}, {'aspect': 'ladies', 'description': 'extremely tired'}, {'aspect': 'ladies', 'description': 'increasingly upset'}, {'aspect': 'ladies', 'description': 'available'}, {'aspect': 'ladies', 'description': 'new'}, {'aspect': 'ladies', 'description': 'own'}, {'aspect': 'staff', 'description': 'front'}, {'aspect': 'staff', 'description': 'amazing'}, {'aspect': 'staff', 'description': 'spectacular'}, {'aspect': 'staff', 'description': 'anywhere very quick'}, {'aspect': 'ladies', 'description': 'so accommodating'}, {'aspect': 'ladies', 'description': 'front'}, {'aspect': 'ladies', 'description': 'so pleasant'}, {'aspect': 'ladies', 'description': 'nice'}, {'aspect': 'ladies', 'description': 'black'}, {'aspect': 'daughter', 'description': 'black'}, {'aspect': 'daughter', 'description': 'so special'}, {'aspect': 'daughter', 'description': 'good'}, {'aspect': 'location', 'description': 'good'}, {'aspect': 'location', 'description': 'so many'}, {'aspect': 'location', 'description': 'super'}, {'aspect': 'views', 'description': 'Amazing'}, {'aspect': 'views', 'description': 'good'}, {'aspect': 'views', 'description': 'sized'}, {'aspect': 'views', 'description': 'bright'}, {'aspect': 'views', 'description': 'spacious'}, {'aspect': 'views', 'description': 'full'}, {'aspect': 'views', 'description': 'small'}, {'aspect': 'views', 'description': 'safe'}, {'aspect': 'views', 'description': 'real'}, {'aspect': 'hotel', 'description': 'real'}, {'aspect': 'hotel', 'description': 'well situated'}, {'aspect': 'hotel', 'description': 'convenient'}, {'aspect': 'hotel', 'description': 'great'}, {'aspect': 'hotel', 'description': 'surprisingly quiet'}, {'aspect': 'hotel', 'description': 'right'}, {'aspect': 'bed', 'description': 'so comfy'}, {'aspect': 'room', 'description': 'so comfy'}, {'aspect': 'room', 'description': 'super clean'}, {'aspect': 'room', 'description': 'so many'}, {'aspect': 'room', 'description': 'safe'}, {'aspect': 'room', 'description': 'best'}, {'aspect': 'room', 'description': 'absolutely perfect'}, {'aspect': 'highlight', 'description': 'absolutely perfect'}, {'aspect': 'staff', 'description': 'absolutely perfect'}, {'aspect': 'staff', 'description': 'so polite'}, {'aspect': 'staff', 'description': 'helpful'}, {'aspect': 'staff', 'description': 'amazing'}, {'aspect': 'view', 'description': 'absolutely amazing'}, {'aspect': 'view', 'description': 'so nice'}, {'aspect': 'Staff', 'description': 'so nice'}, {'aspect': 'Staff', 'description': 'nice'}, {'aspect': 'Staff', 'description': 'free'}, {'aspect': 'Staff', 'description': 'Very clean'}, {'aspect': 'option', 'description': 'terrible'}, {'aspect': 'option', 'description': 'expensive'}, {'aspect': 'option', 'description': 'much better'}, {'aspect': 'option', 'description': 'much cheaper'}, {'aspect': 'room', 'description': 'surprised'}, {'aspect': 'room', 'description': 'available'}, {'aspect': 'room', 'description': 'at least'}, {'aspect': 'room', 'description': 'important'}, {'aspect': 'hours', 'description': 'important'}, {'aspect': 'hours', 'description': 'available'}, {'aspect': 'hours', 'description': 'free'}, {'aspect': 'hours', 'description': 'ready'}, {'aspect': 'hours', 'description': 'yet ready'}, {'aspect': 'hours', 'description': 'half'}, {'aspect': 'hours', 'description': 'twin'}, {'aspect': 'lights', 'description': 'twin'}, {'aspect': 'bed', 'description': 'twin'}, {'aspect': 'bed', 'description': 'very uncomfortable'}, {'aspect': 'curtain', 'description': 'very uncomfortable'}, {'aspect': 'curtain', 'description': 'several'}, {'aspect': 'curtain', 'description': 'available'}, {'aspect': 'breakfast', 'description': 'available'}, {'aspect': 'breakfast', 'description': 'many'}, {'aspect': 'hotels', 'description': 'many'}, {'aspect': 'hotels', 'description': 'able'}, {'aspect': 'hotels', 'description': 'lovely'}, {'aspect': 'hotels', 'description': 'couid'}, {'aspect': 'hotels', 'description': 'safe'}, {'aspect': 'hotels', 'description': 'available'}, {'aspect': 'hotels', 'description': 'Other'}, {'aspect': 'hotels', 'description': 'young'}, {'aspect': 'hotels', 'description': 'cold'}, {'aspect': 'hotels', 'description': 'indifferent'}, {'aspect': 'hotels', 'description': 'middle'}, {'aspect': 'hotels', 'description': 'aged'}, {'aspect': 'man', 'description': 'aged'}, {'aspect': 'people', 'description': 'aged'}, {'aspect': 'people', 'description': 'SINGLE'}, {'aspect': 'people', 'description': 'friendly'}, {'aspect': 'people', 'description': 'own'}, {'aspect': 'people', 'description': 'uncomfortable'}, {'aspect': 'people', 'description': 'convenient'}, {'aspect': 'people', 'description': 'non'}, {'aspect': 'people', 'description': '-'}, {'aspect': 'people', 'description': 'functioning'}, {'aspect': 'breakfast', 'description': 'functioning'}, {'aspect': 'breakfast', 'description': 'cold'}, {'aspect': 'breakfast', 'description': 'uncaring'}, {'aspect': 'breakfast', 'description': 'other'}, {'aspect': 'interactions', 'description': 'favorable'}, {'aspect': 'attendant', 'description': 'favorable'}, {'aspect': 'attendant', 'description': 'okay'}, {'aspect': 'attendant', 'description': 'happy'}, {'aspect': 'staff', 'description': 'extremely friendly'}, {'aspect': 'staff', 'description': 'helpful'}, {'aspect': 'lady', 'description': 'helpful'}, {'aspect': 'lady', 'description': 'very kind'}, {'aspect': 'Breakfast', 'description': 'very kind'}, {'aspect': 'Breakfast', 'description': 'cheaper'}, {'aspect': 'downside', 'description': 'cheaper'}, {'aspect': 'downside', 'description': 'own'}, {'aspect': 'downside', 'description': 'common'}, {'aspect': 'hotel', 'description': 'common'}, {'aspect': 'hotel', 'description': 'very nice'}, {'aspect': 'hotel', 'description': 'double'}, {'aspect': 'hotel', 'description': 'standard'}, {'aspect': 'hotel', 'description': 'Parisian'}, {'aspect': 'room', 'description': 'Parisian'}, {'aspect': 'room', 'description': 'very lovely'}, {'aspect': 'room', 'description': 'only'}, {'aspect': 'problem', 'description': 'only'}, {'aspect': 'bathroom', 'description': 'only'}, {'aspect': 'bathroom', 'description': 'clean'}, {'aspect': 'bathroom', 'description': 'few'}, {'aspect': 'bathroom', 'description': 'long'}, {'aspect': 'bathroom', 'description': 'black'}, {'aspect': 'bathroom', 'description': 'little'}, {'aspect': 'bathroom', 'description': 'dirty'}, {'aspect': 'stay', 'description': 'dirty'}, {'aspect': 'stay', 'description': 'fantastic'}, {'aspect': 'station', 'description': 'fantastic'}, {'aspect': 'station', 'description': 'amazing'}, {'aspect': 'station', 'description': 'easy'}, {'aspect': 'Reception', 'description': 'easy'}, {'aspect': 'Reception', 'description': 'open'}, {'aspect': 'choice', 'description': 'Great'}, {'aspect': 'choice', 'description': 'superior'}, {'aspect': 'choice', 'description': 'amazing'}, {'aspect': 'choice', 'description': 'clean'}, {'aspect': 'choice', 'description': 'warm'}, {'aspect': 'choice', 'description': 'beautiful'}, {'aspect': 'choice', 'description': 'very close'}, {'aspect': 'choice', 'description': 'great'}, {'aspect': 'choice', 'description': 'Orly'}, {'aspect': 'choice', 'description': 'able'}, {'aspect': 'train', 'description': 'able'}, {'aspect': 'train', 'description': 'very friendly'}, {'aspect': 'hotel', 'description': 'disappointed'}, {'aspect': 'hotel', 'description': 'very close'}, {'aspect': 'room', 'description': 'very close'}, {'aspect': 'room', 'description': 'so cute'}, {'aspect': 'staff', 'description': 'so cute'}, {'aspect': 'staff', 'description': 'pleasant'}, {'aspect': 'staff', 'description': 'full'}, {'aspect': 'staff', 'description': 'sad'}, {'aspect': 'staff', 'description': 'horrible'}, {'aspect': 'hotel', 'description': 'GOOD'}, {'aspect': 'hotel', 'description': 'perfect'}, {'aspect': 'mins', 'description': 'perfect'}, {'aspect': 'Price', 'description': 'perfect'}, {'aspect': 'Price', 'description': 'good'}, {'aspect': 'property', 'description': 'good'}, {'aspect': 'property', 'description': 'secure'}, {'aspect': 'property', 'description': 'BAD'}, {'aspect': 'property', 'description': 'frustrating'}, {'aspect': 'property', 'description': 'obvious'}, {'aspect': 'property', 'description': 'own'}, {'aspect': 'property', 'description': 'very annoying'}, {'aspect': 'staff', 'description': 'very annoying'}, {'aspect': 'staff', 'description': 'quite miserable'}, {'aspect': 'request', 'description': 'quite miserable'}, {'aspect': 'request', 'description': 'complicated'}, {'aspect': 'request', 'description': 'very good'}, {'aspect': 'service', 'description': 'very good'}, {'aspect': 'service', 'description': 'quick'}, {'aspect': 'beds', 'description': 'quick'}, {'aspect': 'beds', 'description': 'ok'}, {'aspect': 'room', 'description': 'first'}, {'aspect': 'room', 'description': 'clean'}, {'aspect': 'room', 'description': 'comfortable'}, {'aspect': 'room', 'description': 'continental'}, {'aspect': 'breakfast', 'description': 'continental'}, {'aspect': 'breakfast', 'description': 'excellent'}, {'aspect': 'breakfast', 'description': 'Special'}, {'aspect': 'breakfast', 'description': 'fresh'}, {'aspect': 'breakfast', 'description': 'small'}, {'aspect': 'breakfast', 'description': 'larger'}, {'aspect': 'breakfast', 'description': 'next'}, {'aspect': 'hotel', 'description': 'fine'}, {'aspect': 'room', 'description': 'fine'}, {'aspect': 'room', 'description': 'clean'}, {'aspect': 'location', 'description': 'clean'}, {'aspect': 'room', 'description': 'top'}, {'aspect': 'room', 'description': 'quiet'}, {'aspect': 'lots', 'description': 'quiet'}, {'aspect': 'lots', 'description': 'especially interesting'}, {'aspect': 'lots', 'description': 'aft tall'}, {'aspect': 'staff', 'description': 'aft tall'}, {'aspect': 'staff', 'description': 'friendly'}, {'aspect': 'requirements', 'description': 'friendly'}, {'aspect': 'requirements', 'description': 'small'}, {'aspect': 'hello', 'description': 'friendly'}, {'aspect': 'location', 'description': 'great'}, {'aspect': 'location', 'description': 'perfect'}, {'aspect': 'location', 'description': 'generous'}, {'aspect': 'location', 'description': 'fresh'}, {'aspect': 'location', 'description': 'seasonal'}, {'aspect': 'location', 'description': 'other'}, {'aspect': 'location', 'description': 'delicious'}, {'aspect': 'rooms', 'description': 'delicious'}, {'aspect': 'rooms', 'description': 'small'}, {'aspect': 'beds', 'description': 'small'}, {'aspect': 'beds', 'description': 'comfortable'}, {'aspect': 'beds', 'description': 'sparkling'}, {'aspect': 'bath', 'description': 'sparkling'}, {'aspect': 'bath', 'description': 'small'}, {'aspect': 'bath', 'description': 'super clean'}, {'aspect': 'bath', 'description': 'clean'}, {'aspect': 'bath', 'description': 'warm'}, {'aspect': 'bath', 'description': 'Great'}, {'aspect': 'hotel', 'description': 'clean'}, {'aspect': 'hotel', 'description': 'Comfy'}, {'aspect': 'hotel', 'description': 'normal'}, {'aspect': 'hotel', 'description': 'different'}, {'aspect': 'hotel', 'description': 'many'}, {'aspect': 'hotel', 'description': 'Safe'}, {'aspect': 'hotel', 'description': 'Good'}, {'aspect': 'hotel', 'description': 'double'}, {'aspect': 'hotel', 'description': 'sound'}, {'aspect': 'hotel', 'description': 'proof'}, {'aspect': 'hotel', 'description': 'safe'}, {'aspect': 'hotel', 'description': 'easy'}, {'aspect': 'hotel', 'description': 'tight'}, {'aspect': 'hotel', 'description': 'Shower'}, {'aspect': 'floor', 'description': 'Shower'}, {'aspect': 'floor', 'description': 'slippery'}, {'aspect': 'floor', 'description': 'so wet'}, {'aspect': 'floor', 'description': 'careful'}, {'aspect': 'floor', 'description': 'hot'}, {'aspect': 'floor', 'description': 'few'}, {'aspect': 'floor', 'description': 'other'}, {'aspect': 'floor', 'description': 'helpful'}, {'aspect': 'floor', 'description': 'normal'}, {'aspect': 'Housekeeping', 'description': 'normal'}, {'aspect': 'Housekeeping', 'description': 'sure'}, {'aspect': 'Housekeeping', 'description': 'fresh'}, {'aspect': 'Housekeeping', 'description': 'busy'}, {'aspect': 'Housekeeping', 'description': 'tired'}, {'aspect': 'Housekeeping', 'description': 'own'}, {'aspect': 'Housekeeping', 'description': 'possible'}, {'aspect': 'policy', 'description': 'non'}, {'aspect': 'policy', 'description': '-'}, {'aspect': 'policy', 'description': 'refundable'}, {'aspect': 'policy', 'description': 'willing'}, {'aspect': 'policy', 'description': 'free'}, {'aspect': 'hotel', 'description': 'lovely'}, {'aspect': 'hotel', 'description': 'very good'}, {'aspect': 'rooms', 'description': 'very good'}, {'aspect': 'rooms', 'description': 'clean'}, {'aspect': 'rooms', 'description': 'reasonable'}, {'aspect': 'rooms', 'description': 'comfy'}, {'aspect': 'staff', 'description': 'comfy'}, {'aspect': 'staff', 'description': 'very friendly'}, {'aspect': 'staff', 'description': 'helpful'}, {'aspect': 'staff', 'description': 'Very reasonable'}, {'aspect': 'staff', 'description': 'Amazing'}, {'aspect': 'staff', 'description': 'very friendly'}, {'aspect': 'staff', 'description': 'short'}, {'aspect': 'Prices', 'description': 'short'}, {'aspect': 'Prices', 'description': 'acceptable'}, {'aspect': 'Prices', 'description': 'enough'}, {'aspect': 'hotel', 'description': 'small'}, {'aspect': 'hotel', 'description': 'very helpful'}, {'aspect': 'hotel', 'description': 'very quiet'}, {'aspect': 'hotel', 'description': 'close'}, {'aspect': 'service', 'description': 'outstanding'}, {'aspect': 'size', 'description': 'outstanding'}, {'aspect': 'size', 'description': 'nice'}, {'aspect': 'size', 'description': 'clean'}, {'aspect': 'size', 'description': 'wide'}, {'aspect': 'staff', 'description': 'Amazing'}, {'aspect': 'staff', 'description': 'very kind'}, {'aspect': 'breakfast', 'description': 'very kind'}, {'aspect': 'breakfast', 'description': 'good'}, {'aspect': 'bedroom', 'description': 'good'}, {'aspect': 'bedroom', 'description': 'cozy'}, {'aspect': 'location', 'description': 'cozy'}, {'aspect': 'location', 'description': 'pretty good'}, {'aspect': 'location', 'description': 'very close'}, {'aspect': 'place', 'description': 'very close'}, {'aspect': 'place', 'description': 'little'}, {'aspect': 'place', 'description': 'expensive'}, {'aspect': 'place', 'description': 'very good'}, {'aspect': 'staff', 'description': 'very good'}, {'aspect': 'staff', 'description': 'other'}, {'aspect': 'staff', 'description': 'free'}, {'aspect': 'staff', 'description': 'really nice'}, {'aspect': 'Rooms', 'description': 'other'}, {'aspect': 'Rooms', 'description': 'OK'}, {'aspect': 'Rooms', 'description': 'very basic'}, {'aspect': 'prices', 'description': 'very basic'}, {'aspect': 'prices', 'description': 'cheap'}, {'aspect': 'lockers', 'description': 'better'}, {'aspect': 'lockers', 'description': 'quite small'}, {'aspect': 'lockers', 'description': 'sure'}, {'aspect': 'lockers', 'description': 'own'}, {'aspect': 'lockers', 'description': 'nice'}, {'aspect': 'room', 'description': 'clean'}, {'aspect': 'room', 'description': 'very new'}, {'aspect': 'room', 'description': 'nice'}, {'aspect': 'room', 'description': 'other'}, {'aspect': 'room', 'description': 'free'}, {'aspect': 'room', 'description': 'good'}, {'aspect': 'breakfast', 'description': 'good'}, {'aspect': 'breakfast', 'description': 'modest'}, {'aspect': 'breakfast', 'description': 'satisfied'}, {'aspect': 'location', 'description': 'satisfied'}, {'aspect': 'location', 'description': 'close'}]\n"
     ]
    }
   ],
   "source": [
    "aspects = []\n",
    "for id_, review in data[\"cleaned_review\"].items():\n",
    "    for extracted_aspets in extract_aspects(review):\n",
    "        aspects.append(extracted_aspets)\n",
    "print(aspects)"
   ]
  },
  {
   "cell_type": "code",
   "execution_count": 57,
   "id": "eb075ed3-4158-4f7d-a6f9-d4eabba46208",
   "metadata": {},
   "outputs": [],
   "source": [
    "data[\"aspects\"] = data[\"cleaned_review\"].apply(lambda review : extract_aspects(review))"
   ]
  },
  {
   "cell_type": "code",
   "execution_count": 58,
   "id": "b2854bcb-1d04-43d1-8201-64f369590f62",
   "metadata": {},
   "outputs": [
    {
     "data": {
      "text/html": [
       "<div>\n",
       "<style scoped>\n",
       "    .dataframe tbody tr th:only-of-type {\n",
       "        vertical-align: middle;\n",
       "    }\n",
       "\n",
       "    .dataframe tbody tr th {\n",
       "        vertical-align: top;\n",
       "    }\n",
       "\n",
       "    .dataframe thead th {\n",
       "        text-align: right;\n",
       "    }\n",
       "</style>\n",
       "<table border=\"1\" class=\"dataframe\">\n",
       "  <thead>\n",
       "    <tr style=\"text-align: right;\">\n",
       "      <th></th>\n",
       "      <th>cleaned_review</th>\n",
       "      <th>aspects</th>\n",
       "    </tr>\n",
       "  </thead>\n",
       "  <tbody>\n",
       "    <tr>\n",
       "      <th>0</th>\n",
       "      <td>l have stayed in many hotels. Manager and all ...</td>\n",
       "      <td>[{'aspect': 'l', 'description': 'many'}, {'asp...</td>\n",
       "    </tr>\n",
       "    <tr>\n",
       "      <th>1</th>\n",
       "      <td>We were a family of 4 (2 adults and 2 kids) an...</td>\n",
       "      <td>[{'aspect': 'hotel', 'description': 'new'}, {'...</td>\n",
       "    </tr>\n",
       "    <tr>\n",
       "      <th>2</th>\n",
       "      <td>Good service. Clean. Nice room. The hotel is c...</td>\n",
       "      <td>[{'aspect': 'hotel', 'description': 'Nice'}, {...</td>\n",
       "    </tr>\n",
       "    <tr>\n",
       "      <th>3</th>\n",
       "      <td>Myself &amp; my husband cannot recommend this hote...</td>\n",
       "      <td>[{'aspect': 'Rooms', 'description': 'beautiful...</td>\n",
       "    </tr>\n",
       "    <tr>\n",
       "      <th>4</th>\n",
       "      <td>Great location, being so close to the Louvre a...</td>\n",
       "      <td>[{'aspect': 'hotel', 'description': 'central'}...</td>\n",
       "    </tr>\n",
       "    <tr>\n",
       "      <th>...</th>\n",
       "      <td>...</td>\n",
       "      <td>...</td>\n",
       "    </tr>\n",
       "    <tr>\n",
       "      <th>208</th>\n",
       "      <td>Amazing. The staff Pedro was very kind with us...</td>\n",
       "      <td>[{'aspect': 'staff', 'description': 'Amazing'}...</td>\n",
       "    </tr>\n",
       "    <tr>\n",
       "      <th>209</th>\n",
       "      <td>Barry is the sexiest bartender alive i love th...</td>\n",
       "      <td>[]</td>\n",
       "    </tr>\n",
       "    <tr>\n",
       "      <th>210</th>\n",
       "      <td>Overall a very good hostel experience, staff e...</td>\n",
       "      <td>[{'aspect': 'staff', 'description': 'very good...</td>\n",
       "    </tr>\n",
       "    <tr>\n",
       "      <th>211</th>\n",
       "      <td>This was a pleasant stay. Very economical and ...</td>\n",
       "      <td>[{'aspect': 'lockers', 'description': 'better'...</td>\n",
       "    </tr>\n",
       "    <tr>\n",
       "      <th>212</th>\n",
       "      <td>The room was clean and it seemed to be very ne...</td>\n",
       "      <td>[{'aspect': 'room', 'description': 'clean'}, {...</td>\n",
       "    </tr>\n",
       "  </tbody>\n",
       "</table>\n",
       "<p>213 rows × 2 columns</p>\n",
       "</div>"
      ],
      "text/plain": [
       "                                        cleaned_review  \\\n",
       "0    l have stayed in many hotels. Manager and all ...   \n",
       "1    We were a family of 4 (2 adults and 2 kids) an...   \n",
       "2    Good service. Clean. Nice room. The hotel is c...   \n",
       "3    Myself & my husband cannot recommend this hote...   \n",
       "4    Great location, being so close to the Louvre a...   \n",
       "..                                                 ...   \n",
       "208  Amazing. The staff Pedro was very kind with us...   \n",
       "209  Barry is the sexiest bartender alive i love th...   \n",
       "210  Overall a very good hostel experience, staff e...   \n",
       "211  This was a pleasant stay. Very economical and ...   \n",
       "212  The room was clean and it seemed to be very ne...   \n",
       "\n",
       "                                               aspects  \n",
       "0    [{'aspect': 'l', 'description': 'many'}, {'asp...  \n",
       "1    [{'aspect': 'hotel', 'description': 'new'}, {'...  \n",
       "2    [{'aspect': 'hotel', 'description': 'Nice'}, {...  \n",
       "3    [{'aspect': 'Rooms', 'description': 'beautiful...  \n",
       "4    [{'aspect': 'hotel', 'description': 'central'}...  \n",
       "..                                                 ...  \n",
       "208  [{'aspect': 'staff', 'description': 'Amazing'}...  \n",
       "209                                                 []  \n",
       "210  [{'aspect': 'staff', 'description': 'very good...  \n",
       "211  [{'aspect': 'lockers', 'description': 'better'...  \n",
       "212  [{'aspect': 'room', 'description': 'clean'}, {...  \n",
       "\n",
       "[213 rows x 2 columns]"
      ]
     },
     "execution_count": 58,
     "metadata": {},
     "output_type": "execute_result"
    }
   ],
   "source": [
    "data[[\"cleaned_review\", \"aspects\"]]"
   ]
  },
  {
   "cell_type": "code",
   "execution_count": 65,
   "id": "54941896-7fba-4935-8bf6-ed6218b6883d",
   "metadata": {},
   "outputs": [
    {
     "data": {
      "text/plain": [
       "'We were a family of 4 (2 adults and 2 kids) and really enjoyed our time there! The hotel is brand new, decorated very nicely and with quality products (the amenities in the bathroom were L’octane). The staff is very professional, extremely nice and careful. Cleaners were very efficient (and not the noisy staff we sometimes find in hotels and during the 10 days we stayed there both rooms were perfectly looked after. I must add the coffee and hot chocolate machine available all day! My kids loved it! I really thank the staff for making our xmas holidays an enjoyable family time.'"
      ]
     },
     "execution_count": 65,
     "metadata": {},
     "output_type": "execute_result"
    }
   ],
   "source": [
    "data[\"cleaned_review\"][1]"
   ]
  },
  {
   "cell_type": "code",
   "execution_count": 59,
   "id": "3c121451-4f42-4001-b140-6e9371784813",
   "metadata": {},
   "outputs": [
    {
     "data": {
      "text/plain": [
       "[{'aspect': 'hotel', 'description': 'new'},\n",
       " {'aspect': 'amenities', 'description': 'new'},\n",
       " {'aspect': 'staff', 'description': 'new'},\n",
       " {'aspect': 'staff', 'description': 'very professional'},\n",
       " {'aspect': 'staff', 'description': 'extremely nice'},\n",
       " {'aspect': 'staff', 'description': 'careful'},\n",
       " {'aspect': 'Cleaners', 'description': 'careful'},\n",
       " {'aspect': 'Cleaners', 'description': 'very efficient'},\n",
       " {'aspect': 'Cleaners', 'description': 'noisy'},\n",
       " {'aspect': 'Cleaners', 'description': 'hot'},\n",
       " {'aspect': 'Cleaners', 'description': 'available'},\n",
       " {'aspect': 'kids', 'description': 'available'},\n",
       " {'aspect': 'holidays', 'description': 'available'},\n",
       " {'aspect': 'holidays', 'description': 'enjoyable'}]"
      ]
     },
     "execution_count": 59,
     "metadata": {},
     "output_type": "execute_result"
    }
   ],
   "source": [
    "data[\"aspects\"][1]"
   ]
  },
  {
   "cell_type": "code",
   "execution_count": 30,
   "id": "1e67d86b-4249-4f28-9fc1-5f63467a6ef2",
   "metadata": {},
   "outputs": [],
   "source": [
    "doc = nlp(\"We were a family of 4 (2 adults and 2 kids) and really enjoyed our time there! The hotel is brand new, decorated very nicely and with quality products (the amenities in the bathroom were L’octane). The staff is very professional, extremely nice and careful. Cleaners were very efficient (and not the noisy staff we sometimes find in hotels and during the 10 days we stayed there both rooms were perfectly looked after. I must add the coffee and hot chocolate machine available all day! My kids loved it! I really thank the staff for making our xmas holidays an enjoyable family time.\")"
   ]
  },
  {
   "cell_type": "code",
   "execution_count": 71,
   "id": "0f8f2a45-2ff5-4bd6-8aaa-35d0dcfaaf3d",
   "metadata": {},
   "outputs": [],
   "source": [
    "from spacy import displacy"
   ]
  },
  {
   "cell_type": "code",
   "execution_count": 73,
   "id": "c003283a-e74a-4cc2-9b64-7065316064ae",
   "metadata": {},
   "outputs": [
    {
     "data": {
      "text/plain": [
       "The hotel is brand new, decorated very nicely and with quality products (the amenities in the bathroom were L’octane)."
      ]
     },
     "execution_count": 73,
     "metadata": {},
     "output_type": "execute_result"
    }
   ],
   "source": [
    "list(doc.sents)[1]"
   ]
  }
 ],
 "metadata": {
  "kernelspec": {
   "display_name": "Python 3 (ipykernel)",
   "language": "python",
   "name": "python3"
  },
  "language_info": {
   "codemirror_mode": {
    "name": "ipython",
    "version": 3
   },
   "file_extension": ".py",
   "mimetype": "text/x-python",
   "name": "python",
   "nbconvert_exporter": "python",
   "pygments_lexer": "ipython3",
   "version": "3.8.8"
  }
 },
 "nbformat": 4,
 "nbformat_minor": 5
}
