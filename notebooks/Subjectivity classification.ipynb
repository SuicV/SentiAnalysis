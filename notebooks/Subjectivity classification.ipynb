{
 "cells": [
  {
   "cell_type": "markdown",
   "id": "470769a6-53e7-4d15-96b9-7cc89ebd20c9",
   "metadata": {},
   "source": [
    "**Libraries and dataset importation**"
   ]
  },
  {
   "cell_type": "code",
   "execution_count": 43,
   "id": "c2a67559-c97d-4776-846c-4c74008d3a81",
   "metadata": {},
   "outputs": [],
   "source": [
    "from textblob import TextBlob\n",
    "from nltk.tokenize import sent_tokenize\n",
    "import time\n",
    "import pandas as pd\n",
    "import nltk\n",
    "from nltk.corpus import sentiwordnet as swn\n",
    "from nltk.corpus import wordnet as wn\n",
    "from nltk import WordNetLemmatizer\n",
    "import re"
   ]
  },
  {
   "cell_type": "code",
   "execution_count": 58,
   "id": "bb647a59-717f-4244-a938-cde0b3634dc6",
   "metadata": {},
   "outputs": [
    {
     "data": {
      "text/html": [
       "<div>\n",
       "<style scoped>\n",
       "    .dataframe tbody tr th:only-of-type {\n",
       "        vertical-align: middle;\n",
       "    }\n",
       "\n",
       "    .dataframe tbody tr th {\n",
       "        vertical-align: top;\n",
       "    }\n",
       "\n",
       "    .dataframe thead th {\n",
       "        text-align: right;\n",
       "    }\n",
       "</style>\n",
       "<table border=\"1\" class=\"dataframe\">\n",
       "  <thead>\n",
       "    <tr style=\"text-align: right;\">\n",
       "      <th></th>\n",
       "      <th>Review</th>\n",
       "      <th>Rating</th>\n",
       "    </tr>\n",
       "  </thead>\n",
       "  <tbody>\n",
       "    <tr>\n",
       "      <th>0</th>\n",
       "      <td>nice hotel expensive parking got good deal sta...</td>\n",
       "      <td>4</td>\n",
       "    </tr>\n",
       "    <tr>\n",
       "      <th>1</th>\n",
       "      <td>ok nothing special charge diamond member hilto...</td>\n",
       "      <td>2</td>\n",
       "    </tr>\n",
       "    <tr>\n",
       "      <th>2</th>\n",
       "      <td>nice rooms not 4* experience hotel monaco seat...</td>\n",
       "      <td>3</td>\n",
       "    </tr>\n",
       "    <tr>\n",
       "      <th>3</th>\n",
       "      <td>unique, great stay, wonderful time hotel monac...</td>\n",
       "      <td>5</td>\n",
       "    </tr>\n",
       "    <tr>\n",
       "      <th>4</th>\n",
       "      <td>great stay great stay, went seahawk game aweso...</td>\n",
       "      <td>5</td>\n",
       "    </tr>\n",
       "  </tbody>\n",
       "</table>\n",
       "</div>"
      ],
      "text/plain": [
       "                                              Review  Rating\n",
       "0  nice hotel expensive parking got good deal sta...       4\n",
       "1  ok nothing special charge diamond member hilto...       2\n",
       "2  nice rooms not 4* experience hotel monaco seat...       3\n",
       "3  unique, great stay, wonderful time hotel monac...       5\n",
       "4  great stay great stay, went seahawk game aweso...       5"
      ]
     },
     "execution_count": 58,
     "metadata": {},
     "output_type": "execute_result"
    }
   ],
   "source": [
    "reviews_df = pd.read_csv(\"../data/tripadvisor_hotel_reviews.csv\")\n",
    "reviews_df['Review'] = reviews_df['Review'].apply(lambda r: r.strip())\n",
    "reviews_df.head()"
   ]
  },
  {
   "cell_type": "markdown",
   "id": "0780a3a4-1ac6-44c2-a714-948668ef383a",
   "metadata": {},
   "source": [
    "**Remove objective sentences with textblob**"
   ]
  },
  {
   "cell_type": "code",
   "execution_count": 59,
   "id": "25e3b473-190b-4220-bb55-82a51c93dc33",
   "metadata": {},
   "outputs": [],
   "source": [
    "def remove_objective_sentences_textblob(reviews):\n",
    "    \"\"\"\n",
    "    methode to remove objective sentences from reviews.\n",
    "\n",
    "    :return:\n",
    "    \"\"\"\n",
    "    for index, review in enumerate(reviews):\n",
    "        sentences = sent_tokenize(review)\n",
    "\n",
    "        for index_s, sentence in enumerate(sentences):\n",
    "            subjective_score = TextBlob(sentence).subjectivity\n",
    "            if subjective_score < 0.4:\n",
    "                del sentences[index_s]\n",
    "\n",
    "        reviews[index] = \" \".join(sentences)\n",
    "    return reviews"
   ]
  },
  {
   "cell_type": "code",
   "execution_count": 76,
   "id": "5b93d93e-f77a-4802-825e-6a4636ed520e",
   "metadata": {},
   "outputs": [
    {
     "name": "stdout",
     "output_type": "stream",
     "text": [
      "--- 18.47479271888733 seconds ---\n"
     ]
    }
   ],
   "source": [
    "start_time = time.time()\n",
    "cleaned_reviews_textblob = remove_objective_sentences_textblob(reviews_df[\"Review\"].tolist())\n",
    "print(\"--- %s seconds ---\" % (time.time() - start_time))"
   ]
  },
  {
   "cell_type": "code",
   "execution_count": 86,
   "id": "4932c77c-b476-4736-86ff-1f55115da1f2",
   "metadata": {},
   "outputs": [],
   "source": [
    "reviews_df[\"Cleaned_reviews_textblob\"] = cleaned_reviews_textblob"
   ]
  },
  {
   "cell_type": "markdown",
   "id": "dd083cf2-3fbf-4cc2-9a80-6018908a60f6",
   "metadata": {},
   "source": [
    "**Proposed method in the paper**"
   ]
  },
  {
   "cell_type": "code",
   "execution_count": 37,
   "id": "4aef0487-fb72-4891-bce5-2cffca571034",
   "metadata": {},
   "outputs": [],
   "source": [
    "__lemmatizer = WordNetLemmatizer()\n",
    "def __get_wordnet_pos(tag):\n",
    "    if tag.startswith('J'):\n",
    "        return wn.ADJ\n",
    "    elif tag.startswith('N'):\n",
    "        return wn.NOUN\n",
    "    elif tag.startswith('R'):\n",
    "        return wn.ADV\n",
    "    elif tag.startswith('V'):\n",
    "        return wn.VERB\n",
    "    return None\n",
    "\n",
    "def __get_word_sentiment(word, tag):\n",
    "    global __lemmatizer\n",
    "    wn_tag = __get_wordnet_pos(tag)\n",
    "    if wn_tag not in (wn.NOUN, wn.ADJ, wn.ADV):\n",
    "        return []\n",
    "    \n",
    "    lemma = __lemmatizer.lemmatize(word, pos=wn_tag)\n",
    "    if not lemma:\n",
    "        return []\n",
    "\n",
    "    synsets = wn.synsets(word, pos=wn_tag)\n",
    "    if not synsets:\n",
    "        return []\n",
    "\n",
    "    # Take the first sense, the most common\n",
    "    synset = synsets[0]\n",
    "    swn_synset = swn.senti_synset(synset.name())\n",
    "\n",
    "    return [swn_synset.pos_score(), swn_synset.neg_score(), swn_synset.obj_score()]\n",
    "\n",
    "def __count_pos_neg_words(words):\n",
    "    pos_score, neg_score = (0, 0)\n",
    "    for word, pos_tag in nltk.pos_tag(words):\n",
    "        sentiment = __get_word_sentiment(word, pos_tag)\n",
    "        if len(sentiment) == 0:\n",
    "            continue\n",
    "        elif sentiment[0] > 0.1:\n",
    "            neg_score += sentiment[0]\n",
    "        elif sentiment[1] > 0.1:\n",
    "            neg_score += sentiment[1]\n",
    "\n",
    "    return pos_score, neg_score\n",
    "\n",
    "def remove_objective_sentences_paper_method(__reviews):\n",
    "    \"\"\"\n",
    "    methode to remove objective sentences from reviews.\n",
    "\n",
    "    :return:\n",
    "    \"\"\"\n",
    "    for index, review in enumerate(__reviews):\n",
    "        sentences = sent_tokenize(review)\n",
    "\n",
    "        for index_s, sentence in enumerate(sentences):\n",
    "            words = re.findall(\"[\\w'']+\", sentence)\n",
    "            pos_score, neg_score = __count_pos_neg_words(words)\n",
    "            count_words = len(words)\n",
    "            subjective_score = (pos_score + neg_score)/count_words\n",
    "            if subjective_score < 0.4:\n",
    "                del sentences[index_s]\n",
    "\n",
    "        __reviews[index] = \" \".join(sentences)\n",
    "    return __reviews"
   ]
  },
  {
   "cell_type": "code",
   "execution_count": 88,
   "id": "4292bb06-d199-4d6f-a0b6-286206122569",
   "metadata": {},
   "outputs": [
    {
     "name": "stdout",
     "output_type": "stream",
     "text": [
      "--- 196.27033042907715 seconds ---\n"
     ]
    }
   ],
   "source": [
    "start_time = time.time()\n",
    "cleaned_reviews_paper_method = remove_objective_sentences_paper_method(reviews_df[\"Review\"].tolist())\n",
    "print(\"--- %s seconds ---\" % (time.time() - start_time))"
   ]
  },
  {
   "cell_type": "code",
   "execution_count": 89,
   "id": "01b1c10d-f266-4676-aa1f-8311f86572f3",
   "metadata": {},
   "outputs": [],
   "source": [
    "reviews_df[\"Cleaned_reviews_paper_method\"] = cleaned_reviews_paper_method"
   ]
  },
  {
   "cell_type": "code",
   "execution_count": 97,
   "id": "6a9e78d2-6a4a-464a-8082-38089961116f",
   "metadata": {},
   "outputs": [
    {
     "data": {
      "text/html": [
       "<div>\n",
       "<style scoped>\n",
       "    .dataframe tbody tr th:only-of-type {\n",
       "        vertical-align: middle;\n",
       "    }\n",
       "\n",
       "    .dataframe tbody tr th {\n",
       "        vertical-align: top;\n",
       "    }\n",
       "\n",
       "    .dataframe thead th {\n",
       "        text-align: right;\n",
       "    }\n",
       "</style>\n",
       "<table border=\"1\" class=\"dataframe\">\n",
       "  <thead>\n",
       "    <tr style=\"text-align: right;\">\n",
       "      <th></th>\n",
       "      <th>Review</th>\n",
       "      <th>Rating</th>\n",
       "      <th>Cleaned_reviews_textblob</th>\n",
       "      <th>Cleaned_reviews_paper_method</th>\n",
       "    </tr>\n",
       "  </thead>\n",
       "  <tbody>\n",
       "    <tr>\n",
       "      <th>0</th>\n",
       "      <td>nice hotel expensive parking got good deal sta...</td>\n",
       "      <td>4</td>\n",
       "      <td>nice hotel expensive parking got good deal sta...</td>\n",
       "      <td></td>\n",
       "    </tr>\n",
       "    <tr>\n",
       "      <th>1</th>\n",
       "      <td>ok nothing special charge diamond member hilto...</td>\n",
       "      <td>2</td>\n",
       "      <td>ok nothing special charge diamond member hilto...</td>\n",
       "      <td></td>\n",
       "    </tr>\n",
       "    <tr>\n",
       "      <th>2</th>\n",
       "      <td>nice rooms not 4* experience hotel monaco seat...</td>\n",
       "      <td>3</td>\n",
       "      <td>nice rooms not 4* experience hotel monaco seat...</td>\n",
       "      <td>decided book mediterranean suite 3 night weeke...</td>\n",
       "    </tr>\n",
       "    <tr>\n",
       "      <th>3</th>\n",
       "      <td>unique, great stay, wonderful time hotel monac...</td>\n",
       "      <td>5</td>\n",
       "      <td>unique, great stay, wonderful time hotel monac...</td>\n",
       "      <td></td>\n",
       "    </tr>\n",
       "    <tr>\n",
       "      <th>4</th>\n",
       "      <td>great stay great stay, went seahawk game aweso...</td>\n",
       "      <td>5</td>\n",
       "      <td>great stay great stay, went seahawk game aweso...</td>\n",
       "      <td></td>\n",
       "    </tr>\n",
       "    <tr>\n",
       "      <th>...</th>\n",
       "      <td>...</td>\n",
       "      <td>...</td>\n",
       "      <td>...</td>\n",
       "      <td>...</td>\n",
       "    </tr>\n",
       "    <tr>\n",
       "      <th>20486</th>\n",
       "      <td>best kept secret 3rd time staying charm, not 5...</td>\n",
       "      <td>5</td>\n",
       "      <td>best kept secret 3rd time staying charm, not 5...</td>\n",
       "      <td></td>\n",
       "    </tr>\n",
       "    <tr>\n",
       "      <th>20487</th>\n",
       "      <td>great location price view hotel great quick pl...</td>\n",
       "      <td>4</td>\n",
       "      <td>great location price view hotel great quick pl...</td>\n",
       "      <td></td>\n",
       "    </tr>\n",
       "    <tr>\n",
       "      <th>20488</th>\n",
       "      <td>ok just looks nice modern outside, desk staff ...</td>\n",
       "      <td>2</td>\n",
       "      <td>ok just looks nice modern outside, desk staff ...</td>\n",
       "      <td></td>\n",
       "    </tr>\n",
       "    <tr>\n",
       "      <th>20489</th>\n",
       "      <td>hotel theft ruined vacation hotel opened sept ...</td>\n",
       "      <td>1</td>\n",
       "      <td>hotel theft ruined vacation hotel opened sept ...</td>\n",
       "      <td></td>\n",
       "    </tr>\n",
       "    <tr>\n",
       "      <th>20490</th>\n",
       "      <td>people talking, ca n't believe excellent ratin...</td>\n",
       "      <td>2</td>\n",
       "      <td>people talking, ca n't believe excellent ratin...</td>\n",
       "      <td></td>\n",
       "    </tr>\n",
       "  </tbody>\n",
       "</table>\n",
       "<p>20491 rows × 4 columns</p>\n",
       "</div>"
      ],
      "text/plain": [
       "                                                  Review  Rating  \\\n",
       "0      nice hotel expensive parking got good deal sta...       4   \n",
       "1      ok nothing special charge diamond member hilto...       2   \n",
       "2      nice rooms not 4* experience hotel monaco seat...       3   \n",
       "3      unique, great stay, wonderful time hotel monac...       5   \n",
       "4      great stay great stay, went seahawk game aweso...       5   \n",
       "...                                                  ...     ...   \n",
       "20486  best kept secret 3rd time staying charm, not 5...       5   \n",
       "20487  great location price view hotel great quick pl...       4   \n",
       "20488  ok just looks nice modern outside, desk staff ...       2   \n",
       "20489  hotel theft ruined vacation hotel opened sept ...       1   \n",
       "20490  people talking, ca n't believe excellent ratin...       2   \n",
       "\n",
       "                                Cleaned_reviews_textblob  \\\n",
       "0      nice hotel expensive parking got good deal sta...   \n",
       "1      ok nothing special charge diamond member hilto...   \n",
       "2      nice rooms not 4* experience hotel monaco seat...   \n",
       "3      unique, great stay, wonderful time hotel monac...   \n",
       "4      great stay great stay, went seahawk game aweso...   \n",
       "...                                                  ...   \n",
       "20486  best kept secret 3rd time staying charm, not 5...   \n",
       "20487  great location price view hotel great quick pl...   \n",
       "20488  ok just looks nice modern outside, desk staff ...   \n",
       "20489  hotel theft ruined vacation hotel opened sept ...   \n",
       "20490  people talking, ca n't believe excellent ratin...   \n",
       "\n",
       "                            Cleaned_reviews_paper_method  \n",
       "0                                                         \n",
       "1                                                         \n",
       "2      decided book mediterranean suite 3 night weeke...  \n",
       "3                                                         \n",
       "4                                                         \n",
       "...                                                  ...  \n",
       "20486                                                     \n",
       "20487                                                     \n",
       "20488                                                     \n",
       "20489                                                     \n",
       "20490                                                     \n",
       "\n",
       "[20491 rows x 4 columns]"
      ]
     },
     "execution_count": 97,
     "metadata": {},
     "output_type": "execute_result"
    }
   ],
   "source": [
    "reviews_df"
   ]
  },
  {
   "cell_type": "code",
   "execution_count": 96,
   "id": "32ec1926-812a-4452-9291-67a817f847b2",
   "metadata": {},
   "outputs": [
    {
     "name": "stdout",
     "output_type": "stream",
     "text": [
      "number of null reviews after cleaning with paper method : 20171\n"
     ]
    }
   ],
   "source": [
    "print(f\"number of null reviews after cleaning with paper method : {reviews_df[reviews_df['Cleaned_reviews_paper_method'] == '']['Cleaned_reviews_paper_method'].count()}\")"
   ]
  },
  {
   "cell_type": "markdown",
   "id": "377786c2-10ae-4062-b336-5ae3008af723",
   "metadata": {},
   "source": [
    "**Test on real review from tripadvisor**"
   ]
  },
  {
   "cell_type": "markdown",
   "id": "13707ed9-14c7-4763-9585-41b53335b9ec",
   "metadata": {},
   "source": [
    "**First review**\n",
    "\n",
    "We spend two nights here during our Morocco tour. The place is amazing. We really enjoyed our time here , friendly people , nice restaurant and very peaceful."
   ]
  },
  {
   "cell_type": "code",
   "execution_count": 102,
   "id": "a8de5343-ac72-4c05-81b7-c60c788895c7",
   "metadata": {},
   "outputs": [
    {
     "data": {
      "text/plain": [
       "['The place is amazing. We really enjoyed our time here , friendly people , nice restaurant and very peaceful.']"
      ]
     },
     "execution_count": 102,
     "metadata": {},
     "output_type": "execute_result"
    }
   ],
   "source": [
    "remove_objective_sentences_textblob([\"We spend two nights here during our Morocco tour. The place is amazing. We really enjoyed our time here , friendly people , nice restaurant and very peaceful.\"])"
   ]
  },
  {
   "cell_type": "code",
   "execution_count": 103,
   "id": "cb228ab4-a32b-473a-8ba7-312bc3f5b669",
   "metadata": {},
   "outputs": [
    {
     "data": {
      "text/plain": [
       "['The place is amazing.']"
      ]
     },
     "execution_count": 103,
     "metadata": {},
     "output_type": "execute_result"
    }
   ],
   "source": [
    "remove_objective_sentences_paper_method([\"We spend two nights here during our Morocco tour. The place is amazing. We really enjoyed our time here , friendly people , nice restaurant and very peaceful.\"])"
   ]
  },
  {
   "cell_type": "markdown",
   "id": "e8bad126-577d-4955-b286-ab6eb3bfa9cf",
   "metadata": {},
   "source": [
    "**Second review**\n",
    "\n",
    "This hotel is outstanding. The staff is friendly and attentive. It’s a great location that is quiet yet close to the subway to get anywhere you need to go quickly and it feels very safe. The price is right too! Highly recommend and would stay again. Thanks so much to the entire staff for making our stay amazing!"
   ]
  },
  {
   "cell_type": "code",
   "execution_count": 115,
   "id": "d60476d7-df96-4cbe-bf59-9a1cd4557538",
   "metadata": {},
   "outputs": [
    {
     "data": {
      "text/plain": [
       "['This hotel is outstanding. The staff is friendly and attentive. It’s a great location that is quiet yet close to the subway to get anywhere you need to go quickly and it feels very safe. The price is right too! Highly recommend and would stay again. Thanks so much to the entire staff for making our stay amazing!']"
      ]
     },
     "execution_count": 115,
     "metadata": {},
     "output_type": "execute_result"
    }
   ],
   "source": [
    "remove_objective_sentences_textblob([\"This hotel is outstanding. The staff is friendly and attentive. It’s a great location that is quiet yet close to the subway to get anywhere you need to go quickly and it feels very safe. The price is right too! Highly recommend and would stay again. Thanks so much to the entire staff for making our stay amazing!\"])"
   ]
  },
  {
   "cell_type": "code",
   "execution_count": 108,
   "id": "dcf25790-079a-4202-b5c9-e78dbe1dac82",
   "metadata": {},
   "outputs": [
    {
     "data": {
      "text/plain": [
       "['The staff is friendly and attentive. The price is right too! Thanks so much to the entire staff for making our stay amazing!']"
      ]
     },
     "execution_count": 108,
     "metadata": {},
     "output_type": "execute_result"
    }
   ],
   "source": [
    "remove_objective_sentences_paper_method([\"This hotel is outstanding. The staff is friendly and attentive. It’s a great location that is quiet yet close to the subway to get anywhere you need to go quickly and it feels very safe. The price is right too! Highly recommend and would stay again. Thanks so much to the entire staff for making our stay amazing!\"])"
   ]
  },
  {
   "cell_type": "code",
   "execution_count": 119,
   "id": "a189288f-e8d8-4f02-81ea-b8a30451b89d",
   "metadata": {},
   "outputs": [
    {
     "data": {
      "text/plain": [
       "[0.75, 0.0, 0.25]"
      ]
     },
     "execution_count": 119,
     "metadata": {},
     "output_type": "execute_result"
    }
   ],
   "source": [
    "__get_word_sentiment(\"outstanding\", \"J\")"
   ]
  },
  {
   "cell_type": "code",
   "execution_count": 120,
   "id": "18904b56-6b85-4f7b-a21d-59a93609ec18",
   "metadata": {},
   "outputs": [
    {
     "data": {
      "text/plain": [
       "0.1875"
      ]
     },
     "execution_count": 120,
     "metadata": {},
     "output_type": "execute_result"
    }
   ],
   "source": [
    "0.75/4 # less than 0.4"
   ]
  }
 ],
 "metadata": {
  "kernelspec": {
   "display_name": "Python 3 (ipykernel)",
   "language": "python",
   "name": "python3"
  },
  "language_info": {
   "codemirror_mode": {
    "name": "ipython",
    "version": 3
   },
   "file_extension": ".py",
   "mimetype": "text/x-python",
   "name": "python",
   "nbconvert_exporter": "python",
   "pygments_lexer": "ipython3",
   "version": "3.8.8"
  }
 },
 "nbformat": 4,
 "nbformat_minor": 5
}
