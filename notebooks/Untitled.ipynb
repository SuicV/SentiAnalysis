{
 "cells": [
  {
   "cell_type": "code",
   "execution_count": 1,
   "id": "6c84c212-e213-497d-bfe9-104dd5ff8c54",
   "metadata": {},
   "outputs": [],
   "source": [
    "%load_ext autoreload\n",
    "%autoreload 2"
   ]
  },
  {
   "cell_type": "code",
   "execution_count": 2,
   "id": "657a5481-84c2-4be2-ab89-bcbe65b3613e",
   "metadata": {},
   "outputs": [],
   "source": [
    "#ignore pandas warning\n",
    "import warnings\n",
    "warnings.simplefilter(action='ignore', category=FutureWarning)"
   ]
  },
  {
   "cell_type": "code",
   "execution_count": 4,
   "id": "cba46945-a618-4605-8879-351c62c25b32",
   "metadata": {},
   "outputs": [],
   "source": [
    "import os\n",
    "os.chdir(\"..\")"
   ]
  },
  {
   "cell_type": "code",
   "execution_count": 5,
   "id": "08742e92-683c-4fab-89b9-04821ee5706e",
   "metadata": {},
   "outputs": [],
   "source": [
    "import pandas as pd\n",
    "from Aspects.ExplicitAspectExtractor import ExplicitAspectExtractor\n",
    "from Preprocessors.ReviewPreprocessor import ReviewPreprocessor\n",
    "from Aspects.ImplicitAspectExtractor import ImplicitAspectExtractor\n",
    "from Aspects.CoRefAspectIdentGrouping import CoRefAspectIdentGrouping\n",
    "import spacy\n",
    "nlp = spacy.load(\"en_core_web_sm\")"
   ]
  },
  {
   "cell_type": "code",
   "execution_count": 17,
   "id": "c6735f14-0321-476a-acd6-3a7eeca1af9a",
   "metadata": {},
   "outputs": [
    {
     "data": {
      "text/html": [
       "<div>\n",
       "<style scoped>\n",
       "    .dataframe tbody tr th:only-of-type {\n",
       "        vertical-align: middle;\n",
       "    }\n",
       "\n",
       "    .dataframe tbody tr th {\n",
       "        vertical-align: top;\n",
       "    }\n",
       "\n",
       "    .dataframe thead th {\n",
       "        text-align: right;\n",
       "    }\n",
       "</style>\n",
       "<table border=\"1\" class=\"dataframe\">\n",
       "  <thead>\n",
       "    <tr style=\"text-align: right;\">\n",
       "      <th></th>\n",
       "      <th>hotel_url</th>\n",
       "      <th>author</th>\n",
       "      <th>date</th>\n",
       "      <th>rating</th>\n",
       "      <th>title</th>\n",
       "      <th>review</th>\n",
       "    </tr>\n",
       "  </thead>\n",
       "  <tbody>\n",
       "    <tr>\n",
       "      <th>0</th>\n",
       "      <td>Hotel_Review-g194775-d1121769-Reviews-Hotel_Ba...</td>\n",
       "      <td>Lagaiuzza</td>\n",
       "      <td>2016-01-01T00:00:00</td>\n",
       "      <td>5.0</td>\n",
       "      <td>Baltic, what else?</td>\n",
       "      <td>We have spent in this hotel our summer holiday...</td>\n",
       "    </tr>\n",
       "    <tr>\n",
       "      <th>1</th>\n",
       "      <td>Hotel_Review-g194775-d1121769-Reviews-Hotel_Ba...</td>\n",
       "      <td>ashleyn763</td>\n",
       "      <td>2014-10-01T00:00:00</td>\n",
       "      <td>5.0</td>\n",
       "      <td>Excellent in every way!</td>\n",
       "      <td>I visited Hotel Baltic with my husband for som...</td>\n",
       "    </tr>\n",
       "    <tr>\n",
       "      <th>2</th>\n",
       "      <td>Hotel_Review-g194775-d1121769-Reviews-Hotel_Ba...</td>\n",
       "      <td>DavideMauro</td>\n",
       "      <td>2014-08-01T00:00:00</td>\n",
       "      <td>5.0</td>\n",
       "      <td>The house of your family's holiday</td>\n",
       "      <td>I've travelled quite a numbers of hotels but t...</td>\n",
       "    </tr>\n",
       "    <tr>\n",
       "      <th>3</th>\n",
       "      <td>Hotel_Review-g303503-d1735469-Reviews-Pousada_...</td>\n",
       "      <td>TwoMonkeysTravel</td>\n",
       "      <td>2017-03-01T00:00:00</td>\n",
       "      <td>5.0</td>\n",
       "      <td>Natural Luxury</td>\n",
       "      <td>The property is surrounded by trees, which are...</td>\n",
       "    </tr>\n",
       "    <tr>\n",
       "      <th>4</th>\n",
       "      <td>Hotel_Review-g303503-d1735469-Reviews-Pousada_...</td>\n",
       "      <td>analuizade</td>\n",
       "      <td>2016-09-01T00:00:00</td>\n",
       "      <td>5.0</td>\n",
       "      <td>Very cozy!</td>\n",
       "      <td>I had a very pleasant stay at this hotel! All ...</td>\n",
       "    </tr>\n",
       "  </tbody>\n",
       "</table>\n",
       "</div>"
      ],
      "text/plain": [
       "                                           hotel_url            author  \\\n",
       "0  Hotel_Review-g194775-d1121769-Reviews-Hotel_Ba...         Lagaiuzza   \n",
       "1  Hotel_Review-g194775-d1121769-Reviews-Hotel_Ba...        ashleyn763   \n",
       "2  Hotel_Review-g194775-d1121769-Reviews-Hotel_Ba...       DavideMauro   \n",
       "3  Hotel_Review-g303503-d1735469-Reviews-Pousada_...  TwoMonkeysTravel   \n",
       "4  Hotel_Review-g303503-d1735469-Reviews-Pousada_...        analuizade   \n",
       "\n",
       "                  date  rating                               title  \\\n",
       "0  2016-01-01T00:00:00     5.0                  Baltic, what else?   \n",
       "1  2014-10-01T00:00:00     5.0             Excellent in every way!   \n",
       "2  2014-08-01T00:00:00     5.0  The house of your family's holiday   \n",
       "3  2017-03-01T00:00:00     5.0                      Natural Luxury   \n",
       "4  2016-09-01T00:00:00     5.0                          Very cozy!   \n",
       "\n",
       "                                              review  \n",
       "0  We have spent in this hotel our summer holiday...  \n",
       "1  I visited Hotel Baltic with my husband for som...  \n",
       "2  I've travelled quite a numbers of hotels but t...  \n",
       "3  The property is surrounded by trees, which are...  \n",
       "4  I had a very pleasant stay at this hotel! All ...  "
      ]
     },
     "execution_count": 17,
     "metadata": {},
     "output_type": "execute_result"
    }
   ],
   "source": [
    "data = pd.read_csv(\"data/trip_advisor_data_chunk_10000k.csv\", encoding=\"utf-16\")\n",
    "data.head()"
   ]
  },
  {
   "cell_type": "code",
   "execution_count": 18,
   "id": "c4a85d19-2861-4889-8ee8-cf2d6b9674ea",
   "metadata": {},
   "outputs": [
    {
     "name": "stderr",
     "output_type": "stream",
     "text": [
      "3000it [01:40, 29.80it/s]\n"
     ]
    }
   ],
   "source": [
    "preprocessor = ReviewPreprocessor(data[\"review\"], nlp, [\"rif\", \"riad\", \"dar\"])\n",
    "data['cleaned_review'] = preprocessor.remove_tags()\n",
    "data[\"cleaned_review\"] = preprocessor.lowercase_transformation()\n",
    "data['cleaned_review'] = preprocessor.remove_objective_sentences()"
   ]
  },
  {
   "cell_type": "code",
   "execution_count": 19,
   "id": "bcf04ebf-8829-4347-8c5f-fceed326ed25",
   "metadata": {},
   "outputs": [],
   "source": [
    "explicit_aspects_extractor = ExplicitAspectExtractor(data[\"cleaned_review\"], nlp)\n",
    "explicit_aspects = explicit_aspects_extractor.start(threshold=50)"
   ]
  },
  {
   "cell_type": "code",
   "execution_count": null,
   "id": "7a8862bf-e753-4388-8062-5ca3abb2a9ef",
   "metadata": {},
   "outputs": [],
   "source": [
    "co_ref_id_grop = CoRefAspectIdentGrouping(data, dict(explicit_aspects), nlp)"
   ]
  },
  {
   "cell_type": "markdown",
   "id": "4a37ede6-3f6d-487b-9869-2c116cb0cc8c",
   "metadata": {},
   "source": [
    "### Ancien modèle."
   ]
  },
  {
   "cell_type": "markdown",
   "id": "69a9a6cb-969b-411f-9d59-774a6292e8b4",
   "metadata": {},
   "source": [
    "l'ancien modèle est entraîné sur 19'472 phrases."
   ]
  },
  {
   "cell_type": "code",
   "execution_count": 35,
   "id": "b36e4600-68fb-4552-969f-c986bd3e5afc",
   "metadata": {},
   "outputs": [
    {
     "data": {
      "text/plain": [
       "{'night': ['night'],\n",
       " 'door': ['door'],\n",
       " 'restaurant': ['restaurant'],\n",
       " 'room': ['bathroom', 'water', 'bed', 'shower', 'room'],\n",
       " 'location': ['city', 'location'],\n",
       " 'pool': ['pool'],\n",
       " 'bit': ['bit'],\n",
       " 'parking': ['parking'],\n",
       " 'hotel': ['riad', 'hotel', 'place', 'resort'],\n",
       " 'breakfast': ['choice',\n",
       "  'dinner',\n",
       "  'meal',\n",
       "  'breakfast',\n",
       "  'morning',\n",
       "  'food',\n",
       "  'evening',\n",
       "  'coffee',\n",
       "  'drink'],\n",
       " 'year': ['year'],\n",
       " 'way': ['way'],\n",
       " 'experience': ['experience', 'family', 'kid'],\n",
       " 'thing': ['thing'],\n",
       " 'floor': ['floor'],\n",
       " 'stay': ['stay'],\n",
       " 'time': ['day', 'time'],\n",
       " 'minute': ['minute'],\n",
       " 'price': ['price'],\n",
       " 'bar': ['bar'],\n",
       " 'lot': ['lot'],\n",
       " 'beach': ['beach'],\n",
       " 'desk': ['reception', 'desk'],\n",
       " 'trip': ['trip'],\n",
       " 'view': ['view'],\n",
       " 'staff': ['staff'],\n",
       " 'people': ['guest', 'people'],\n",
       " 'area': ['area'],\n",
       " 'service': ['service']}"
      ]
     },
     "execution_count": 35,
     "metadata": {},
     "output_type": "execute_result"
    }
   ],
   "source": [
    "co_ref_aspects = co_ref_id_grop.get_co_reference_aspects_groups(threshold=0.67)\n",
    "co_ref_aspects"
   ]
  },
  {
   "cell_type": "markdown",
   "id": "17ddf19b-c4e9-4543-8a08-8880c8e8b58b",
   "metadata": {
    "tags": []
   },
   "source": [
    "#### Nouveau modèle."
   ]
  },
  {
   "cell_type": "markdown",
   "id": "2aee4980-ebda-4e94-8d76-b635a95e179d",
   "metadata": {},
   "source": [
    "Le nouveau modèle Word2Vec est entraîné sur 90’000 phrases."
   ]
  },
  {
   "cell_type": "code",
   "execution_count": 3,
   "id": "decc6afe-cb2b-4a18-89fa-be20371fa106",
   "metadata": {},
   "outputs": [],
   "source": [
    "from gensim.models import Word2Vec"
   ]
  },
  {
   "cell_type": "code",
   "execution_count": 13,
   "id": "417c81de-c02e-4fdf-b441-a2de2082fe05",
   "metadata": {},
   "outputs": [],
   "source": [
    "co_ref_id_grop2 = CoRefAspectIdentGrouping(data, dict(explicit_aspects), nlp)\n",
    "co_ref_id_grop2.model_wv = Word2Vec.load(\"90K_model_sg_hs_10.pkl\")"
   ]
  },
  {
   "cell_type": "code",
   "execution_count": 26,
   "id": "48f0c9ac-e717-4311-84a7-c855c8a02d52",
   "metadata": {},
   "outputs": [
    {
     "data": {
      "text/plain": [
       "{'view': ['view'],\n",
       " 'guest': ['guest'],\n",
       " 'breakfast': ['food',\n",
       "  'meal',\n",
       "  'dinner',\n",
       "  'evening',\n",
       "  'day',\n",
       "  'drink',\n",
       "  'time',\n",
       "  'night',\n",
       "  'restaurant',\n",
       "  'bar',\n",
       "  'breakfast',\n",
       "  'morning'],\n",
       " 'pool': ['pool'],\n",
       " 'thing': ['thing'],\n",
       " 'parking': ['parking'],\n",
       " 'door': ['door'],\n",
       " 'room': ['bed', 'bathroom', 'room', 'shower'],\n",
       " 'beach': ['beach', 'resort'],\n",
       " 'minute': ['minute'],\n",
       " 'stay': ['experience', 'trip', 'stay'],\n",
       " 'bit': ['bit'],\n",
       " 'staff': ['service', 'staff'],\n",
       " 'people': ['people'],\n",
       " 'hotel': ['riad', 'hotel', 'location', 'place'],\n",
       " 'way': ['way'],\n",
       " 'price': ['price'],\n",
       " 'desk': ['desk', 'reception'],\n",
       " 'water': ['water'],\n",
       " 'family': ['family'],\n",
       " 'kid': ['kid'],\n",
       " 'floor': ['floor'],\n",
       " 'year': ['year'],\n",
       " 'area': ['area'],\n",
       " 'lot': ['lot'],\n",
       " 'choice': ['choice'],\n",
       " 'coffee': ['coffee'],\n",
       " 'city': ['city']}"
      ]
     },
     "execution_count": 26,
     "metadata": {},
     "output_type": "execute_result"
    }
   ],
   "source": [
    "co_ref_aspects = co_ref_id_grop2.get_co_reference_aspects_groups(threshold=0.45)\n",
    "co_ref_aspects"
   ]
  },
  {
   "cell_type": "markdown",
   "id": "f59451f5-55ec-4a39-a872-452342576ab4",
   "metadata": {},
   "source": [
    "**Remarques:**\n",
    " \n",
    "- Les deux modèles ont presque les même résultats. Les groupes qui ont au moins deux comme breakfast, room, hotel, desk.\n",
    "- dans le group breakfast nous remarquons qu'il y a les aspects evening, morning, ça est due à la similarité entre l'aspect dinner et le temp evening et la similarité entre morning et breakfast."
   ]
  },
  {
   "cell_type": "code",
   "execution_count": 18,
   "id": "9cc426c3-2dc4-4fbd-a809-0545d98dcefa",
   "metadata": {},
   "outputs": [],
   "source": [
    "from spacy.matcher import Matcher\n",
    "pattern = [{\"POS\": \"ADJ\"}]\n",
    "matcher = Matcher(nlp.vocab)\n",
    "matcher.add(\"SENTIMENT_WORDS\", [pattern])"
   ]
  },
  {
   "cell_type": "code",
   "execution_count": 20,
   "id": "24725e80-2e68-48df-bd35-272beff724f3",
   "metadata": {},
   "outputs": [
    {
     "data": {
      "text/plain": [
       "[(10905816194214514640, 2, 3),\n",
       " (10905816194214514640, 3, 4),\n",
       " (10905816194214514640, 4, 5)]"
      ]
     },
     "execution_count": 20,
     "metadata": {},
     "output_type": "execute_result"
    }
   ],
   "source": [
    "matcher(nlp(\"there were many other little issues.\"))"
   ]
  }
 ],
 "metadata": {
  "kernelspec": {
   "display_name": "Python 3 (ipykernel)",
   "language": "python",
   "name": "python3"
  },
  "language_info": {
   "codemirror_mode": {
    "name": "ipython",
    "version": 3
   },
   "file_extension": ".py",
   "mimetype": "text/x-python",
   "name": "python",
   "nbconvert_exporter": "python",
   "pygments_lexer": "ipython3",
   "version": "3.8.8"
  }
 },
 "nbformat": 4,
 "nbformat_minor": 5
}
