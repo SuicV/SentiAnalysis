{
 "cells": [
  {
   "cell_type": "code",
   "execution_count": 1,
   "id": "4bc3ad6a-cc36-4d7e-a430-1cb453ef6faf",
   "metadata": {},
   "outputs": [],
   "source": [
    "%load_ext autoreload\n",
    "%autoreload 2"
   ]
  },
  {
   "cell_type": "markdown",
   "id": "3177d0fa-02ce-4559-8799-deb076eb06dd",
   "metadata": {},
   "source": [
    "## Application de modèle de co-referencial aspects identification"
   ]
  },
  {
   "cell_type": "markdown",
   "id": "e7e8061b-fa43-44ff-b4d5-99b0ab7e32a3",
   "metadata": {},
   "source": [
    "### Importation des bibliothèque et le modèle Word2Vec"
   ]
  },
  {
   "cell_type": "code",
   "execution_count": 2,
   "id": "a4a3ff7b-c06e-4d7a-83e1-0beb0f32341a",
   "metadata": {},
   "outputs": [],
   "source": [
    "import os\n",
    "os.chdir(\"..\")"
   ]
  },
  {
   "cell_type": "code",
   "execution_count": 4,
   "id": "3151a992-230d-40e8-8789-042bb3191b3c",
   "metadata": {},
   "outputs": [],
   "source": [
    "from Aspects.CoRefAspectIdentGrouping import CoRefAspectIdentGrouping\n",
    "from gensim.models import Word2Vec\n",
    "import pandas as pd\n",
    "import spacy\n",
    "nlp = spacy.load(\"en_core_web_sm\")"
   ]
  },
  {
   "cell_type": "code",
   "execution_count": 3,
   "id": "f449ef07-be50-4330-ae76-bd3da0ed3897",
   "metadata": {},
   "outputs": [],
   "source": [
    "file = open('explicit_aspects.txt', 'r')\n",
    "explicit_aspects = eval(file.readline())\n",
    "file.close()"
   ]
  },
  {
   "cell_type": "code",
   "execution_count": 11,
   "id": "acccd9c2-af22-461e-b472-dcf017f0100e",
   "metadata": {},
   "outputs": [],
   "source": [
    "data = pd.Series([0])"
   ]
  },
  {
   "cell_type": "code",
   "execution_count": 31,
   "id": "f10a2e04-ff64-4a4d-8a9e-9b78d836d47a",
   "metadata": {},
   "outputs": [],
   "source": [
    "co_ref_id_grop = CoRefAspectIdentGrouping(data, dict(explicit_aspects), nlp)\n",
    "co_ref_id_grop.model_wv = Word2Vec.load(\"100K_reviews_model_sg_hs_10.pkl\")"
   ]
  },
  {
   "cell_type": "code",
   "execution_count": 43,
   "id": "d4b8d9ba-37af-4953-8404-97c771fc33c5",
   "metadata": {},
   "outputs": [
    {
     "data": {
      "text/plain": [
       "{'breakfast': ['snack',\n",
       "  'drink',\n",
       "  'breakfast',\n",
       "  'food',\n",
       "  'bar',\n",
       "  'restaurant',\n",
       "  'shop',\n",
       "  'buffet',\n",
       "  'cafe',\n",
       "  'dinner'],\n",
       " 'towel': ['towel'],\n",
       " 'hotel': ['location', 'place', 'hotel'],\n",
       " 'water': ['water'],\n",
       " 'street': ['street'],\n",
       " 'night': ['night'],\n",
       " 'luggage': ['luggage'],\n",
       " 'tv': ['tv'],\n",
       " 'room': ['room', 'bathroom', 'shower', 'bed'],\n",
       " 'stay': ['stay', 'trip', 'experience'],\n",
       " 'tower': ['tower'],\n",
       " 'quality': ['quality'],\n",
       " 'metro': ['metro', 'bus', 'station', 'airport'],\n",
       " 'reception': ['lobby', 'desk', 'reception'],\n",
       " 'time': ['time'],\n",
       " 'view': ['courtyard', 'garden', 'balcony', 'view'],\n",
       " 'money': ['money'],\n",
       " 'attraction': ['attraction'],\n",
       " 'staff': ['staff', 'customer', 'service'],\n",
       " 'manager': ['manager'],\n",
       " 'area': ['area'],\n",
       " 'minibar': ['minibar'],\n",
       " 'distance': ['distance'],\n",
       " 'price': ['price'],\n",
       " 'member': ['member'],\n",
       " 'parking': ['parking'],\n",
       " 'check': ['check'],\n",
       " 'coffee': ['coffee'],\n",
       " 'facility': ['facility'],\n",
       " 'access': ['access']}"
      ]
     },
     "execution_count": 43,
     "metadata": {},
     "output_type": "execute_result"
    }
   ],
   "source": [
    "co_ref_id_grop.get_co_reference_aspects_groups(threshold=0.4981)"
   ]
  },
  {
   "cell_type": "code",
   "execution_count": 45,
   "id": "24a758fe-889a-4e96-8834-9a52003c8d2b",
   "metadata": {},
   "outputs": [
    {
     "data": {
      "text/plain": [
       "[('meals', 0.6888847947120667),\n",
       " ('foods', 0.6066862344741821),\n",
       " ('meal', 0.5863748788833618),\n",
       " ('buffet', 0.5842719078063965),\n",
       " ('restaurant', 0.5658935904502869),\n",
       " ('breakfast', 0.5546433925628662),\n",
       " ('varied', 0.550567090511322),\n",
       " ('tasty', 0.5496057868003845),\n",
       " ('menu', 0.5426717400550842),\n",
       " ('dinner', 0.5335071682929993),\n",
       " ('nutritious', 0.5212332606315613),\n",
       " ('variety', 0.5194739103317261),\n",
       " ('reataurant', 0.5172597765922546),\n",
       " ('desserts', 0.5046700835227966),\n",
       " ('dishes', 0.4999735355377197)]"
      ]
     },
     "execution_count": 45,
     "metadata": {},
     "output_type": "execute_result"
    }
   ],
   "source": [
    "co_ref_id_grop.model_wv.wv.most_similar('food', topn=15)"
   ]
  },
  {
   "cell_type": "code",
   "execution_count": 46,
   "id": "bbbf062b-4919-4bf9-9fc3-2c3d381e100b",
   "metadata": {},
   "outputs": [
    {
     "data": {
      "text/plain": [
       "[('breakfast', 0.747629702091217),\n",
       " ('continental', 0.7096893191337585),\n",
       " ('foods', 0.6526040434837341),\n",
       " ('choices', 0.6445614099502563),\n",
       " ('buffett', 0.6417891383171082),\n",
       " ('spread', 0.6320570707321167),\n",
       " ('buffets', 0.6218664646148682),\n",
       " ('varied', 0.6136159300804138),\n",
       " ('selections', 0.6078395843505859),\n",
       " ('variety', 0.5999879837036133),\n",
       " ('dinner', 0.5845875144004822),\n",
       " ('food', 0.5842719078063965),\n",
       " ('menu', 0.5838384628295898),\n",
       " ('offerings', 0.5775263905525208),\n",
       " ('tasty', 0.5759320855140686)]"
      ]
     },
     "execution_count": 46,
     "metadata": {},
     "output_type": "execute_result"
    }
   ],
   "source": [
    "co_ref_id_grop.model_wv.wv.most_similar('buffet', topn=15)"
   ]
  },
  {
   "cell_type": "code",
   "execution_count": 48,
   "id": "dcb46493-142d-4ed8-a96b-6af14ca3e4d3",
   "metadata": {},
   "outputs": [
    {
     "data": {
      "text/plain": [
       "[('polite', 0.7135059237480164),\n",
       " ('staffs', 0.6921836733818054),\n",
       " ('professional', 0.6821528077125549),\n",
       " ('courteous', 0.6530322432518005),\n",
       " ('personnel', 0.6478990912437439),\n",
       " ('employees', 0.6445193290710449),\n",
       " ('receptionists', 0.642317533493042),\n",
       " ('attentive', 0.6371670961380005),\n",
       " ('friendly', 0.6248290538787842),\n",
       " ('helpful', 0.6148644685745239),\n",
       " ('efficient', 0.5823229551315308),\n",
       " ('obliging', 0.5684579014778137),\n",
       " ('welcoming', 0.5624998211860657),\n",
       " ('accommodating', 0.5477011203765869),\n",
       " ('approachable', 0.5466018915176392)]"
      ]
     },
     "execution_count": 48,
     "metadata": {},
     "output_type": "execute_result"
    }
   ],
   "source": [
    "co_ref_id_grop.model_wv.wv.most_similar('staff', topn=15)"
   ]
  },
  {
   "cell_type": "code",
   "execution_count": 51,
   "id": "3bd40c16-88af-4033-a59e-3311f5f9385f",
   "metadata": {},
   "outputs": [
    {
     "data": {
      "text/plain": [
       "[('buses', 0.7680094242095947),\n",
       " ('tram', 0.7403375506401062),\n",
       " ('stops', 0.702381432056427),\n",
       " ('train', 0.6893447637557983),\n",
       " ('airport', 0.6671081781387329),\n",
       " ('taxi', 0.6599125266075134),\n",
       " ('x95', 0.6518966555595398),\n",
       " ('haneda', 0.6444940567016602),\n",
       " ('narita', 0.6289826035499573),\n",
       " ('metro', 0.617334246635437),\n",
       " ('k4', 0.6146625876426697),\n",
       " ('dolmus', 0.6117319464683533),\n",
       " ('terminal', 0.6069111824035645),\n",
       " ('stop', 0.6026971340179443),\n",
       " ('vaparetto', 0.600435197353363)]"
      ]
     },
     "execution_count": 51,
     "metadata": {},
     "output_type": "execute_result"
    }
   ],
   "source": [
    "co_ref_id_grop.model_wv.wv.most_similar('bus', topn=15)"
   ]
  },
  {
   "cell_type": "code",
   "execution_count": 52,
   "id": "01e74d1f-3632-435f-97b3-96e1386b98c8",
   "metadata": {},
   "outputs": [
    {
     "data": {
      "text/plain": [
       "[('resort', 0.594900369644165),\n",
       " ('place', 0.590297281742096),\n",
       " ('property', 0.5601755976676941),\n",
       " ('sukhothai', 0.5587882995605469),\n",
       " ('establishment', 0.5412606596946716),\n",
       " (\"'\", 0.515845775604248),\n",
       " ('however', 0.45468708872795105),\n",
       " ('-', 0.45446643233299255),\n",
       " ('motel', 0.4521563947200775),\n",
       " ('facility', 0.44720637798309326),\n",
       " ('location', 0.44381627440452576),\n",
       " ('hotels', 0.43459033966064453),\n",
       " ('apartotel', 0.42907413840293884),\n",
       " ('stay', 0.42827922105789185),\n",
       " ('reykjavik', 0.41668787598609924)]"
      ]
     },
     "execution_count": 52,
     "metadata": {},
     "output_type": "execute_result"
    }
   ],
   "source": [
    "co_ref_id_grop.model_wv.wv.most_similar('hotel', topn=15)"
   ]
  },
  {
   "cell_type": "code",
   "execution_count": null,
   "id": "a9c44c7d-375e-4565-a196-ebe19e657ef9",
   "metadata": {},
   "outputs": [],
   "source": []
  }
 ],
 "metadata": {
  "kernelspec": {
   "display_name": "Python 3 (ipykernel)",
   "language": "python",
   "name": "python3"
  },
  "language_info": {
   "codemirror_mode": {
    "name": "ipython",
    "version": 3
   },
   "file_extension": ".py",
   "mimetype": "text/x-python",
   "name": "python",
   "nbconvert_exporter": "python",
   "pygments_lexer": "ipython3",
   "version": "3.8.8"
  }
 },
 "nbformat": 4,
 "nbformat_minor": 5
}
