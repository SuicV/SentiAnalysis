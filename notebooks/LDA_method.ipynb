{
 "cells": [
  {
   "cell_type": "code",
   "execution_count": 27,
   "id": "2c37f33b-b4a7-4179-8976-24a01e3ee51e",
   "metadata": {},
   "outputs": [],
   "source": [
    "import pandas as pd\n",
    "import importlib\n",
    "import time\n",
    "import os\n",
    "os.chdir(\"..\")"
   ]
  },
  {
   "cell_type": "code",
   "execution_count": 45,
   "id": "58217d75-e6ec-405d-88d2-f8ebad4e0948",
   "metadata": {},
   "outputs": [
    {
     "data": {
      "text/plain": [
       "<spacytextblob.spacytextblob.SpacyTextBlob at 0x22626317fa0>"
      ]
     },
     "execution_count": 45,
     "metadata": {},
     "output_type": "execute_result"
    }
   ],
   "source": [
    "import spacy\n",
    "from spacytextblob.spacytextblob import SpacyTextBlob\n",
    "from nltk.tokenize import sent_tokenize\n",
    "nlp = spacy.load(\"en_core_web_sm\")\n",
    "nlp.add_pipe('spacytextblob')"
   ]
  },
  {
   "cell_type": "code",
   "execution_count": 24,
   "id": "2b0c19cd-b87e-4576-a4f4-7ddef6a5563e",
   "metadata": {},
   "outputs": [],
   "source": [
    "%load_ext autoreload\n",
    "%autoreload 2"
   ]
  },
  {
   "cell_type": "code",
   "execution_count": 2,
   "id": "d4cf2631-af28-4f83-af54-93b5af8bd2c7",
   "metadata": {},
   "outputs": [
    {
     "data": {
      "text/html": [
       "<div>\n",
       "<style scoped>\n",
       "    .dataframe tbody tr th:only-of-type {\n",
       "        vertical-align: middle;\n",
       "    }\n",
       "\n",
       "    .dataframe tbody tr th {\n",
       "        vertical-align: top;\n",
       "    }\n",
       "\n",
       "    .dataframe thead th {\n",
       "        text-align: right;\n",
       "    }\n",
       "</style>\n",
       "<table border=\"1\" class=\"dataframe\">\n",
       "  <thead>\n",
       "    <tr style=\"text-align: right;\">\n",
       "      <th></th>\n",
       "      <th>listing_name</th>\n",
       "      <th>listing_score</th>\n",
       "      <th>username</th>\n",
       "      <th>review_score</th>\n",
       "      <th>review_title</th>\n",
       "      <th>review</th>\n",
       "    </tr>\n",
       "  </thead>\n",
       "  <tbody>\n",
       "    <tr>\n",
       "      <th>0</th>\n",
       "      <td>Hotel Moderniste</td>\n",
       "      <td>5.0</td>\n",
       "      <td>Alex M</td>\n",
       "      <td>5.0</td>\n",
       "      <td>Quality over the quantity!</td>\n",
       "      <td>l have stayed in many hotels. But Moderniste i...</td>\n",
       "    </tr>\n",
       "    <tr>\n",
       "      <th>1</th>\n",
       "      <td>Hotel Moderniste</td>\n",
       "      <td>5.0</td>\n",
       "      <td>Andrea Saade</td>\n",
       "      <td>5.0</td>\n",
       "      <td>Great experience!</td>\n",
       "      <td>We stayed at the Moderniste in December 2021 d...</td>\n",
       "    </tr>\n",
       "    <tr>\n",
       "      <th>2</th>\n",
       "      <td>Hotel Moderniste</td>\n",
       "      <td>5.0</td>\n",
       "      <td>halloCairns</td>\n",
       "      <td>5.0</td>\n",
       "      <td>Just renovated hotel in a nice neighbourhood i...</td>\n",
       "      <td>Very helpful at reception. Good service. Clean...</td>\n",
       "    </tr>\n",
       "    <tr>\n",
       "      <th>3</th>\n",
       "      <td>Hotel Malte - Astotel</td>\n",
       "      <td>5.0</td>\n",
       "      <td>Grace L</td>\n",
       "      <td>5.0</td>\n",
       "      <td>Fabulous</td>\n",
       "      <td>Myself &amp; my husband cannot recommend this hote...</td>\n",
       "    </tr>\n",
       "    <tr>\n",
       "      <th>4</th>\n",
       "      <td>Hotel Malte - Astotel</td>\n",
       "      <td>5.0</td>\n",
       "      <td>TomosParsons</td>\n",
       "      <td>5.0</td>\n",
       "      <td>Great location, modern and spacious</td>\n",
       "      <td>Great location, being so close to the Louvre a...</td>\n",
       "    </tr>\n",
       "    <tr>\n",
       "      <th>...</th>\n",
       "      <td>...</td>\n",
       "      <td>...</td>\n",
       "      <td>...</td>\n",
       "      <td>...</td>\n",
       "      <td>...</td>\n",
       "      <td>...</td>\n",
       "    </tr>\n",
       "    <tr>\n",
       "      <th>208</th>\n",
       "      <td>St Christopher's Inn Canal Paris</td>\n",
       "      <td>4.0</td>\n",
       "      <td>Fernando T</td>\n",
       "      <td>5.0</td>\n",
       "      <td>Eurotrip</td>\n",
       "      <td>Amazing. The staff Pedro was very kind with us...</td>\n",
       "    </tr>\n",
       "    <tr>\n",
       "      <th>209</th>\n",
       "      <td>St Christopher's Inn Canal Paris</td>\n",
       "      <td>4.0</td>\n",
       "      <td>Spencer S</td>\n",
       "      <td>5.0</td>\n",
       "      <td>such an amazing trip</td>\n",
       "      <td>Barry is the sexiest bartender alive i love th...</td>\n",
       "    </tr>\n",
       "    <tr>\n",
       "      <th>210</th>\n",
       "      <td>St Christopher's Inn Canal Paris</td>\n",
       "      <td>4.0</td>\n",
       "      <td>Timmy B</td>\n",
       "      <td>4.0</td>\n",
       "      <td>Good value and good staff</td>\n",
       "      <td>Overall a very good hostel experience, staff e...</td>\n",
       "    </tr>\n",
       "    <tr>\n",
       "      <th>211</th>\n",
       "      <td>St Christopher's Inn Canal Paris</td>\n",
       "      <td>4.0</td>\n",
       "      <td>Teigan L</td>\n",
       "      <td>3.0</td>\n",
       "      <td>Pleasant Hostel</td>\n",
       "      <td>This was a pleasant stay. Very economical and ...</td>\n",
       "    </tr>\n",
       "    <tr>\n",
       "      <th>212</th>\n",
       "      <td>St Christopher's Inn Canal Paris</td>\n",
       "      <td>4.0</td>\n",
       "      <td>LenaMayerw23</td>\n",
       "      <td>4.0</td>\n",
       "      <td>attractive price-performance ratio</td>\n",
       "      <td>The room was clean and it seemed to be very ne...</td>\n",
       "    </tr>\n",
       "  </tbody>\n",
       "</table>\n",
       "<p>213 rows × 6 columns</p>\n",
       "</div>"
      ],
      "text/plain": [
       "                         listing_name  listing_score      username  \\\n",
       "0                    Hotel Moderniste            5.0        Alex M   \n",
       "1                    Hotel Moderniste            5.0  Andrea Saade   \n",
       "2                    Hotel Moderniste            5.0   halloCairns   \n",
       "3               Hotel Malte - Astotel            5.0       Grace L   \n",
       "4               Hotel Malte - Astotel            5.0  TomosParsons   \n",
       "..                                ...            ...           ...   \n",
       "208  St Christopher's Inn Canal Paris            4.0    Fernando T   \n",
       "209  St Christopher's Inn Canal Paris            4.0     Spencer S   \n",
       "210  St Christopher's Inn Canal Paris            4.0       Timmy B   \n",
       "211  St Christopher's Inn Canal Paris            4.0      Teigan L   \n",
       "212  St Christopher's Inn Canal Paris            4.0  LenaMayerw23   \n",
       "\n",
       "     review_score                                       review_title  \\\n",
       "0             5.0                         Quality over the quantity!   \n",
       "1             5.0                                  Great experience!   \n",
       "2             5.0  Just renovated hotel in a nice neighbourhood i...   \n",
       "3             5.0                                           Fabulous   \n",
       "4             5.0                Great location, modern and spacious   \n",
       "..            ...                                                ...   \n",
       "208           5.0                                           Eurotrip   \n",
       "209           5.0                               such an amazing trip   \n",
       "210           4.0                          Good value and good staff   \n",
       "211           3.0                                    Pleasant Hostel   \n",
       "212           4.0                 attractive price-performance ratio   \n",
       "\n",
       "                                                review  \n",
       "0    l have stayed in many hotels. But Moderniste i...  \n",
       "1    We stayed at the Moderniste in December 2021 d...  \n",
       "2    Very helpful at reception. Good service. Clean...  \n",
       "3    Myself & my husband cannot recommend this hote...  \n",
       "4    Great location, being so close to the Louvre a...  \n",
       "..                                                 ...  \n",
       "208  Amazing. The staff Pedro was very kind with us...  \n",
       "209  Barry is the sexiest bartender alive i love th...  \n",
       "210  Overall a very good hostel experience, staff e...  \n",
       "211  This was a pleasant stay. Very economical and ...  \n",
       "212  The room was clean and it seemed to be very ne...  \n",
       "\n",
       "[213 rows x 6 columns]"
      ]
     },
     "execution_count": 2,
     "metadata": {},
     "output_type": "execute_result"
    }
   ],
   "source": [
    "data = pd.read_csv(\"../data/reviews_paris_hotels.csv\")\n",
    "data"
   ]
  },
  {
   "cell_type": "code",
   "execution_count": 4,
   "id": "65744229-7ec9-415e-89b2-8169481178ed",
   "metadata": {},
   "outputs": [
    {
     "data": {
      "text/plain": [
       "'l have stayed in many hotels. But Moderniste is really exceeded my expectation. Manager and all staff were very welcoming. Breakfast was excellent. Room was very nice and very comfortable bed.\\n\\nWe also love the location. On our next visit we will defiantly stay here.\\n\\nThank you Moderniste.'"
      ]
     },
     "execution_count": 4,
     "metadata": {},
     "output_type": "execute_result"
    }
   ],
   "source": [
    "data[\"review\"][0]"
   ]
  },
  {
   "cell_type": "code",
   "execution_count": 32,
   "id": "ab083c31-be55-47b4-9c7c-45a29cb57bcb",
   "metadata": {},
   "outputs": [],
   "source": [
    "from Preprocessors.ReviewPreprocessor import ReviewPreprocessor"
   ]
  },
  {
   "cell_type": "code",
   "execution_count": 30,
   "id": "fe18e3c6-9a28-4dde-b742-97d67cdf8516",
   "metadata": {},
   "outputs": [],
   "source": [
    "import Preprocessors.ReviewPreprocessor"
   ]
  },
  {
   "cell_type": "code",
   "execution_count": 31,
   "id": "4dbce7cc-77ba-4dff-b571-321dbbd19a1a",
   "metadata": {},
   "outputs": [
    {
     "data": {
      "text/plain": [
       "<module 'Preprocessors.ReviewPreprocessor' from 'E:\\\\PychCarmProjects\\\\s4\\\\SentiAnalysis\\\\Preprocessors\\\\ReviewPreprocessor.py'>"
      ]
     },
     "execution_count": 31,
     "metadata": {},
     "output_type": "execute_result"
    }
   ],
   "source": [
    "importlib.reload(Preprocessors.ReviewPreprocessor)"
   ]
  },
  {
   "cell_type": "code",
   "execution_count": 33,
   "id": "ffa52f02-3227-48e9-aa76-6dfc1632ca85",
   "metadata": {},
   "outputs": [
    {
     "name": "stdout",
     "output_type": "stream",
     "text": [
      "remove_tags done\n",
      "spelling_correction done\n",
      "remove_objective_sentences done\n",
      "24.45242428779602 s\n"
     ]
    },
    {
     "data": {
      "text/plain": [
       "0      l have stayed in many hotels. Manager and all ...\n",
       "1      We were a family of 4 (2 adults and 2 kids) an...\n",
       "2      Good service. Clean. Nice room. The hotel is c...\n",
       "3      Myself & my husband cannot recommend this hote...\n",
       "4      Great location, being so close to the Louvre a...\n",
       "                             ...                        \n",
       "208    Amazing. The staff Pedro was very kind with us...\n",
       "209    Barry is the sexiest bartender alive i love th...\n",
       "210    Overall a very good hostel experience, staff e...\n",
       "211    This was a pleasant stay. Very economical and ...\n",
       "212    The room was clean and it seemed to be very ne...\n",
       "Name: review, Length: 213, dtype: object"
      ]
     },
     "execution_count": 33,
     "metadata": {},
     "output_type": "execute_result"
    }
   ],
   "source": [
    "preprocessor = ReviewPreprocessor(data[\"review\"])\n",
    "t = time.time()\n",
    "cleaned_reviews = preprocessor.start()\n",
    "print(f\"{time.time() - t} s\")\n",
    "cleaned_reviews"
   ]
  },
  {
   "cell_type": "code",
   "execution_count": 34,
   "id": "b71e4b1d-c706-477c-8a89-73c9615861a0",
   "metadata": {},
   "outputs": [],
   "source": [
    "data[\"cleaned_review\"] = cleaned_reviews"
   ]
  },
  {
   "cell_type": "code",
   "execution_count": 42,
   "id": "4ce9f58b-ebf4-4ea8-95dd-cf77aefc57d5",
   "metadata": {},
   "outputs": [
    {
     "data": {
      "text/plain": [
       "'Myself & my husband cannot recommend this hotel highly enough. Rooms were beautiful and spacious, breakfast was lovely with plenty of different options to choose from.'"
      ]
     },
     "execution_count": 42,
     "metadata": {},
     "output_type": "execute_result"
    }
   ],
   "source": [
    "data[\"cleaned_review\"][3]"
   ]
  },
  {
   "cell_type": "code",
   "execution_count": 43,
   "id": "a74a19c0-732f-4cd7-b757-43485d6fddf6",
   "metadata": {},
   "outputs": [
    {
     "data": {
      "text/plain": [
       "'Myself & my husband cannot recommend this hotel highly enough. From the minute we walked in the staff were all so helpful and welcoming. Rooms were beautiful and spacious, breakfast was lovely with plenty of different options to choose from. We will definitely be back.'"
      ]
     },
     "execution_count": 43,
     "metadata": {},
     "output_type": "execute_result"
    }
   ],
   "source": [
    "data[\"review\"][3]"
   ]
  },
  {
   "cell_type": "code",
   "execution_count": 46,
   "id": "c1f175e4-2960-4176-a652-7d7387a4368a",
   "metadata": {},
   "outputs": [
    {
     "name": "stdout",
     "output_type": "stream",
     "text": [
      "[{'aspect': 'Room', 'description': 'very comfortable'}, {'aspect': 'holidays', 'description': 'enjoyable'}, {'aspect': 'staff', 'description': 'helpful'}, {'aspect': 'breakfast', 'description': 'different'}, {'aspect': 'hotel', 'description': 'great'}, {'aspect': 'Rooms', 'description': 'very comfortable'}, {'aspect': 'room', 'description': 'lovely'}, {'aspect': 'breakfast', 'description': 'special'}, {'aspect': 'choices', 'description': 'huge'}, {'aspect': 'staff', 'description': 'super helpful'}, {'aspect': 'hotel', 'description': 'soft'}, {'aspect': 'Staff', 'description': 'available'}, {'aspect': 'Breakfast', 'description': 'free'}, {'aspect': 'room', 'description': 'meticulously clean'}, {'aspect': 'place', 'description': 'impeccable'}, {'aspect': '', 'description': 'quiet'}, {'aspect': 'snacks', 'description': 'very welcome'}, {'aspect': 'nightlife', 'description': 'safe'}, {'aspect': 'staff', 'description': 'very kind'}, {'aspect': 'staff', 'description': 'very attentive'}, {'aspect': 'thing', 'description': 'warmer'}, {'aspect': 'staff', 'description': 'Great'}, {'aspect': 'stay', 'description': 'seamless'}, {'aspect': 'hotel', 'description': 'long'}, {'aspect': 'hotel', 'description': 'great'}, {'aspect': 'cheeses', 'description': 'good'}, {'aspect': 'breakfast', 'description': 'Great'}, {'aspect': 'location', 'description': 'great'}, {'aspect': '', 'description': 'Close so easy'}, {'aspect': 'breakfast', 'description': 'free'}, {'aspect': 'Location', 'description': 'really surprised'}, {'aspect': 'breakfast', 'description': 'good'}, {'aspect': 'staff', 'description': 'lovely'}, {'aspect': 'hotel', 'description': 'right'}, {'aspect': '', 'description': 'tasty'}, {'aspect': 'breakfast', 'description': 'first'}, {'aspect': 'stations', 'description': 'safe'}, {'aspect': 'breakfast', 'description': 'delicious'}, {'aspect': 'hotel', 'description': 'very very happy'}, {'aspect': '', 'description': 'enjoyable'}, {'aspect': 'staff', 'description': 'great'}, {'aspect': 'kindness', 'description': 'comfortable'}, {'aspect': 'city', 'description': 'extremely helpful'}, {'aspect': 'rooms', 'description': 'truly enjoyable'}, {'aspect': 'room', 'description': 'good'}, {'aspect': 'Claudia', 'description': 'very good'}, {'aspect': 'sun', 'description': 'very good'}, {'aspect': 'staff', 'description': 'pleasant'}, {'aspect': 'croissants', 'description': 'fresh'}, {'aspect': '', 'description': 'able'}, {'aspect': 'breakfast', 'description': 'fresh'}, {'aspect': 'Cleaners', 'description': 'Lovely'}, {'aspect': 'staff', 'description': 'next'}, {'aspect': 'location', 'description': 'good'}, {'aspect': 'staff', 'description': 'very enjoyable'}, {'aspect': 'area', 'description': 'real'}, {'aspect': '', 'description': 'great'}, {'aspect': '', 'description': 'Reasonable'}, {'aspect': 'staff', 'description': 'so friendly'}, {'aspect': 'location', 'description': 'clean'}, {'aspect': 'bed', 'description': 'very comfortable'}, {'aspect': 'hotel', 'description': 'most'}, {'aspect': 'book', 'description': 'cheaper'}, {'aspect': 'desk', 'description': 'sweet'}, {'aspect': 'beds', 'description': 'very comfortable'}, {'aspect': 'lobby', 'description': 'ideal'}, {'aspect': 'check', 'description': 'too important'}, {'aspect': 'place', 'description': 'less expensive'}, {'aspect': 'place', 'description': 'very little'}, {'aspect': 'staff', 'description': 'little'}, {'aspect': 'dance', 'description': 'good'}, {'aspect': 'hotel', 'description': 'calm'}, {'aspect': 'shower', 'description': 'perfect'}, {'aspect': 'design', 'description': 'really interesting'}, {'aspect': '', 'description': 'affordable'}, {'aspect': 'Location', 'description': 'genuine'}, {'aspect': 'location', 'description': 'more perfect'}, {'aspect': 'staff', 'description': 'astute'}, {'aspect': 'service', 'description': 'perfect'}, {'aspect': 'hotel', 'description': 'consummate'}, {'aspect': 'rest', 'description': 'range'}, {'aspect': 'accommodation', 'description': 'friendly'}, {'aspect': 'cause', 'description': 'very comfortable'}, {'aspect': 'thing', 'description': 'good'}, {'aspect': 'stay', 'description': 'polite'}, {'aspect': 'fault', 'description': 'simple'}, {'aspect': 'people', 'description': 'exceptional'}, {'aspect': 'stone', 'description': 'few'}, {'aspect': '', 'description': 'cheap'}, {'aspect': '', 'description': 'pretentious'}, {'aspect': '', 'description': 'social'}, {'aspect': 'lady', 'description': 'very nice'}, {'aspect': 'members', 'description': 'very kind'}, {'aspect': 'thanks', 'description': 'special'}, {'aspect': 'Rooms', 'description': 'wonderful'}, {'aspect': 'equipment', 'description': 'so wonderful'}, {'aspect': 'room', 'description': 'amazing'}, {'aspect': 'location', 'description': 'Complimentary'}, {'aspect': 'stations', 'description': 'easy'}, {'aspect': 'stay', 'description': 'so special'}, {'aspect': 'staff', 'description': 'helpful'}, {'aspect': 'staff', 'description': 'professional'}, {'aspect': 'location', 'description': 'adorable'}, {'aspect': 'rooms', 'description': 'Nice'}, {'aspect': 'hotel', 'description': 'absolutely safe'}, {'aspect': '', 'description': 'next'}, {'aspect': 'location', 'description': 'Highly recommend'}, {'aspect': '', 'description': 'good'}, {'aspect': 'quality', 'description': 'sufficient'}, {'aspect': 'rooms', 'description': 'more'}, {'aspect': 'bathroom', 'description': 'close'}, {'aspect': 'area', 'description': 'lovely'}, {'aspect': 'giraffes', 'description': 'good'}, {'aspect': '', 'description': 'stunning'}, {'aspect': 'beds', 'description': 'sure'}, {'aspect': 'personnel', 'description': 'helpful'}, {'aspect': '', 'description': ''}, {'aspect': 'Staff', 'description': 'upfront'}, {'aspect': 'hotel', 'description': 'central'}, {'aspect': 'room', 'description': 'sur'}, {'aspect': 'hotel', 'description': 'easily reachable'}, {'aspect': '', 'description': 'nice'}, {'aspect': 'Transport', 'description': 'young'}, {'aspect': 'staff', 'description': 'Safe'}, {'aspect': 'situation', 'description': 'able'}, {'aspect': '', 'description': 'easy'}, {'aspect': '', 'description': 'small'}, {'aspect': 'client', 'description': 'very polite'}, {'aspect': '', 'description': 'great'}, {'aspect': 'employees', 'description': 'good'}, {'aspect': 'service', 'description': 'flawless'}, {'aspect': 'rooms', 'description': 'nice'}, {'aspect': 'hotel', 'description': 'very nice'}, {'aspect': 'staff', 'description': 'friendly'}, {'aspect': 'balcony', 'description': 'very quiet'}, {'aspect': 'staff', 'description': 'next'}, {'aspect': 'mold', 'description': 'sick'}, {'aspect': 'mother', 'description': 'present'}, {'aspect': 'issue', 'description': 'wonderful'}, {'aspect': 'staff', 'description': 'able'}, {'aspect': 'hotel', 'description': 'excellent'}, {'aspect': 'ambiance', 'description': 'real'}, {'aspect': 'place', 'description': 'Excellent'}, {'aspect': 'room', 'description': 'cold'}, {'aspect': 'Breakfasts', 'description': 'perfect'}, {'aspect': 'concierge', 'description': 'clearly impressed'}, {'aspect': 'suits', 'description': 'helpful'}, {'aspect': 'location', 'description': 'Easy'}, {'aspect': 'host', 'description': 'wonderful'}, {'aspect': 'Staff', 'description': 'friendly'}, {'aspect': 'shops', 'description': 'same'}, {'aspect': 'floor', 'description': 'ready'}, {'aspect': 'service', 'description': 'comfortable'}, {'aspect': 'location', 'description': 'great'}, {'aspect': '', 'description': 'touristic'}, {'aspect': 'Breakfast', 'description': 'distinguish'}, {'aspect': 'bed', 'description': 'helpful'}, {'aspect': 'atmosphere', 'description': 'good'}, {'aspect': '', 'description': 'beautiful'}, {'aspect': 'Room', 'description': 'friendly'}, {'aspect': 'Connections', 'description': 'very good'}, {'aspect': 'room', 'description': 'strong'}, {'aspect': 'thing', 'description': 'Only'}, {'aspect': 'room', 'description': 'modern'}, {'aspect': 'Price', 'description': 'reasonable'}, {'aspect': 'couid', 'description': 'public'}, {'aspect': 'Showers', 'description': 'great'}, {'aspect': 'spots', 'description': 'very close'}, {'aspect': 'location', 'description': 'Easy'}, {'aspect': '', 'description': 'few'}, {'aspect': 'lady', 'description': 'very nice'}, {'aspect': 'Rates', 'description': 'perfect'}, {'aspect': 'room', 'description': 'lovely'}, {'aspect': 'room', 'description': 'very reasonable'}, {'aspect': 'Room', 'description': 'special'}, {'aspect': 'service', 'description': 'subpar'}, {'aspect': '', 'description': 'cold'}, {'aspect': 'Cleanliness', 'description': 'pleased'}, {'aspect': 'ladies', 'description': 'own'}, {'aspect': 'staff', 'description': 'anywhere very quick'}, {'aspect': 'location', 'description': 'super'}, {'aspect': 'hotel', 'description': 'right'}, {'aspect': 'staff', 'description': 'amazing'}, {'aspect': 'Staff', 'description': 'Very clean'}, {'aspect': '', 'description': 'Great'}, {'aspect': 'option', 'description': 'much cheaper'}, {'aspect': 'breakfast', 'description': 'other'}, {'aspect': 'attendant', 'description': 'happy'}, {'aspect': 'Reception', 'description': 'open'}, {'aspect': 'train', 'description': 'very friendly'}, {'aspect': 'staff', 'description': 'pleasant'}, {'aspect': 'staff', 'description': 'horrible'}, {'aspect': 'beds', 'description': 'ok'}, {'aspect': '', 'description': 'enough central'}, {'aspect': 'breakfast', 'description': 'next'}, {'aspect': 'requirements', 'description': 'small'}, {'aspect': 'hello', 'description': 'friendly'}, {'aspect': '', 'description': ''}, {'aspect': '', 'description': 'happy'}, {'aspect': 'bath', 'description': 'Great'}, {'aspect': 'Housekeeping', 'description': 'possible'}, {'aspect': 'policy', 'description': 'free'}, {'aspect': 'staff', 'description': 'Very reasonable'}, {'aspect': 'Prices', 'description': 'enough'}, {'aspect': 'hotel', 'description': 'close'}, {'aspect': '', 'description': 'best'}, {'aspect': 'size', 'description': 'wide'}, {'aspect': '', 'description': 'great'}, {'aspect': 'place', 'description': 'very good'}, {'aspect': '', 'description': 'more'}, {'aspect': 'prices', 'description': 'cheap'}, {'aspect': 'lockers', 'description': 'nice'}, {'aspect': 'location', 'description': 'close'}]\n"
     ]
    }
   ],
   "source": [
    "aspects = []\n",
    "for id_, sentence in data[\"cleaned_review\"].items():\n",
    "    doc = nlp(sentence)\n",
    "    descriptive_term = ''\n",
    "    target = ''\n",
    "    for token in doc:\n",
    "        if token.dep_ == 'nsubj' and token.pos_ == 'NOUN':\n",
    "            target = token.text\n",
    "        if token.pos_ == 'ADJ':\n",
    "            prepend = ''\n",
    "            for child in token.children:\n",
    "                if child.pos_ != 'ADV':\n",
    "                    continue\n",
    "                prepend += child.text + ' '\n",
    "            descriptive_term = prepend + token.text\n",
    "    aspects.append({'aspect': target,\n",
    "        'description': descriptive_term})\n",
    "print(aspects)"
   ]
  },
  {
   "cell_type": "code",
   "execution_count": null,
   "id": "042845a9-07a8-4686-9275-dea97ffa88bd",
   "metadata": {},
   "outputs": [],
   "source": []
  }
 ],
 "metadata": {
  "kernelspec": {
   "display_name": "Python 3 (ipykernel)",
   "language": "python",
   "name": "python3"
  },
  "language_info": {
   "codemirror_mode": {
    "name": "ipython",
    "version": 3
   },
   "file_extension": ".py",
   "mimetype": "text/x-python",
   "name": "python",
   "nbconvert_exporter": "python",
   "pygments_lexer": "ipython3",
   "version": "3.8.8"
  }
 },
 "nbformat": 4,
 "nbformat_minor": 5
}
