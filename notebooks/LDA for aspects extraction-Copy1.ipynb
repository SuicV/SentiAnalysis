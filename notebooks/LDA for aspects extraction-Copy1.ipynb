{
 "cells": [
  {
   "cell_type": "code",
   "execution_count": 1,
   "id": "a45893cd-d6c8-4d5d-9877-7a95ed51d4fa",
   "metadata": {},
   "outputs": [],
   "source": [
    "%load_ext autoreload\n",
    "%autoreload 2"
   ]
  },
  {
   "cell_type": "markdown",
   "id": "fc4e907d-0cf4-4ba2-9e04-1eaa0a368a03",
   "metadata": {},
   "source": [
    "# Topic Modeling avec LDA pour l'extraction des aspects explicites"
   ]
  },
  {
   "cell_type": "markdown",
   "id": "181247b3-40ee-40e8-a227-5883935a53f7",
   "metadata": {},
   "source": [
    "l'objectif dans cette implementation est extraction des aspect explicite avec l'appliction de modèle Latent Dirichilet Allocation (LDA)."
   ]
  },
  {
   "cell_type": "markdown",
   "id": "c828e4ab-916f-4640-9a4b-3934af3dbb54",
   "metadata": {
    "tags": []
   },
   "source": [
    "## Importation des bibliothèques"
   ]
  },
  {
   "cell_type": "code",
   "execution_count": 2,
   "id": "1786f37a-2b65-4b94-87b2-c48a4f130d15",
   "metadata": {},
   "outputs": [],
   "source": [
    "import os\n",
    "os.chdir(\"..\")"
   ]
  },
  {
   "cell_type": "code",
   "execution_count": 4,
   "id": "a8afb6ae-d638-48eb-8f58-e5e75cc40a83",
   "metadata": {},
   "outputs": [],
   "source": [
    "from nltk.corpus import stopwords\n",
    "import re\n",
    "import seaborn as sns\n",
    "from time import time\n",
    "from Preprocessors.ReviewPreprocessor import ReviewPreprocessor\n",
    "import pandas as pd\n",
    "import spacy\n",
    "nlp = spacy.load(\"en_core_web_sm\")\n",
    "\n",
    "import pyLDAvis.gensim_models\n",
    "import pyLDAvis\n",
    "pyLDAvis.enable_notebook()\n",
    "\n",
    "from gensim.corpora import Dictionary\n",
    "from gensim.models.ldamulticore import LdaMulticore\n",
    "from gensim.models.coherencemodel import CoherenceModel\n",
    "\n",
    "from IPython.display import HTML"
   ]
  },
  {
   "cell_type": "markdown",
   "id": "bd42ac82-7af3-4981-8412-f2af4cfd627c",
   "metadata": {
    "tags": []
   },
   "source": [
    "## Fonction de pretraitement des datasets"
   ]
  },
  {
   "cell_type": "markdown",
   "id": "6081a3ed-0173-4741-a118-e28a8c710fc6",
   "metadata": {},
   "source": [
    "La fonction prend un dictionnaire de jeux de données. il a comme clé un nom pour identifier le dataset et comme valeur le chemin vers le dataset.\n",
    "\n",
    "Le prétraitement appliqué compose les opération suivantes:\n",
    "\n",
    "**Nettoyage des commentaires (fonction clean_datasets)**\n",
    "- suppression des caractères inutile;\n",
    "- transformation en minuscule;\n",
    "- correction des fautes d'orthographe;\n",
    "- suppression des phrases objectifs;\n",
    "- suppression des commentaires vides après les opérations précédents;\n"
   ]
  },
  {
   "cell_type": "code",
   "execution_count": 5,
   "id": "346c7909-a4b9-42c4-9095-67560c0b5248",
   "metadata": {},
   "outputs": [],
   "source": [
    "def clean_datasets(datasets):\n",
    "    cleaned_datasets = []\n",
    "    for dataset_name in datasets:\n",
    "        print(f\"cleaning dataset {dataset_name}\")\n",
    "        dataset = pd.read_csv(datasets[dataset_name])\n",
    "        old = time()\n",
    "        review_preprocessor = ReviewPreprocessor(dataset['review'], nlp)\n",
    "        dataset['cleaned_data'] = review_preprocessor.remove_tags()\n",
    "        dataset['cleaned_data'] = review_preprocessor.lowercase_transformation()\n",
    "        dataset['cleaned_data'] = review_preprocessor.pararel_spelling_correction()\n",
    "        dataset['cleaned_data'] = review_preprocessor.remove_objective_sentences()\n",
    "        dataset = dataset[dataset['cleaned_data'] != \"\"]\n",
    "        print(f\"cleaning {dataset_name} took {time() - old}\")\n",
    "        cleaned_datasets.append((dataset_name, dataset))\n",
    "    return cleaned_datasets"
   ]
  },
  {
   "cell_type": "markdown",
   "id": "7b9b191c-89a3-420d-b155-79cc586b6794",
   "metadata": {},
   "source": [
    "**Application de prétraitement**"
   ]
  },
  {
   "cell_type": "code",
   "execution_count": 6,
   "id": "9c77fd51-0b94-4b54-8883-d5d40c45c22d",
   "metadata": {},
   "outputs": [
    {
     "name": "stdout",
     "output_type": "stream",
     "text": [
      "cleaning dataset tripadvisor\n"
     ]
    },
    {
     "name": "stderr",
     "output_type": "stream",
     "text": [
      "2141it [01:02, 34.06it/s]\n"
     ]
    },
    {
     "name": "stdout",
     "output_type": "stream",
     "text": [
      "cleaning tripadvisor took 339.90865302085876\n",
      "cleaning dataset booking\n"
     ]
    },
    {
     "name": "stderr",
     "output_type": "stream",
     "text": [
      "1022it [00:14, 71.89it/s]\n"
     ]
    },
    {
     "name": "stdout",
     "output_type": "stream",
     "text": [
      "cleaning booking took 41.76488256454468\n",
      "cleaning dataset agoda\n"
     ]
    },
    {
     "name": "stderr",
     "output_type": "stream",
     "text": [
      "230it [00:03, 61.92it/s]\n"
     ]
    },
    {
     "name": "stdout",
     "output_type": "stream",
     "text": [
      "cleaning agoda took 25.807928800582886\n",
      "cleaning dataset agoda_london\n"
     ]
    },
    {
     "name": "stderr",
     "output_type": "stream",
     "text": [
      "245it [00:04, 53.41it/s]\n"
     ]
    },
    {
     "name": "stdout",
     "output_type": "stream",
     "text": [
      "cleaning agoda_london took 29.42093062400818\n",
      "cleaning dataset tripadvisor_london\n"
     ]
    },
    {
     "name": "stderr",
     "output_type": "stream",
     "text": [
      "658it [00:26, 25.26it/s]"
     ]
    },
    {
     "name": "stdout",
     "output_type": "stream",
     "text": [
      "cleaning tripadvisor_london took 98.36129260063171\n",
      "duration : 538.3970093727112\n"
     ]
    },
    {
     "name": "stderr",
     "output_type": "stream",
     "text": [
      "\n"
     ]
    }
   ],
   "source": [
    "old = time()\n",
    "datasets = {'tripadvisor': 'data/3 datasets/reviews_TripAdvisor_2022_5_20_11_27_56_ 10pages_10hotels.csv',\n",
    "                    'booking': 'data/3 datasets/reviews_Booking_2022_5_20_11_9_54_10links_10_pages.csv',\n",
    "                    'agoda': 'data/3 datasets/reviews_Agoda_2022_5_20_10_58_5_10pages_10_links.csv',\n",
    "                    'agoda_london':'data/3 datasets/reviews_Agoda_2022_5_21_11_32_11_London_5pages_5links.csv',\n",
    "                    'tripadvisor_london': 'data/3 datasets/reviews_TripAdvisor_2022_5_21_11_51_26_london_5pages_5links.csv'}\n",
    "cleaned_datasets = clean_datasets(datasets)\n",
    "print(f\"duration : {time() - old}\")"
   ]
  },
  {
   "cell_type": "markdown",
   "id": "6a88f0f8-77de-43e5-8bd3-9c7751ac7d56",
   "metadata": {
    "tags": []
   },
   "source": [
    "## Fonction de création de corpus pour l'entraînement de modèle LDA"
   ]
  },
  {
   "cell_type": "markdown",
   "id": "179bc4e4-fdb4-4727-9a6c-c49291d79166",
   "metadata": {},
   "source": [
    "**construction de corpus pour entraînement de LDA (fonction create_lda_corpus)**\n",
    "- transformation des des commentaires en phrases;\n",
    "- tokenization des commentaires ;\n",
    "- suppression des stopwords."
   ]
  },
  {
   "cell_type": "code",
   "execution_count": 7,
   "id": "6768c8ec-2710-4176-ab2f-89fa0aaefb8d",
   "metadata": {},
   "outputs": [],
   "source": [
    "_stopwords = stopwords.words('english')"
   ]
  },
  {
   "cell_type": "code",
   "execution_count": 8,
   "id": "ba98fc19-d6d6-4e89-ba2b-1e3e22a1bab7",
   "metadata": {},
   "outputs": [],
   "source": [
    "def create_lda_corpus(datasets):\n",
    "    tokenized_datasets = dict()\n",
    "    for dataset in datasets:\n",
    "        dataset_name = dataset[0]\n",
    "        dataset_sentences = []\n",
    "        print(f\"cleaning dataset {dataset_name}\")\n",
    "        old = time()\n",
    "        cleaned_reviews = dataset[1]['cleaned_data']\n",
    "        for i, review in cleaned_reviews.items():\n",
    "            review = nlp(review)            \n",
    "            for sentence in review.sents:\n",
    "                _sent = []\n",
    "                for token in sentence:\n",
    "                    # remove ponctuation\n",
    "                    token = re.sub(r'[^\\w\\s]', '', token.text)\n",
    "                    # add tokent to _sent when it is not a stopword and not short (less than two chars)\n",
    "                    if len(token) >= 2 and token not in _stopwords:\n",
    "                        _sent.append(token)\n",
    "                dataset_sentences.append(_sent)\n",
    "        tokenized_datasets[dataset_name] = dataset_sentences\n",
    "        print(f\"duration to tokenize dataset {dataset_name} is {time() - old}s\")\n",
    "    return tokenized_datasets\n"
   ]
  },
  {
   "cell_type": "code",
   "execution_count": 9,
   "id": "ea861c08-30b1-4e8e-b842-7d2194c31be1",
   "metadata": {},
   "outputs": [
    {
     "name": "stdout",
     "output_type": "stream",
     "text": [
      "cleaning dataset tripadvisor\n",
      "duration to tokenize dataset tripadvisor is 40.950488567352295s\n",
      "cleaning dataset booking\n",
      "duration to tokenize dataset booking is 8.662747621536255s\n",
      "cleaning dataset agoda\n",
      "duration to tokenize dataset agoda is 2.246220350265503s\n",
      "cleaning dataset agoda_london\n",
      "duration to tokenize dataset agoda_london is 2.766796827316284s\n",
      "cleaning dataset tripadvisor_london\n",
      "duration to tokenize dataset tripadvisor_london is 11.633525133132935s\n",
      "time to tokenize all datasets is 66.26077246665955\n"
     ]
    }
   ],
   "source": [
    "t = time()\n",
    "tokenized_datasets = create_lda_corpus(cleaned_datasets)\n",
    "print(f\"time to tokenize all datasets is {time() - t}\")"
   ]
  },
  {
   "cell_type": "markdown",
   "id": "8c429ab2-5080-4807-9cc8-ccfad4a22a4c",
   "metadata": {
    "tags": []
   },
   "source": [
    "## Entraînement de modèle LDA."
   ]
  },
  {
   "cell_type": "code",
   "execution_count": 9,
   "id": "ca17be78-3fc4-42ab-866d-1414526c829e",
   "metadata": {},
   "outputs": [],
   "source": [
    "all_id2word = dict()\n",
    "all_corpus = dict()\n",
    "for dataset in tokenized_datasets:\n",
    "    all_id2word[dataset] = Dictionary(tokenized_datasets[dataset])\n",
    "    all_corpus[dataset] = [all_id2word[dataset].doc2bow(text) for text in tokenized_datasets[dataset]]"
   ]
  },
  {
   "cell_type": "code",
   "execution_count": 10,
   "id": "bfdfae84-1758-4ca7-aea6-597ff407085f",
   "metadata": {
    "tags": []
   },
   "outputs": [],
   "source": [
    "def best_topic_number(tokenized_datasets, id2word, corpus, alpha = 0.2, eta = 0.3, start = 3, end=50, step=5):\n",
    "    models = []\n",
    "    for dataset in tokenized_datasets:\n",
    "        print(f\"working on {dataset} dataset\")\n",
    "        dataset_models = dict()\n",
    "        coherences = []\n",
    "        _old = time()\n",
    "        for n_topic in range(start, end, step):\n",
    "            __old = time()\n",
    "            print(f\"training lda model for {n_topic} topic\")\n",
    "            lda_model = LdaMulticore(corpus=corpus[dataset],\n",
    "                                       id2word=id2word[dataset],\n",
    "                                       num_topics=n_topic,\n",
    "                                       random_state=42,\n",
    "                                       chunksize=15,\n",
    "                                       passes=10,\n",
    "                                       iterations=5,\n",
    "                                       alpha=alpha,\n",
    "                                       eta=eta,\n",
    "                                      workers = 4)\n",
    "            print(f\"calculating coherence\")\n",
    "            coherences.append(CoherenceModel(model=lda_model,\n",
    "                           texts=tokenized_datasets[dataset],\n",
    "                           dictionary=id2word[dataset],\n",
    "                           coherence='c_v').get_coherence())\n",
    "            dataset_models[str(n_topic)] = lda_model\n",
    "            print(f\"===================> {time() - __old}\")\n",
    "        print(f\"total time on {dataset} is {time()-_old}\")\n",
    "        models.append((dataset, dataset_models, coherences))\n",
    "    return models"
   ]
  },
  {
   "cell_type": "markdown",
   "id": "abe1d8b2-98f8-43f2-8455-44a3ba580885",
   "metadata": {
    "jp-MarkdownHeadingCollapsed": true,
    "tags": []
   },
   "source": [
    "### Entraînement de LDA avec un nombre de topics de 3 à 30 et un pas de 3."
   ]
  },
  {
   "cell_type": "code",
   "execution_count": null,
   "id": "418f69a1-549e-41b1-aa54-76479c8fdc29",
   "metadata": {},
   "outputs": [],
   "source": [
    "old = time()\n",
    "t = best_topic_number(tokenized_datasets, all_id2word, all_corpus, start=3, end=30,step=3)\n",
    "print(f\"duration : {time()-old}\")"
   ]
  },
  {
   "cell_type": "markdown",
   "id": "bec61127-2947-4d27-8a99-bb52ad493887",
   "metadata": {},
   "source": [
    "Le temps total d'entraînement des modèles LDA est de 867s <=> 14min"
   ]
  },
  {
   "cell_type": "code",
   "execution_count": 12,
   "id": "12109415-ff78-46ab-88d8-24fba3d1a237",
   "metadata": {},
   "outputs": [],
   "source": [
    "all_results = []\n",
    "for i in t:\n",
    "    coherences = []\n",
    "    topics = []\n",
    "    for _i, topic in enumerate(i[1]):\n",
    "        topics.append(int(topic))\n",
    "        coherences.append(i[2][_i])\n",
    "    all_results.append((i[0], topics, coherences))"
   ]
  },
  {
   "cell_type": "markdown",
   "id": "9c863f72-28b9-4c91-9f27-2b5cc695b3a1",
   "metadata": {
    "tags": []
   },
   "source": [
    "### Changement de coherence en fonction de nombre de topics extraite"
   ]
  },
  {
   "cell_type": "markdown",
   "id": "c2b9bab7-0e7e-4b1c-81be-cb50c5896c13",
   "metadata": {
    "jp-MarkdownHeadingCollapsed": true,
    "tags": []
   },
   "source": [
    "#### TripAdvisor dataset"
   ]
  },
  {
   "cell_type": "code",
   "execution_count": 13,
   "id": "1b8cf786-6152-4e02-b833-37e37d167272",
   "metadata": {},
   "outputs": [
    {
     "data": {
      "text/plain": [
       "[Text(0.5, 1.0, 'lda coherence results on tripadvisor dataset')]"
      ]
     },
     "execution_count": 13,
     "metadata": {},
     "output_type": "execute_result"
    },
    {
     "data": {
      "image/png": "[encoded data removed]",
      "text/plain": [
       "<Figure size 432x288 with 1 Axes>"
      ]
     },
     "metadata": {
      "needs_background": "light"
     },
     "output_type": "display_data"
    }
   ],
   "source": [
    "sns.lineplot(x=all_results[0][1], y=all_results[0][2]).set(title = \"lda coherence results on tripadvisor dataset\")"
   ]
  },
  {
   "cell_type": "markdown",
   "id": "1c30a410-63aa-4362-b3f0-da77fe1990bc",
   "metadata": {},
   "source": [
    "**Valeur de cohérence maximale et nombre du topics correspondant.**"
   ]
  },
  {
   "cell_type": "code",
   "execution_count": 14,
   "id": "da43f046-be8e-49d8-aa0a-2b36172c27d5",
   "metadata": {},
   "outputs": [
    {
     "data": {
      "text/plain": [
       "(0.4870584015932558, 6)"
      ]
     },
     "execution_count": 14,
     "metadata": {},
     "output_type": "execute_result"
    }
   ],
   "source": [
    "max(all_results[0][2]), all_results[0][1][all_results[0][2].index(max(all_results[0][2]))]"
   ]
  },
  {
   "cell_type": "code",
   "execution_count": 66,
   "id": "0729da7f-0f8d-425e-bb89-29742eb89e89",
   "metadata": {},
   "outputs": [
    {
     "name": "stderr",
     "output_type": "stream",
     "text": [
      "e:\\pychcarmprojects\\s4\\servqc_ml\\venv\\lib\\site-packages\\pyLDAvis\\_prepare.py:246: FutureWarning: In a future version of pandas all arguments of DataFrame.drop except for the argument 'labels' will be keyword-only.\n",
      "  default_term_info = default_term_info.sort_values(\n"
     ]
    }
   ],
   "source": [
    "pyLDAvis.save_html(pyLDAvis.gensim_models.prepare(t[0][1]['6'], corpus=all_corpus['tripadvisor'], dictionary=all_id2word['tripadvisor']), \"tripadvisor_3_30_6.html\")"
   ]
  },
  {
   "cell_type": "markdown",
   "id": "f4801a51-c25d-41a4-b200-838b09c2f8b8",
   "metadata": {},
   "source": [
    "[consulter le fichier /lda_graphs/tripadvisor_3_30_6.html](../lda_graphs/tripadvisor_3_30_6.html)"
   ]
  },
  {
   "cell_type": "code",
   "execution_count": 8,
   "id": "5f7568e9-a5d2-434a-801c-2e73830f340f",
   "metadata": {},
   "outputs": [],
   "source": [
    "# HTML(filename='../lda_graphs/tripadvisor_3_30_6.html')"
   ]
  },
  {
   "cell_type": "code",
   "execution_count": 72,
   "id": "b13c27b7-ef54-47c9-94c4-1f38e7757b5d",
   "metadata": {},
   "outputs": [
    {
     "data": {
      "text/plain": [
       "[(0,\n",
       "  '0.091*\"room\" + 0.041*\"clean\" + 0.038*\"rooms\" + 0.033*\"small\" + 0.025*\"comfortable\" + 0.017*\"bathroom\" + 0.015*\"hotel\" + 0.015*\"nice\" + 0.013*\"well\" + 0.013*\"shower\"'),\n",
       " (1,\n",
       "  '0.091*\"staff\" + 0.048*\"breakfast\" + 0.047*\"friendly\" + 0.041*\"helpful\" + 0.039*\"good\" + 0.030*\"service\" + 0.029*\"nice\" + 0.024*\"hotel\" + 0.018*\"excellent\" + 0.017*\"great\"'),\n",
       " (2,\n",
       "  '0.089*\"hotel\" + 0.050*\"stay\" + 0.039*\"would\" + 0.035*\"paris\" + 0.017*\"recommend\" + 0.015*\"definitely\" + 0.015*\"stayed\" + 0.015*\"garden\" + 0.011*\"wonderful\" + 0.011*\"place\"'),\n",
       " (3,\n",
       "  '0.031*\"free\" + 0.029*\"breakfast\" + 0.021*\"day\" + 0.020*\"drinks\" + 0.019*\"bar\" + 0.018*\"also\" + 0.017*\"coffee\" + 0.014*\"snacks\" + 0.014*\"nice\" + 0.014*\"food\"'),\n",
       " (4,\n",
       "  '0.047*\"location\" + 0.040*\"hotel\" + 0.036*\"great\" + 0.022*\"walk\" + 0.021*\"metro\" + 0.017*\"good\" + 0.016*\"eiffel\" + 0.016*\"close\" + 0.014*\"tower\" + 0.014*\"restaurants\"'),\n",
       " (5,\n",
       "  '0.030*\"nt\" + 0.021*\"one\" + 0.020*\"us\" + 0.018*\"night\" + 0.013*\"could\" + 0.011*\"get\" + 0.009*\"even\" + 0.008*\"time\" + 0.008*\"better\" + 0.007*\"check\"')]"
      ]
     },
     "execution_count": 72,
     "metadata": {},
     "output_type": "execute_result"
    }
   ],
   "source": [
    "t[0][1]['6'].print_topics()"
   ]
  },
  {
   "cell_type": "markdown",
   "id": "1ecdee57-4d0b-4b57-a83d-2966a1995777",
   "metadata": {
    "jp-MarkdownHeadingCollapsed": true,
    "tags": []
   },
   "source": [
    "#### Booking dataset"
   ]
  },
  {
   "cell_type": "code",
   "execution_count": 16,
   "id": "ffa89247-3b92-41a9-9a4a-08d3fd95f66e",
   "metadata": {},
   "outputs": [
    {
     "data": {
      "text/plain": [
       "[Text(0.5, 1.0, 'lda coherence results on booking dataset')]"
      ]
     },
     "execution_count": 16,
     "metadata": {},
     "output_type": "execute_result"
    },
    {
     "data": {
      "image/png": "[encoded data removed]",
      "text/plain": [
       "<Figure size 432x288 with 1 Axes>"
      ]
     },
     "metadata": {
      "needs_background": "light"
     },
     "output_type": "display_data"
    }
   ],
   "source": [
    "sns.lineplot(x=all_results[1][1], y=all_results[1][2]).set(title = \"lda coherence results on booking dataset\")"
   ]
  },
  {
   "cell_type": "markdown",
   "id": "b1346056-0ab4-473d-972c-206bfc9fa4a2",
   "metadata": {},
   "source": [
    "**Valeur de cohérence maximale et nombre du topics correspondant.**"
   ]
  },
  {
   "cell_type": "code",
   "execution_count": 17,
   "id": "b009d30a-2d97-47d9-8b79-4c527688052f",
   "metadata": {},
   "outputs": [
    {
     "data": {
      "text/plain": [
       "(0.4734682138808609, 21)"
      ]
     },
     "execution_count": 17,
     "metadata": {},
     "output_type": "execute_result"
    }
   ],
   "source": [
    "max(all_results[1][2]), all_results[1][1][all_results[1][2].index(max(all_results[1][2]))]"
   ]
  },
  {
   "cell_type": "code",
   "execution_count": 64,
   "id": "cd7aa7e3-2876-489a-8a49-9673ed06a595",
   "metadata": {},
   "outputs": [
    {
     "name": "stderr",
     "output_type": "stream",
     "text": [
      "e:\\pychcarmprojects\\s4\\servqc_ml\\venv\\lib\\site-packages\\pyLDAvis\\_prepare.py:246: FutureWarning: In a future version of pandas all arguments of DataFrame.drop except for the argument 'labels' will be keyword-only.\n",
      "  default_term_info = default_term_info.sort_values(\n"
     ]
    }
   ],
   "source": [
    "pyLDAvis.save_html(pyLDAvis.gensim_models.prepare(t[1][1]['21'], corpus=all_corpus['booking'], dictionary=all_id2word['booking']), \"booking_3_30_21.html\")"
   ]
  },
  {
   "cell_type": "markdown",
   "id": "fee9055b-d543-44ef-8535-4aa995048d55",
   "metadata": {},
   "source": [
    "[consulter le fichier /lda_graphs/booking_3_30_21.html](../lda_graphs/booking_3_30_21.html)"
   ]
  },
  {
   "cell_type": "code",
   "execution_count": 7,
   "id": "0fb379c5-2b16-4c43-9950-89a38c0ce7a7",
   "metadata": {},
   "outputs": [],
   "source": [
    "# HTML(filename='../lda_graphs/booking_3_30_21.html')"
   ]
  },
  {
   "cell_type": "code",
   "execution_count": 73,
   "id": "6be2596d-99e5-4e40-a8e8-2989b41ce511",
   "metadata": {},
   "outputs": [
    {
     "data": {
      "text/plain": [
       "[(7,\n",
       "  '0.039*\"bit\" + 0.030*\"little\" + 0.013*\"quality\" + 0.011*\"light\" + 0.011*\"far\" + 0.009*\"walls\" + 0.009*\"photos\" + 0.009*\"taxi\" + 0.008*\"looked\" + 0.007*\"decent\"'),\n",
       " (1,\n",
       "  '0.041*\"could\" + 0.036*\"also\" + 0.024*\"area\" + 0.019*\"parking\" + 0.017*\"sleep\" + 0.017*\"luggage\" + 0.016*\"safe\" + 0.015*\"people\" + 0.012*\"hotel\" + 0.010*\"quiet\"'),\n",
       " (10,\n",
       "  '0.056*\"everything\" + 0.047*\"like\" + 0.041*\"uncomfortable\" + 0.019*\"beds\" + 0.015*\"old\" + 0.008*\"turn\" + 0.006*\"pillows\" + 0.006*\"else\" + 0.005*\"bed\" + 0.004*\"soft\"'),\n",
       " (2,\n",
       "  '0.040*\"price\" + 0.034*\"bad\" + 0.033*\"service\" + 0.016*\"leave\" + 0.015*\"smell\" + 0.015*\"hotel\" + 0.014*\"noisy\" + 0.014*\"windows\" + 0.012*\"staffs\" + 0.010*\"customer\"'),\n",
       " (11,\n",
       "  '0.040*\"hotel\" + 0.039*\"metro\" + 0.032*\"near\" + 0.025*\"station\" + 0.025*\"perfect\" + 0.023*\"much\" + 0.022*\"location\" + 0.022*\"paris\" + 0.020*\"close\" + 0.019*\"problem\"'),\n",
       " (5,\n",
       "  '0.094*\"bathroom\" + 0.054*\"tiny\" + 0.025*\"day\" + 0.024*\"tidy\" + 0.023*\"heating\" + 0.014*\"every\" + 0.013*\"two\" + 0.010*\"worked\" + 0.010*\"fresh\" + 0.009*\"cleaned\"'),\n",
       " (18,\n",
       "  '0.022*\"worked\" + 0.019*\"stuff\" + 0.018*\"convenient\" + 0.015*\"bar\" + 0.014*\"terrible\" + 0.006*\"ideal\" + 0.004*\"mould\" + 0.003*\"brilliant\" + 0.003*\"strike\" + 0.003*\"fire\"'),\n",
       " (19,\n",
       "  '0.048*\"place\" + 0.017*\"especially\" + 0.017*\"cleaning\" + 0.016*\"horrible\" + 0.015*\"looking\" + 0.013*\"stay\" + 0.013*\"available\" + 0.012*\"working\" + 0.012*\"towels\" + 0.009*\"needs\"'),\n",
       " (13,\n",
       "  '0.041*\"room\" + 0.031*\"nt\" + 0.025*\"shower\" + 0.019*\"us\" + 0.019*\"night\" + 0.018*\"hot\" + 0.015*\"one\" + 0.014*\"door\" + 0.014*\"water\" + 0.012*\"first\"'),\n",
       " (8,\n",
       "  '0.149*\"good\" + 0.098*\"location\" + 0.057*\"breakfast\" + 0.047*\"great\" + 0.034*\"comfortable\" + 0.025*\"hotel\" + 0.022*\"view\" + 0.020*\"nice\" + 0.018*\"excellent\" + 0.015*\"personal\"'),\n",
       " (20,\n",
       "  '0.015*\"always\" + 0.009*\"stop\" + 0.009*\"others\" + 0.009*\"non\" + 0.007*\"whole\" + 0.006*\"control\" + 0.006*\"couple\" + 0.005*\"temperature\" + 0.003*\"corridor\" + 0.003*\"milk\"'),\n",
       " (3,\n",
       "  '0.157*\"staff\" + 0.058*\"friendly\" + 0.034*\"helpful\" + 0.026*\"kind\" + 0.025*\"reception\" + 0.020*\"english\" + 0.018*\"speak\" + 0.017*\"restaurant\" + 0.016*\"members\" + 0.015*\"annoying\"'),\n",
       " (12,\n",
       "  '0.053*\"airport\" + 0.028*\"shuttle\" + 0.028*\"thing\" + 0.022*\"free\" + 0.021*\"bus\" + 0.020*\"hotel\" + 0.017*\"stayed\" + 0.016*\"many\" + 0.015*\"far\" + 0.015*\"worst\"'),\n",
       " (9,\n",
       "  '0.128*\"room\" + 0.118*\"clean\" + 0.056*\"small\" + 0.046*\"rooms\" + 0.035*\"hotel\" + 0.028*\"bed\" + 0.015*\"central\" + 0.014*\"inconvenient\" + 0.010*\"well\" + 0.008*\"inside\"'),\n",
       " (6,\n",
       "  '0.066*\"really\" + 0.022*\"ok\" + 0.018*\"made\" + 0.011*\"lot\" + 0.011*\"feel\" + 0.010*\"absolutely\" + 0.010*\"fine\" + 0.009*\"property\" + 0.009*\"use\" + 0.008*\"simple\"'),\n",
       " (16,\n",
       "  '0.019*\"walk\" + 0.018*\"street\" + 0.015*\"way\" + 0.013*\"still\" + 0.011*\"across\" + 0.011*\"eat\" + 0.009*\"30\" + 0.008*\"tea\" + 0.008*\"even\" + 0.007*\"several\"'),\n",
       " (4,\n",
       "  '0.024*\"warm\" + 0.009*\"able\" + 0.009*\"hair\" + 0.007*\"hour\" + 0.006*\"dryer\" + 0.006*\"welcome\" + 0.006*\"actually\" + 0.004*\"dry\" + 0.004*\"thanks\" + 0.004*\"bread\"'),\n",
       " (17,\n",
       "  '0.008*\"unpleasant\" + 0.007*\"sorry\" + 0.006*\"manager\" + 0.006*\"internet\" + 0.005*\"dirt\" + 0.003*\"weak\" + 0.003*\"connection\" + 0.003*\"total\" + 0.003*\"rip\" + 0.002*\"name\"'),\n",
       " (15,\n",
       "  '0.032*\"dirty\" + 0.026*\"cheap\" + 0.023*\"poor\" + 0.011*\"however\" + 0.010*\"budget\" + 0.010*\"loud\" + 0.007*\"cool\" + 0.006*\"orly\" + 0.006*\"french\" + 0.006*\"understand\"'),\n",
       " (0,\n",
       "  '0.030*\"nothing\" + 0.028*\"easy\" + 0.028*\"get\" + 0.026*\"need\" + 0.021*\"check\" + 0.019*\"access\" + 0.017*\"tower\" + 0.015*\"eiffel\" + 0.014*\"definitely\" + 0.011*\"reach\"')]"
      ]
     },
     "execution_count": 73,
     "metadata": {},
     "output_type": "execute_result"
    }
   ],
   "source": [
    "t[1][1]['21'].print_topics()"
   ]
  },
  {
   "cell_type": "markdown",
   "id": "8a2e2358-5d77-4547-822a-1690005cc2d6",
   "metadata": {
    "jp-MarkdownHeadingCollapsed": true,
    "tags": []
   },
   "source": [
    "#### Agoda dataset"
   ]
  },
  {
   "cell_type": "code",
   "execution_count": 19,
   "id": "18d5d30b-8faa-4af5-b40f-9fbed4493cd5",
   "metadata": {},
   "outputs": [
    {
     "data": {
      "text/plain": [
       "[Text(0.5, 1.0, 'lda coherence results on agoda dataset')]"
      ]
     },
     "execution_count": 19,
     "metadata": {},
     "output_type": "execute_result"
    },
    {
     "data": {
      "image/png": "[encoded data removed]",
      "text/plain": [
       "<Figure size 432x288 with 1 Axes>"
      ]
     },
     "metadata": {
      "needs_background": "light"
     },
     "output_type": "display_data"
    }
   ],
   "source": [
    "sns.lineplot(x=all_results[2][1], y=all_results[2][2]).set(title = \"lda coherence results on agoda dataset\")"
   ]
  },
  {
   "cell_type": "markdown",
   "id": "2fb226bd-3301-4785-bee8-cef1f1c2941b",
   "metadata": {},
   "source": [
    "**Valeur de cohérence maximale et nombre du topics correspondant.**"
   ]
  },
  {
   "cell_type": "code",
   "execution_count": 20,
   "id": "196ab538-af40-4ce5-9751-0bb955e941ff",
   "metadata": {},
   "outputs": [
    {
     "data": {
      "text/plain": [
       "(0.4760930970410149, 12)"
      ]
     },
     "execution_count": 20,
     "metadata": {},
     "output_type": "execute_result"
    }
   ],
   "source": [
    "max(all_results[2][2]), all_results[2][1][all_results[2][2].index(max(all_results[2][2]))]"
   ]
  },
  {
   "cell_type": "code",
   "execution_count": 62,
   "id": "0f99b22c-ec3f-4106-91b6-92a2c195eaf9",
   "metadata": {},
   "outputs": [
    {
     "name": "stderr",
     "output_type": "stream",
     "text": [
      "e:\\pychcarmprojects\\s4\\servqc_ml\\venv\\lib\\site-packages\\pyLDAvis\\_prepare.py:246: FutureWarning: In a future version of pandas all arguments of DataFrame.drop except for the argument 'labels' will be keyword-only.\n",
      "  default_term_info = default_term_info.sort_values(\n"
     ]
    }
   ],
   "source": [
    "pyLDAvis.save_html(pyLDAvis.gensim_models.prepare(t[2][1]['12'], corpus=all_corpus['agoda'], dictionary=all_id2word['agoda']), \"agoda_3_30_12.html\")"
   ]
  },
  {
   "cell_type": "markdown",
   "id": "a5a48367-2232-4d0e-ad06-15c139fd6760",
   "metadata": {},
   "source": [
    "[consulter le fichier /lda_graphs/agoda_3_30_12.html](../lda_graphs/agoda_3_30_12.html)"
   ]
  },
  {
   "cell_type": "code",
   "execution_count": 15,
   "id": "cfa5fce2-d3c9-4535-94fa-7277ba2f1a98",
   "metadata": {},
   "outputs": [],
   "source": [
    "# HTML(filename='../lda_graphs/agoda_3_30_12.html')"
   ]
  },
  {
   "cell_type": "code",
   "execution_count": 75,
   "id": "e1bfba4f-5e1e-4903-a91a-88baf62a8a3b",
   "metadata": {},
   "outputs": [
    {
     "data": {
      "text/plain": [
       "[(0,\n",
       "  '0.017*\"hot\" + 0.013*\"hotels\" + 0.009*\"better\" + 0.009*\"size\" + 0.008*\"water\" + 0.007*\"shower\" + 0.006*\"warm\" + 0.005*\"service\" + 0.005*\"able\" + 0.005*\"time\"'),\n",
       " (1,\n",
       "  '0.031*\"breakfast\" + 0.021*\"nt\" + 0.014*\"check\" + 0.014*\"get\" + 0.013*\"hotel\" + 0.012*\"free\" + 0.010*\"hour\" + 0.009*\"even\" + 0.009*\"experience\" + 0.009*\"area\"'),\n",
       " (2,\n",
       "  '0.077*\"staff\" + 0.033*\"friendly\" + 0.032*\"helpful\" + 0.029*\"airport\" + 0.021*\"hotel\" + 0.015*\"bus\" + 0.011*\"time\" + 0.010*\"cog\" + 0.010*\"enjoyed\" + 0.009*\"351\"'),\n",
       " (3,\n",
       "  '0.010*\"many\" + 0.008*\"new\" + 0.008*\"options\" + 0.008*\"terrible\" + 0.008*\"tiny\" + 0.006*\"one\" + 0.005*\"hard\" + 0.005*\"view\" + 0.005*\"works\" + 0.005*\"surprised\"'),\n",
       " (4,\n",
       "  '0.021*\"quite\" + 0.019*\"little\" + 0.016*\"perfect\" + 0.015*\"wifi\" + 0.010*\"safe\" + 0.009*\"bit\" + 0.009*\"far\" + 0.008*\"ok\" + 0.007*\"fast\" + 0.007*\"know\"'),\n",
       " (5,\n",
       "  '0.168*\"room\" + 0.128*\"small\" + 0.046*\"tooooooooooo\" + 0.046*\"nooooooo\" + 0.030*\"clean\" + 0.022*\"rooms\" + 0.012*\"bed\" + 0.005*\"restaurant\" + 0.005*\"kind\" + 0.005*\"spacious\"'),\n",
       " (6,\n",
       "  '0.020*\"find\" + 0.017*\"luggage\" + 0.014*\"train\" + 0.011*\"take\" + 0.009*\"housekeeping\" + 0.009*\"coffee\" + 0.008*\"also\" + 0.007*\"daily\" + 0.007*\"underground\" + 0.007*\"put\"'),\n",
       " (7,\n",
       "  '0.071*\"good\" + 0.041*\"hotel\" + 0.033*\"great\" + 0.031*\"stay\" + 0.021*\"comfortable\" + 0.019*\"price\" + 0.018*\"clean\" + 0.017*\"location\" + 0.014*\"paris\" + 0.013*\"value\"'),\n",
       " (8,\n",
       "  '0.019*\"center\" + 0.017*\"bad\" + 0.013*\"really\" + 0.012*\"poor\" + 0.010*\"facilities\" + 0.010*\"easy\" + 0.009*\"super\" + 0.009*\"basic\" + 0.007*\"suitcase\" + 0.007*\"inside\"'),\n",
       " (9,\n",
       "  '0.068*\"metro\" + 0.035*\"station\" + 0.022*\"location\" + 0.019*\"paris\" + 0.016*\"hotel\" + 0.014*\"close\" + 0.011*\"near\" + 0.011*\"front\" + 0.010*\"walk\" + 0.010*\"away\"'),\n",
       " (10,\n",
       "  '0.019*\"open\" + 0.018*\"window\" + 0.017*\"need\" + 0.017*\"fresh\" + 0.008*\"rest\" + 0.008*\"excellent\" + 0.008*\"wise\" + 0.008*\"budget\" + 0.007*\"provided\" + 0.006*\"make\"'),\n",
       " (11,\n",
       "  '0.053*\"location\" + 0.038*\"nice\" + 0.028*\"easy\" + 0.014*\"hotel\" + 0.014*\"access\" + 0.013*\"good\" + 0.013*\"us\" + 0.010*\"distance\" + 0.010*\"supermarket\" + 0.010*\"mall\"')]"
      ]
     },
     "execution_count": 75,
     "metadata": {},
     "output_type": "execute_result"
    }
   ],
   "source": [
    "t[2][1]['12'].print_topics()"
   ]
  },
  {
   "cell_type": "markdown",
   "id": "7da67927-ca1d-4635-9157-a0c0af18234e",
   "metadata": {
    "jp-MarkdownHeadingCollapsed": true,
    "tags": []
   },
   "source": [
    "#### Agoda_london dataset"
   ]
  },
  {
   "cell_type": "code",
   "execution_count": 22,
   "id": "0913071b-fa0e-4874-a666-adbf4c61b175",
   "metadata": {},
   "outputs": [
    {
     "data": {
      "text/plain": [
       "[Text(0.5, 1.0, 'lda coherence results on agoda_london dataset')]"
      ]
     },
     "execution_count": 22,
     "metadata": {},
     "output_type": "execute_result"
    },
    {
     "data": {
      "image/png": "[encoded data removed]",
      "text/plain": [
       "<Figure size 432x288 with 1 Axes>"
      ]
     },
     "metadata": {
      "needs_background": "light"
     },
     "output_type": "display_data"
    }
   ],
   "source": [
    "sns.lineplot(x=all_results[3][1], y=all_results[3][2]).set(title = \"lda coherence results on agoda_london dataset\")"
   ]
  },
  {
   "cell_type": "markdown",
   "id": "3f9a42d5-7064-4f6b-865d-0115b4285b9a",
   "metadata": {},
   "source": [
    "**Valeur de cohérence maximale et nombre du topics correspondant.**"
   ]
  },
  {
   "cell_type": "code",
   "execution_count": 23,
   "id": "f55e9b83-0c63-4f92-8967-f80895135d66",
   "metadata": {},
   "outputs": [
    {
     "data": {
      "text/plain": [
       "(0.5082606379454042, 27)"
      ]
     },
     "execution_count": 23,
     "metadata": {},
     "output_type": "execute_result"
    }
   ],
   "source": [
    "max(all_results[3][2]), all_results[3][1][all_results[3][2].index(max(all_results[3][2]))]"
   ]
  },
  {
   "cell_type": "code",
   "execution_count": 60,
   "id": "c157f47e-ac18-4890-bce3-5ac6f01c6ac0",
   "metadata": {},
   "outputs": [
    {
     "name": "stderr",
     "output_type": "stream",
     "text": [
      "e:\\pychcarmprojects\\s4\\servqc_ml\\venv\\lib\\site-packages\\pyLDAvis\\_prepare.py:246: FutureWarning: In a future version of pandas all arguments of DataFrame.drop except for the argument 'labels' will be keyword-only.\n",
      "  default_term_info = default_term_info.sort_values(\n"
     ]
    }
   ],
   "source": [
    "# pyLDAvis.save_html(pyLDAvis.gensim_models.prepare(t[3][1]['27'], corpus=all_corpus['agoda_london'], dictionary=all_id2word['agoda_london']), \"agoda_london_3_30_27.html\")"
   ]
  },
  {
   "cell_type": "markdown",
   "id": "e161536d-3b15-4309-b2bd-643e9209fa09",
   "metadata": {},
   "source": [
    "[consulter le fichier /lda_graphs/agoda_london_3_30_27.html](../lda_graphs/agoda_london_3_30_27.html)"
   ]
  },
  {
   "cell_type": "code",
   "execution_count": 14,
   "id": "03eb4452-38e1-467b-a34f-ed33059c7484",
   "metadata": {},
   "outputs": [],
   "source": [
    "#HTML(filename='../lda_graphs/agoda_london_3_30_27.html')"
   ]
  },
  {
   "cell_type": "code",
   "execution_count": 76,
   "id": "4df0d587-62f8-4c08-861d-9ea13dd2abe7",
   "metadata": {},
   "outputs": [
    {
     "data": {
      "text/plain": [
       "[(14,\n",
       "  '0.007*\"holiday\" + 0.006*\"disappointed\" + 0.006*\"trip\" + 0.004*\"charged\" + 0.004*\"spoilt\" + 0.004*\"wasting\" + 0.004*\"spent\" + 0.004*\"conceded\" + 0.004*\"precious\" + 0.004*\"3h\"'),\n",
       " (21,\n",
       "  '0.014*\"tv\" + 0.004*\"shared\" + 0.003*\"toilets\" + 0.002*\"wall\" + 0.002*\"dated\" + 0.002*\"get\" + 0.002*\"overall\" + 0.002*\"toiletries\" + 0.002*\"state\" + 0.002*\"unit\"'),\n",
       " (17,\n",
       "  '0.022*\"wifi\" + 0.020*\"excellent\" + 0.013*\"time\" + 0.009*\"make\" + 0.009*\"hotel\" + 0.009*\"open\" + 0.008*\"able\" + 0.008*\"budget\" + 0.008*\"check\" + 0.008*\"front\"'),\n",
       " (11,\n",
       "  '0.033*\"could\" + 0.032*\"stay\" + 0.014*\"airport\" + 0.008*\"outdated\" + 0.008*\"fine\" + 0.008*\"facilities\" + 0.007*\"larger\" + 0.007*\"maintenance\" + 0.007*\"enjoyed\" + 0.007*\"heathrow\"'),\n",
       " (2,\n",
       "  '0.012*\"windows\" + 0.004*\"floors\" + 0.004*\"deep\" + 0.003*\"opened\" + 0.002*\"flow\" + 0.002*\"shuttered\" + 0.002*\"looked\" + 0.002*\"pleased\" + 0.002*\"facilities\" + 0.002*\"air\"'),\n",
       " (4,\n",
       "  '0.021*\"like\" + 0.019*\"service\" + 0.011*\"value\" + 0.011*\"whole\" + 0.010*\"cleaning\" + 0.008*\"hostel\" + 0.008*\"previous\" + 0.008*\"bathrooms\" + 0.007*\"night\" + 0.007*\"money\"'),\n",
       " (22,\n",
       "  '0.041*\"location\" + 0.040*\"good\" + 0.036*\"staff\" + 0.034*\"great\" + 0.029*\"hotel\" + 0.022*\"friendly\" + 0.021*\"station\" + 0.020*\"helpful\" + 0.020*\"nt\" + 0.019*\"reddington\"'),\n",
       " (18,\n",
       "  '0.003*\"loved\" + 0.001*\"gesture\" + 0.001*\"benefit\" + 0.001*\"ps\" + 0.001*\"carpet\" + 0.001*\"expect\" + 0.001*\"works\" + 0.001*\"weekend\" + 0.001*\"topothesia\" + 0.001*\"shady\"'),\n",
       " (16,\n",
       "  '0.030*\"comfortable\" + 0.019*\"hotel\" + 0.016*\"also\" + 0.014*\"room\" + 0.014*\"ok\" + 0.011*\"staying\" + 0.010*\"window\" + 0.009*\"need\" + 0.008*\"morning\" + 0.008*\"photos\"'),\n",
       " (23,\n",
       "  '0.003*\"care\" + 0.003*\"pub\" + 0.003*\"located\" + 0.003*\"well\" + 0.003*\"new\" + 0.003*\"distance\" + 0.003*\"carrying\" + 0.003*\"meant\" + 0.003*\"hospitality\" + 0.003*\"decency\"'),\n",
       " (10,\n",
       "  '0.008*\"main\" + 0.006*\"light\" + 0.004*\"faulty\" + 0.002*\"underfloor\" + 0.002*\"outlets\" + 0.001*\"attractive\" + 0.001*\"major\" + 0.001*\"complaint\" + 0.001*\"huge\" + 0.001*\"well\"'),\n",
       " (25,\n",
       "  '0.002*\"period\" + 0.001*\"perfectly\" + 0.001*\"cheap\" + 0.001*\"adequate\" + 0.001*\"gesture\" + 0.001*\"benefit\" + 0.001*\"ps\" + 0.001*\"needs\" + 0.001*\"carpet\" + 0.001*\"expect\"'),\n",
       " (7,\n",
       "  '0.009*\"way\" + 0.006*\"meant\" + 0.005*\"huge\" + 0.005*\"back\" + 0.004*\"coming\" + 0.004*\"cramped\" + 0.004*\"deluxe\" + 0.003*\"luggage\" + 0.003*\"asia\" + 0.003*\"lugged\"'),\n",
       " (0,\n",
       "  '0.001*\"gesture\" + 0.001*\"benefit\" + 0.001*\"ps\" + 0.001*\"carpet\" + 0.001*\"expect\" + 0.001*\"works\" + 0.001*\"weekend\" + 0.001*\"topothesia\" + 0.001*\"shady\" + 0.001*\"correct\"'),\n",
       " (8,\n",
       "  '0.029*\"floor\" + 0.013*\"first\" + 0.011*\"man\" + 0.007*\"parking\" + 0.007*\"every\" + 0.007*\"free\" + 0.005*\"high\" + 0.005*\"top\" + 0.005*\"ord\" + 0.005*\"ith\"'),\n",
       " (26,\n",
       "  '0.010*\"sure\" + 0.007*\"otherwise\" + 0.006*\"deposit\" + 0.004*\"recommended\" + 0.004*\"finally\" + 0.004*\"lol\" + 0.004*\"50\" + 0.003*\"etc\" + 0.003*\"damages\" + 0.003*\"highly\"'),\n",
       " (12,\n",
       "  '0.011*\"broken\" + 0.004*\"sash\" + 0.003*\"wardrobe\" + 0.003*\"without\" + 0.002*\"falling\" + 0.002*\"whim\" + 0.002*\"apart\" + 0.002*\"poorly\" + 0.002*\"maintained\" + 0.002*\"slightest\"'),\n",
       " (5,\n",
       "  '0.021*\"stay\" + 0.020*\"definitely\" + 0.018*\"everything\" + 0.010*\"happy\" + 0.009*\"got\" + 0.009*\"full\" + 0.009*\"reservation\" + 0.007*\"bring\" + 0.006*\"working\" + 0.005*\"soap\"'),\n",
       " (20,\n",
       "  '0.090*\"small\" + 0.041*\"room\" + 0.020*\"little\" + 0.017*\"people\" + 0.015*\"beds\" + 0.010*\"stairs\" + 0.009*\"lift\" + 0.008*\"heavy\" + 0.008*\"bathroom\" + 0.007*\"smell\"'),\n",
       " (19,\n",
       "  '0.025*\"even\" + 0.011*\"dark\" + 0.009*\"hair\" + 0.007*\"parts\" + 0.007*\"little\" + 0.006*\"thahyiq\" + 0.006*\"summer\" + 0.006*\"boss\" + 0.006*\"services\" + 0.006*\"warm\"')]"
      ]
     },
     "execution_count": 76,
     "metadata": {},
     "output_type": "execute_result"
    }
   ],
   "source": [
    "t[3][1]['27'].print_topics()"
   ]
  },
  {
   "cell_type": "markdown",
   "id": "f32a45b3-d703-413b-b028-82cfdbf9eb7b",
   "metadata": {
    "jp-MarkdownHeadingCollapsed": true,
    "tags": []
   },
   "source": [
    "#### TripAdvisor_london dataset"
   ]
  },
  {
   "cell_type": "code",
   "execution_count": 25,
   "id": "bed5c240-9bb5-4568-a85c-44eabdac50de",
   "metadata": {},
   "outputs": [
    {
     "data": {
      "text/plain": [
       "[Text(0.5, 1.0, 'lda coherence results on tripadvisor_london dataset')]"
      ]
     },
     "execution_count": 25,
     "metadata": {},
     "output_type": "execute_result"
    },
    {
     "data": {
      "image/png": "[encoded data removed]",
      "text/plain": [
       "<Figure size 432x288 with 1 Axes>"
      ]
     },
     "metadata": {
      "needs_background": "light"
     },
     "output_type": "display_data"
    }
   ],
   "source": [
    "sns.lineplot(x=all_results[4][1], y=all_results[4][2]).set(title = \"lda coherence results on tripadvisor_london dataset\")"
   ]
  },
  {
   "cell_type": "markdown",
   "id": "8e813637-c675-4db9-8d5b-5ced7c7c3d88",
   "metadata": {},
   "source": [
    "**Valeur de cohérence maximale et nombre du topics correspondant.**"
   ]
  },
  {
   "cell_type": "code",
   "execution_count": 26,
   "id": "8ccc2ae8-c0b3-4ae6-8e63-a5c0e45e4788",
   "metadata": {},
   "outputs": [
    {
     "data": {
      "text/plain": [
       "(0.4727411057468282, 24)"
      ]
     },
     "execution_count": 26,
     "metadata": {},
     "output_type": "execute_result"
    }
   ],
   "source": [
    "max(all_results[4][2]), all_results[4][1][all_results[4][2].index(max(all_results[4][2]))]"
   ]
  },
  {
   "cell_type": "code",
   "execution_count": 59,
   "id": "46fbc750-9b36-45c3-a056-229df2d42237",
   "metadata": {},
   "outputs": [
    {
     "name": "stderr",
     "output_type": "stream",
     "text": [
      "e:\\pychcarmprojects\\s4\\servqc_ml\\venv\\lib\\site-packages\\pyLDAvis\\_prepare.py:246: FutureWarning: In a future version of pandas all arguments of DataFrame.drop except for the argument 'labels' will be keyword-only.\n",
      "  default_term_info = default_term_info.sort_values(\n"
     ]
    }
   ],
   "source": [
    "pyLDAvis.save_html(pyLDAvis.gensim_models.prepare(t[4][1]['24'], corpus=all_corpus['tripadvisor_london'], dictionary=all_id2word['tripadvisor_london']), \"tripadvisor_london_3_30_24.html\")"
   ]
  },
  {
   "cell_type": "markdown",
   "id": "86d576b5-eaa9-4467-8676-024c8407df32",
   "metadata": {},
   "source": [
    "[consulter le fichier /lda_graphs/tripadvisor_london_3_30_24.html](../lda_graphs/tripadvisor_london_3_30_24.html)"
   ]
  },
  {
   "cell_type": "code",
   "execution_count": 17,
   "id": "50faa585-2c87-4697-9867-46d997121849",
   "metadata": {},
   "outputs": [],
   "source": [
    "# HTML(filename='../lda_graphs/tripadvisor_london_3_30_24.html')"
   ]
  },
  {
   "cell_type": "code",
   "execution_count": 77,
   "id": "1326657d-87f7-4f3c-be5e-263ccfa5b450",
   "metadata": {},
   "outputs": [
    {
     "data": {
      "text/plain": [
       "[(15,\n",
       "  '0.031*\"restaurant\" + 0.029*\"view\" + 0.018*\"offered\" + 0.016*\"drinks\" + 0.013*\"guest\" + 0.012*\"safe\" + 0.011*\"complimentary\" + 0.011*\"going\" + 0.010*\"nearby\" + 0.009*\"available\"'),\n",
       " (4,\n",
       "  '0.101*\"room\" + 0.059*\"staff\" + 0.036*\"clean\" + 0.035*\"hotel\" + 0.031*\"friendly\" + 0.023*\"nice\" + 0.023*\"rooms\" + 0.022*\"bed\" + 0.022*\"comfortable\" + 0.021*\"helpful\"'),\n",
       " (18,\n",
       "  '0.026*\"sleep\" + 0.019*\"quite\" + 0.013*\"part\" + 0.009*\"large\" + 0.009*\"throughout\" + 0.008*\"took\" + 0.008*\"dry\" + 0.007*\"iron\" + 0.006*\"wifi\" + 0.005*\"needs\"'),\n",
       " (14,\n",
       "  '0.024*\"lobby\" + 0.012*\"gorgeous\" + 0.010*\"book\" + 0.009*\"quick\" + 0.008*\"impressed\" + 0.008*\"ceiling\" + 0.006*\"professional\" + 0.005*\"freezing\" + 0.005*\"elevators\" + 0.004*\"telephone\"'),\n",
       " (9,\n",
       "  '0.024*\"open\" + 0.017*\"end\" + 0.017*\"door\" + 0.016*\"deluxe\" + 0.011*\"right\" + 0.010*\"across\" + 0.010*\"personal\" + 0.006*\"west\" + 0.005*\"nearly\" + 0.005*\"world\"'),\n",
       " (1,\n",
       "  '0.116*\"great\" + 0.066*\"location\" + 0.059*\"london\" + 0.036*\"excellent\" + 0.028*\"hotel\" + 0.020*\"city\" + 0.018*\"fantastic\" + 0.014*\"tube\" + 0.013*\"station\" + 0.012*\"algae\"'),\n",
       " (21,\n",
       "  '0.023*\"many\" + 0.020*\"say\" + 0.019*\"walk\" + 0.014*\"close\" + 0.013*\"away\" + 0.012*\"hotel\" + 0.011*\"garden\" + 0.011*\"price\" + 0.011*\"covent\" + 0.010*\"need\"'),\n",
       " (17,\n",
       "  '0.021*\"went\" + 0.018*\"time\" + 0.017*\"way\" + 0.017*\"told\" + 0.014*\"full\" + 0.012*\"lots\" + 0.011*\"pretty\" + 0.010*\"noise\" + 0.010*\"buffet\" + 0.009*\"reviews\"'),\n",
       " (3,\n",
       "  '0.032*\"free\" + 0.029*\"small\" + 0.024*\"day\" + 0.016*\"hot\" + 0.013*\"touch\" + 0.012*\"used\" + 0.011*\"given\" + 0.011*\"drink\" + 0.009*\"choice\" + 0.009*\"fridge\"'),\n",
       " (2,\n",
       "  '0.074*\"lovely\" + 0.039*\"even\" + 0.020*\"things\" + 0.016*\"bit\" + 0.012*\"central\" + 0.011*\"around\" + 0.010*\"air\" + 0.010*\"short\" + 0.008*\"kept\" + 0.007*\"let\"'),\n",
       " (8,\n",
       "  '0.031*\"make\" + 0.019*\"walking\" + 0.017*\"weekend\" + 0.013*\"guests\" + 0.012*\"distance\" + 0.010*\"tower\" + 0.008*\"option\" + 0.008*\"market\" + 0.007*\"ideal\" + 0.007*\"fabulous\"'),\n",
       " (23,\n",
       "  '0.023*\"better\" + 0.023*\"first\" + 0.015*\"beds\" + 0.013*\"far\" + 0.013*\"suite\" + 0.011*\"asked\" + 0.011*\"give\" + 0.011*\"thought\" + 0.010*\"windows\" + 0.010*\"arrival\"'),\n",
       " (13,\n",
       "  '0.041*\"floor\" + 0.019*\"apartment\" + 0.016*\"ith\" + 0.015*\"birthday\" + 0.014*\"looking\" + 0.014*\"top\" + 0.014*\"new\" + 0.009*\"hard\" + 0.008*\"upgrade\" + 0.007*\"treat\"'),\n",
       " (11,\n",
       "  '0.025*\"disappointed\" + 0.016*\"surprised\" + 0.012*\"whole\" + 0.010*\"expected\" + 0.005*\"smell\" + 0.004*\"eggs\" + 0.003*\"egg\" + 0.003*\"previous\" + 0.003*\"treated\" + 0.003*\"diners\"'),\n",
       " (22,\n",
       "  '0.079*\"hotel\" + 0.057*\"nt\" + 0.039*\"really\" + 0.028*\"stayed\" + 0.025*\"amazing\" + 0.018*\"time\" + 0.014*\"nights\" + 0.014*\"us\" + 0.013*\"put\" + 0.010*\"thank\"'),\n",
       " (20,\n",
       "  '0.068*\"service\" + 0.024*\"food\" + 0.022*\"hotels\" + 0.020*\"cold\" + 0.019*\"poor\" + 0.018*\"quality\" + 0.014*\"customer\" + 0.014*\"lot\" + 0.012*\"best\" + 0.012*\"team\"'),\n",
       " (19,\n",
       "  '0.105*\"breakfast\" + 0.062*\"could\" + 0.019*\"trip\" + 0.018*\"although\" + 0.013*\"looked\" + 0.011*\"business\" + 0.010*\"fresh\" + 0.009*\"selection\" + 0.009*\"next\" + 0.007*\"making\"'),\n",
       " (7,\n",
       "  '0.047*\"made\" + 0.017*\"meal\" + 0.016*\"dinner\" + 0.014*\"delicious\" + 0.014*\"thanks\" + 0.012*\"key\" + 0.011*\"couple\" + 0.010*\"home\" + 0.010*\"hilton\" + 0.008*\"special\"'),\n",
       " (6,\n",
       "  '0.034*\"perfect\" + 0.023*\"still\" + 0.020*\"us\" + 0.015*\"said\" + 0.015*\"tv\" + 0.014*\"morning\" + 0.012*\"warm\" + 0.012*\"got\" + 0.011*\"try\" + 0.010*\"someone\"'),\n",
       " (10,\n",
       "  '0.081*\"good\" + 0.035*\"bar\" + 0.033*\"night\" + 0.030*\"check\" + 0.029*\"experience\" + 0.027*\"area\" + 0.021*\"lounge\" + 0.014*\"coffee\" + 0.014*\"tea\" + 0.011*\"kitchen\"')]"
      ]
     },
     "execution_count": 77,
     "metadata": {},
     "output_type": "execute_result"
    }
   ],
   "source": [
    "t[4][1]['24'].print_topics()"
   ]
  },
  {
   "cell_type": "markdown",
   "id": "336f40fc-6c73-4b13-a522-2cf797287da8",
   "metadata": {
    "tags": []
   },
   "source": [
    "#### Tableau récapitulatif."
   ]
  },
  {
   "cell_type": "markdown",
   "id": "b90ef932-52b7-4ccc-b24e-ea17d65ab1db",
   "metadata": {},
   "source": [
    "| dataset            | nombre de commentaires | nombre de phrases | nombre moyenne de mots par phrase | valeur de coherence | nombrer de topic |\n",
    "|--------------------|------------------------|-------------------|-----------------------------------|---------------------|------------------|\n",
    "| tripadvisor        | 2141                   | 10180             | 8                                 | 0.487               | 6                |\n",
    "| booking            | 1022                   | 2001              | 6                                 | 0.473               | 21               |\n",
    "| agoda              | 230                    | 452               | 6                                 | 0.476               | 12               |\n",
    "| agoda_london       | 245                    | 585               | 7                                 | 0.508               | 27               |\n",
    "| tripadvisor_london | 658                    | 3043              | 8                                 | 0.473               | 24               |"
   ]
  },
  {
   "cell_type": "markdown",
   "id": "3b3491d2-f671-4cbc-b4fe-5e86f186d8dc",
   "metadata": {},
   "source": [
    "#### Conclusions"
   ]
  },
  {
   "cell_type": "markdown",
   "id": "3f9d69c4-3efa-4acf-838e-fd467c55bafa",
   "metadata": {},
   "source": [
    "- Dans les petits jeux de données (agoda, agoda_london, tripadvisor_london, booking) le nombre de topics extraits et grands, mais la plupart des topics composés des adjectifs est ne suffis pas de déduire un nom de topics.\n",
    "- D'après la visualisation des topics, nous remarquons que les majorités des topics se regroupent dans la même région car ils se composent des mêmes mots.\n",
    "- Dans le dataset tripadvisor grand par rapport aux jeux des données précédentes, nous remarquons que le nombre de topics optimaux (la valeur de coherence le plus grand) sont petits. Si on analyse les mots qui contribuent aux topics, on remarque qu'il permet de déduire les topics. Exemple :\n",
    "    - **Topic 0**: `room , clean, rooms, small, comfortable, bathroom, hotel, nice, well, shower` (discute l'aspect room)\n",
    "    - **Topic 1**: `staff, breakfast, friendly, helpful, good, service, nice, hotel, excellent, great` (discute l'aspect service)\n",
    "    - **Topic 2**: `hotel, stay, would, paris, recommend, definitely, stayed, garden, wonderful, place` (discute l'aspect hotel\n",
    "    - **Topic 3**: `free, breakfast, day, drinks, bar, also, coffee, snacks, nice, food` (discute l'aspect food)\n",
    "    - **Topic 4** `location, hotel, great, walk, metro, good, eiffel, close, tower, restaurants` (discute l'aspect location\n",
    "    - **Topic 5**: `nt, one, us, night, could, get, even, time, better, check.` (ne pouvons pas déduire un aspects)\n",
    "- la valeur de coherence dans les 5 modèles de LDA est petite, car le modèle LDA est moins performant pour les petits textes."
   ]
  },
  {
   "cell_type": "markdown",
   "id": "c4c00c14-ec89-4a82-9d66-97cefab8e3cf",
   "metadata": {
    "tags": []
   },
   "source": [
    "### Entraînement de modèle LDA sur l'ensemble des datasets"
   ]
  },
  {
   "cell_type": "markdown",
   "id": "7f34a9cc-7e2e-42b5-8124-8d932b4ccb54",
   "metadata": {},
   "source": [
    "Dans cette partie nous regroupons les dataset dans une seul pour entraîner le modèle LDA. également nous diminuons l'intervale de nombre de topics (3 à 13 avec un pas de 1)."
   ]
  },
  {
   "cell_type": "code",
   "execution_count": 10,
   "id": "b8af6336-b9e1-4f5a-92f8-8b656d2b6eee",
   "metadata": {},
   "outputs": [],
   "source": [
    "def best_topic_number_one_dataset(tokenized_datasets, id2word, corpus, alpha = 0.2, eta = 0.3, start = 3, end=50, step=5):\n",
    "    models = []\n",
    "    coherences = []\n",
    "    _old = time()\n",
    "    for n_topic in range(start, end, step):\n",
    "        __old = time()\n",
    "        print(f\"training lda model for {n_topic} topic\")\n",
    "        lda_model = LdaMulticore(corpus=corpus,\n",
    "                                   id2word=id2word,\n",
    "                                   num_topics=n_topic,\n",
    "                                   random_state=42,\n",
    "                                   chunksize=15,\n",
    "                                   passes=10,\n",
    "                                   iterations=5,\n",
    "                                   alpha=alpha,\n",
    "                                   eta=eta,\n",
    "                                  workers = 4)\n",
    "        print(f\"calculating coherence\")\n",
    "        coherences.append(CoherenceModel(model=lda_model,\n",
    "                       texts=tokenized_datasets,\n",
    "                       dictionary=id2word,\n",
    "                       coherence='c_v').get_coherence())\n",
    "        models.append(lda_model)\n",
    "        print(f\"===================> {time() - __old}\")\n",
    "    print(f\"total time on is {time()-_old}\")\n",
    "    return models, coherences"
   ]
  },
  {
   "cell_type": "markdown",
   "id": "dde0349a-6aef-4c5d-b020-598af0e42f9c",
   "metadata": {},
   "source": [
    "#### Groupement des datasets dans une seul"
   ]
  },
  {
   "cell_type": "code",
   "execution_count": 11,
   "id": "febf1956-1910-4419-a695-fc118397e7f4",
   "metadata": {},
   "outputs": [],
   "source": [
    "merged_datasets = []\n",
    "for data in tokenized_datasets:\n",
    "    for sentence in tokenized_datasets[data]:\n",
    "        merged_datasets.append(sentence)\n",
    "    "
   ]
  },
  {
   "cell_type": "code",
   "execution_count": 12,
   "id": "e1d8dff2-903b-49d2-b614-2c053181a576",
   "metadata": {},
   "outputs": [],
   "source": [
    "merged_id2word = Dictionary(merged_datasets)\n",
    "merged_corpus = [merged_id2word.doc2bow(text) for text in merged_datasets]"
   ]
  },
  {
   "cell_type": "code",
   "execution_count": 14,
   "id": "d3a3ed60-bc2e-4083-b353-0a4b12965d08",
   "metadata": {},
   "outputs": [
    {
     "name": "stdout",
     "output_type": "stream",
     "text": [
      "training lda model for 6 topic\n",
      "calculating coherence\n",
      "===================> 58.88210892677307\n",
      "total time on is 58.88210892677307\n"
     ]
    }
   ],
   "source": [
    "lda_models, coherences = best_topic_number_one_dataset(merged_datasets,\n",
    "                                                       merged_id2word,\n",
    "                                                       merged_corpus,\n",
    "                                                       start=6, end=7, step=1)"
   ]
  },
  {
   "cell_type": "markdown",
   "id": "c9265b15-27de-415f-832b-0af03a3a2718",
   "metadata": {},
   "source": [
    "La durée totale d'entraînement des modèles LDA est de 453s <=> 7 min"
   ]
  },
  {
   "cell_type": "code",
   "execution_count": null,
   "id": "bfcee4bd-4a88-41d8-8b4f-12aef5e6db03",
   "metadata": {},
   "outputs": [],
   "source": [
    "sns.lineplot(x = list(range(3,12,1)), y = coherences).set(title=\"coherence results of training lda model on merged datasets\")"
   ]
  },
  {
   "cell_type": "code",
   "execution_count": null,
   "id": "69253708-9eee-470f-ba67-ee5b2a1665ce",
   "metadata": {},
   "outputs": [],
   "source": [
    "(max(coherences), list(range(3,12,1))[coherences.index(max(coherences))])"
   ]
  },
  {
   "cell_type": "code",
   "execution_count": null,
   "id": "d89ef172-0100-4b72-817f-69509b1a8926",
   "metadata": {},
   "outputs": [],
   "source": [
    "pyLDAvis.save_html(pyLDAvis.gensim_models.prepare(lda_models[coherences.index(max(coherences))], corpus=merged_corpus, dictionary=merged_id2word), \"lda_graphs/merged_datasets.html\")"
   ]
  },
  {
   "cell_type": "markdown",
   "id": "953390d7-1a86-45fa-b0f0-db46cc9945b5",
   "metadata": {},
   "source": [
    "[consulter le fichier /lda_graphs/merged_datasets.html]('../lda_graphs/merged_datasets.html')"
   ]
  },
  {
   "cell_type": "code",
   "execution_count": 35,
   "id": "1d8ed63b-d35a-4116-b0f2-222b3eb4bf15",
   "metadata": {},
   "outputs": [],
   "source": [
    "# HTML(filename='../lda_graphs/merged_datasets.html')"
   ]
  },
  {
   "cell_type": "code",
   "execution_count": 15,
   "id": "a401dc9f-491f-47a5-8767-642b182a7091",
   "metadata": {},
   "outputs": [
    {
     "data": {
      "text/plain": [
       "[(0,\n",
       "  '0.025*\"nt\" + 0.024*\"room\" + 0.019*\"could\" + 0.017*\"one\" + 0.016*\"night\" + 0.015*\"bar\" + 0.012*\"even\" + 0.012*\"stayed\" + 0.011*\"free\" + 0.010*\"time\"'),\n",
       " (1,\n",
       "  '0.052*\"breakfast\" + 0.037*\"good\" + 0.020*\"shower\" + 0.016*\"food\" + 0.012*\"nt\" + 0.011*\"hot\" + 0.010*\"water\" + 0.009*\"restaurant\" + 0.009*\"enough\" + 0.009*\"bit\"'),\n",
       " (2,\n",
       "  '0.095*\"room\" + 0.051*\"clean\" + 0.034*\"rooms\" + 0.029*\"small\" + 0.028*\"comfortable\" + 0.025*\"bed\" + 0.018*\"nice\" + 0.018*\"hotel\" + 0.016*\"well\" + 0.015*\"bathroom\"'),\n",
       " (3,\n",
       "  '0.088*\"staff\" + 0.039*\"friendly\" + 0.030*\"helpful\" + 0.028*\"us\" + 0.018*\"check\" + 0.016*\"made\" + 0.016*\"reception\" + 0.014*\"service\" + 0.013*\"hotel\" + 0.011*\"nice\"'),\n",
       " (4,\n",
       "  '0.049*\"location\" + 0.025*\"hotel\" + 0.020*\"walk\" + 0.016*\"good\" + 0.016*\"great\" + 0.015*\"many\" + 0.014*\"station\" + 0.014*\"easy\" + 0.013*\"close\" + 0.013*\"area\"'),\n",
       " (5,\n",
       "  '0.075*\"hotel\" + 0.057*\"stay\" + 0.052*\"great\" + 0.035*\"would\" + 0.019*\"lovely\" + 0.017*\"location\" + 0.017*\"amazing\" + 0.017*\"london\" + 0.016*\"good\" + 0.015*\"place\"')]"
      ]
     },
     "execution_count": 15,
     "metadata": {},
     "output_type": "execute_result"
    }
   ],
   "source": [
    "lda_models[coherences.index(max(coherences))].print_topics()"
   ]
  },
  {
   "cell_type": "code",
   "execution_count": 16,
   "id": "db4e614a-f4d2-4cb4-9ef9-b497893eae9f",
   "metadata": {},
   "outputs": [],
   "source": [
    "lda_model = lda_models[coherences.index(max(coherences))]"
   ]
  },
  {
   "cell_type": "code",
   "execution_count": 32,
   "id": "d3309858-4e3a-485e-8073-e4ea673c0e94",
   "metadata": {},
   "outputs": [
    {
     "data": {
      "text/plain": [
       "[(0, 0.032258373),\n",
       " (1, 0.0322584),\n",
       " (2, 0.03225839),\n",
       " (3, 0.03225839),\n",
       " (4, 0.8362935),\n",
       " (5, 0.034672968)]"
      ]
     },
     "execution_count": 32,
     "metadata": {},
     "output_type": "execute_result"
    }
   ],
   "source": [
    "lda_model[merged_id2word.doc2bow([\"the location great because it's close to many restaurants\"][0].split())]"
   ]
  },
  {
   "cell_type": "markdown",
   "id": "ad4140c8-53f4-41ff-bdf0-44195c5d3f7b",
   "metadata": {},
   "source": [
    "le modèle LDA a classifié cette phrase dans le topic location avec une proportion de 86.6%, effectivement ces le bon aspect."
   ]
  },
  {
   "cell_type": "markdown",
   "id": "1372960b-ee55-4ca5-9572-677e09664f9c",
   "metadata": {
    "tags": []
   },
   "source": [
    "#### Application manuelle du modèle LDA sur des commentaires choisit aléatoirement."
   ]
  },
  {
   "cell_type": "markdown",
   "id": "681ba44f-6c64-40ce-bb4d-4bbd144f8837",
   "metadata": {
    "tags": []
   },
   "source": [
    "##### Sur le commentaire avec l'identifiant 5"
   ]
  },
  {
   "cell_type": "code",
   "execution_count": 38,
   "id": "5572c5c0-acb1-47d8-a9f7-0062560a96f3",
   "metadata": {},
   "outputs": [
    {
     "data": {
      "text/plain": [
       "\" clean little hotel with amazing staff, they were always friendly and helpful with any advice i needed about getting around etc..location perfect, cafes and restaurants are nearby and best of all 5 minutes walk to eiffel tower. would definitely stay again and will recommend to anyone who's going paris.\""
      ]
     },
     "execution_count": 38,
     "metadata": {},
     "output_type": "execute_result"
    }
   ],
   "source": [
    "cleaned_datasets[0][1].loc[5,'cleaned_data']"
   ]
  },
  {
   "cell_type": "markdown",
   "id": "f7eb0840-1154-4fa8-bc53-6ae560b8ddf5",
   "metadata": {},
   "source": [
    "**1er phrase**"
   ]
  },
  {
   "cell_type": "markdown",
   "id": "b619afcb-6215-415f-b07b-53dbab65166f",
   "metadata": {},
   "source": [
    "clean little hotel with amazing staff, they were always friendly and helpful with any advice i needed about getting around etc"
   ]
  },
  {
   "cell_type": "code",
   "execution_count": 39,
   "id": "197576fa-8d84-42a3-8b5c-a27f72993cff",
   "metadata": {},
   "outputs": [
    {
     "data": {
      "text/plain": [
       "[(0, 0.015429627),\n",
       " (1, 0.054572135),\n",
       " (2, 0.16470857),\n",
       " (3, 0.39119586),\n",
       " (4, 0.24531485),\n",
       " (5, 0.12877898)]"
      ]
     },
     "execution_count": 39,
     "metadata": {},
     "output_type": "execute_result"
    }
   ],
   "source": [
    "lda_model[merged_id2word.doc2bow([\"clean little hotel with amazing staff, they were always friendly and helpful with any advice i needed about getting around etc\"][0].split())]"
   ]
  },
  {
   "cell_type": "markdown",
   "id": "efa86b8e-448a-472d-9534-a6a3c441d35e",
   "metadata": {},
   "source": [
    "le modèle classifie cette phrase dans l'aspet car il contient le nom staff et les adjectif friendly et helpful lié à aspect staff. Mais ce n'est pas le cas car il discute également l'aspect hotel."
   ]
  },
  {
   "cell_type": "markdown",
   "id": "d0d399ce-1169-493e-82fa-d2485b149e26",
   "metadata": {},
   "source": [
    "**2ème phrase**\n",
    "\n",
    "location perfect, cafes and restaurants are nearby and best of all 5 minutes walk to eiffel tower."
   ]
  },
  {
   "cell_type": "code",
   "execution_count": 40,
   "id": "a7cdc4c1-8124-47bc-a9e7-f06427eaadfc",
   "metadata": {},
   "outputs": [
    {
     "data": {
      "text/plain": [
       "[(0, 0.021740347),\n",
       " (1, 0.021740438),\n",
       " (2, 0.021740438),\n",
       " (3, 0.021745887),\n",
       " (4, 0.7812834),\n",
       " (5, 0.13174947)]"
      ]
     },
     "execution_count": 40,
     "metadata": {},
     "output_type": "execute_result"
    }
   ],
   "source": [
    "lda_model[merged_id2word.doc2bow([\"location perfect, cafes and restaurants are nearby and best of all 5 minutes walk to eiffel tower.\"][0].split())]"
   ]
  },
  {
   "cell_type": "markdown",
   "id": "3d2c3821-ca79-42db-a142-6c399b8c5fdd",
   "metadata": {},
   "source": [
    "l'aspect extrait par le modèle est location ce qu'est bien le cas.\n",
    "\n",
    "**3ème phrase**"
   ]
  },
  {
   "cell_type": "code",
   "execution_count": 41,
   "id": "0ff296a2-9f76-4759-90e0-4d7c2715f596",
   "metadata": {},
   "outputs": [
    {
     "data": {
      "text/plain": [
       "[(0, 0.17043285),\n",
       " (1, 0.027780179),\n",
       " (2, 0.027780069),\n",
       " (3, 0.02778018),\n",
       " (4, 0.027781144),\n",
       " (5, 0.71844554)]"
      ]
     },
     "execution_count": 41,
     "metadata": {},
     "output_type": "execute_result"
    }
   ],
   "source": [
    "lda_model[merged_id2word.doc2bow([\"would definitely stay again and will recommend to anyone who's going paris.\"][0].split())]"
   ]
  },
  {
   "cell_type": "markdown",
   "id": "4717e748-b528-4c10-81a8-163576ee6314",
   "metadata": {},
   "source": [
    "le modèle identifie cette phrase qu'il discute l'aspect hotel, ce qui est le cas car il s'agit d'une recommendation de l'hotel."
   ]
  },
  {
   "cell_type": "markdown",
   "id": "fcd7903d-9e7b-40ea-aac9-b52585e87d33",
   "metadata": {},
   "source": [
    "--------------------------------------------"
   ]
  },
  {
   "cell_type": "markdown",
   "id": "9aca59de-0c42-41d6-a6b1-d4b9ec30784d",
   "metadata": {
    "tags": []
   },
   "source": [
    "##### Sur le commentaire avec l'identifiant 15"
   ]
  },
  {
   "cell_type": "markdown",
   "id": "a131671b-938c-4139-a0c9-62e91c98476b",
   "metadata": {},
   "source": [
    "loved this little hotel! room was nice! in city center, close to the eiffel tower, metro, bus routes, cafes, pastry shops, the river. staff was amazing and always helpful! would gladly stay again!"
   ]
  },
  {
   "cell_type": "code",
   "execution_count": 42,
   "id": "777e8dc2-4e5d-41ac-929c-16810abf2f35",
   "metadata": {},
   "outputs": [
    {
     "data": {
      "text/plain": [
       "' loved this little hotel! room was nice! in city center, close to the eiffel tower, metro, bus routes, cafes, pastry shops, the river. staff was amazing and always helpful! would gladly stay again!'"
      ]
     },
     "execution_count": 42,
     "metadata": {},
     "output_type": "execute_result"
    }
   ],
   "source": [
    "cleaned_datasets[0][1].loc[15, 'cleaned_data']"
   ]
  },
  {
   "cell_type": "markdown",
   "id": "5f8323e3-a449-4f73-87dc-ad11b188374f",
   "metadata": {},
   "source": [
    "**1er phrase**"
   ]
  },
  {
   "cell_type": "code",
   "execution_count": 43,
   "id": "f1671aea-b17d-4f4f-addf-4f6e12e92056",
   "metadata": {},
   "outputs": [
    {
     "data": {
      "text/plain": [
       "[(0, 0.048409462),\n",
       " (1, 0.048298616),\n",
       " (2, 0.078511104),\n",
       " (3, 0.047704764),\n",
       " (4, 0.048415907),\n",
       " (5, 0.7286601)]"
      ]
     },
     "execution_count": 43,
     "metadata": {},
     "output_type": "execute_result"
    }
   ],
   "source": [
    "lda_model[merged_id2word.doc2bow([\"loved this little hotel\"][0].split())]"
   ]
  },
  {
   "cell_type": "markdown",
   "id": "2a8bc5f2-4931-4a2d-8b36-acfe4f6db2d3",
   "metadata": {},
   "source": [
    "le modèle identifie cette phrase qu'il discute le topic hotel, ce qui est le cas car."
   ]
  },
  {
   "cell_type": "markdown",
   "id": "1bc162c6-c96d-4ddf-a983-1f3c5d91e5bd",
   "metadata": {},
   "source": [
    "**2ème phrase**"
   ]
  },
  {
   "cell_type": "code",
   "execution_count": 45,
   "id": "b7e9419d-4c79-439b-a58a-3cf5efe0e3c8",
   "metadata": {},
   "outputs": [
    {
     "data": {
      "text/plain": [
       "[(0, 0.032276664),\n",
       " (1, 0.18902697),\n",
       " (2, 0.03227586),\n",
       " (3, 0.032276586),\n",
       " (4, 0.68177444),\n",
       " (5, 0.03236944)]"
      ]
     },
     "execution_count": 45,
     "metadata": {},
     "output_type": "execute_result"
    }
   ],
   "source": [
    "lda_model[merged_id2word.doc2bow([\"in city center, close to the eiffel tower, metro, bus routes, cafes, pastry shops, the river.\"][0].split())]"
   ]
  },
  {
   "cell_type": "markdown",
   "id": "dc698ed9-4f5a-43cf-931c-c4e9c7cbc2dd",
   "metadata": {},
   "source": [
    "le modèle classifie cette phrase dans le topic location et ce qui est le cas car il contient les mots de places."
   ]
  },
  {
   "cell_type": "markdown",
   "id": "b1d9cc06-8407-4b67-89cb-3197aa058970",
   "metadata": {},
   "source": [
    "**3ème phrase**"
   ]
  },
  {
   "cell_type": "code",
   "execution_count": 46,
   "id": "7b60920b-d9e3-4c63-8438-75fca0731a6f",
   "metadata": {},
   "outputs": [
    {
     "data": {
      "text/plain": [
       "[(0, 0.03846227),\n",
       " (1, 0.038462363),\n",
       " (2, 0.038462356),\n",
       " (3, 0.6154561),\n",
       " (4, 0.038462367),\n",
       " (5, 0.23069459)]"
      ]
     },
     "execution_count": 46,
     "metadata": {},
     "output_type": "execute_result"
    }
   ],
   "source": [
    "lda_model[merged_id2word.doc2bow([\"staff was amazing and always helpful\"][0].split())]"
   ]
  },
  {
   "cell_type": "markdown",
   "id": "c18c71a3-baa1-4719-8f29-4d29e51021c5",
   "metadata": {},
   "source": [
    "le modèle classifie la phrase dans le topic staff ce qui est bien le cas. également dans le topic hôtel avec un pourcentage de 23% car il contient des mots dans ce topic."
   ]
  },
  {
   "cell_type": "markdown",
   "id": "60f0f391-eb6f-4f4b-81b3-62fff4df7785",
   "metadata": {},
   "source": [
    "**4ème phrase**"
   ]
  },
  {
   "cell_type": "code",
   "execution_count": 47,
   "id": "8aaa85b9-3d77-48f5-8056-b58394fbf122",
   "metadata": {},
   "outputs": [
    {
     "data": {
      "text/plain": [
       "[(0, 0.047723703),\n",
       " (1, 0.04763057),\n",
       " (2, 0.047630526),\n",
       " (3, 0.047631167),\n",
       " (4, 0.047631778),\n",
       " (5, 0.7617522)]"
      ]
     },
     "execution_count": 47,
     "metadata": {},
     "output_type": "execute_result"
    }
   ],
   "source": [
    "lda_model[merged_id2word.doc2bow([\"would gladly stay again!\"][0].split())]"
   ]
  },
  {
   "cell_type": "markdown",
   "id": "cb581548-8f3c-4f85-aee3-47ad573e0579",
   "metadata": {},
   "source": [
    "le modèle classifie cette phrase dans le topic hôtel ce qui bien le cas."
   ]
  },
  {
   "cell_type": "markdown",
   "id": "9736c06d-6212-4cf9-bd12-1f760112f126",
   "metadata": {},
   "source": [
    "---------------------------------------"
   ]
  },
  {
   "cell_type": "markdown",
   "id": "3b6c6994-1e52-46f3-a970-7d1cdb505a42",
   "metadata": {},
   "source": [
    "##### Sur le commentaire avec l'identifiant 30"
   ]
  },
  {
   "cell_type": "code",
   "execution_count": 48,
   "id": "6a9d5ca5-d7b0-489f-a775-9a932e31d2c4",
   "metadata": {},
   "outputs": [
    {
     "data": {
      "text/plain": [
       "' great location 10 mins walk to eiffel tower. 5 mins walk to metro, safe neighborhood, very friendly staff, very clean and comfortable. breakfast could be better but it was ok.'"
      ]
     },
     "execution_count": 48,
     "metadata": {},
     "output_type": "execute_result"
    }
   ],
   "source": [
    "cleaned_datasets[0][1].loc[30,'cleaned_data']"
   ]
  },
  {
   "cell_type": "markdown",
   "id": "2e159331-428e-4cb8-917c-5d5c441c3562",
   "metadata": {},
   "source": [
    "**1er phrase**"
   ]
  },
  {
   "cell_type": "code",
   "execution_count": 49,
   "id": "b4750aba-a3c3-4e87-9a57-3e1d4841d976",
   "metadata": {},
   "outputs": [
    {
     "data": {
      "text/plain": [
       "[(0, 0.024390766),\n",
       " (1, 0.024390806),\n",
       " (2, 0.024390804),\n",
       " (3, 0.024390794),\n",
       " (4, 0.8775482),\n",
       " (5, 0.024888627)]"
      ]
     },
     "execution_count": 49,
     "metadata": {},
     "output_type": "execute_result"
    }
   ],
   "source": [
    "lda_model[merged_id2word.doc2bow([\"great location 10 mins walk to eiffel tower\"][0].split())]"
   ]
  },
  {
   "cell_type": "markdown",
   "id": "e02cf1cf-6c9e-41fb-9b83-cdc6d056adfc",
   "metadata": {},
   "source": [
    "le modèle LDA classifie cette phrase dans le topic location, ce qui est bien le cas.\n",
    "\n",
    "**2ème phrase**"
   ]
  },
  {
   "cell_type": "code",
   "execution_count": 50,
   "id": "5c18a086-9ec4-49a2-a7a5-8e998717dcd7",
   "metadata": {},
   "outputs": [
    {
     "data": {
      "text/plain": [
       "[(0, 0.032259665),\n",
       " (1, 0.032259736),\n",
       " (2, 0.29245794),\n",
       " (3, 0.19357987),\n",
       " (4, 0.41718307),\n",
       " (5, 0.032259755)]"
      ]
     },
     "execution_count": 50,
     "metadata": {},
     "output_type": "execute_result"
    }
   ],
   "source": [
    "lda_model[merged_id2word.doc2bow([\"5 mins walk to metro, safe neighborhood, very friendly staff, very clean and comfortable.\"][0].split())]"
   ]
  },
  {
   "cell_type": "markdown",
   "id": "ba1946f8-09df-44a2-978f-9f08b6516e3e",
   "metadata": {},
   "source": [
    "le modèle classifie cette phrase dans le topic location avec un pourcentage de 41%, et dans le topic room avec un pourcentage 29% et dans le topic staff avec un pourcentage 19%.\n",
    "\n",
    "**3ème phrase**"
   ]
  },
  {
   "cell_type": "code",
   "execution_count": 53,
   "id": "dcb7447e-2ceb-487d-9f73-f729a78b52ad",
   "metadata": {},
   "outputs": [
    {
     "data": {
      "text/plain": [
       "[(0, 0.285464),\n",
       " (1, 0.28600967),\n",
       " (2, 0.047620572),\n",
       " (3, 0.047620583),\n",
       " (4, 0.047620628),\n",
       " (5, 0.2856646)]"
      ]
     },
     "execution_count": 53,
     "metadata": {},
     "output_type": "execute_result"
    }
   ],
   "source": [
    "lda_model[merged_id2word.doc2bow([\"breakfast could be better but it was ok.\"][0].split())]"
   ]
  },
  {
   "cell_type": "markdown",
   "id": "e40471c7-30d1-4c27-9720-af3f7ddb0490",
   "metadata": {
    "tags": []
   },
   "source": [
    "le modèle classifie la phrase dans 3 topics avec un même pourcentage, lesquels : hotel, food, topic inconnue. ce qui est pas le cas."
   ]
  },
  {
   "cell_type": "markdown",
   "id": "33899b0b-37ac-4cb3-bd87-fe7dee216d14",
   "metadata": {},
   "source": [
    "#### Conclusions"
   ]
  },
  {
   "cell_type": "markdown",
   "id": "b2f11e2e-fed4-448b-a01d-0e94646e016e",
   "metadata": {},
   "source": [
    "- Après le groupement des datasets, nous remarquons que les topics extraits sont similaires à celles extraits depuis le dataset TripAdvisor avec des modifications au niveau des mots qui composent les topics."
   ]
  }
 ],
 "metadata": {
  "kernelspec": {
   "display_name": "Python 3 (ipykernel)",
   "language": "python",
   "name": "python3"
  },
  "language_info": {
   "codemirror_mode": {
    "name": "ipython",
    "version": 3
   },
   "file_extension": ".py",
   "mimetype": "text/x-python",
   "name": "python",
   "nbconvert_exporter": "python",
   "pygments_lexer": "ipython3",
   "version": "3.8.8"
  }
 },
 "nbformat": 4,
 "nbformat_minor": 5
}
