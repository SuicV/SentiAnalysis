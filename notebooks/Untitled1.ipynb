{
 "cells": [
  {
   "cell_type": "code",
   "execution_count": 1,
   "id": "e1968a28-45a9-45db-b0d9-2803f436888b",
   "metadata": {},
   "outputs": [],
   "source": [
    "groups = {'breakfast': ['meal',\n",
    "  'morning',\n",
    "  'choice',\n",
    "  'dinner',\n",
    "  'drink',\n",
    "  'food',\n",
    "  'bar',\n",
    "  'evening',\n",
    "  'breakfast',\n",
    "  'coffee'],\n",
    " 'location': ['location'],\n",
    " 'time': ['day', 'time'],\n",
    " 'people': ['people'],\n",
    " 'way': ['way'],\n",
    " 'guest': ['guest'],\n",
    " 'kid': ['kid', 'family'],\n",
    " 'door': ['door'],\n",
    " 'bit': ['bit'],\n",
    " 'desk': ['reception', 'desk'],\n",
    " 'experience': ['experience'],\n",
    " 'room': ['room', 'water', 'shower', 'bed', 'bathroom'],\n",
    " 'service': ['service'],\n",
    " 'hotel': ['resort', 'place', 'hotel', 'riad'],\n",
    " 'thing': ['thing'],\n",
    " 'trip': ['trip'],\n",
    " 'night': ['night'],\n",
    " 'year': ['year'],\n",
    " 'pool': ['beach', 'pool'],\n",
    " 'area': ['area'],\n",
    " 'stay': ['stay'],\n",
    " 'staff': ['staff'],\n",
    " 'lot': ['lot'],\n",
    " 'price': ['price'],\n",
    " 'minute': ['minute'],\n",
    " 'view': ['view'],\n",
    " 'floor': ['floor'],\n",
    " 'restaurant': ['restaurant'],\n",
    " 'city': ['city'],\n",
    " 'parking': ['parking']}"
   ]
  },
  {
   "cell_type": "code",
   "execution_count": 7,
   "id": "19bcb2fa-7b6b-4816-8a98-1f150d3aabe8",
   "metadata": {},
   "outputs": [],
   "source": [
    "import networkx as nx\n",
    "import pandas as pd"
   ]
  },
  {
   "cell_type": "code",
   "execution_count": null,
   "id": "28ed8cda-1c9d-4c09-8c5e-b4109bd24feb",
   "metadata": {},
   "outputs": [],
   "source": [
    "d = pd.DataFrame(columns=[\"source\", \"target\"])\n",
    "for parent in groups.keys():\n",
    "    d = d.append({\"source\":\"root\", \"target\": parent},ignore_index=True)\n",
    "    for child in groups[parent]:\n",
    "        if child != parent:\n",
    "            d = d.append({\"source\":parent, \"target\":child}, ignore_index=True)"
   ]
  },
  {
   "cell_type": "code",
   "execution_count": 112,
   "id": "2a0ff70c-e2fc-4563-ab76-114e7f5f8f2d",
   "metadata": {
    "scrolled": true,
    "tags": []
   },
   "outputs": [
    {
     "name": "stderr",
     "output_type": "stream",
     "text": [
      "C:\\Users\\SuicV\\AppData\\Local\\Temp\\ipykernel_8804\\2358052103.py:8: FutureWarning: The frame.append method is deprecated and will be removed from pandas in a future version. Use pandas.concat instead.\n",
      "  d = d.append({\"source\":\"root\", \"target\": parent},ignore_index=True)\n",
      "C:\\Users\\SuicV\\AppData\\Local\\Temp\\ipykernel_8804\\2358052103.py:12: FutureWarning: The frame.append method is deprecated and will be removed from pandas in a future version. Use pandas.concat instead.\n",
      "  d = d.append({\"source\":parent, \"target\":child}, ignore_index=True)\n",
      "C:\\Users\\SuicV\\AppData\\Local\\Temp\\ipykernel_8804\\2358052103.py:12: FutureWarning: The frame.append method is deprecated and will be removed from pandas in a future version. Use pandas.concat instead.\n",
      "  d = d.append({\"source\":parent, \"target\":child}, ignore_index=True)\n",
      "C:\\Users\\SuicV\\AppData\\Local\\Temp\\ipykernel_8804\\2358052103.py:12: FutureWarning: The frame.append method is deprecated and will be removed from pandas in a future version. Use pandas.concat instead.\n",
      "  d = d.append({\"source\":parent, \"target\":child}, ignore_index=True)\n",
      "C:\\Users\\SuicV\\AppData\\Local\\Temp\\ipykernel_8804\\2358052103.py:12: FutureWarning: The frame.append method is deprecated and will be removed from pandas in a future version. Use pandas.concat instead.\n",
      "  d = d.append({\"source\":parent, \"target\":child}, ignore_index=True)\n",
      "C:\\Users\\SuicV\\AppData\\Local\\Temp\\ipykernel_8804\\2358052103.py:12: FutureWarning: The frame.append method is deprecated and will be removed from pandas in a future version. Use pandas.concat instead.\n",
      "  d = d.append({\"source\":parent, \"target\":child}, ignore_index=True)\n",
      "C:\\Users\\SuicV\\AppData\\Local\\Temp\\ipykernel_8804\\2358052103.py:12: FutureWarning: The frame.append method is deprecated and will be removed from pandas in a future version. Use pandas.concat instead.\n",
      "  d = d.append({\"source\":parent, \"target\":child}, ignore_index=True)\n",
      "C:\\Users\\SuicV\\AppData\\Local\\Temp\\ipykernel_8804\\2358052103.py:12: FutureWarning: The frame.append method is deprecated and will be removed from pandas in a future version. Use pandas.concat instead.\n",
      "  d = d.append({\"source\":parent, \"target\":child}, ignore_index=True)\n",
      "C:\\Users\\SuicV\\AppData\\Local\\Temp\\ipykernel_8804\\2358052103.py:12: FutureWarning: The frame.append method is deprecated and will be removed from pandas in a future version. Use pandas.concat instead.\n",
      "  d = d.append({\"source\":parent, \"target\":child}, ignore_index=True)\n",
      "C:\\Users\\SuicV\\AppData\\Local\\Temp\\ipykernel_8804\\2358052103.py:12: FutureWarning: The frame.append method is deprecated and will be removed from pandas in a future version. Use pandas.concat instead.\n",
      "  d = d.append({\"source\":parent, \"target\":child}, ignore_index=True)\n",
      "C:\\Users\\SuicV\\AppData\\Local\\Temp\\ipykernel_8804\\2358052103.py:8: FutureWarning: The frame.append method is deprecated and will be removed from pandas in a future version. Use pandas.concat instead.\n",
      "  d = d.append({\"source\":\"root\", \"target\": parent},ignore_index=True)\n",
      "C:\\Users\\SuicV\\AppData\\Local\\Temp\\ipykernel_8804\\2358052103.py:8: FutureWarning: The frame.append method is deprecated and will be removed from pandas in a future version. Use pandas.concat instead.\n",
      "  d = d.append({\"source\":\"root\", \"target\": parent},ignore_index=True)\n",
      "C:\\Users\\SuicV\\AppData\\Local\\Temp\\ipykernel_8804\\2358052103.py:12: FutureWarning: The frame.append method is deprecated and will be removed from pandas in a future version. Use pandas.concat instead.\n",
      "  d = d.append({\"source\":parent, \"target\":child}, ignore_index=True)\n",
      "C:\\Users\\SuicV\\AppData\\Local\\Temp\\ipykernel_8804\\2358052103.py:8: FutureWarning: The frame.append method is deprecated and will be removed from pandas in a future version. Use pandas.concat instead.\n",
      "  d = d.append({\"source\":\"root\", \"target\": parent},ignore_index=True)\n",
      "C:\\Users\\SuicV\\AppData\\Local\\Temp\\ipykernel_8804\\2358052103.py:8: FutureWarning: The frame.append method is deprecated and will be removed from pandas in a future version. Use pandas.concat instead.\n",
      "  d = d.append({\"source\":\"root\", \"target\": parent},ignore_index=True)\n",
      "C:\\Users\\SuicV\\AppData\\Local\\Temp\\ipykernel_8804\\2358052103.py:8: FutureWarning: The frame.append method is deprecated and will be removed from pandas in a future version. Use pandas.concat instead.\n",
      "  d = d.append({\"source\":\"root\", \"target\": parent},ignore_index=True)\n",
      "C:\\Users\\SuicV\\AppData\\Local\\Temp\\ipykernel_8804\\2358052103.py:8: FutureWarning: The frame.append method is deprecated and will be removed from pandas in a future version. Use pandas.concat instead.\n",
      "  d = d.append({\"source\":\"root\", \"target\": parent},ignore_index=True)\n",
      "C:\\Users\\SuicV\\AppData\\Local\\Temp\\ipykernel_8804\\2358052103.py:12: FutureWarning: The frame.append method is deprecated and will be removed from pandas in a future version. Use pandas.concat instead.\n",
      "  d = d.append({\"source\":parent, \"target\":child}, ignore_index=True)\n",
      "C:\\Users\\SuicV\\AppData\\Local\\Temp\\ipykernel_8804\\2358052103.py:8: FutureWarning: The frame.append method is deprecated and will be removed from pandas in a future version. Use pandas.concat instead.\n",
      "  d = d.append({\"source\":\"root\", \"target\": parent},ignore_index=True)\n",
      "C:\\Users\\SuicV\\AppData\\Local\\Temp\\ipykernel_8804\\2358052103.py:8: FutureWarning: The frame.append method is deprecated and will be removed from pandas in a future version. Use pandas.concat instead.\n",
      "  d = d.append({\"source\":\"root\", \"target\": parent},ignore_index=True)\n",
      "C:\\Users\\SuicV\\AppData\\Local\\Temp\\ipykernel_8804\\2358052103.py:8: FutureWarning: The frame.append method is deprecated and will be removed from pandas in a future version. Use pandas.concat instead.\n",
      "  d = d.append({\"source\":\"root\", \"target\": parent},ignore_index=True)\n",
      "C:\\Users\\SuicV\\AppData\\Local\\Temp\\ipykernel_8804\\2358052103.py:12: FutureWarning: The frame.append method is deprecated and will be removed from pandas in a future version. Use pandas.concat instead.\n",
      "  d = d.append({\"source\":parent, \"target\":child}, ignore_index=True)\n",
      "C:\\Users\\SuicV\\AppData\\Local\\Temp\\ipykernel_8804\\2358052103.py:8: FutureWarning: The frame.append method is deprecated and will be removed from pandas in a future version. Use pandas.concat instead.\n",
      "  d = d.append({\"source\":\"root\", \"target\": parent},ignore_index=True)\n",
      "C:\\Users\\SuicV\\AppData\\Local\\Temp\\ipykernel_8804\\2358052103.py:8: FutureWarning: The frame.append method is deprecated and will be removed from pandas in a future version. Use pandas.concat instead.\n",
      "  d = d.append({\"source\":\"root\", \"target\": parent},ignore_index=True)\n",
      "C:\\Users\\SuicV\\AppData\\Local\\Temp\\ipykernel_8804\\2358052103.py:12: FutureWarning: The frame.append method is deprecated and will be removed from pandas in a future version. Use pandas.concat instead.\n",
      "  d = d.append({\"source\":parent, \"target\":child}, ignore_index=True)\n",
      "C:\\Users\\SuicV\\AppData\\Local\\Temp\\ipykernel_8804\\2358052103.py:12: FutureWarning: The frame.append method is deprecated and will be removed from pandas in a future version. Use pandas.concat instead.\n",
      "  d = d.append({\"source\":parent, \"target\":child}, ignore_index=True)\n",
      "C:\\Users\\SuicV\\AppData\\Local\\Temp\\ipykernel_8804\\2358052103.py:12: FutureWarning: The frame.append method is deprecated and will be removed from pandas in a future version. Use pandas.concat instead.\n",
      "  d = d.append({\"source\":parent, \"target\":child}, ignore_index=True)\n",
      "C:\\Users\\SuicV\\AppData\\Local\\Temp\\ipykernel_8804\\2358052103.py:12: FutureWarning: The frame.append method is deprecated and will be removed from pandas in a future version. Use pandas.concat instead.\n",
      "  d = d.append({\"source\":parent, \"target\":child}, ignore_index=True)\n",
      "C:\\Users\\SuicV\\AppData\\Local\\Temp\\ipykernel_8804\\2358052103.py:8: FutureWarning: The frame.append method is deprecated and will be removed from pandas in a future version. Use pandas.concat instead.\n",
      "  d = d.append({\"source\":\"root\", \"target\": parent},ignore_index=True)\n",
      "C:\\Users\\SuicV\\AppData\\Local\\Temp\\ipykernel_8804\\2358052103.py:8: FutureWarning: The frame.append method is deprecated and will be removed from pandas in a future version. Use pandas.concat instead.\n",
      "  d = d.append({\"source\":\"root\", \"target\": parent},ignore_index=True)\n",
      "C:\\Users\\SuicV\\AppData\\Local\\Temp\\ipykernel_8804\\2358052103.py:12: FutureWarning: The frame.append method is deprecated and will be removed from pandas in a future version. Use pandas.concat instead.\n",
      "  d = d.append({\"source\":parent, \"target\":child}, ignore_index=True)\n",
      "C:\\Users\\SuicV\\AppData\\Local\\Temp\\ipykernel_8804\\2358052103.py:12: FutureWarning: The frame.append method is deprecated and will be removed from pandas in a future version. Use pandas.concat instead.\n",
      "  d = d.append({\"source\":parent, \"target\":child}, ignore_index=True)\n",
      "C:\\Users\\SuicV\\AppData\\Local\\Temp\\ipykernel_8804\\2358052103.py:12: FutureWarning: The frame.append method is deprecated and will be removed from pandas in a future version. Use pandas.concat instead.\n",
      "  d = d.append({\"source\":parent, \"target\":child}, ignore_index=True)\n",
      "C:\\Users\\SuicV\\AppData\\Local\\Temp\\ipykernel_8804\\2358052103.py:8: FutureWarning: The frame.append method is deprecated and will be removed from pandas in a future version. Use pandas.concat instead.\n",
      "  d = d.append({\"source\":\"root\", \"target\": parent},ignore_index=True)\n",
      "C:\\Users\\SuicV\\AppData\\Local\\Temp\\ipykernel_8804\\2358052103.py:8: FutureWarning: The frame.append method is deprecated and will be removed from pandas in a future version. Use pandas.concat instead.\n",
      "  d = d.append({\"source\":\"root\", \"target\": parent},ignore_index=True)\n",
      "C:\\Users\\SuicV\\AppData\\Local\\Temp\\ipykernel_8804\\2358052103.py:8: FutureWarning: The frame.append method is deprecated and will be removed from pandas in a future version. Use pandas.concat instead.\n",
      "  d = d.append({\"source\":\"root\", \"target\": parent},ignore_index=True)\n",
      "C:\\Users\\SuicV\\AppData\\Local\\Temp\\ipykernel_8804\\2358052103.py:8: FutureWarning: The frame.append method is deprecated and will be removed from pandas in a future version. Use pandas.concat instead.\n",
      "  d = d.append({\"source\":\"root\", \"target\": parent},ignore_index=True)\n",
      "C:\\Users\\SuicV\\AppData\\Local\\Temp\\ipykernel_8804\\2358052103.py:8: FutureWarning: The frame.append method is deprecated and will be removed from pandas in a future version. Use pandas.concat instead.\n",
      "  d = d.append({\"source\":\"root\", \"target\": parent},ignore_index=True)\n",
      "C:\\Users\\SuicV\\AppData\\Local\\Temp\\ipykernel_8804\\2358052103.py:12: FutureWarning: The frame.append method is deprecated and will be removed from pandas in a future version. Use pandas.concat instead.\n",
      "  d = d.append({\"source\":parent, \"target\":child}, ignore_index=True)\n",
      "C:\\Users\\SuicV\\AppData\\Local\\Temp\\ipykernel_8804\\2358052103.py:8: FutureWarning: The frame.append method is deprecated and will be removed from pandas in a future version. Use pandas.concat instead.\n",
      "  d = d.append({\"source\":\"root\", \"target\": parent},ignore_index=True)\n",
      "C:\\Users\\SuicV\\AppData\\Local\\Temp\\ipykernel_8804\\2358052103.py:8: FutureWarning: The frame.append method is deprecated and will be removed from pandas in a future version. Use pandas.concat instead.\n",
      "  d = d.append({\"source\":\"root\", \"target\": parent},ignore_index=True)\n",
      "C:\\Users\\SuicV\\AppData\\Local\\Temp\\ipykernel_8804\\2358052103.py:8: FutureWarning: The frame.append method is deprecated and will be removed from pandas in a future version. Use pandas.concat instead.\n",
      "  d = d.append({\"source\":\"root\", \"target\": parent},ignore_index=True)\n",
      "C:\\Users\\SuicV\\AppData\\Local\\Temp\\ipykernel_8804\\2358052103.py:8: FutureWarning: The frame.append method is deprecated and will be removed from pandas in a future version. Use pandas.concat instead.\n",
      "  d = d.append({\"source\":\"root\", \"target\": parent},ignore_index=True)\n",
      "C:\\Users\\SuicV\\AppData\\Local\\Temp\\ipykernel_8804\\2358052103.py:8: FutureWarning: The frame.append method is deprecated and will be removed from pandas in a future version. Use pandas.concat instead.\n",
      "  d = d.append({\"source\":\"root\", \"target\": parent},ignore_index=True)\n",
      "C:\\Users\\SuicV\\AppData\\Local\\Temp\\ipykernel_8804\\2358052103.py:8: FutureWarning: The frame.append method is deprecated and will be removed from pandas in a future version. Use pandas.concat instead.\n",
      "  d = d.append({\"source\":\"root\", \"target\": parent},ignore_index=True)\n",
      "C:\\Users\\SuicV\\AppData\\Local\\Temp\\ipykernel_8804\\2358052103.py:8: FutureWarning: The frame.append method is deprecated and will be removed from pandas in a future version. Use pandas.concat instead.\n",
      "  d = d.append({\"source\":\"root\", \"target\": parent},ignore_index=True)\n",
      "C:\\Users\\SuicV\\AppData\\Local\\Temp\\ipykernel_8804\\2358052103.py:8: FutureWarning: The frame.append method is deprecated and will be removed from pandas in a future version. Use pandas.concat instead.\n",
      "  d = d.append({\"source\":\"root\", \"target\": parent},ignore_index=True)\n",
      "C:\\Users\\SuicV\\AppData\\Local\\Temp\\ipykernel_8804\\2358052103.py:8: FutureWarning: The frame.append method is deprecated and will be removed from pandas in a future version. Use pandas.concat instead.\n",
      "  d = d.append({\"source\":\"root\", \"target\": parent},ignore_index=True)\n",
      "C:\\Users\\SuicV\\AppData\\Local\\Temp\\ipykernel_8804\\2358052103.py:8: FutureWarning: The frame.append method is deprecated and will be removed from pandas in a future version. Use pandas.concat instead.\n",
      "  d = d.append({\"source\":\"root\", \"target\": parent},ignore_index=True)\n",
      "C:\\Users\\SuicV\\AppData\\Local\\Temp\\ipykernel_8804\\2358052103.py:8: FutureWarning: The frame.append method is deprecated and will be removed from pandas in a future version. Use pandas.concat instead.\n",
      "  d = d.append({\"source\":\"root\", \"target\": parent},ignore_index=True)\n"
     ]
    }
   ],
   "source": [
    "d = pd.DataFrame(columns=[\"source\", \"target\"])\n",
    "\n",
    "net = Network(notebook=True, width=800)\n",
    "net.add_node(\"root\", label=\"root\", color=\"red\")\n",
    "\n",
    "for parent in groups.keys():\n",
    "    net.add_node(parent, label=parent, color= \"black\" if len(groups[parent]) == 1 else \"green\")\n",
    "    d = d.append({\"source\":\"root\", \"target\": parent},ignore_index=True)\n",
    "    for child in groups[parent]:\n",
    "        if child != parent:\n",
    "            net.add_node(child, label=child, color=\"orange\")\n",
    "            d = d.append({\"source\":parent, \"target\":child}, ignore_index=True)"
   ]
  },
  {
   "cell_type": "code",
   "execution_count": 113,
   "id": "a60b4b3c-c917-4039-a5a6-32d0a782834c",
   "metadata": {},
   "outputs": [],
   "source": [
    "net.add_edges(G.edges)"
   ]
  },
  {
   "cell_type": "code",
   "execution_count": 114,
   "id": "85247614-0b0d-4f13-9787-a164cf0fbb78",
   "metadata": {},
   "outputs": [
    {
     "data": {
      "text/html": [
       "\n",
       "        <iframe\n",
       "            width=\"800\"\n",
       "            height=\"500px\"\n",
       "            src=\"x.html\"\n",
       "            frameborder=\"0\"\n",
       "            allowfullscreen\n",
       "            \n",
       "        ></iframe>\n",
       "        "
      ],
      "text/plain": [
       "<IPython.lib.display.IFrame at 0x26cda766eb0>"
      ]
     },
     "execution_count": 114,
     "metadata": {},
     "output_type": "execute_result"
    }
   ],
   "source": [
    "net.show(\"x.html\")"
   ]
  },
  {
   "cell_type": "code",
   "execution_count": 94,
   "id": "35cbff79-22c5-43d9-885f-0429df508595",
   "metadata": {},
   "outputs": [],
   "source": [
    "G = nx.from_pandas_edgelist(d, source=\"source\", target = \"target\")"
   ]
  },
  {
   "cell_type": "code",
   "execution_count": 100,
   "id": "68b0ff8c-7d86-4694-9e50-bd20a8c0f868",
   "metadata": {},
   "outputs": [
    {
     "data": {
      "text/plain": [
       "[('root', 'breakfast'),\n",
       " ('root', 'location'),\n",
       " ('root', 'time'),\n",
       " ('root', 'people'),\n",
       " ('root', 'way'),\n",
       " ('root', 'guest'),\n",
       " ('root', 'kid'),\n",
       " ('root', 'door'),\n",
       " ('root', 'bit'),\n",
       " ('root', 'desk'),\n",
       " ('root', 'experience'),\n",
       " ('root', 'room'),\n",
       " ('root', 'service'),\n",
       " ('root', 'hotel'),\n",
       " ('root', 'thing'),\n",
       " ('root', 'trip'),\n",
       " ('root', 'night'),\n",
       " ('root', 'year'),\n",
       " ('root', 'pool'),\n",
       " ('root', 'area'),\n",
       " ('root', 'stay'),\n",
       " ('root', 'staff'),\n",
       " ('root', 'lot'),\n",
       " ('root', 'price'),\n",
       " ('root', 'minute'),\n",
       " ('root', 'view'),\n",
       " ('root', 'floor'),\n",
       " ('root', 'restaurant'),\n",
       " ('root', 'city'),\n",
       " ('root', 'parking'),\n",
       " ('breakfast', 'meal'),\n",
       " ('breakfast', 'morning'),\n",
       " ('breakfast', 'choice'),\n",
       " ('breakfast', 'dinner'),\n",
       " ('breakfast', 'drink'),\n",
       " ('breakfast', 'food'),\n",
       " ('breakfast', 'bar'),\n",
       " ('breakfast', 'evening'),\n",
       " ('breakfast', 'coffee'),\n",
       " ('time', 'day'),\n",
       " ('kid', 'family'),\n",
       " ('desk', 'reception'),\n",
       " ('room', 'water'),\n",
       " ('room', 'shower'),\n",
       " ('room', 'bed'),\n",
       " ('room', 'bathroom'),\n",
       " ('hotel', 'resort'),\n",
       " ('hotel', 'place'),\n",
       " ('hotel', 'riad'),\n",
       " ('pool', 'beach')]"
      ]
     },
     "execution_count": 100,
     "metadata": {},
     "output_type": "execute_result"
    }
   ],
   "source": [
    "list(G.edges)"
   ]
  },
  {
   "cell_type": "code",
   "execution_count": 35,
   "id": "35eabf72-e420-4cc8-9b3d-dd6b63342e20",
   "metadata": {},
   "outputs": [],
   "source": [
    "from pyvis.network import Network"
   ]
  },
  {
   "cell_type": "code",
   "execution_count": 81,
   "id": "e00165da-b9b7-44ac-a580-12aecc85142e",
   "metadata": {},
   "outputs": [],
   "source": [
    "net = Network(notebook=True, width=800)\n",
    "net.from_nx(G)\n",
    "\n",
    "net.repulsion(node_distance=100, spring_length=15)"
   ]
  },
  {
   "cell_type": "code",
   "execution_count": 75,
   "id": "d082048c-b248-4156-af97-fcc8268a3c3a",
   "metadata": {},
   "outputs": [],
   "source": [
    "net.show_buttons()"
   ]
  },
  {
   "cell_type": "code",
   "execution_count": 82,
   "id": "3c064cd6-4c56-449a-b218-00116e93861b",
   "metadata": {},
   "outputs": [
    {
     "data": {
      "text/html": [
       "\n",
       "        <iframe\n",
       "            width=\"800\"\n",
       "            height=\"500px\"\n",
       "            src=\"x.html\"\n",
       "            frameborder=\"0\"\n",
       "            allowfullscreen\n",
       "            \n",
       "        ></iframe>\n",
       "        "
      ],
      "text/plain": [
       "<IPython.lib.display.IFrame at 0x26cda05a160>"
      ]
     },
     "execution_count": 82,
     "metadata": {},
     "output_type": "execute_result"
    }
   ],
   "source": [
    "net.show(\"x.html\")"
   ]
  }
 ],
 "metadata": {
  "kernelspec": {
   "display_name": "Python 3 (ipykernel)",
   "language": "python",
   "name": "python3"
  },
  "language_info": {
   "codemirror_mode": {
    "name": "ipython",
    "version": 3
   },
   "file_extension": ".py",
   "mimetype": "text/x-python",
   "name": "python",
   "nbconvert_exporter": "python",
   "pygments_lexer": "ipython3",
   "version": "3.8.8"
  }
 },
 "nbformat": 4,
 "nbformat_minor": 5
}
