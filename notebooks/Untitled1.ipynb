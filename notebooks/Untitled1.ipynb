{
 "cells": [
  {
   "cell_type": "markdown",
   "id": "88999d0f-cf82-4d67-823d-8cfba7a3a02d",
   "metadata": {},
   "source": [
    "## Evaluation de classification des aspects implicites"
   ]
  },
  {
   "cell_type": "markdown",
   "id": "76038394-8130-4dd2-8700-937c7c7dfe9f",
   "metadata": {},
   "source": [
    "### Importation des bibliothèques"
   ]
  },
  {
   "cell_type": "code",
   "execution_count": 1,
   "id": "040e7935-9076-43d0-be1a-1e54aef86a6c",
   "metadata": {},
   "outputs": [],
   "source": [
    "import os\n",
    "os.chdir(\"..\")"
   ]
  },
  {
   "cell_type": "code",
   "execution_count": 9,
   "id": "1c73ef79-6469-4d56-9d85-444beb6402c2",
   "metadata": {},
   "outputs": [],
   "source": [
    "from Preprocessors.ReviewPreprocessor import ReviewPreprocessor\n",
    "from Aspects.ExplicitAspectExtractor import ExplicitAspectExtractor\n",
    "from Aspects.CoRefAspectIdentGrouping import CoRefAspectIdentGrouping\n",
    "from Aspects.ImplicitAspectExtractor import ImplicitAspectExtractor"
   ]
  },
  {
   "cell_type": "code",
   "execution_count": 2,
   "id": "894654f9-37b4-4cfe-a653-7b962ca21959",
   "metadata": {},
   "outputs": [],
   "source": [
    "import re\n",
    "import pandas as pd\n",
    "import spacy\n",
    "nlp = spacy.load(\"en_core_web_sm\")\n",
    "from collections import Counter"
   ]
  },
  {
   "cell_type": "code",
   "execution_count": 3,
   "id": "dc6d7c38-b0de-44dc-a30f-de448eb1ead5",
   "metadata": {},
   "outputs": [],
   "source": [
    "tagged_hotels_corpus = open(\"data/tagged_hotels_corpus.txt\", \"r\")"
   ]
  },
  {
   "cell_type": "code",
   "execution_count": 4,
   "id": "9a6e8ea9-7202-442c-a5cb-a2675168a5a0",
   "metadata": {},
   "outputs": [],
   "source": [
    "tagged_hotels_corpus.seek(3)\n",
    "current_review_number = 1\n",
    "review_text = []\n",
    "temp_review_text = \"\"\n",
    "for line in tagged_hotels_corpus.readlines():\n",
    "    splited = line.split(\"###\")\n",
    "    sentence_text=splited[1]\n",
    "    sentence_meta_data = splited[0]\n",
    "    meta_data_items = sentence_meta_data.strip().split(\" \")\n",
    "    regex_groups = re.search(r'\\[c([0-9]+)\\]\\[s([0-9]+)\\]', meta_data_items[0]).groups()\n",
    "    review_id = int(regex_groups[0])\n",
    "    sentence_number = int(regex_groups[1])\n",
    "    if current_review_number == review_id:\n",
    "        temp_review_text += \" \" + sentence_text\n",
    "    elif review_id == current_review_number+1:\n",
    "        review_text.append(temp_review_text)\n",
    "        temp_review_text = sentence_text\n",
    "        current_review_number = review_id\n",
    "# add add the last review\n",
    "review_text.append(temp_review_text)"
   ]
  },
  {
   "cell_type": "code",
   "execution_count": 5,
   "id": "42ac3449-96ee-4399-b66f-0743e23dc816",
   "metadata": {},
   "outputs": [
    {
     "data": {
      "text/html": [
       "<div>\n",
       "<style scoped>\n",
       "    .dataframe tbody tr th:only-of-type {\n",
       "        vertical-align: middle;\n",
       "    }\n",
       "\n",
       "    .dataframe tbody tr th {\n",
       "        vertical-align: top;\n",
       "    }\n",
       "\n",
       "    .dataframe thead th {\n",
       "        text-align: right;\n",
       "    }\n",
       "</style>\n",
       "<table border=\"1\" class=\"dataframe\">\n",
       "  <thead>\n",
       "    <tr style=\"text-align: right;\">\n",
       "      <th></th>\n",
       "      <th>review</th>\n",
       "    </tr>\n",
       "  </thead>\n",
       "  <tbody>\n",
       "    <tr>\n",
       "      <th>0</th>\n",
       "      <td>this is quite the most delightful hotel i ha...</td>\n",
       "    </tr>\n",
       "    <tr>\n",
       "      <th>1</th>\n",
       "      <td>the actual hotel accomodations were very luxu...</td>\n",
       "    </tr>\n",
       "    <tr>\n",
       "      <th>2</th>\n",
       "      <td>very good, but i am going back and won't stay...</td>\n",
       "    </tr>\n",
       "    <tr>\n",
       "      <th>3</th>\n",
       "      <td>we stayed here for one night, in december 201...</td>\n",
       "    </tr>\n",
       "    <tr>\n",
       "      <th>4</th>\n",
       "      <td>the family that runs this hostel are wonderfu...</td>\n",
       "    </tr>\n",
       "    <tr>\n",
       "      <th>...</th>\n",
       "      <td>...</td>\n",
       "    </tr>\n",
       "    <tr>\n",
       "      <th>95</th>\n",
       "      <td>we arrived really late on friday evening and ...</td>\n",
       "    </tr>\n",
       "    <tr>\n",
       "      <th>96</th>\n",
       "      <td>bed and breakfast/ hostel style accommodation...</td>\n",
       "    </tr>\n",
       "    <tr>\n",
       "      <th>97</th>\n",
       "      <td>we stayed at cabanas del lago for one night f...</td>\n",
       "    </tr>\n",
       "    <tr>\n",
       "      <th>98</th>\n",
       "      <td>we found this place on the internet and staye...</td>\n",
       "    </tr>\n",
       "    <tr>\n",
       "      <th>99</th>\n",
       "      <td>this hotel is perfect!!!\\n  we got two days o...</td>\n",
       "    </tr>\n",
       "  </tbody>\n",
       "</table>\n",
       "<p>100 rows × 1 columns</p>\n",
       "</div>"
      ],
      "text/plain": [
       "                                               review\n",
       "0     this is quite the most delightful hotel i ha...\n",
       "1    the actual hotel accomodations were very luxu...\n",
       "2    very good, but i am going back and won't stay...\n",
       "3    we stayed here for one night, in december 201...\n",
       "4    the family that runs this hostel are wonderfu...\n",
       "..                                                ...\n",
       "95   we arrived really late on friday evening and ...\n",
       "96   bed and breakfast/ hostel style accommodation...\n",
       "97   we stayed at cabanas del lago for one night f...\n",
       "98   we found this place on the internet and staye...\n",
       "99   this hotel is perfect!!!\\n  we got two days o...\n",
       "\n",
       "[100 rows x 1 columns]"
      ]
     },
     "execution_count": 5,
     "metadata": {},
     "output_type": "execute_result"
    }
   ],
   "source": [
    "df = pd.DataFrame(review_text, columns=[\"review\"])\n",
    "df"
   ]
  },
  {
   "cell_type": "code",
   "execution_count": 7,
   "id": "51494dda-0533-49c8-b93b-5c353f4dac95",
   "metadata": {},
   "outputs": [],
   "source": [
    "preprocessor = ReviewPreprocessor(df['review'], nlp)"
   ]
  },
  {
   "cell_type": "code",
   "execution_count": null,
   "id": "b5af8c33-1879-4c24-84f1-17565399d5d0",
   "metadata": {},
   "outputs": [
    {
     "name": "stdout",
     "output_type": "stream",
     "text": [
      "correction des fautes\n"
     ]
    },
    {
     "name": "stderr",
     "output_type": "stream",
     "text": [
      "100it [00:24,  4.14it/s]\n",
      "100it [00:04, 22.30it/s]\n"
     ]
    }
   ],
   "source": [
    "df['cleaned_review'] = preprocessor.remove_tags()\n",
    "df['cleaned_review'] = preprocessor.lowercase_transformation()\n",
    "print(\"correction des fautes\")\n",
    "df['cleaned_review'] = preprocessor.spelling_correction()\n",
    "df['cleaned_review'] = preprocessor.remove_objective_sentences()"
   ]
  }
 ],
 "metadata": {
  "kernelspec": {
   "display_name": "Python 3 (ipykernel)",
   "language": "python",
   "name": "python3"
  },
  "language_info": {
   "codemirror_mode": {
    "name": "ipython",
    "version": 3
   },
   "file_extension": ".py",
   "mimetype": "text/x-python",
   "name": "python",
   "nbconvert_exporter": "python",
   "pygments_lexer": "ipython3",
   "version": "3.8.8"
  }
 },
 "nbformat": 4,
 "nbformat_minor": 5
}
