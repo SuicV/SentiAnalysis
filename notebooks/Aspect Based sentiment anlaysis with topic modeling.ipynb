{
 "cells": [
  {
   "cell_type": "markdown",
   "id": "4bfe6b2c-e8a7-4e06-8c6e-54e8af8913a2",
   "metadata": {},
   "source": [
    "# Aspect Based sentiment anlaysis with topic modeling"
   ]
  },
  {
   "cell_type": "markdown",
   "id": "3bca0863-1896-4e12-aa01-422e03481829",
   "metadata": {},
   "source": [
    "## Importation des bibliothèques et des données."
   ]
  },
  {
   "cell_type": "code",
   "execution_count": 1,
   "id": "8b4bbc8a-55b1-47a5-9a51-22222abffe3c",
   "metadata": {},
   "outputs": [],
   "source": [
    "import os\n",
    "os.chdir(\"..\")"
   ]
  },
  {
   "cell_type": "code",
   "execution_count": 2,
   "id": "fd20edf0-b63b-450f-8d0e-64cfbd89daab",
   "metadata": {},
   "outputs": [
    {
     "name": "stderr",
     "output_type": "stream",
     "text": [
      "e:\\pychcarmprojects\\s4\\servqc_ml\\venv\\lib\\site-packages\\gensim\\matutils.py:22: DeprecationWarning: Please use `triu` from the `scipy.linalg` namespace, the `scipy.linalg.special_matrices` namespace is deprecated.\n",
      "  from scipy.linalg.special_matrices import triu\n"
     ]
    }
   ],
   "source": [
    "from nltk.corpus import stopwords\n",
    "import re\n",
    "import seaborn as sns\n",
    "from time import time\n",
    "from Preprocessors.ReviewPreprocessor import ReviewPreprocessor\n",
    "import pandas as pd\n",
    "import spacy\n",
    "nlp = spacy.load(\"en_core_web_sm\")\n",
    "\n",
    "import pyLDAvis.gensim_models\n",
    "import pyLDAvis\n",
    "pyLDAvis.enable_notebook()\n",
    "\n",
    "from gensim.corpora import Dictionary\n",
    "from gensim.models.ldamulticore import LdaMulticore\n",
    "from gensim.models.coherencemodel import CoherenceModel\n",
    "\n",
    "from IPython.display import HTML"
   ]
  },
  {
   "cell_type": "code",
   "execution_count": 3,
   "id": "a0e69095-ca94-4bfc-87f5-dfd7959c5219",
   "metadata": {},
   "outputs": [],
   "source": [
    "datasets = ['data/3 datasets/reviews_TripAdvisor_2022_5_20_11_27_56_ 10pages_10hotels.csv',\n",
    "            'data/3 datasets/reviews_Booking_2022_5_20_11_9_54_10links_10_pages.csv',\n",
    "            'data/3 datasets/reviews_Agoda_2022_5_20_10_58_5_10pages_10_links.csv',\n",
    "            'data/3 datasets/reviews_Agoda_2022_5_21_11_32_11_London_5pages_5links.csv',\n",
    "            'data/3 datasets/reviews_TripAdvisor_2022_5_21_11_51_26_london_5pages_5links.csv']\n",
    "dataset = pd.DataFrame(columns = ['listing_name', 'listing_score', 'username', 'review_score', 'review_title', 'review'])\n",
    "for d in datasets :\n",
    "    dataset = pd.concat([dataset, pd.read_csv(d)],ignore_index = True)"
   ]
  },
  {
   "cell_type": "code",
   "execution_count": 4,
   "id": "95832e78-441a-4fa6-8e94-42853fde3110",
   "metadata": {},
   "outputs": [
    {
     "data": {
      "text/html": [
       "<div>\n",
       "<style scoped>\n",
       "    .dataframe tbody tr th:only-of-type {\n",
       "        vertical-align: middle;\n",
       "    }\n",
       "\n",
       "    .dataframe tbody tr th {\n",
       "        vertical-align: top;\n",
       "    }\n",
       "\n",
       "    .dataframe thead th {\n",
       "        text-align: right;\n",
       "    }\n",
       "</style>\n",
       "<table border=\"1\" class=\"dataframe\">\n",
       "  <thead>\n",
       "    <tr style=\"text-align: right;\">\n",
       "      <th></th>\n",
       "      <th>listing_name</th>\n",
       "      <th>listing_score</th>\n",
       "      <th>username</th>\n",
       "      <th>review_score</th>\n",
       "      <th>review_title</th>\n",
       "      <th>review</th>\n",
       "    </tr>\n",
       "  </thead>\n",
       "  <tbody>\n",
       "    <tr>\n",
       "      <th>0</th>\n",
       "      <td>Hotel de la Paix Tour Eiffel</td>\n",
       "      <td>4.5</td>\n",
       "      <td>Casey V</td>\n",
       "      <td>5.0</td>\n",
       "      <td>Charming, clean, and GREAT service!</td>\n",
       "      <td>I was at this hotel last week in a single room...</td>\n",
       "    </tr>\n",
       "    <tr>\n",
       "      <th>1</th>\n",
       "      <td>Hotel de la Paix Tour Eiffel</td>\n",
       "      <td>4.5</td>\n",
       "      <td>AHLife93</td>\n",
       "      <td>5.0</td>\n",
       "      <td>Best hotel</td>\n",
       "      <td>We enjoyed our stay. The staff was friendly an...</td>\n",
       "    </tr>\n",
       "    <tr>\n",
       "      <th>2</th>\n",
       "      <td>Hotel de la Paix Tour Eiffel</td>\n",
       "      <td>4.5</td>\n",
       "      <td>Katie Anne</td>\n",
       "      <td>5.0</td>\n",
       "      <td>Great Hotel!</td>\n",
       "      <td>I had a fantastic stay at Hotel de la Paix! I ...</td>\n",
       "    </tr>\n",
       "    <tr>\n",
       "      <th>3</th>\n",
       "      <td>Hotel de la Paix Tour Eiffel</td>\n",
       "      <td>4.5</td>\n",
       "      <td>pollybrown67</td>\n",
       "      <td>5.0</td>\n",
       "      <td>Paris April 2022</td>\n",
       "      <td>Upon our arrival to the hotel, we received a w...</td>\n",
       "    </tr>\n",
       "    <tr>\n",
       "      <th>4</th>\n",
       "      <td>Hotel de la Paix Tour Eiffel</td>\n",
       "      <td>4.5</td>\n",
       "      <td>Vianey G</td>\n",
       "      <td>5.0</td>\n",
       "      <td>Great hotel</td>\n",
       "      <td>Great customer services all Front Desk agents ...</td>\n",
       "    </tr>\n",
       "    <tr>\n",
       "      <th>...</th>\n",
       "      <td>...</td>\n",
       "      <td>...</td>\n",
       "      <td>...</td>\n",
       "      <td>...</td>\n",
       "      <td>...</td>\n",
       "      <td>...</td>\n",
       "    </tr>\n",
       "    <tr>\n",
       "      <th>4291</th>\n",
       "      <td>The Gate</td>\n",
       "      <td>5.0</td>\n",
       "      <td>Laura K</td>\n",
       "      <td>2.0</td>\n",
       "      <td>Not suitable for a long-term stay</td>\n",
       "      <td>This hotel would be okay for a short city trip...</td>\n",
       "    </tr>\n",
       "    <tr>\n",
       "      <th>4292</th>\n",
       "      <td>The Gate</td>\n",
       "      <td>5.0</td>\n",
       "      <td>91nk2012</td>\n",
       "      <td>2.0</td>\n",
       "      <td>Confused with all the 5 star reviews. Very poo...</td>\n",
       "      <td>Stayed at this hotel during valentines weekend...</td>\n",
       "    </tr>\n",
       "    <tr>\n",
       "      <th>4293</th>\n",
       "      <td>The Gate</td>\n",
       "      <td>5.0</td>\n",
       "      <td>Ryan G</td>\n",
       "      <td>1.0</td>\n",
       "      <td>Stay away from awful, racist place</td>\n",
       "      <td>Avoid this awful, cold space where they put yo...</td>\n",
       "    </tr>\n",
       "    <tr>\n",
       "      <th>4294</th>\n",
       "      <td>The Gate</td>\n",
       "      <td>5.0</td>\n",
       "      <td>Thomas</td>\n",
       "      <td>1.0</td>\n",
       "      <td>Party Hotel</td>\n",
       "      <td>This hotel is full of young people having part...</td>\n",
       "    </tr>\n",
       "    <tr>\n",
       "      <th>4295</th>\n",
       "      <td>The Gate</td>\n",
       "      <td>5.0</td>\n",
       "      <td>Rob</td>\n",
       "      <td>1.0</td>\n",
       "      <td>Kings of customer service (not)</td>\n",
       "      <td>Water and electricity weren’t working for two ...</td>\n",
       "    </tr>\n",
       "  </tbody>\n",
       "</table>\n",
       "<p>4296 rows × 6 columns</p>\n",
       "</div>"
      ],
      "text/plain": [
       "                      listing_name  listing_score      username  review_score  \\\n",
       "0     Hotel de la Paix Tour Eiffel            4.5       Casey V           5.0   \n",
       "1     Hotel de la Paix Tour Eiffel            4.5      AHLife93           5.0   \n",
       "2     Hotel de la Paix Tour Eiffel            4.5    Katie Anne           5.0   \n",
       "3     Hotel de la Paix Tour Eiffel            4.5  pollybrown67           5.0   \n",
       "4     Hotel de la Paix Tour Eiffel            4.5      Vianey G           5.0   \n",
       "...                            ...            ...           ...           ...   \n",
       "4291                      The Gate            5.0       Laura K           2.0   \n",
       "4292                      The Gate            5.0      91nk2012           2.0   \n",
       "4293                      The Gate            5.0        Ryan G           1.0   \n",
       "4294                      The Gate            5.0        Thomas           1.0   \n",
       "4295                      The Gate            5.0           Rob           1.0   \n",
       "\n",
       "                                           review_title  \\\n",
       "0                   Charming, clean, and GREAT service!   \n",
       "1                                            Best hotel   \n",
       "2                                          Great Hotel!   \n",
       "3                                      Paris April 2022   \n",
       "4                                           Great hotel   \n",
       "...                                                 ...   \n",
       "4291                  Not suitable for a long-term stay   \n",
       "4292  Confused with all the 5 star reviews. Very poo...   \n",
       "4293                 Stay away from awful, racist place   \n",
       "4294                                        Party Hotel   \n",
       "4295                    Kings of customer service (not)   \n",
       "\n",
       "                                                 review  \n",
       "0     I was at this hotel last week in a single room...  \n",
       "1     We enjoyed our stay. The staff was friendly an...  \n",
       "2     I had a fantastic stay at Hotel de la Paix! I ...  \n",
       "3     Upon our arrival to the hotel, we received a w...  \n",
       "4     Great customer services all Front Desk agents ...  \n",
       "...                                                 ...  \n",
       "4291  This hotel would be okay for a short city trip...  \n",
       "4292  Stayed at this hotel during valentines weekend...  \n",
       "4293  Avoid this awful, cold space where they put yo...  \n",
       "4294  This hotel is full of young people having part...  \n",
       "4295  Water and electricity weren’t working for two ...  \n",
       "\n",
       "[4296 rows x 6 columns]"
      ]
     },
     "execution_count": 4,
     "metadata": {},
     "output_type": "execute_result"
    }
   ],
   "source": [
    "dataset"
   ]
  },
  {
   "cell_type": "markdown",
   "id": "4b5998f9-16da-4ed6-a9c0-ddca9084ee26",
   "metadata": {},
   "source": [
    "## Prétraitement des données"
   ]
  },
  {
   "cell_type": "code",
   "execution_count": 5,
   "id": "d40f3da7-e561-4fb7-ad3c-1d174b6aabca",
   "metadata": {},
   "outputs": [
    {
     "name": "stderr",
     "output_type": "stream",
     "text": [
      "4296it [01:37, 44.16it/s] "
     ]
    },
    {
     "name": "stdout",
     "output_type": "stream",
     "text": [
      "cleaning took 375.9700906276703\n"
     ]
    },
    {
     "name": "stderr",
     "output_type": "stream",
     "text": [
      "\n"
     ]
    }
   ],
   "source": [
    "review_preprocessor = ReviewPreprocessor(dataset['review'], nlp)\n",
    "old = time()\n",
    "dataset['cleaned_data'] = review_preprocessor.remove_tags()\n",
    "dataset['cleaned_data'] = review_preprocessor.lowercase_transformation()\n",
    "dataset['cleaned_data'] = review_preprocessor.pararel_spelling_correction()\n",
    "dataset['cleaned_data'] = review_preprocessor.remove_objective_sentences()\n",
    "dataset = dataset[dataset['cleaned_data'] != \"\"]\n",
    "print(f\"cleaning took {time() - old}\")"
   ]
  },
  {
   "cell_type": "code",
   "execution_count": 6,
   "id": "599d85db-836a-4470-a86d-dbc7d841d818",
   "metadata": {},
   "outputs": [],
   "source": [
    "_stopwords = stopwords.words('english')\n",
    "_stopwords.extend(['nt'])"
   ]
  },
  {
   "cell_type": "code",
   "execution_count": 7,
   "id": "b7ed8a77-1d81-4179-95fb-8ef692322b19",
   "metadata": {},
   "outputs": [],
   "source": [
    "tokenized_sentences = []\n",
    "text_sentences = []\n",
    "for i, _review in dataset.iterrows():\n",
    "    review = nlp(_review['cleaned_data'])            \n",
    "    for sentence in review.sents:\n",
    "        _sent = []\n",
    "        text_sentences.append(sentence.text)\n",
    "        for token in sentence:\n",
    "            # remove ponctuation\n",
    "            token = re.sub(r'[^\\w\\s]', '', token.text)\n",
    "            # add tokent to _sent when it is not a stopword and not short (less than two chars)\n",
    "            if len(token) >= 2 and token not in _stopwords:\n",
    "                _sent.append(token)\n",
    "        tokenized_sentences.append(_sent)"
   ]
  },
  {
   "cell_type": "code",
   "execution_count": 8,
   "id": "a8f38271-3ba9-4c69-8560-a82e4c03c3ab",
   "metadata": {},
   "outputs": [],
   "source": [
    "id2word = Dictionary(tokenized_sentences)\n",
    "corpus = [id2word.doc2bow(text) for text in tokenized_sentences]"
   ]
  },
  {
   "cell_type": "markdown",
   "id": "c3832832-61f3-4e0f-8f37-f05c9bc6e328",
   "metadata": {},
   "source": [
    "## Application de modèle LDA"
   ]
  },
  {
   "cell_type": "code",
   "execution_count": 9,
   "id": "d38aeacd-5c3a-4a06-a662-a795ae8d3304",
   "metadata": {},
   "outputs": [],
   "source": [
    "lda_model = LdaMulticore(corpus=corpus,\n",
    "                                   id2word=id2word,\n",
    "                                   num_topics=6,\n",
    "                                   random_state=42,\n",
    "                                   chunksize=15,\n",
    "                                   passes=10,\n",
    "                                   iterations=5,\n",
    "                                   alpha=0.02,\n",
    "                                   eta=0.3,\n",
    "                                  workers = 4)"
   ]
  },
  {
   "cell_type": "code",
   "execution_count": 10,
   "id": "e0412344-e065-4f30-8495-a90fdac165e0",
   "metadata": {},
   "outputs": [
    {
     "data": {
      "text/plain": [
       "0.45867520642082077"
      ]
     },
     "execution_count": 10,
     "metadata": {},
     "output_type": "execute_result"
    }
   ],
   "source": [
    "CoherenceModel(model=lda_model,\n",
    "                       texts=tokenized_sentences,\n",
    "                       dictionary=id2word,\n",
    "                       coherence='c_v').get_coherence()"
   ]
  },
  {
   "cell_type": "markdown",
   "id": "e7cbbbc7-33d0-414b-b442-6bfc8d633515",
   "metadata": {},
   "source": [
    "**Affichage des topics**"
   ]
  },
  {
   "cell_type": "code",
   "execution_count": 11,
   "id": "553a5941-bef1-43b4-bf2d-896ac5d5c77e",
   "metadata": {},
   "outputs": [
    {
     "data": {
      "text/plain": [
       "[(0,\n",
       "  '0.051*\"breakfast\" + 0.025*\"good\" + 0.022*\"bar\" + 0.018*\"free\" + 0.017*\"food\" + 0.014*\"nice\" + 0.013*\"great\" + 0.013*\"coffee\" + 0.013*\"hot\" + 0.010*\"drinks\"'),\n",
       " (1,\n",
       "  '0.034*\"room\" + 0.015*\"could\" + 0.014*\"shower\" + 0.010*\"one\" + 0.009*\"us\" + 0.009*\"night\" + 0.008*\"even\" + 0.008*\"floor\" + 0.007*\"get\" + 0.007*\"work\"'),\n",
       " (2,\n",
       "  '0.101*\"staff\" + 0.045*\"friendly\" + 0.035*\"helpful\" + 0.033*\"service\" + 0.018*\"great\" + 0.018*\"excellent\" + 0.017*\"good\" + 0.016*\"hotel\" + 0.015*\"nice\" + 0.015*\"reception\"'),\n",
       " (3,\n",
       "  '0.082*\"room\" + 0.058*\"clean\" + 0.038*\"rooms\" + 0.032*\"comfortable\" + 0.031*\"hotel\" + 0.030*\"small\" + 0.027*\"bed\" + 0.019*\"nice\" + 0.017*\"well\" + 0.015*\"good\"'),\n",
       " (4,\n",
       "  '0.065*\"location\" + 0.034*\"great\" + 0.032*\"hotel\" + 0.019*\"good\" + 0.018*\"walk\" + 0.016*\"perfect\" + 0.014*\"london\" + 0.014*\"close\" + 0.013*\"station\" + 0.013*\"easy\"'),\n",
       " (5,\n",
       "  '0.047*\"hotel\" + 0.045*\"stay\" + 0.031*\"would\" + 0.015*\"check\" + 0.012*\"time\" + 0.012*\"recommend\" + 0.012*\"stayed\" + 0.011*\"definitely\" + 0.009*\"one\" + 0.009*\"london\"')]"
      ]
     },
     "execution_count": 11,
     "metadata": {},
     "output_type": "execute_result"
    }
   ],
   "source": [
    "lda_model.print_topics()"
   ]
  },
  {
   "cell_type": "markdown",
   "id": "e3f77163-a7c2-40e2-a48e-52315981af30",
   "metadata": {},
   "source": [
    "nous pouvons déduire les topic suivantes: **food, room, staff, room, location, hotel**"
   ]
  },
  {
   "cell_type": "code",
   "execution_count": 14,
   "id": "1693b883-76f1-404b-bdc8-9f4b0ae35d20",
   "metadata": {},
   "outputs": [],
   "source": [
    "topics = ['food', 'room', 'staff', 'room', 'location', 'hotel']"
   ]
  },
  {
   "cell_type": "markdown",
   "id": "86877a8a-dfac-4681-bdf0-78cc990b4821",
   "metadata": {},
   "source": [
    "## Analyse des sentiments"
   ]
  },
  {
   "cell_type": "code",
   "execution_count": 12,
   "id": "9c021893-f2cd-4153-8b5e-0001820383e2",
   "metadata": {},
   "outputs": [],
   "source": [
    "from textblob import TextBlob"
   ]
  },
  {
   "cell_type": "code",
   "execution_count": 56,
   "id": "4a592c9f-acb5-4010-a8ef-17105d82f770",
   "metadata": {},
   "outputs": [
    {
     "name": "stdout",
     "output_type": "stream",
     "text": [
      " of course, the hotel is small, and my room was very small... but who is staying inside the room while on a trip to paris!?! //// negative hotel (5, 0.4462431)\n",
      "====================================\n",
      "the bed was comfortable, shower had hot water and good water pressure, breakfast was simple but delicious, and overall -everything was clean, and very nice. //// positive food (0, 0.51179814)\n",
      "====================================\n",
      "but the best part of my experience by far was the charming and kind front desk host named died. //// positive staff (2, 0.60803777)\n",
      "====================================\n",
      "from the moment i arrived until he arranged my taxi to the airport, he was extremely helpful. //// netural hotel (5, 0.49527603)\n",
      "====================================\n",
      "he called me by name, ensured everything was to my liking, smiled and chatted many times, and made my short stay feel personal and wonderful. //// positive staff (2, 0.46868315)\n",
      "====================================\n",
      "i would definitely stay at this hotel again! //// netural hotel (5, 0.97572803)\n",
      "====================================\n",
      " we enjoyed our stay. //// positive hotel (5, 0.9107123)\n",
      "====================================\n",
      "the staff was friendly and helpful in helping us navigate paris. //// positive staff (2, 0.8532079)\n",
      "====================================\n",
      "the rooms were beautiful and they were very, very clean, which is the most important thing to me when i travel. //// positive room (3, 0.49081752)\n",
      "====================================\n",
      "i'd recommend to anyone who is looking for a nice, clean hotel that's not right in the middle of all of the tourist traffic. //// positive hotel (5, 0.44219482)\n",
      "====================================\n",
      " i had a fantastic stay at hotel de la paid! //// positive hotel (5, 0.6285974)\n",
      "====================================\n",
      "i had spent a couple days at disneyland with my family, and then needed to find a great hotel for my one solo day in the city of paris. //// positive hotel (5, 0.5897534)\n",
      "====================================\n",
      "i made a great choice! //// positive staff (2, 0.93269706)\n",
      "====================================\n",
      "the staff was very friendly and helpful! //// positive staff (2, 0.95283014)\n",
      "====================================\n",
      "the room was nice and clean, and the hotel is very conveniently located! //// positive room (3, 0.61861145)\n",
      "====================================\n",
      "i was able to walk everywhere. //// positive location (4, 0.7218892)\n",
      "====================================\n",
      "eiffel tower, rue clear (great cafes), louvre, saint-germain area, etc. //// positive location (4, 0.9679394)\n",
      "====================================\n",
      " upon our arrival to the hotel, we received a warm welcome and all our questions about our stay and the area were answered. //// positive staff (2, 0.35365617)\n",
      "====================================\n",
      "the room was quaint, and exceptionally clean. //// positive room (3, 0.48337284)\n",
      "====================================\n",
      "breakfast was a perfect start each morning. //// positive food (0, 0.647344)\n",
      "====================================\n",
      " great customer services all front desk agents was amazing and exceptional in customer service the hotel cleanness was perfect mire than excellent location breakfast was just perfect. //// positive staff (2, 0.7501206)\n",
      "====================================\n",
      "i'll definitely book this hotel again //// netural hotel (5, 0.9679481)\n",
      "====================================\n",
      " clean little hotel with amazing staff, they were always friendly and helpful with any advice i needed about getting around etc..location perfect, cafes and restaurants are nearby and best of all 5 minutes walk to eiffel tower. //// positive location (4, 0.55159515)\n",
      "====================================\n",
      "would definitely stay again and will recommend to anyone who's going paris. //// netural hotel (5, 0.9836598)\n",
      "====================================\n",
      " hotel de la paid gave me such a warm welcoming when i arrived in paris after an overnight flight from the us. //// positive hotel (5, 0.5872857)\n",
      "====================================\n",
      "i arrived early in the morning and i was greeted cheerfully. //// positive hotel (5, 0.73400515)\n",
      "====================================\n",
      "my room wasn't ready yet but the man at the front desk recommended a wonderful coffee shop around the corner. //// positive staff (2, 0.274527)\n",
      "====================================\n",
      "the staff there was friendly and accommodating, too! //// positive staff (2, 0.95283014)\n",
      "====================================\n",
      "i loved my room. //// positive food (0, 0.91071224)\n",
      "====================================\n",
      "it was small but adorable and had everything i needed. //// netural room (3, 0.9679062)\n",
      "====================================\n",
      "clean, modern, and very comfortable. //// positive food (0, 0.16666667)\n",
      "====================================\n",
      "the only thing that wasn't the best was the noise in the hallway and on the stairs. //// positive room (1, 0.7256629)\n",
      "====================================\n",
      "lots of other guests coming and going, so it was a bit loud and hard to sleep. //// netural room (1, 0.8164626)\n",
      "====================================\n",
      "the breakfast was simple but wonderful. //// positive food (0, 0.4820503)\n",
      "====================================\n",
      "the pain au chocolat was warm and delicious, probably the best i had during my stay in france. //// positive food (0, 0.62611157)\n",
      "====================================\n",
      "i would definitely stay here agin. //// netural hotel (5, 0.96794856)\n",
      "====================================\n",
      " loved this hotel! //// positive food (0, 0.91071224)\n",
      "====================================\n",
      "super clean and the staff here is so friendly and pleasant. //// positive staff (2, 0.6848364)\n",
      "====================================\n",
      "i would definitely come stay here again! //// netural hotel (5, 0.9757279)\n",
      "====================================\n",
      " extremly clean hotel & very nice staff. //// positive room (3, 0.9753057)\n",
      "====================================\n",
      "plenty of restraints nearby & easy access to subways to see all sites paris has to offer. //// positive location (4, 0.9889504)\n",
      "====================================\n",
      " hotel is located 5 minutes away from the eiffel tower, i want to give a special shout to to sam, he was kind enough to help me set up my sim card as i had no clue, he went above and beyond to help me out. //// positive staff (2, 0.33406594)\n",
      "====================================\n",
      "the place is super clean and looks very modern. //// positive room (3, 0.5210537)\n",
      "====================================\n",
      " i loved staying at this hotel for my first stay in paris. //// positive hotel (5, 0.7839264)\n",
      "====================================\n",
      "it's a short walk to the eiffel tower and not far from other local attractions. //// netural location (4, 0.9836594)\n",
      "====================================\n",
      "there are shops and restaurants right around the corner and almost on every block. //// positive location (4, 0.8460066)\n",
      "====================================\n",
      "it's a great centrally located hotel and i would stay here again! //// positive location (4, 0.5749185)\n",
      "====================================\n",
      " the hotel is situated in the centre near eiffel tower the room was small but it is written on the web breakfast is typical for france you can easily walk to all attractions. //// netural location (4, 0.58708805)\n",
      "====================================\n",
      " we walked with our tired toddlers over to the this hotel and got greeted like royalty by died. //// negative room (1, 0.5299061)\n",
      "====================================\n",
      "he was so kind and friendly and made what started off as a terrible vacation into a great one. //// netural hotel (5, 0.49821073)\n",
      "====================================\n"
     ]
    }
   ],
   "source": [
    "counts = [0,0,0]\n",
    "aspects_counts = {'food': [0,0,0], 'room': [0,0,0], 'staff': [0,0,0], 'location': [0,0,0], 'hotel': [0,0,0]}\n",
    "for i,sentence in enumerate(text_sentences):\n",
    "    result = lda_model[id2word.doc2bow(sentence.split())]\n",
    "    polarity = TextBlob(sentence).polarity\n",
    "    \n",
    "    max_topic = max(result,key=lambda item:item[1])\n",
    "    topic = topics[max(result,key=lambda item:item[1])[0]]\n",
    "    \n",
    "    if polarity >= 0.2:\n",
    "        sentiment = \"positive\"\n",
    "        counts[0]+=1\n",
    "        aspects_counts[topic][0] += 1\n",
    "    elif polarity <=-0.2:\n",
    "        sentiment = \"negative\"\n",
    "        counts[1]+=1\n",
    "        aspects_counts[topic][1] += 1\n",
    "    else:\n",
    "        sentiment = \"netural\"\n",
    "        counts[2]+=1\n",
    "        aspects_counts[topic][2] += 1\n",
    "        \n",
    "    if i < 50:\n",
    "        print(sentence, \"////\", sentiment, topic, max_topic)        \n",
    "        print(\"====================================\")"
   ]
  },
  {
   "cell_type": "code",
   "execution_count": 50,
   "id": "96387bfa-c0d5-48c0-8241-e80353e4bf01",
   "metadata": {},
   "outputs": [
    {
     "data": {
      "text/plain": [
       "0.4"
      ]
     },
     "execution_count": 50,
     "metadata": {},
     "output_type": "execute_result"
    }
   ],
   "source": [
    "TextBlob(\"it's a great centrally located hotel and i would stay here again!\").polarity"
   ]
  },
  {
   "cell_type": "code",
   "execution_count": 17,
   "id": "4d711681-e90a-4fdd-9d90-7340be07183e",
   "metadata": {},
   "outputs": [],
   "source": [
    "import seaborn as sns"
   ]
  },
  {
   "cell_type": "code",
   "execution_count": 57,
   "id": "a7756342-9317-45a0-96d6-41686296114a",
   "metadata": {},
   "outputs": [
    {
     "data": {
      "text/plain": [
       "[10733, 1601, 3927]"
      ]
     },
     "execution_count": 57,
     "metadata": {},
     "output_type": "execute_result"
    }
   ],
   "source": [
    "counts"
   ]
  },
  {
   "cell_type": "code",
   "execution_count": 58,
   "id": "0453c678-98fe-486c-80d0-edaf78801f46",
   "metadata": {},
   "outputs": [
    {
     "data": {
      "text/plain": [
       "{'food': [1859, 204, 440],\n",
       " 'room': [2906, 923, 1800],\n",
       " 'staff': [2065, 97, 260],\n",
       " 'location': [2195, 59, 486],\n",
       " 'hotel': [1708, 318, 941]}"
      ]
     },
     "execution_count": 58,
     "metadata": {},
     "output_type": "execute_result"
    }
   ],
   "source": [
    "aspects_counts"
   ]
  },
  {
   "cell_type": "code",
   "execution_count": 59,
   "id": "fb1ec318-e301-4016-9a01-0056e3259d6e",
   "metadata": {},
   "outputs": [
    {
     "data": {
      "text/plain": [
       "<AxesSubplot:>"
      ]
     },
     "execution_count": 59,
     "metadata": {},
     "output_type": "execute_result"
    },
    {
     "data": {
      "image/png": "[encoded data removed]",
      "text/plain": [
       "<Figure size 432x288 with 1 Axes>"
      ]
     },
     "metadata": {
      "needs_background": "light"
     },
     "output_type": "display_data"
    }
   ],
   "source": [
    "sns.barplot(y = counts, x = ['positive', 'negative', 'netural'])"
   ]
  },
  {
   "cell_type": "code",
   "execution_count": 24,
   "id": "c07be9a8-9184-4116-b8d3-f1bbdbe273e0",
   "metadata": {},
   "outputs": [],
   "source": [
    "import pandas as pd"
   ]
  },
  {
   "cell_type": "code",
   "execution_count": 60,
   "id": "aa7fa238-397f-40d8-b2d3-bd5171a62f95",
   "metadata": {},
   "outputs": [
    {
     "data": {
      "text/plain": [
       "{'food': [1859, 204, 440],\n",
       " 'room': [2906, 923, 1800],\n",
       " 'staff': [2065, 97, 260],\n",
       " 'location': [2195, 59, 486],\n",
       " 'hotel': [1708, 318, 941]}"
      ]
     },
     "execution_count": 60,
     "metadata": {},
     "output_type": "execute_result"
    }
   ],
   "source": [
    "aspects_counts"
   ]
  },
  {
   "cell_type": "code",
   "execution_count": 61,
   "id": "f22bda75-f550-4546-a028-44d6fb6dead2",
   "metadata": {},
   "outputs": [],
   "source": [
    "agregated_data = pd.DataFrame(aspects_counts).transpose()"
   ]
  },
  {
   "cell_type": "code",
   "execution_count": 62,
   "id": "bc1efb25-5058-42c7-81e0-0f182168a310",
   "metadata": {},
   "outputs": [],
   "source": [
    "agregated_data = agregated_data.reset_index()"
   ]
  },
  {
   "cell_type": "code",
   "execution_count": 63,
   "id": "d44f16a8-042f-4afc-ac0e-81d463fcb04e",
   "metadata": {},
   "outputs": [],
   "source": [
    "agregated_data.columns = ['aspect', 'positive', 'negative', 'netural']"
   ]
  },
  {
   "cell_type": "code",
   "execution_count": 64,
   "id": "bde51172-5383-4b52-8dc3-4289d59436a1",
   "metadata": {},
   "outputs": [
    {
     "data": {
      "text/html": [
       "<div>\n",
       "<style scoped>\n",
       "    .dataframe tbody tr th:only-of-type {\n",
       "        vertical-align: middle;\n",
       "    }\n",
       "\n",
       "    .dataframe tbody tr th {\n",
       "        vertical-align: top;\n",
       "    }\n",
       "\n",
       "    .dataframe thead th {\n",
       "        text-align: right;\n",
       "    }\n",
       "</style>\n",
       "<table border=\"1\" class=\"dataframe\">\n",
       "  <thead>\n",
       "    <tr style=\"text-align: right;\">\n",
       "      <th></th>\n",
       "      <th>aspect</th>\n",
       "      <th>positive</th>\n",
       "      <th>negative</th>\n",
       "      <th>netural</th>\n",
       "    </tr>\n",
       "  </thead>\n",
       "  <tbody>\n",
       "    <tr>\n",
       "      <th>0</th>\n",
       "      <td>food</td>\n",
       "      <td>1859</td>\n",
       "      <td>204</td>\n",
       "      <td>440</td>\n",
       "    </tr>\n",
       "    <tr>\n",
       "      <th>1</th>\n",
       "      <td>room</td>\n",
       "      <td>2906</td>\n",
       "      <td>923</td>\n",
       "      <td>1800</td>\n",
       "    </tr>\n",
       "    <tr>\n",
       "      <th>2</th>\n",
       "      <td>staff</td>\n",
       "      <td>2065</td>\n",
       "      <td>97</td>\n",
       "      <td>260</td>\n",
       "    </tr>\n",
       "    <tr>\n",
       "      <th>3</th>\n",
       "      <td>location</td>\n",
       "      <td>2195</td>\n",
       "      <td>59</td>\n",
       "      <td>486</td>\n",
       "    </tr>\n",
       "    <tr>\n",
       "      <th>4</th>\n",
       "      <td>hotel</td>\n",
       "      <td>1708</td>\n",
       "      <td>318</td>\n",
       "      <td>941</td>\n",
       "    </tr>\n",
       "  </tbody>\n",
       "</table>\n",
       "</div>"
      ],
      "text/plain": [
       "     aspect  positive  negative  netural\n",
       "0      food      1859       204      440\n",
       "1      room      2906       923     1800\n",
       "2     staff      2065        97      260\n",
       "3  location      2195        59      486\n",
       "4     hotel      1708       318      941"
      ]
     },
     "execution_count": 64,
     "metadata": {},
     "output_type": "execute_result"
    }
   ],
   "source": [
    "agregated_data"
   ]
  },
  {
   "cell_type": "code",
   "execution_count": 65,
   "id": "9125d01f-8d9c-4492-9945-381e4c5b480a",
   "metadata": {},
   "outputs": [
    {
     "data": {
      "text/plain": [
       "<AxesSubplot:xlabel='aspect', ylabel='positive'>"
      ]
     },
     "execution_count": 65,
     "metadata": {},
     "output_type": "execute_result"
    },
    {
     "data": {
      "image/png": "[encoded data removed]",
      "text/plain": [
       "<Figure size 432x288 with 1 Axes>"
      ]
     },
     "metadata": {
      "needs_background": "light"
     },
     "output_type": "display_data"
    }
   ],
   "source": [
    "sns.barplot(x = 'aspect', y = 'positive', data = agregated_data)"
   ]
  },
  {
   "cell_type": "code",
   "execution_count": 66,
   "id": "887e6def-d130-4a7c-a89f-f5775ab4056a",
   "metadata": {},
   "outputs": [
    {
     "data": {
      "text/plain": [
       "<AxesSubplot:xlabel='aspect', ylabel='negative'>"
      ]
     },
     "execution_count": 66,
     "metadata": {},
     "output_type": "execute_result"
    },
    {
     "data": {
      "image/png": "[encoded data removed]",
      "text/plain": [
       "<Figure size 432x288 with 1 Axes>"
      ]
     },
     "metadata": {
      "needs_background": "light"
     },
     "output_type": "display_data"
    }
   ],
   "source": [
    "sns.barplot(x = 'aspect', y = 'negative', data = agregated_data)"
   ]
  },
  {
   "cell_type": "code",
   "execution_count": 67,
   "id": "a1d8a302-273a-4f3f-b9fe-240cf011c1f7",
   "metadata": {},
   "outputs": [
    {
     "data": {
      "text/plain": [
       "<AxesSubplot:xlabel='aspect', ylabel='netural'>"
      ]
     },
     "execution_count": 67,
     "metadata": {},
     "output_type": "execute_result"
    },
    {
     "data": {
      "image/png": "[encoded data removed]",
      "text/plain": [
       "<Figure size 432x288 with 1 Axes>"
      ]
     },
     "metadata": {
      "needs_background": "light"
     },
     "output_type": "display_data"
    }
   ],
   "source": [
    "sns.barplot(x = 'aspect', y = 'netural', data = agregated_data)"
   ]
  }
 ],
 "metadata": {
  "kernelspec": {
   "display_name": "Python 3 (ipykernel)",
   "language": "python",
   "name": "python3"
  },
  "language_info": {
   "codemirror_mode": {
    "name": "ipython",
    "version": 3
   },
   "file_extension": ".py",
   "mimetype": "text/x-python",
   "name": "python",
   "nbconvert_exporter": "python",
   "pygments_lexer": "ipython3",
   "version": "3.8.8"
  }
 },
 "nbformat": 4,
 "nbformat_minor": 5
}
