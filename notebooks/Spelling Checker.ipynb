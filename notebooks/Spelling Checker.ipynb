{
 "cells": [
  {
   "cell_type": "code",
   "execution_count": 1,
   "id": "6e6e7f70-12fa-4b38-9032-280a4149e5ba",
   "metadata": {},
   "outputs": [],
   "source": [
    "from spellchecker import SpellChecker\n",
    "spell_checker = SpellChecker()"
   ]
  },
  {
   "cell_type": "code",
   "execution_count": 3,
   "id": "c7e559e6-b42d-4efc-af2e-ec2b338207ef",
   "metadata": {},
   "outputs": [
    {
     "data": {
      "text/plain": [
       "'read'"
      ]
     },
     "execution_count": 3,
     "metadata": {},
     "output_type": "execute_result"
    }
   ],
   "source": [
    "spell_checker.correction(\"Riad\")"
   ]
  },
  {
   "cell_type": "code",
   "execution_count": 6,
   "id": "af21e8b3-612e-43bb-81fe-93ca8705af90",
   "metadata": {},
   "outputs": [
    {
     "data": {
      "text/plain": [
       "'if'"
      ]
     },
     "execution_count": 6,
     "metadata": {},
     "output_type": "execute_result"
    }
   ],
   "source": [
    "spell_checker.correction(\"rif\")"
   ]
  },
  {
   "cell_type": "code",
   "execution_count": 7,
   "id": "cf10bf4f-e36f-477e-85be-2151cd79aebd",
   "metadata": {},
   "outputs": [
    {
     "data": {
      "text/plain": [
       "'ord'"
      ]
     },
     "execution_count": 7,
     "metadata": {},
     "output_type": "execute_result"
    }
   ],
   "source": [
    "spell_checker.correction(\"3rd\")"
   ]
  }
 ],
 "metadata": {
  "kernelspec": {
   "display_name": "Python 3 (ipykernel)",
   "language": "python",
   "name": "python3"
  },
  "language_info": {
   "codemirror_mode": {
    "name": "ipython",
    "version": 3
   },
   "file_extension": ".py",
   "mimetype": "text/x-python",
   "name": "python",
   "nbconvert_exporter": "python",
   "pygments_lexer": "ipython3",
   "version": "3.8.8"
  }
 },
 "nbformat": 4,
 "nbformat_minor": 5
}
