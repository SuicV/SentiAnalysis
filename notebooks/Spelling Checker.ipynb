{
 "cells": [
  {
   "cell_type": "code",
   "execution_count": 1,
   "id": "d514a39c-4440-4dc9-9cd2-6d1384bde7d6",
   "metadata": {},
   "outputs": [],
   "source": [
    "%load_ext autoreload\n",
    "%autoreload 2"
   ]
  },
  {
   "cell_type": "code",
   "execution_count": 2,
   "id": "6e6e7f70-12fa-4b38-9032-280a4149e5ba",
   "metadata": {},
   "outputs": [],
   "source": [
    "import os\n",
    "os.chdir(\"..\")\n",
    "\n",
    "import pandas as pd\n",
    "from Preprocessors.ReviewPreprocessor import ReviewPreprocessor"
   ]
  },
  {
   "cell_type": "code",
   "execution_count": 3,
   "id": "c7e559e6-b42d-4efc-af2e-ec2b338207ef",
   "metadata": {},
   "outputs": [
    {
     "data": {
      "text/html": [
       "<div>\n",
       "<style scoped>\n",
       "    .dataframe tbody tr th:only-of-type {\n",
       "        vertical-align: middle;\n",
       "    }\n",
       "\n",
       "    .dataframe tbody tr th {\n",
       "        vertical-align: top;\n",
       "    }\n",
       "\n",
       "    .dataframe thead th {\n",
       "        text-align: right;\n",
       "    }\n",
       "</style>\n",
       "<table border=\"1\" class=\"dataframe\">\n",
       "  <thead>\n",
       "    <tr style=\"text-align: right;\">\n",
       "      <th></th>\n",
       "      <th>hotel_url</th>\n",
       "      <th>author</th>\n",
       "      <th>date</th>\n",
       "      <th>rating</th>\n",
       "      <th>title</th>\n",
       "      <th>review</th>\n",
       "    </tr>\n",
       "  </thead>\n",
       "  <tbody>\n",
       "    <tr>\n",
       "      <th>0</th>\n",
       "      <td>Hotel_Review-g194775-d1121769-Reviews-Hotel_Ba...</td>\n",
       "      <td>Lagaiuzza</td>\n",
       "      <td>2016-01-01T00:00:00</td>\n",
       "      <td>5.0</td>\n",
       "      <td>Baltic, what else?</td>\n",
       "      <td>We have spent in this hotel our summer holiday...</td>\n",
       "    </tr>\n",
       "    <tr>\n",
       "      <th>1</th>\n",
       "      <td>Hotel_Review-g194775-d1121769-Reviews-Hotel_Ba...</td>\n",
       "      <td>ashleyn763</td>\n",
       "      <td>2014-10-01T00:00:00</td>\n",
       "      <td>5.0</td>\n",
       "      <td>Excellent in every way!</td>\n",
       "      <td>I visited Hotel Baltic with my husband for som...</td>\n",
       "    </tr>\n",
       "    <tr>\n",
       "      <th>2</th>\n",
       "      <td>Hotel_Review-g194775-d1121769-Reviews-Hotel_Ba...</td>\n",
       "      <td>DavideMauro</td>\n",
       "      <td>2014-08-01T00:00:00</td>\n",
       "      <td>5.0</td>\n",
       "      <td>The house of your family's holiday</td>\n",
       "      <td>I've travelled quite a numbers of hotels but t...</td>\n",
       "    </tr>\n",
       "    <tr>\n",
       "      <th>3</th>\n",
       "      <td>Hotel_Review-g303503-d1735469-Reviews-Pousada_...</td>\n",
       "      <td>TwoMonkeysTravel</td>\n",
       "      <td>2017-03-01T00:00:00</td>\n",
       "      <td>5.0</td>\n",
       "      <td>Natural Luxury</td>\n",
       "      <td>The property is surrounded by trees, which are...</td>\n",
       "    </tr>\n",
       "    <tr>\n",
       "      <th>4</th>\n",
       "      <td>Hotel_Review-g303503-d1735469-Reviews-Pousada_...</td>\n",
       "      <td>analuizade</td>\n",
       "      <td>2016-09-01T00:00:00</td>\n",
       "      <td>5.0</td>\n",
       "      <td>Very cozy!</td>\n",
       "      <td>I had a very pleasant stay at this hotel! All ...</td>\n",
       "    </tr>\n",
       "  </tbody>\n",
       "</table>\n",
       "</div>"
      ],
      "text/plain": [
       "                                           hotel_url            author  \\\n",
       "0  Hotel_Review-g194775-d1121769-Reviews-Hotel_Ba...         Lagaiuzza   \n",
       "1  Hotel_Review-g194775-d1121769-Reviews-Hotel_Ba...        ashleyn763   \n",
       "2  Hotel_Review-g194775-d1121769-Reviews-Hotel_Ba...       DavideMauro   \n",
       "3  Hotel_Review-g303503-d1735469-Reviews-Pousada_...  TwoMonkeysTravel   \n",
       "4  Hotel_Review-g303503-d1735469-Reviews-Pousada_...        analuizade   \n",
       "\n",
       "                  date  rating                               title  \\\n",
       "0  2016-01-01T00:00:00     5.0                  Baltic, what else?   \n",
       "1  2014-10-01T00:00:00     5.0             Excellent in every way!   \n",
       "2  2014-08-01T00:00:00     5.0  The house of your family's holiday   \n",
       "3  2017-03-01T00:00:00     5.0                      Natural Luxury   \n",
       "4  2016-09-01T00:00:00     5.0                          Very cozy!   \n",
       "\n",
       "                                              review  \n",
       "0  We have spent in this hotel our summer holiday...  \n",
       "1  I visited Hotel Baltic with my husband for som...  \n",
       "2  I've travelled quite a numbers of hotels but t...  \n",
       "3  The property is surrounded by trees, which are...  \n",
       "4  I had a very pleasant stay at this hotel! All ...  "
      ]
     },
     "execution_count": 3,
     "metadata": {},
     "output_type": "execute_result"
    }
   ],
   "source": [
    "data = pd.read_csv(\"data/trip_advisor_data_chunk_10000k.csv\", encoding=\"utf-16\")\n",
    "data.head()"
   ]
  },
  {
   "cell_type": "code",
   "execution_count": null,
   "id": "c2120ca0-694b-455f-8ab1-502016af9551",
   "metadata": {},
   "outputs": [],
   "source": []
  }
 ],
 "metadata": {
  "kernelspec": {
   "display_name": "Python 3 (ipykernel)",
   "language": "python",
   "name": "python3"
  },
  "language_info": {
   "codemirror_mode": {
    "name": "ipython",
    "version": 3
   },
   "file_extension": ".py",
   "mimetype": "text/x-python",
   "name": "python",
   "nbconvert_exporter": "python",
   "pygments_lexer": "ipython3",
   "version": "3.8.8"
  }
 },
 "nbformat": 4,
 "nbformat_minor": 5
}
