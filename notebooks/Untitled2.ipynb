{
 "cells": [
  {
   "cell_type": "code",
   "execution_count": 1,
   "id": "527f18ec-dfa1-4d38-af0b-d2885f8f4ce1",
   "metadata": {},
   "outputs": [],
   "source": [
    "%load_ext autoreload\n",
    "%autoreload 2"
   ]
  },
  {
   "cell_type": "markdown",
   "id": "bb29f1b3-c234-45bb-a53b-767038e940cd",
   "metadata": {},
   "source": [
    "### Importation des bibliothèques"
   ]
  },
  {
   "cell_type": "code",
   "execution_count": 2,
   "id": "ccc1ac5b-e87e-4e53-acce-f606f41082e9",
   "metadata": {},
   "outputs": [],
   "source": [
    "from tqdm import tqdm\n",
    "from collections import Counter, defaultdict\n",
    "import os\n",
    "os.chdir(\"..\")\n",
    "\n",
    "# my modules\n",
    "from Preprocessors.ReviewPreprocessor import ReviewPreprocessor\n",
    "from Aspects.ExplicitAspectExtractor import ExplicitAspectExtractor\n",
    "from Aspects.CoRefAspectIdentGrouping import CoRefAspectIdentGrouping\n",
    "\n",
    "# pandas and numpy\n",
    "import pandas as pd\n",
    "import numpy as np\n",
    "\n",
    "# spacy for NLP\n",
    "import spacy\n",
    "from spacy.matcher import Matcher\n",
    "from spacy import displacy\n",
    "\n",
    "from time import time\n",
    "\n",
    "#ignore pandas warning\n",
    "import warnings\n",
    "warnings.simplefilter(action='ignore', category=FutureWarning)\n",
    "\n",
    "# plots\n",
    "import matplotlib.pyplot as plt\n",
    "import seaborn as sns\n",
    "\n",
    "nlp = spacy.load(\"en_core_web_sm\")"
   ]
  },
  {
   "cell_type": "code",
   "execution_count": 4,
   "id": "7637743c-628f-4737-8d00-cc0f2171ea97",
   "metadata": {},
   "outputs": [
    {
     "name": "stdout",
     "output_type": "stream",
     "text": [
      "format de dataset: (4067, 7)\n"
     ]
    },
    {
     "data": {
      "text/html": [
       "<div>\n",
       "<style scoped>\n",
       "    .dataframe tbody tr th:only-of-type {\n",
       "        vertical-align: middle;\n",
       "    }\n",
       "\n",
       "    .dataframe tbody tr th {\n",
       "        vertical-align: top;\n",
       "    }\n",
       "\n",
       "    .dataframe thead th {\n",
       "        text-align: right;\n",
       "    }\n",
       "</style>\n",
       "<table border=\"1\" class=\"dataframe\">\n",
       "  <thead>\n",
       "    <tr style=\"text-align: right;\">\n",
       "      <th></th>\n",
       "      <th>listing_name</th>\n",
       "      <th>listing_score</th>\n",
       "      <th>username</th>\n",
       "      <th>review_score</th>\n",
       "      <th>review_title</th>\n",
       "      <th>review</th>\n",
       "      <th>cleaned_review</th>\n",
       "    </tr>\n",
       "  </thead>\n",
       "  <tbody>\n",
       "    <tr>\n",
       "      <th>0</th>\n",
       "      <td>Hotel de la Paix Tour Eiffel</td>\n",
       "      <td>4.5</td>\n",
       "      <td>Casey V</td>\n",
       "      <td>5.0</td>\n",
       "      <td>Charming, clean, and GREAT service!</td>\n",
       "      <td>I was at this hotel last week in a single room...</td>\n",
       "      <td>of course, the hotel is small, and my room wa...</td>\n",
       "    </tr>\n",
       "    <tr>\n",
       "      <th>1</th>\n",
       "      <td>Hotel de la Paix Tour Eiffel</td>\n",
       "      <td>4.5</td>\n",
       "      <td>AHLife93</td>\n",
       "      <td>5.0</td>\n",
       "      <td>Best hotel</td>\n",
       "      <td>We enjoyed our stay. The staff was friendly an...</td>\n",
       "      <td>we enjoyed our stay. the staff was friendly a...</td>\n",
       "    </tr>\n",
       "    <tr>\n",
       "      <th>2</th>\n",
       "      <td>Hotel de la Paix Tour Eiffel</td>\n",
       "      <td>4.5</td>\n",
       "      <td>Katie Anne</td>\n",
       "      <td>5.0</td>\n",
       "      <td>Great Hotel!</td>\n",
       "      <td>I had a fantastic stay at Hotel de la Paix! I ...</td>\n",
       "      <td>i had a fantastic stay at hotel de la paid! i...</td>\n",
       "    </tr>\n",
       "    <tr>\n",
       "      <th>3</th>\n",
       "      <td>Hotel de la Paix Tour Eiffel</td>\n",
       "      <td>4.5</td>\n",
       "      <td>pollybrown67</td>\n",
       "      <td>5.0</td>\n",
       "      <td>Paris April 2022</td>\n",
       "      <td>Upon our arrival to the hotel, we received a w...</td>\n",
       "      <td>upon our arrival to the hotel, we received a ...</td>\n",
       "    </tr>\n",
       "    <tr>\n",
       "      <th>4</th>\n",
       "      <td>Hotel de la Paix Tour Eiffel</td>\n",
       "      <td>4.5</td>\n",
       "      <td>Vianey G</td>\n",
       "      <td>5.0</td>\n",
       "      <td>Great hotel</td>\n",
       "      <td>Great customer services all Front Desk agents ...</td>\n",
       "      <td>great customer services all front desk agents...</td>\n",
       "    </tr>\n",
       "  </tbody>\n",
       "</table>\n",
       "</div>"
      ],
      "text/plain": [
       "                   listing_name  listing_score      username  review_score  \\\n",
       "0  Hotel de la Paix Tour Eiffel            4.5       Casey V           5.0   \n",
       "1  Hotel de la Paix Tour Eiffel            4.5      AHLife93           5.0   \n",
       "2  Hotel de la Paix Tour Eiffel            4.5    Katie Anne           5.0   \n",
       "3  Hotel de la Paix Tour Eiffel            4.5  pollybrown67           5.0   \n",
       "4  Hotel de la Paix Tour Eiffel            4.5      Vianey G           5.0   \n",
       "\n",
       "                          review_title  \\\n",
       "0  Charming, clean, and GREAT service!   \n",
       "1                           Best hotel   \n",
       "2                         Great Hotel!   \n",
       "3                     Paris April 2022   \n",
       "4                          Great hotel   \n",
       "\n",
       "                                              review  \\\n",
       "0  I was at this hotel last week in a single room...   \n",
       "1  We enjoyed our stay. The staff was friendly an...   \n",
       "2  I had a fantastic stay at Hotel de la Paix! I ...   \n",
       "3  Upon our arrival to the hotel, we received a w...   \n",
       "4  Great customer services all Front Desk agents ...   \n",
       "\n",
       "                                      cleaned_review  \n",
       "0   of course, the hotel is small, and my room wa...  \n",
       "1   we enjoyed our stay. the staff was friendly a...  \n",
       "2   i had a fantastic stay at hotel de la paid! i...  \n",
       "3   upon our arrival to the hotel, we received a ...  \n",
       "4   great customer services all front desk agents...  "
      ]
     },
     "execution_count": 4,
     "metadata": {},
     "output_type": "execute_result"
    }
   ],
   "source": [
    "data = pd.read_csv(\"data/all_datasets_cleaned.csv\")\n",
    "data.rename(columns={\"text\": \"review\"}, inplace=True)\n",
    "print(f\"format de dataset: {data.shape}\")\n",
    "data.head(5)"
   ]
  },
  {
   "cell_type": "markdown",
   "id": "28b4825a-bfff-460f-8235-657105ef97ef",
   "metadata": {
    "tags": []
   },
   "source": [
    "### Prétraitement de données"
   ]
  },
  {
   "cell_type": "markdown",
   "id": "a6fb9025-b5c4-4dbf-aaeb-5fecb9a1fbaf",
   "metadata": {
    "tags": []
   },
   "source": [
    "#### suppression des caractéristiques inutiles. (\\n, \\t, \\r, hyperlinks, #..., @..., les emojis)"
   ]
  },
  {
   "cell_type": "markdown",
   "id": "7e2341e0-e566-4035-a7a1-6bd089948fb6",
   "metadata": {},
   "source": [
    "Après l'analyse des commentaires. Nous avons remarqué que le dataset contient des mots en dialecte marocain -darija-. Ainsi nous les considérons comme des mots corrects."
   ]
  },
  {
   "cell_type": "code",
   "execution_count": 5,
   "id": "acffbfd8-4701-4639-8513-21a07fbe25ad",
   "metadata": {},
   "outputs": [
    {
     "data": {
      "text/plain": [
       "0       I was at this hotel last week in a single room...\n",
       "1       We enjoyed our stay. The staff was friendly an...\n",
       "2       I had a fantastic stay at Hotel de la Paix! I ...\n",
       "3       Upon our arrival to the hotel, we received a w...\n",
       "4       Great customer services all Front Desk agents ...\n",
       "                              ...                        \n",
       "4062    This hotel would be okay for a short city trip...\n",
       "4063    Stayed at this hotel during valentines weekend...\n",
       "4064    Avoid this awful, cold space where they put yo...\n",
       "4065    This hotel is full of young people having part...\n",
       "4066    Water and electricity weren't working for two ...\n",
       "Name: cleaned_review, Length: 4067, dtype: object"
      ]
     },
     "execution_count": 5,
     "metadata": {},
     "output_type": "execute_result"
    }
   ],
   "source": [
    "data[\"cleaned_review\"] = data['review']\n",
    "preprocessor = ReviewPreprocessor(data['cleaned_review'], nlp=nlp, subjectivity_threshold=0.6)\n",
    "data['cleaned_review'] = preprocessor.remove_tags()\n",
    "data['cleaned_review']"
   ]
  },
  {
   "cell_type": "code",
   "execution_count": null,
   "id": "a6af3b95-81cf-4202-aa0a-0e2af8d758e3",
   "metadata": {},
   "outputs": [],
   "source": []
  },
  {
   "cell_type": "markdown",
   "id": "dafa9b69-e2f6-4210-8438-dbed9840f3b4",
   "metadata": {
    "tags": []
   },
   "source": [
    "#### transformation en miniscule"
   ]
  },
  {
   "cell_type": "code",
   "execution_count": 6,
   "id": "c1db556a-9930-41b0-97c4-5f77c36abbb6",
   "metadata": {},
   "outputs": [],
   "source": [
    "data[\"cleaned_review\"] = data[\"cleaned_review\"].apply(lambda r : r.lower())"
   ]
  },
  {
   "cell_type": "markdown",
   "id": "1c1898fa-27d9-48c4-afa8-79d464ae17cb",
   "metadata": {},
   "source": [
    "i was at this hotel last week in a single room, and really enjoyed my experience!! of course, the hotel is small, and my room was very small... but who is staying inside the room while on a trip to paris!?! the bed was comfortable, shower had hot water and good water pressure, breakfast was simple but delicious, and overall -everything was clean, and very nice. but the best part of my experience by far was the charming and kind front desk host named zied. from the moment i arrived until he arranged my taxi to the airport, he was extremely helpful. he called me by name, ensured everything was to my liking, smiled and chatted many times, and made my short stay feel personal and wonderful. i would definitely stay at this hotel again!"
   ]
  },
  {
   "cell_type": "markdown",
   "id": "b967a5af-7a6e-45e7-9f07-23611fa86ff9",
   "metadata": {
    "tags": []
   },
   "source": [
    "#### correction des fautes d'orthographes"
   ]
  },
  {
   "cell_type": "markdown",
   "id": "9f19acb6-aeaf-4f8a-aa98-e4fd286a2897",
   "metadata": {},
   "source": [
    "Pour la correction des fautes d'orthographes, nous avons adopté la procédure suivante: premièrement, on parcourt les commentaires une par une. Ensuite on extrait les mots de commentaire traitée. On utilise la bibliothèque **pyspellchecker**, qui utilise la norme de levenshtein pour corriger les mots mal tapés.\n",
    "\n",
    "Pour vérifier la procédure. nous modifions le commentaire d'indice 0:\n",
    "\n",
    "**Contenu de commentaire**\n",
    "i was at this hotel last week in a single room, and really enjoyed my experience!! of course, the hotel is small, and my room was very small... but who is staying inside the room while on a trip to paris!?! the bed was comfortable, shower had hot water and good water pressure, breakfast was simple but delicious, and overall -everything was clean, and very nice. but the best part of my experience by far was the charming and kind front desk host named zied. from the moment i arrived until he arranged my taxi to the airport, he was extremely helpful. he called me by name, ensured everything was to my liking, smiled and chatted many times, and made my short stay feel personal and wonderful. i would definitely stay at this hotel again!\n",
    "\n",
    "les modification appliqué:\n",
    "- was -> wass\n",
    "- this -> thhiss\n",
    "- last -> lasstt\n",
    "- room -> riom"
   ]
  },
  {
   "cell_type": "code",
   "execution_count": 8,
   "id": "e27f118f-2804-45dd-bc96-58aa0123c519",
   "metadata": {},
   "outputs": [
    {
     "data": {
      "text/plain": [
       "'i was at this hotel last week in a single room, and really enjoyed my experience!! of course, the hotel is small, and my room was very small... but who is staying inside the room while on a trip to paris!?! the bed was comfortable, shower had hot water and good water pressure, breakfast was simple but delicious, and overall -everything was clean, and very nice. but the best part of my experience by far was the charming and kind front desk host named zied. from the moment i arrived until he arranged my taxi to the airport, he was extremely helpful. he called me by name, ensured everything was to my liking, smiled and chatted many times, and made my short stay feel personal and wonderful. i would definitely stay at this hotel again!'"
      ]
     },
     "execution_count": 8,
     "metadata": {},
     "output_type": "execute_result"
    }
   ],
   "source": [
    "data.loc[0, \"cleaned_review\"] = 'i wass at thhiss hotel lasstt week in a single riom, and really enjoyed my experience!! of course, the hotel is small, and my room was very small... but who is staying inside the room while on a trip to paris!?! the bed was comfortable, shower had hot water and good water pressure, breakfast was simple but delicious, and overall -everything was clean, and very nice. but the best part of my experience by far was the charming and kind front desk host named zied. from the moment i arrived until he arranged my taxi to the airport, he was extremely helpful. he called me by name, ensured everything was to my liking, smiled and chatted many times, and made my short stay feel personal and wonderful. i would definitely stay at this hotel again!'"
   ]
  },
  {
   "cell_type": "markdown",
   "id": "04ff1e3a-c004-4f06-bb6c-3ccb3951cc5e",
   "metadata": {},
   "source": [
    "**Contenu de commentaire**\n",
    "\"we enjoyed our stay. the staff was friendly and helpful in helping us navigate paris. the hotel is about three minutes walk from the eiffel tower, 6 minute walk from the subway, and has a lot of restaurants and shops. the rooms were beautiful and they were very, very clean, which is the most important thing to me when i travel. i'd recommend to anyone who is looking for a nice, clean hotel that's not right in the middle of all of the tourist traffic.\"\n",
    "\n",
    "les modification appliqué:\n",
    "- enjoyed -> enjoyedd\n",
    "- stay -> stayy\n",
    "- friendly -> friienddly \n",
    "- helpful  -> helppful "
   ]
  },
  {
   "cell_type": "code",
   "execution_count": 9,
   "id": "9bce300b-7b87-42a4-8bbf-70b000c5c9fe",
   "metadata": {},
   "outputs": [
    {
     "data": {
      "text/plain": [
       "\"we enjoyed our stay. the staff was friendly and helpful in helping us navigate paris. the hotel is about three minutes walk from the eiffel tower, 6 minute walk from the subway, and has a lot of restaurants and shops. the rooms were beautiful and they were very, very clean, which is the most important thing to me when i travel. i'd recommend to anyone who is looking for a nice, clean hotel that's not right in the middle of all of the tourist traffic.\""
      ]
     },
     "execution_count": 9,
     "metadata": {},
     "output_type": "execute_result"
    }
   ],
   "source": [
    "data.loc[1, \"cleaned_review\"]"
   ]
  },
  {
   "cell_type": "markdown",
   "id": "c47302a0-e3c7-4dcc-9d7a-b35ba45ec74e",
   "metadata": {},
   "source": [
    "**Contenu de commentaire**\n",
    "\"we enjoyed our stay. the staff was friendly and helpful in helping us navigate paris. the hotel is about three minutes walk from the eiffel tower, 6 minute walk from the subway, and has a lot of restaurants and shops. the rooms were beautiful and they were very, very clean, which is the most important thing to me when i travel. i'd recommend to anyone who is looking for a nice, clean hotel that's not right in the middle of all of the tourist traffic.\"\n",
    "\n",
    "les modification appliqué:\n",
    "- fantastic  -> fantaasticc\n",
    "- at  -> att \n",
    "- spent  -> speent"
   ]
  },
  {
   "cell_type": "code",
   "execution_count": 10,
   "id": "e2402df9-6e8c-441d-8b0d-faa4694293f9",
   "metadata": {},
   "outputs": [
    {
     "data": {
      "text/plain": [
       "'i had a fantastic stay at hotel de la paix! i had spent a couple days at disneyland with my family, and then needed to find a great hotel for my one solo day in the city of paris. i made a great choice! the staff was very friendly and helpful! they assisted in checking in early, and helped me book a car to the airport. the room was nice and clean, and the hotel is very conveniently located! i was able to walk everywhere. eiffel tower, rue cler (great cafes), louvre, saint-germain area, etc. all within walking distance! merci! -katie anne'"
      ]
     },
     "execution_count": 10,
     "metadata": {},
     "output_type": "execute_result"
    }
   ],
   "source": [
    "data.loc[2, \"cleaned_review\"]"
   ]
  }
 ],
 "metadata": {
  "kernelspec": {
   "display_name": "Python 3 (ipykernel)",
   "language": "python",
   "name": "python3"
  },
  "language_info": {
   "codemirror_mode": {
    "name": "ipython",
    "version": 3
   },
   "file_extension": ".py",
   "mimetype": "text/x-python",
   "name": "python",
   "nbconvert_exporter": "python",
   "pygments_lexer": "ipython3",
   "version": "3.8.8"
  }
 },
 "nbformat": 4,
 "nbformat_minor": 5
}
