{
 "cells": [
  {
   "cell_type": "code",
   "execution_count": 1,
   "id": "d514a39c-4440-4dc9-9cd2-6d1384bde7d6",
   "metadata": {},
   "outputs": [],
   "source": [
    "%load_ext autoreload\n",
    "%autoreload 2"
   ]
  },
  {
   "cell_type": "markdown",
   "id": "d36b460a-b2d5-4bc4-beaa-d9359aa9de7f",
   "metadata": {},
   "source": [
    "Dans cette notebook nous essayons d'optimiser le temps de correction des fautes d'othographe en utilisant la technique de calcul parallèle."
   ]
  },
  {
   "cell_type": "markdown",
   "id": "4eecd632-8f20-4697-aaa7-074a27a50537",
   "metadata": {},
   "source": [
    "### Importation des bibliothèques et le dataset."
   ]
  },
  {
   "cell_type": "code",
   "execution_count": 2,
   "id": "6e6e7f70-12fa-4b38-9032-280a4149e5ba",
   "metadata": {},
   "outputs": [
    {
     "data": {
      "text/html": [
       "<div>\n",
       "<style scoped>\n",
       "    .dataframe tbody tr th:only-of-type {\n",
       "        vertical-align: middle;\n",
       "    }\n",
       "\n",
       "    .dataframe tbody tr th {\n",
       "        vertical-align: top;\n",
       "    }\n",
       "\n",
       "    .dataframe thead th {\n",
       "        text-align: right;\n",
       "    }\n",
       "</style>\n",
       "<table border=\"1\" class=\"dataframe\">\n",
       "  <thead>\n",
       "    <tr style=\"text-align: right;\">\n",
       "      <th></th>\n",
       "      <th>hotel_url</th>\n",
       "      <th>author</th>\n",
       "      <th>date</th>\n",
       "      <th>rating</th>\n",
       "      <th>title</th>\n",
       "      <th>review</th>\n",
       "    </tr>\n",
       "  </thead>\n",
       "  <tbody>\n",
       "    <tr>\n",
       "      <th>0</th>\n",
       "      <td>Hotel_Review-g194775-d1121769-Reviews-Hotel_Ba...</td>\n",
       "      <td>Lagaiuzza</td>\n",
       "      <td>2016-01-01T00:00:00</td>\n",
       "      <td>5.0</td>\n",
       "      <td>Baltic, what else?</td>\n",
       "      <td>We have spent in this hotel our summer holiday...</td>\n",
       "    </tr>\n",
       "    <tr>\n",
       "      <th>1</th>\n",
       "      <td>Hotel_Review-g194775-d1121769-Reviews-Hotel_Ba...</td>\n",
       "      <td>ashleyn763</td>\n",
       "      <td>2014-10-01T00:00:00</td>\n",
       "      <td>5.0</td>\n",
       "      <td>Excellent in every way!</td>\n",
       "      <td>I visited Hotel Baltic with my husband for som...</td>\n",
       "    </tr>\n",
       "    <tr>\n",
       "      <th>2</th>\n",
       "      <td>Hotel_Review-g194775-d1121769-Reviews-Hotel_Ba...</td>\n",
       "      <td>DavideMauro</td>\n",
       "      <td>2014-08-01T00:00:00</td>\n",
       "      <td>5.0</td>\n",
       "      <td>The house of your family's holiday</td>\n",
       "      <td>I've travelled quite a numbers of hotels but t...</td>\n",
       "    </tr>\n",
       "    <tr>\n",
       "      <th>3</th>\n",
       "      <td>Hotel_Review-g303503-d1735469-Reviews-Pousada_...</td>\n",
       "      <td>TwoMonkeysTravel</td>\n",
       "      <td>2017-03-01T00:00:00</td>\n",
       "      <td>5.0</td>\n",
       "      <td>Natural Luxury</td>\n",
       "      <td>The property is surrounded by trees, which are...</td>\n",
       "    </tr>\n",
       "    <tr>\n",
       "      <th>4</th>\n",
       "      <td>Hotel_Review-g303503-d1735469-Reviews-Pousada_...</td>\n",
       "      <td>analuizade</td>\n",
       "      <td>2016-09-01T00:00:00</td>\n",
       "      <td>5.0</td>\n",
       "      <td>Very cozy!</td>\n",
       "      <td>I had a very pleasant stay at this hotel! All ...</td>\n",
       "    </tr>\n",
       "  </tbody>\n",
       "</table>\n",
       "</div>"
      ],
      "text/plain": [
       "                                           hotel_url            author  \\\n",
       "0  Hotel_Review-g194775-d1121769-Reviews-Hotel_Ba...         Lagaiuzza   \n",
       "1  Hotel_Review-g194775-d1121769-Reviews-Hotel_Ba...        ashleyn763   \n",
       "2  Hotel_Review-g194775-d1121769-Reviews-Hotel_Ba...       DavideMauro   \n",
       "3  Hotel_Review-g303503-d1735469-Reviews-Pousada_...  TwoMonkeysTravel   \n",
       "4  Hotel_Review-g303503-d1735469-Reviews-Pousada_...        analuizade   \n",
       "\n",
       "                  date  rating                               title  \\\n",
       "0  2016-01-01T00:00:00     5.0                  Baltic, what else?   \n",
       "1  2014-10-01T00:00:00     5.0             Excellent in every way!   \n",
       "2  2014-08-01T00:00:00     5.0  The house of your family's holiday   \n",
       "3  2017-03-01T00:00:00     5.0                      Natural Luxury   \n",
       "4  2016-09-01T00:00:00     5.0                          Very cozy!   \n",
       "\n",
       "                                              review  \n",
       "0  We have spent in this hotel our summer holiday...  \n",
       "1  I visited Hotel Baltic with my husband for som...  \n",
       "2  I've travelled quite a numbers of hotels but t...  \n",
       "3  The property is surrounded by trees, which are...  \n",
       "4  I had a very pleasant stay at this hotel! All ...  "
      ]
     },
     "execution_count": 2,
     "metadata": {},
     "output_type": "execute_result"
    }
   ],
   "source": [
    "import os\n",
    "os.chdir(\"..\")\n",
    "\n",
    "import pandas as pd\n",
    "from Preprocessors.ReviewPreprocessor import ReviewPreprocessor\n",
    "import numpy as np\n",
    "import re\n",
    "import concurrent.futures\n",
    "from spelling_correction import spelling_correction\n",
    "from time import time\n",
    "import spacy\n",
    "nlp = spacy.load(\"en_core_web_sm\")\n",
    "\n",
    "data = pd.read_csv(\"data/trip_advisor_data_chunk_10000k.csv\", encoding=\"utf-16\")\n",
    "data.head()"
   ]
  },
  {
   "cell_type": "code",
   "execution_count": 11,
   "id": "c2120ca0-694b-455f-8ab1-502016af9551",
   "metadata": {},
   "outputs": [
    {
     "name": "stdout",
     "output_type": "stream",
     "text": [
      "remove useless features duration: 0.24351859092712402s\n",
      "transform reviews to lowercase duration : 0.24351859092712402s\n"
     ]
    }
   ],
   "source": [
    "preprocessor = ReviewPreprocessor(data[\"review\"], nlp)\n",
    "start = time()\n",
    "data[\"cleaned_data\"] = preprocessor.remove_tags()\n",
    "print(f\"remove useless features duration: {time()-start}s\")\n",
    "data[\"cleaned_data\"] = preprocessor.lowercase_transformation()\n",
    "print(f\"transform reviews to lowercase duration : {time()-start}s\")"
   ]
  },
  {
   "cell_type": "markdown",
   "id": "1b96b386-9d00-4df9-812b-4dfc3d124dee",
   "metadata": {},
   "source": [
    "#### Correction des fautes d'orthographes sans utiliser le calcul parallèle."
   ]
  },
  {
   "cell_type": "code",
   "execution_count": 10,
   "id": "0fb83463-cd40-43bf-9c7b-552806b0af58",
   "metadata": {},
   "outputs": [
    {
     "name": "stderr",
     "output_type": "stream",
     "text": [
      "3000it [10:16,  4.87it/s]\n"
     ]
    }
   ],
   "source": [
    "normal_correction_result = preprocessor.spelling_correction()"
   ]
  },
  {
   "cell_type": "markdown",
   "id": "7ceabf88-f0ae-4343-b6cb-cb4599e35535",
   "metadata": {},
   "source": [
    "Sans utilisation de calculs parallèles pour corriger les fautes d'orthographe, nous remarquons qu'il prend environ 10 min pour corriger 3000 commentaires. Cette longue durée est due à la division de commentaire en mots puis la correction mot par mot."
   ]
  },
  {
   "cell_type": "markdown",
   "id": "773821db-77ff-47f0-a8f8-692537327932",
   "metadata": {},
   "source": [
    "#### Correction des fautes d'orthographes avec l'utilisation de calcul parallèle."
   ]
  },
  {
   "cell_type": "markdown",
   "id": "9b46a739-bf49-4976-8262-2d8609ef3a96",
   "metadata": {},
   "source": [
    "Pour appliquer le calcul parallèle sur les 3000 commentaires. Nous divisons l'ensemble des commentaires en 4 échantillons égaux (chaque échantillon contient 750 commentaires). Ensuite nous créons 4 processus chacun corrige un échantillon."
   ]
  },
  {
   "cell_type": "code",
   "execution_count": 12,
   "id": "3ef87fe1-fb84-4d3c-8c08-945f41c1ce08",
   "metadata": {},
   "outputs": [],
   "source": [
    "splitted_df = np.array_split(data[\"cleaned_data\"], 4)"
   ]
  },
  {
   "cell_type": "code",
   "execution_count": 13,
   "id": "91a074e7-4522-4a88-b683-0eff20a15035",
   "metadata": {},
   "outputs": [],
   "source": [
    "df_results = []"
   ]
  },
  {
   "cell_type": "code",
   "execution_count": 14,
   "id": "ca18003f-d6c7-4acb-8c83-ab4974f9b1bf",
   "metadata": {},
   "outputs": [
    {
     "name": "stdout",
     "output_type": "stream",
     "text": [
      "duration : 349.4241273403168s <=> 5.8237354556719465min\n"
     ]
    }
   ],
   "source": [
    "start = time()\n",
    "with concurrent.futures.ProcessPoolExecutor(max_workers=4) as executor:\n",
    "    results = [ executor.submit(spelling_correction, df) for df in splitted_df ]\n",
    "    for result in concurrent.futures.as_completed(results):\n",
    "        try:\n",
    "            df_results.append(result.result())\n",
    "        except Exception as ex:\n",
    "            print(str(ex))\n",
    "            pass\n",
    "end = time()\n",
    "print(f\"duration : {end-start}s <=> {(end-start)/60}min\")"
   ]
  },
  {
   "cell_type": "markdown",
   "id": "40a15298-be45-4e40-a03f-3c7416d37d7b",
   "metadata": {},
   "source": [
    "Nous remarquons que le temps de correction a diminué de 10 min à 5 min presque la moitié."
   ]
  },
  {
   "cell_type": "code",
   "execution_count": 16,
   "id": "153d31a1-c158-47d5-a6d1-81e9ac90b22e",
   "metadata": {},
   "outputs": [],
   "source": [
    "r = pd.Series(dtype=\"string\")\n",
    "for i in df_results:\n",
    "    r = pd.concat([r, i])"
   ]
  },
  {
   "cell_type": "markdown",
   "id": "8cdf550f-bad3-4b95-a030-7de0ded0634f",
   "metadata": {},
   "source": [
    "**Comparaison des resultats de correction entre la correction sans et avec calcul parallele**"
   ]
  },
  {
   "cell_type": "code",
   "execution_count": 20,
   "id": "64cb24d4-d34f-449b-b748-1e2e747985b9",
   "metadata": {},
   "outputs": [],
   "source": [
    "are_same = True\n",
    "for i in range(0,3000):\n",
    "    if r.loc[i] != normal_correction_result.loc[i]:\n",
    "        are_same = False"
   ]
  },
  {
   "cell_type": "code",
   "execution_count": 22,
   "id": "3784f902-fb1d-4dad-91e1-5ecf9379bbfe",
   "metadata": {},
   "outputs": [
    {
     "data": {
      "text/plain": [
       "True"
      ]
     },
     "execution_count": 22,
     "metadata": {},
     "output_type": "execute_result"
    }
   ],
   "source": [
    "are_same"
   ]
  },
  {
   "cell_type": "markdown",
   "id": "44c3aed8-78c8-434b-ba1a-96c6f2b767f2",
   "metadata": {},
   "source": [
    "les deux résultats de correction sont égaux."
   ]
  }
 ],
 "metadata": {
  "kernelspec": {
   "display_name": "Python 3 (ipykernel)",
   "language": "python",
   "name": "python3"
  },
  "language_info": {
   "codemirror_mode": {
    "name": "ipython",
    "version": 3
   },
   "file_extension": ".py",
   "mimetype": "text/x-python",
   "name": "python",
   "nbconvert_exporter": "python",
   "pygments_lexer": "ipython3",
   "version": "3.8.8"
  }
 },
 "nbformat": 4,
 "nbformat_minor": 5
}
