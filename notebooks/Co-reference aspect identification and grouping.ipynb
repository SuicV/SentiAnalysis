{
 "cells": [
  {
   "cell_type": "code",
   "execution_count": 2,
   "id": "5dc23f5f-3bc2-4c93-8fad-b19b09ae9358",
   "metadata": {},
   "outputs": [
    {
     "name": "stdout",
     "output_type": "stream",
     "text": [
      "The autoreload extension is already loaded. To reload it, use:\n",
      "  %reload_ext autoreload\n"
     ]
    }
   ],
   "source": [
    "%load_ext autoreload\n",
    "%autoreload 2"
   ]
  },
  {
   "cell_type": "markdown",
   "id": "fdaf6bcf-4f11-40e2-9226-fd54b7edd6b2",
   "metadata": {},
   "source": [
    "### Importation des bibliothèques"
   ]
  },
  {
   "cell_type": "code",
   "execution_count": 3,
   "id": "4a7117b4-852c-426d-9903-d970c1ad579c",
   "metadata": {},
   "outputs": [],
   "source": [
    "import os\n",
    "os.chdir(\"..\")\n",
    "\n",
    "# my modules\n",
    "from Preprocessors.ReviewPreprocessor import ReviewPreprocessor\n",
    "from Aspects.ExplicitAspectExtractor import ExplicitAspectExtractor\n",
    "from Aspects.CoRefAspectIdentGrouping import CoRefAspectIdentGrouping\n",
    "\n",
    "# pandas and numpy\n",
    "import pandas as pd\n",
    "import numpy as np\n",
    "\n",
    "# spacy for NLP\n",
    "import spacy\n",
    "\n",
    "from time import time\n",
    "\n",
    "#ignore pandas warning\n",
    "import warnings\n",
    "warnings.simplefilter(action='ignore', category=FutureWarning)"
   ]
  },
  {
   "cell_type": "markdown",
   "id": "10189e85-6f05-4bf1-9bb2-2ff498cddc49",
   "metadata": {},
   "source": [
    "### Importation des données"
   ]
  },
  {
   "cell_type": "code",
   "execution_count": 4,
   "id": "f48dfe08-6c84-4061-b17d-445b1c10915c",
   "metadata": {},
   "outputs": [
    {
     "name": "stdout",
     "output_type": "stream",
     "text": [
      "format de dataset: (3000, 6)\n"
     ]
    },
    {
     "data": {
      "text/html": [
       "<div>\n",
       "<style scoped>\n",
       "    .dataframe tbody tr th:only-of-type {\n",
       "        vertical-align: middle;\n",
       "    }\n",
       "\n",
       "    .dataframe tbody tr th {\n",
       "        vertical-align: top;\n",
       "    }\n",
       "\n",
       "    .dataframe thead th {\n",
       "        text-align: right;\n",
       "    }\n",
       "</style>\n",
       "<table border=\"1\" class=\"dataframe\">\n",
       "  <thead>\n",
       "    <tr style=\"text-align: right;\">\n",
       "      <th></th>\n",
       "      <th>hotel_url</th>\n",
       "      <th>author</th>\n",
       "      <th>date</th>\n",
       "      <th>rating</th>\n",
       "      <th>title</th>\n",
       "      <th>review</th>\n",
       "    </tr>\n",
       "  </thead>\n",
       "  <tbody>\n",
       "    <tr>\n",
       "      <th>0</th>\n",
       "      <td>Hotel_Review-g194775-d1121769-Reviews-Hotel_Ba...</td>\n",
       "      <td>Lagaiuzza</td>\n",
       "      <td>2016-01-01T00:00:00</td>\n",
       "      <td>5.0</td>\n",
       "      <td>Baltic, what else?</td>\n",
       "      <td>We have spent in this hotel our summer holiday...</td>\n",
       "    </tr>\n",
       "    <tr>\n",
       "      <th>1</th>\n",
       "      <td>Hotel_Review-g194775-d1121769-Reviews-Hotel_Ba...</td>\n",
       "      <td>ashleyn763</td>\n",
       "      <td>2014-10-01T00:00:00</td>\n",
       "      <td>5.0</td>\n",
       "      <td>Excellent in every way!</td>\n",
       "      <td>I visited Hotel Baltic with my husband for som...</td>\n",
       "    </tr>\n",
       "    <tr>\n",
       "      <th>2</th>\n",
       "      <td>Hotel_Review-g194775-d1121769-Reviews-Hotel_Ba...</td>\n",
       "      <td>DavideMauro</td>\n",
       "      <td>2014-08-01T00:00:00</td>\n",
       "      <td>5.0</td>\n",
       "      <td>The house of your family's holiday</td>\n",
       "      <td>I've travelled quite a numbers of hotels but t...</td>\n",
       "    </tr>\n",
       "    <tr>\n",
       "      <th>3</th>\n",
       "      <td>Hotel_Review-g303503-d1735469-Reviews-Pousada_...</td>\n",
       "      <td>TwoMonkeysTravel</td>\n",
       "      <td>2017-03-01T00:00:00</td>\n",
       "      <td>5.0</td>\n",
       "      <td>Natural Luxury</td>\n",
       "      <td>The property is surrounded by trees, which are...</td>\n",
       "    </tr>\n",
       "    <tr>\n",
       "      <th>4</th>\n",
       "      <td>Hotel_Review-g303503-d1735469-Reviews-Pousada_...</td>\n",
       "      <td>analuizade</td>\n",
       "      <td>2016-09-01T00:00:00</td>\n",
       "      <td>5.0</td>\n",
       "      <td>Very cozy!</td>\n",
       "      <td>I had a very pleasant stay at this hotel! All ...</td>\n",
       "    </tr>\n",
       "  </tbody>\n",
       "</table>\n",
       "</div>"
      ],
      "text/plain": [
       "                                           hotel_url            author  \\\n",
       "0  Hotel_Review-g194775-d1121769-Reviews-Hotel_Ba...         Lagaiuzza   \n",
       "1  Hotel_Review-g194775-d1121769-Reviews-Hotel_Ba...        ashleyn763   \n",
       "2  Hotel_Review-g194775-d1121769-Reviews-Hotel_Ba...       DavideMauro   \n",
       "3  Hotel_Review-g303503-d1735469-Reviews-Pousada_...  TwoMonkeysTravel   \n",
       "4  Hotel_Review-g303503-d1735469-Reviews-Pousada_...        analuizade   \n",
       "\n",
       "                  date  rating                               title  \\\n",
       "0  2016-01-01T00:00:00     5.0                  Baltic, what else?   \n",
       "1  2014-10-01T00:00:00     5.0             Excellent in every way!   \n",
       "2  2014-08-01T00:00:00     5.0  The house of your family's holiday   \n",
       "3  2017-03-01T00:00:00     5.0                      Natural Luxury   \n",
       "4  2016-09-01T00:00:00     5.0                          Very cozy!   \n",
       "\n",
       "                                              review  \n",
       "0  We have spent in this hotel our summer holiday...  \n",
       "1  I visited Hotel Baltic with my husband for som...  \n",
       "2  I've travelled quite a numbers of hotels but t...  \n",
       "3  The property is surrounded by trees, which are...  \n",
       "4  I had a very pleasant stay at this hotel! All ...  "
      ]
     },
     "execution_count": 4,
     "metadata": {},
     "output_type": "execute_result"
    }
   ],
   "source": [
    "# data = pd.read_csv(\"data/reviews_paris_hotels.csv\")\n",
    "data = pd.read_csv(\"data/trip_advisor_data_chunk_10000k.csv\", encoding=\"utf-16\")\n",
    "data.rename(columns={\"text\": \"review\"}, inplace=True)\n",
    "print(f\"format de dataset: {data.shape}\")\n",
    "data.head(5)"
   ]
  },
  {
   "cell_type": "code",
   "execution_count": 16,
   "id": "57fd0629-8f5d-4932-97a8-b2f50f72df3a",
   "metadata": {},
   "outputs": [
    {
     "data": {
      "text/plain": [
       "'We have spent in this hotel our summer holidays both in summer 2014 and 2015- I was with my husband and my child ( 4 years old at present). I do really recommend this place- Staff si high qualified, Kind and really helpful- Animation staff get You involved, but always with discrection - Miniclub si super and activities offered are interesting and smart- Rooms clean, with AC and balcony- Restaurant offers a great selection of food - always. The beach si extremly closed to the hotel - Miniclub area offers some gazebos to have shade for kids- A lot of bicycles are available for free- I am completely satisfied of this hotel- Go in lime this!'"
      ]
     },
     "execution_count": 16,
     "metadata": {},
     "output_type": "execute_result"
    }
   ],
   "source": [
    "data.loc[0, \"review\"]"
   ]
  },
  {
   "cell_type": "markdown",
   "id": "bd6ef5f0-ee52-4447-ad8e-421c0cad985e",
   "metadata": {},
   "source": [
    "modification de commentaire avec index 0, pour vérifier la correction des fautes.\n",
    "\n",
    "les mots modifiés sont:\n",
    "- was -> wase\n",
    "- perfect -> peerfecte\n",
    "- during -> durin\n",
    "- visit -> visite"
   ]
  },
  {
   "cell_type": "code",
   "execution_count": 41,
   "id": "5e845b25-84bb-4d24-a466-057be2273f5e",
   "metadata": {},
   "outputs": [
    {
     "data": {
      "text/plain": [
       "'Le Bristol wase just peerfecte durin my trip to visite my son in Paris. With the pandemic, I was concerned if it would be the same sublime experience as it was in 2018 when I was last there. In some ways, it was even more so as they managed to meet and exceed cleanliness while at the same time not skipping a beat on providing outstanding service and truly three Michelin-star quality food. The atmosphere was so warm and helpful. I must again thank the concierge team led by Jean-Marie Burlet. They not only recommended excellent restaurants for us to try, local shops to visit, but they also secured hard to come by reservations for us, and tickets to exhibits. They also expertly packed up and mailed back to the States my purchases. Le Bristol is simply the best hotel. When I arrived I was greeted as an old friend. Jean-Marie remembered me and during my 8 night visit told me I’m family. It’s not often one feels that way about a hotel, but I must say the feeling is mutual. The Bristol is family to me too. Thank you.'"
      ]
     },
     "execution_count": 41,
     "metadata": {},
     "output_type": "execute_result"
    }
   ],
   "source": [
    "data.loc[0, 'review'] = 'Le Bristol wase just peerfecte durin my trip to visite my son in Paris. With the pandemic, I was concerned if it would be the same sublime experience as it was in 2018 when I was last there. In some ways, it was even more so as they managed to meet and exceed cleanliness while at the same time not skipping a beat on providing outstanding service and truly three Michelin-star quality food. The atmosphere was so warm and helpful. I must again thank the concierge team led by Jean-Marie Burlet. They not only recommended excellent restaurants for us to try, local shops to visit, but they also secured hard to come by reservations for us, and tickets to exhibits. They also expertly packed up and mailed back to the States my purchases. Le Bristol is simply the best hotel. When I arrived I was greeted as an old friend. Jean-Marie remembered me and during my 8 night visit told me I’m family. It’s not often one feels that way about a hotel, but I must say the feeling is mutual. The Bristol is family to me too. Thank you.'\n",
    "data.loc[0, 'review']"
   ]
  },
  {
   "cell_type": "markdown",
   "id": "a5e7cd52-9a56-4232-9811-a981f6a04deb",
   "metadata": {},
   "source": [
    "### Prétraitement de données\n",
    "#### suppression des caractéristiques inutiles. (\\n, \\t, \\r, liens, #..., @...)"
   ]
  },
  {
   "cell_type": "code",
   "execution_count": 5,
   "id": "0d365e5a-fe43-4880-98cc-1b2518de8a2a",
   "metadata": {},
   "outputs": [
    {
     "data": {
      "text/plain": [
       "0       We have spent in this hotel our summer holiday...\n",
       "1       I visited Hotel Baltic with my husband for som...\n",
       "2       I've travelled quite a numbers of hotels but t...\n",
       "3       The property is surrounded by trees, which are...\n",
       "4       I had a very pleasant stay at this hotel! All ...\n",
       "                              ...                        \n",
       "2995    We stayed in Portland for three nights and thi...\n",
       "2996    It was my third time to stay at University pla...\n",
       "2997    Stayed here for 4 nights in March and I chose ...\n",
       "2998    I didn't expect much from this hotel from the ...\n",
       "2999    The hotel rooms were clean and comfortable. Ni...\n",
       "Name: cleaned_review, Length: 3000, dtype: object"
      ]
     },
     "execution_count": 5,
     "metadata": {},
     "output_type": "execute_result"
    }
   ],
   "source": [
    "preprocessor = ReviewPreprocessor(data['review'], spell_allowed_words= [\"riad\", \"dar\", \"Riad\", \"Dar\"])\n",
    "data['cleaned_review'] = preprocessor.remove_tags()\n",
    "data['cleaned_review']"
   ]
  },
  {
   "cell_type": "markdown",
   "id": "96693487-c3df-4ad2-aad9-16e0632310b8",
   "metadata": {},
   "source": [
    "#### correction des fautes d'orthographes"
   ]
  },
  {
   "cell_type": "code",
   "execution_count": 6,
   "id": "29bc5ee2-abe9-46d0-b552-56e371f68fd7",
   "metadata": {},
   "outputs": [
    {
     "name": "stderr",
     "output_type": "stream",
     "text": [
      "3000it [11:20,  4.41it/s]\n"
     ]
    },
    {
     "data": {
      "text/plain": [
       "'We have spent in this hotel our summer holidays both in summer 2014 and 2015- I was with my husband and my child ( 4 years old at present). I do really recommend this place- Staff si high qualified, Kind and really helpful- Animation staff get You involved, but always with discretion - minicab si super and activities offered are interesting and smart- Rooms clean, with AC and balcony- Restaurant offers a great selection of food - always. The beach si extremly closed to the hotel - minicab area offers some gazebos to have shade for kids- A lot of bicycles are available for free- I am completely satisfied of this hotel- Go in lime this!'"
      ]
     },
     "execution_count": 6,
     "metadata": {},
     "output_type": "execute_result"
    }
   ],
   "source": [
    "data['cleaned_review'] = preprocessor.spelling_correction()\n",
    "data['cleaned_review'][0]"
   ]
  },
  {
   "cell_type": "markdown",
   "id": "ea944fae-bfa1-478a-8772-5e95be8073db",
   "metadata": {},
   "source": [
    "les mots modifier dans le commentaires avec indice 0 sont bien corrigés.\n",
    "- wase -> was\n",
    "- peerfecte -> perfect\n",
    "- durin -> during\n",
    "- visite -> visit\n",
    "\n",
    "#### suppression des phrases objectives"
   ]
  },
  {
   "cell_type": "markdown",
   "id": "fd4e126a-0eef-4d3d-965f-408bbeb0c045",
   "metadata": {},
   "source": [
    "les phrases supprimé dans le commentaire 0 :\n",
    "- With the pandemic, I was concerned if it would be the same sublime experience as it was in 2018 when I was last there.\n",
    "- I must again thank the concierge team led by Jean-Marie bullet.\n",
    "- They also expertly packed up and mailed back to the States my purchases.\n",
    "- When I arrived I was greeted as an old friend.\n",
    "- It’s not often one feels that way about a hotel, but I must say the feeling is mutual."
   ]
  },
  {
   "cell_type": "markdown",
   "id": "0abc4602-9bac-4dd2-8b37-44d37c413968",
   "metadata": {},
   "source": [
    "### Extraction des aspects\n",
    "\n",
    "Dans cette phase, on extrait les noms les plus frequents comme des aspects."
   ]
  },
  {
   "cell_type": "code",
   "execution_count": 220,
   "id": "60596389-5325-4a81-8aac-70eaacfe9d00",
   "metadata": {},
   "outputs": [
    {
     "name": "stdout",
     "output_type": "stream",
     "text": [
      "[('room', 10568), ('hotel', 8232), ('staff', 5112), ('breakfast', 3796), ('place', 2956), ('food', 2924), ('restaurant', 2648), ('time', 2588), ('night', 2552), ('day', 2464), ('location', 2352), ('service', 2148), ('bed', 2120), ('area', 1912), ('pool', 1608), ('stay', 1476), ('beach', 1460), ('resort', 1344), ('water', 1328), ('bathroom', 1232), ('bar', 1216), ('view', 1196), ('price', 1180), ('lot', 1128), ('minute', 1092), ('shower', 1060), ('people', 1008), ('kid', 1000), ('guest', 948), ('dinner', 948), ('experience', 936), ('way', 932), ('family', 924), ('thing', 920), ('desk', 876), ('bit', 864), ('trip', 856), ('morning', 844), ('meal', 808), ('door', 792)]\n",
      "extracting aspects 65.67227149009705s\n"
     ]
    }
   ],
   "source": [
    "nlp = spacy.load(\"en_core_web_sm\")\n",
    "now = time()\n",
    "aspect_extractor = ExplicitAspectExtractor(data[\"cleaned_review\"], nlp)\n",
    "extracted_aspects = aspect_extractor.start(40)\n",
    "print(extracted_aspects)\n",
    "print(f\"extracting aspects {time() - now}s\")"
   ]
  },
  {
   "cell_type": "markdown",
   "id": "589e19de-d2d9-49f7-8d20-9d28ebf0ae47",
   "metadata": {},
   "source": [
    "on remarque que les apsects les plus frequents sont:\n",
    "- room\n",
    "- hotel\n",
    "- staff\n",
    "- location\n",
    "- breakfast\n",
    "- time\n",
    "- restaurant\n",
    "- service\n",
    "- stay\n",
    "\n",
    "..."
   ]
  },
  {
   "cell_type": "code",
   "execution_count": 205,
   "id": "fd511a37-c960-4ccf-84f0-d7d6929d38d1",
   "metadata": {},
   "outputs": [],
   "source": [
    "aspects_ = list(dict(extracted_aspects).keys())"
   ]
  },
  {
   "cell_type": "code",
   "execution_count": 207,
   "id": "d95a3162-02a6-41a0-93ca-c432e23cf3ae",
   "metadata": {},
   "outputs": [
    {
     "data": {
      "text/html": [
       "<div>\n",
       "<style scoped>\n",
       "    .dataframe tbody tr th:only-of-type {\n",
       "        vertical-align: middle;\n",
       "    }\n",
       "\n",
       "    .dataframe tbody tr th {\n",
       "        vertical-align: top;\n",
       "    }\n",
       "\n",
       "    .dataframe thead th {\n",
       "        text-align: right;\n",
       "    }\n",
       "</style>\n",
       "<table border=\"1\" class=\"dataframe\">\n",
       "  <thead>\n",
       "    <tr style=\"text-align: right;\">\n",
       "      <th></th>\n",
       "      <th>room</th>\n",
       "      <th>hotel</th>\n",
       "      <th>staff</th>\n",
       "      <th>breakfast</th>\n",
       "      <th>place</th>\n",
       "      <th>food</th>\n",
       "      <th>restaurant</th>\n",
       "      <th>time</th>\n",
       "      <th>night</th>\n",
       "      <th>day</th>\n",
       "      <th>...</th>\n",
       "      <th>distance</th>\n",
       "      <th>noise</th>\n",
       "      <th>value</th>\n",
       "      <th>wall</th>\n",
       "      <th>building</th>\n",
       "      <th>terrace</th>\n",
       "      <th>train</th>\n",
       "      <th>size</th>\n",
       "      <th>island</th>\n",
       "      <th>manager</th>\n",
       "    </tr>\n",
       "  </thead>\n",
       "  <tbody>\n",
       "    <tr>\n",
       "      <th>qualified</th>\n",
       "      <td>0.0</td>\n",
       "      <td>0.0</td>\n",
       "      <td>3.0</td>\n",
       "      <td>0.0</td>\n",
       "      <td>0.0</td>\n",
       "      <td>0.0</td>\n",
       "      <td>0.0</td>\n",
       "      <td>0.0</td>\n",
       "      <td>0.0</td>\n",
       "      <td>0.0</td>\n",
       "      <td>...</td>\n",
       "      <td>0.0</td>\n",
       "      <td>0.0</td>\n",
       "      <td>0.0</td>\n",
       "      <td>0.0</td>\n",
       "      <td>0.0</td>\n",
       "      <td>0.0</td>\n",
       "      <td>0.0</td>\n",
       "      <td>0.0</td>\n",
       "      <td>0.0</td>\n",
       "      <td>0.0</td>\n",
       "    </tr>\n",
       "    <tr>\n",
       "      <th>helpful-</th>\n",
       "      <td>0.0</td>\n",
       "      <td>0.0</td>\n",
       "      <td>1.0</td>\n",
       "      <td>0.0</td>\n",
       "      <td>0.0</td>\n",
       "      <td>0.0</td>\n",
       "      <td>0.0</td>\n",
       "      <td>0.0</td>\n",
       "      <td>0.0</td>\n",
       "      <td>0.0</td>\n",
       "      <td>...</td>\n",
       "      <td>0.0</td>\n",
       "      <td>0.0</td>\n",
       "      <td>0.0</td>\n",
       "      <td>0.0</td>\n",
       "      <td>0.0</td>\n",
       "      <td>0.0</td>\n",
       "      <td>0.0</td>\n",
       "      <td>0.0</td>\n",
       "      <td>0.0</td>\n",
       "      <td>0.0</td>\n",
       "    </tr>\n",
       "    <tr>\n",
       "      <th>interesting</th>\n",
       "      <td>0.0</td>\n",
       "      <td>7.0</td>\n",
       "      <td>5.0</td>\n",
       "      <td>1.0</td>\n",
       "      <td>2.0</td>\n",
       "      <td>1.0</td>\n",
       "      <td>3.0</td>\n",
       "      <td>1.0</td>\n",
       "      <td>1.0</td>\n",
       "      <td>2.0</td>\n",
       "      <td>...</td>\n",
       "      <td>0.0</td>\n",
       "      <td>0.0</td>\n",
       "      <td>1.0</td>\n",
       "      <td>1.0</td>\n",
       "      <td>2.0</td>\n",
       "      <td>0.0</td>\n",
       "      <td>0.0</td>\n",
       "      <td>0.0</td>\n",
       "      <td>3.0</td>\n",
       "      <td>0.0</td>\n",
       "    </tr>\n",
       "    <tr>\n",
       "      <th>smart-</th>\n",
       "      <td>0.0</td>\n",
       "      <td>0.0</td>\n",
       "      <td>1.0</td>\n",
       "      <td>0.0</td>\n",
       "      <td>0.0</td>\n",
       "      <td>0.0</td>\n",
       "      <td>0.0</td>\n",
       "      <td>0.0</td>\n",
       "      <td>0.0</td>\n",
       "      <td>0.0</td>\n",
       "      <td>...</td>\n",
       "      <td>0.0</td>\n",
       "      <td>0.0</td>\n",
       "      <td>0.0</td>\n",
       "      <td>0.0</td>\n",
       "      <td>0.0</td>\n",
       "      <td>0.0</td>\n",
       "      <td>0.0</td>\n",
       "      <td>0.0</td>\n",
       "      <td>0.0</td>\n",
       "      <td>0.0</td>\n",
       "    </tr>\n",
       "    <tr>\n",
       "      <th>clean</th>\n",
       "      <td>440.0</td>\n",
       "      <td>135.0</td>\n",
       "      <td>104.0</td>\n",
       "      <td>55.0</td>\n",
       "      <td>30.0</td>\n",
       "      <td>32.0</td>\n",
       "      <td>17.0</td>\n",
       "      <td>9.0</td>\n",
       "      <td>13.0</td>\n",
       "      <td>17.0</td>\n",
       "      <td>...</td>\n",
       "      <td>2.0</td>\n",
       "      <td>4.0</td>\n",
       "      <td>6.0</td>\n",
       "      <td>3.0</td>\n",
       "      <td>5.0</td>\n",
       "      <td>5.0</td>\n",
       "      <td>2.0</td>\n",
       "      <td>15.0</td>\n",
       "      <td>2.0</td>\n",
       "      <td>1.0</td>\n",
       "    </tr>\n",
       "    <tr>\n",
       "      <th>...</th>\n",
       "      <td>...</td>\n",
       "      <td>...</td>\n",
       "      <td>...</td>\n",
       "      <td>...</td>\n",
       "      <td>...</td>\n",
       "      <td>...</td>\n",
       "      <td>...</td>\n",
       "      <td>...</td>\n",
       "      <td>...</td>\n",
       "      <td>...</td>\n",
       "      <td>...</td>\n",
       "      <td>...</td>\n",
       "      <td>...</td>\n",
       "      <td>...</td>\n",
       "      <td>...</td>\n",
       "      <td>...</td>\n",
       "      <td>...</td>\n",
       "      <td>...</td>\n",
       "      <td>...</td>\n",
       "      <td>...</td>\n",
       "      <td>...</td>\n",
       "    </tr>\n",
       "    <tr>\n",
       "      <th>troubling</th>\n",
       "      <td>1.0</td>\n",
       "      <td>0.0</td>\n",
       "      <td>0.0</td>\n",
       "      <td>0.0</td>\n",
       "      <td>0.0</td>\n",
       "      <td>0.0</td>\n",
       "      <td>0.0</td>\n",
       "      <td>0.0</td>\n",
       "      <td>0.0</td>\n",
       "      <td>0.0</td>\n",
       "      <td>...</td>\n",
       "      <td>0.0</td>\n",
       "      <td>0.0</td>\n",
       "      <td>0.0</td>\n",
       "      <td>0.0</td>\n",
       "      <td>0.0</td>\n",
       "      <td>0.0</td>\n",
       "      <td>0.0</td>\n",
       "      <td>0.0</td>\n",
       "      <td>0.0</td>\n",
       "      <td>0.0</td>\n",
       "    </tr>\n",
       "    <tr>\n",
       "      <th>trim</th>\n",
       "      <td>1.0</td>\n",
       "      <td>0.0</td>\n",
       "      <td>0.0</td>\n",
       "      <td>0.0</td>\n",
       "      <td>0.0</td>\n",
       "      <td>0.0</td>\n",
       "      <td>0.0</td>\n",
       "      <td>0.0</td>\n",
       "      <td>0.0</td>\n",
       "      <td>0.0</td>\n",
       "      <td>...</td>\n",
       "      <td>0.0</td>\n",
       "      <td>0.0</td>\n",
       "      <td>0.0</td>\n",
       "      <td>0.0</td>\n",
       "      <td>0.0</td>\n",
       "      <td>0.0</td>\n",
       "      <td>0.0</td>\n",
       "      <td>0.0</td>\n",
       "      <td>0.0</td>\n",
       "      <td>0.0</td>\n",
       "    </tr>\n",
       "    <tr>\n",
       "      <th>satisfying</th>\n",
       "      <td>0.0</td>\n",
       "      <td>0.0</td>\n",
       "      <td>0.0</td>\n",
       "      <td>1.0</td>\n",
       "      <td>0.0</td>\n",
       "      <td>0.0</td>\n",
       "      <td>0.0</td>\n",
       "      <td>0.0</td>\n",
       "      <td>0.0</td>\n",
       "      <td>0.0</td>\n",
       "      <td>...</td>\n",
       "      <td>0.0</td>\n",
       "      <td>0.0</td>\n",
       "      <td>0.0</td>\n",
       "      <td>0.0</td>\n",
       "      <td>0.0</td>\n",
       "      <td>0.0</td>\n",
       "      <td>0.0</td>\n",
       "      <td>0.0</td>\n",
       "      <td>0.0</td>\n",
       "      <td>0.0</td>\n",
       "    </tr>\n",
       "    <tr>\n",
       "      <th>extinguisher</th>\n",
       "      <td>1.0</td>\n",
       "      <td>0.0</td>\n",
       "      <td>0.0</td>\n",
       "      <td>0.0</td>\n",
       "      <td>0.0</td>\n",
       "      <td>0.0</td>\n",
       "      <td>0.0</td>\n",
       "      <td>0.0</td>\n",
       "      <td>0.0</td>\n",
       "      <td>1.0</td>\n",
       "      <td>...</td>\n",
       "      <td>0.0</td>\n",
       "      <td>0.0</td>\n",
       "      <td>0.0</td>\n",
       "      <td>0.0</td>\n",
       "      <td>0.0</td>\n",
       "      <td>0.0</td>\n",
       "      <td>0.0</td>\n",
       "      <td>0.0</td>\n",
       "      <td>0.0</td>\n",
       "      <td>0.0</td>\n",
       "    </tr>\n",
       "    <tr>\n",
       "      <th>cuss</th>\n",
       "      <td>1.0</td>\n",
       "      <td>0.0</td>\n",
       "      <td>0.0</td>\n",
       "      <td>0.0</td>\n",
       "      <td>0.0</td>\n",
       "      <td>0.0</td>\n",
       "      <td>0.0</td>\n",
       "      <td>0.0</td>\n",
       "      <td>0.0</td>\n",
       "      <td>1.0</td>\n",
       "      <td>...</td>\n",
       "      <td>0.0</td>\n",
       "      <td>0.0</td>\n",
       "      <td>0.0</td>\n",
       "      <td>0.0</td>\n",
       "      <td>0.0</td>\n",
       "      <td>0.0</td>\n",
       "      <td>0.0</td>\n",
       "      <td>0.0</td>\n",
       "      <td>0.0</td>\n",
       "      <td>0.0</td>\n",
       "    </tr>\n",
       "  </tbody>\n",
       "</table>\n",
       "<p>1789 rows × 80 columns</p>\n",
       "</div>"
      ],
      "text/plain": [
       "               room  hotel  staff breakfast place  food restaurant time night  \\\n",
       "qualified       0.0    0.0    3.0       0.0   0.0   0.0        0.0  0.0   0.0   \n",
       "helpful-        0.0    0.0    1.0       0.0   0.0   0.0        0.0  0.0   0.0   \n",
       "interesting     0.0    7.0    5.0       1.0   2.0   1.0        3.0  1.0   1.0   \n",
       "smart-          0.0    0.0    1.0       0.0   0.0   0.0        0.0  0.0   0.0   \n",
       "clean         440.0  135.0  104.0      55.0  30.0  32.0       17.0  9.0  13.0   \n",
       "...             ...    ...    ...       ...   ...   ...        ...  ...   ...   \n",
       "troubling       1.0    0.0    0.0       0.0   0.0   0.0        0.0  0.0   0.0   \n",
       "trim            1.0    0.0    0.0       0.0   0.0   0.0        0.0  0.0   0.0   \n",
       "satisfying      0.0    0.0    0.0       1.0   0.0   0.0        0.0  0.0   0.0   \n",
       "extinguisher    1.0    0.0    0.0       0.0   0.0   0.0        0.0  0.0   0.0   \n",
       "cuss            1.0    0.0    0.0       0.0   0.0   0.0        0.0  0.0   0.0   \n",
       "\n",
       "               day  ... distance noise value wall building terrace train  \\\n",
       "qualified      0.0  ...      0.0   0.0   0.0  0.0      0.0     0.0   0.0   \n",
       "helpful-       0.0  ...      0.0   0.0   0.0  0.0      0.0     0.0   0.0   \n",
       "interesting    2.0  ...      0.0   0.0   1.0  1.0      2.0     0.0   0.0   \n",
       "smart-         0.0  ...      0.0   0.0   0.0  0.0      0.0     0.0   0.0   \n",
       "clean         17.0  ...      2.0   4.0   6.0  3.0      5.0     5.0   2.0   \n",
       "...            ...  ...      ...   ...   ...  ...      ...     ...   ...   \n",
       "troubling      0.0  ...      0.0   0.0   0.0  0.0      0.0     0.0   0.0   \n",
       "trim           0.0  ...      0.0   0.0   0.0  0.0      0.0     0.0   0.0   \n",
       "satisfying     0.0  ...      0.0   0.0   0.0  0.0      0.0     0.0   0.0   \n",
       "extinguisher   1.0  ...      0.0   0.0   0.0  0.0      0.0     0.0   0.0   \n",
       "cuss           1.0  ...      0.0   0.0   0.0  0.0      0.0     0.0   0.0   \n",
       "\n",
       "              size island manager  \n",
       "qualified      0.0    0.0     0.0  \n",
       "helpful-       0.0    0.0     0.0  \n",
       "interesting    0.0    3.0     0.0  \n",
       "smart-         0.0    0.0     0.0  \n",
       "clean         15.0    2.0     1.0  \n",
       "...            ...    ...     ...  \n",
       "troubling      0.0    0.0     0.0  \n",
       "trim           0.0    0.0     0.0  \n",
       "satisfying     0.0    0.0     0.0  \n",
       "extinguisher   0.0    0.0     0.0  \n",
       "cuss           0.0    0.0     0.0  \n",
       "\n",
       "[1789 rows x 80 columns]"
      ]
     },
     "execution_count": 207,
     "metadata": {},
     "output_type": "execute_result"
    }
   ],
   "source": [
    "co_ref_aspect_ident_grouping = CoRefAspectIdentGrouping(data[\"cleaned_review\"], dict(extracted_aspects), nlp)\n",
    "aspect_sentiment = co_ref_aspect_ident_grouping.get_co_occurrence_matrix()\n",
    "aspect_sentiment"
   ]
  },
  {
   "cell_type": "code",
   "execution_count": 208,
   "id": "b936c2d7-3bc1-4c2f-bf23-cf6714ac6f01",
   "metadata": {},
   "outputs": [],
   "source": [
    "from sklearn.decomposition import PCA"
   ]
  },
  {
   "cell_type": "code",
   "execution_count": 209,
   "id": "e47b55c6-6f1b-422f-86be-4a5017f051cd",
   "metadata": {},
   "outputs": [],
   "source": [
    "pca = PCA(n_components=2)\n",
    "comps = pca.fit_transform(aspect_sentiment.to_numpy())"
   ]
  },
  {
   "cell_type": "code",
   "execution_count": 210,
   "id": "a4c178e8-a6db-4dcb-8cd7-6341d6a4dcc6",
   "metadata": {},
   "outputs": [
    {
     "data": {
      "text/plain": [
       "array([0.71510228, 0.10854828])"
      ]
     },
     "execution_count": 210,
     "metadata": {},
     "output_type": "execute_result"
    }
   ],
   "source": [
    "pca.explained_variance_ratio_"
   ]
  },
  {
   "cell_type": "code",
   "execution_count": 211,
   "id": "54dce758-a55e-4dbb-bac2-d75eb90c4e29",
   "metadata": {},
   "outputs": [],
   "source": [
    "import seaborn as sns"
   ]
  },
  {
   "cell_type": "code",
   "execution_count": 212,
   "id": "4a53aa11-6de2-423c-996e-ffb7bd9a4ce4",
   "metadata": {},
   "outputs": [
    {
     "data": {
      "text/plain": [
       "<AxesSubplot:>"
      ]
     },
     "execution_count": 212,
     "metadata": {},
     "output_type": "execute_result"
    },
    {
     "data": {
      "image/png": "[encoded data removed]",
      "text/plain": [
       "<Figure size 432x288 with 1 Axes>"
      ]
     },
     "metadata": {
      "needs_background": "light"
     },
     "output_type": "display_data"
    }
   ],
   "source": [
    "sns.scatterplot(x = comps[:,0], y = comps[:,1])"
   ]
  },
  {
   "cell_type": "code",
   "execution_count": 59,
   "id": "5c2c4a40-1832-4a00-9c62-41d369f9ab13",
   "metadata": {},
   "outputs": [
    {
     "name": "stderr",
     "output_type": "stream",
     "text": [
      "3000it [01:07, 44.28it/s]\n"
     ]
    }
   ],
   "source": [
    "review_sentences = []\n",
    "for id_, review in tqdm(data[\"cleaned_review\"].items()):    \n",
    "    doc = nlp(review)\n",
    "    sentences = []\n",
    "    for sentence in doc.sents:\n",
    "        sentence_words = []\n",
    "        for word in sentence:\n",
    "            if (not word.is_digit) and (not word.is_punct) and word.pos_ == \"NOUN\":\n",
    "                word = word.lemma_.lower().replace(\"-\", \" \")\n",
    "                sentence_words.append(word)\n",
    "        review_sentences.append(sentence_words)"
   ]
  },
  {
   "cell_type": "code",
   "execution_count": 13,
   "id": "2a35fad8-c3e7-49fb-8757-87ed2a9c3a7e",
   "metadata": {},
   "outputs": [],
   "source": [
    "from gensim.models import Word2Vec\n",
    "from gensim.test.utils import common_texts"
   ]
  },
  {
   "cell_type": "code",
   "execution_count": 60,
   "id": "519f7fa1-f487-481f-8462-af5b27987217",
   "metadata": {},
   "outputs": [],
   "source": [
    "model_wv = Word2Vec(sentences=review_sentences, vector_size=300, window=5, min_count=5, workers=2, sg = 1)"
   ]
  },
  {
   "cell_type": "code",
   "execution_count": 225,
   "id": "bd66990a-2ed2-4683-98ea-5a8b4fe46d73",
   "metadata": {},
   "outputs": [],
   "source": [
    "aspect_pairs_list = [set([i]) for i in set(aspects_)]\n",
    "for aspect in aspects_:\n",
    "    similar_words = model_wv.wv.similar_by_word(aspect, topn=10)\n",
    "    for similar_word in similar_words:\n",
    "        similarity = similar_word[1]\n",
    "        if similarity >= 0.985 and similar_word[0] in aspects_:\n",
    "            pair = {aspect, similar_word[0]}\n",
    "            if pair not in aspect_pairs_list:\n",
    "                aspect_pairs_list.append(pair)\n",
    "\n",
    "\"\"\"\n",
    "\t\tfor aspect in self.__aspects:\n",
    "\t\t\tsimilar_words = self.model_wv.wv.similar_by_word(aspect, topn=15)\n",
    "\t\t\tfor similar_word in similar_words:\n",
    "\t\t\t\tsimilarity = similar_word[1]\n",
    "\t\t\t\tif similarity >= threshold and similar_word[0] in self.__aspects:\n",
    "\t\t\t\t\tpair = {aspect, similar_word[0]}\n",
    "\t\t\t\t\tif pair not in aspect_pairs_list:\n",
    "\t\t\t\t\t\taspect_pairs_list.append(pair)\n",
    "\"\"\""
   ]
  },
  {
   "cell_type": "code",
   "execution_count": 168,
   "id": "b6a06c19-5973-4b57-9b24-032f46381a1b",
   "metadata": {},
   "outputs": [],
   "source": [
    "aspect_pairs_list = [set([i]) for i in set(aspects_)]\n",
    "for aspect in aspects_:\n",
    "    for aspect2 in aspects_:\n",
    "        if aspect != aspect2:\n",
    "            similarity = model_wv.wv.similarity(aspect, aspect2)\n",
    "            pair = {aspect, aspect2}\n",
    "            if similarity >= 0.993 and pair not in aspect_pairs_list:\n",
    "                aspect_pairs_list.append(pair)"
   ]
  },
  {
   "cell_type": "code",
   "execution_count": 223,
   "id": "430c1a85-c0d9-4525-848b-79313fa515db",
   "metadata": {},
   "outputs": [],
   "source": [
    "for i, aspect_pair in enumerate(aspect_pairs_list):\n",
    "    aspect_pairs_list[i] = list(aspect_pair)"
   ]
  },
  {
   "cell_type": "code",
   "execution_count": 121,
   "id": "d4d1baea-abcd-4a0c-9659-3fd3294572d8",
   "metadata": {},
   "outputs": [],
   "source": [
    "def get_groups(d, l, s=[]):\n",
    "    if not (r:=[i for i in d if any(j in l for j in i) and i not in s]):\n",
    "        yield list(set(l))\n",
    "        if (new_r:=[i for i in d if i not in s]):\n",
    "            yield from get_groups(d, new_r[0], s=s+[new_r[0]])\n",
    "    else:\n",
    "        yield from get_groups(d, l+[i for k in r for i in k], s=s+r)"
   ]
  },
  {
   "cell_type": "code",
   "execution_count": 224,
   "id": "7c4d3216-3652-4cc8-82e8-53dd04d7547b",
   "metadata": {},
   "outputs": [
    {
     "ename": "KeyError",
     "evalue": "'air'",
     "output_type": "error",
     "traceback": [
      "\u001b[1;31m---------------------------------------------------------------------------\u001b[0m",
      "\u001b[1;31mKeyError\u001b[0m                                  Traceback (most recent call last)",
      "Input \u001b[1;32mIn [224]\u001b[0m, in \u001b[0;36m<cell line: 4>\u001b[1;34m()\u001b[0m\n\u001b[0;32m      5\u001b[0m max_of_group \u001b[38;5;241m=\u001b[39m (\u001b[38;5;124m\"\u001b[39m\u001b[38;5;124m\"\u001b[39m,\u001b[38;5;241m0\u001b[39m)\n\u001b[0;32m      6\u001b[0m \u001b[38;5;28;01mfor\u001b[39;00m item \u001b[38;5;129;01min\u001b[39;00m group:\n\u001b[1;32m----> 7\u001b[0m     freq \u001b[38;5;241m=\u001b[39m \u001b[43mdict_aspects_frequency\u001b[49m\u001b[43m[\u001b[49m\u001b[43mitem\u001b[49m\u001b[43m]\u001b[49m\n\u001b[0;32m      8\u001b[0m     \u001b[38;5;28;01mif\u001b[39;00m freq \u001b[38;5;241m>\u001b[39m max_of_group[\u001b[38;5;241m1\u001b[39m]:\n\u001b[0;32m      9\u001b[0m         max_of_group \u001b[38;5;241m=\u001b[39m (item, freq)\n",
      "\u001b[1;31mKeyError\u001b[0m: 'air'"
     ]
    }
   ],
   "source": [
    "aspects_groups = list(get_groups(aspect_pairs_list, aspect_pairs_list[0]))\n",
    "dict_aspects_frequency = dict(extracted_aspects)\n",
    "group_names = []\n",
    "for group in aspects_groups:\n",
    "    max_of_group = (\"\",0)\n",
    "    for item in group:\n",
    "        freq = dict_aspects_frequency[item]\n",
    "        if freq > max_of_group[1]:\n",
    "            max_of_group = (item, freq)\n",
    "    group_names.append(max_of_group[0])"
   ]
  },
  {
   "cell_type": "code",
   "execution_count": 188,
   "id": "df394cf2-7965-492d-927f-2b77055f5c12",
   "metadata": {},
   "outputs": [
    {
     "data": {
      "text/plain": [
       "{'room': ['bathroom', 'bed', 'water', 'door', 'shower', 'room', 'floor'],\n",
       " 'staff': ['coffee',\n",
       "  'evening',\n",
       "  'experience',\n",
       "  'bar',\n",
       "  'morning',\n",
       "  'meal',\n",
       "  'breakfast',\n",
       "  'food',\n",
       "  'price',\n",
       "  'restaurant',\n",
       "  'service',\n",
       "  'drink',\n",
       "  'dinner',\n",
       "  'stay',\n",
       "  'staff',\n",
       "  'resort'],\n",
       " 'place': ['trip', 'riad', 'parking', 'place', 'beach', 'way'],\n",
       " 'time': ['people',\n",
       "  'reception',\n",
       "  'night',\n",
       "  'time',\n",
       "  'desk',\n",
       "  'thing',\n",
       "  'area',\n",
       "  'pool',\n",
       "  'guest',\n",
       "  'family',\n",
       "  'kid'],\n",
       " 'minute': ['minute'],\n",
       " 'hour': ['hour'],\n",
       " 'hotel': ['street', 'hotel', 'location', 'city'],\n",
       " 'view': ['view'],\n",
       " 'bit': ['bit'],\n",
       " 'lot': ['lot'],\n",
       " 'day': ['day']}"
      ]
     },
     "execution_count": 188,
     "metadata": {},
     "output_type": "execute_result"
    }
   ],
   "source": [
    "named_explicite_aspects = {}\n",
    "for i, group_name in enumerate(group_names):\n",
    "    named_explicite_aspects[group_name] = aspects_groups[i]\n",
    "named_explicite_aspects"
   ]
  },
  {
   "cell_type": "code",
   "execution_count": null,
   "id": "1c1a0f79-714b-4c07-ae7e-3c9ee406fc8f",
   "metadata": {},
   "outputs": [],
   "source": [
    "for i in named_explicite_aspects[\"time\"]:\n",
    "    for j in named_explicite_aspects[\"time\"]:   \n",
    "        similarity = model_wv.wv.similarity(i, j)\n",
    "        if similarity > 0.993:\n",
    "            print(i, j, similarity)"
   ]
  },
  {
   "cell_type": "code",
   "execution_count": 227,
   "id": "20328b92-bf80-48f6-b6a5-21f10f8b136c",
   "metadata": {},
   "outputs": [
    {
     "data": {
      "text/plain": [
       "0.9930829"
      ]
     },
     "execution_count": 227,
     "metadata": {},
     "output_type": "execute_result"
    }
   ],
   "source": [
    "model_wv.wv.similarity(\"front\", \"year\")"
   ]
  },
  {
   "cell_type": "code",
   "execution_count": 231,
   "id": "32744730-09d4-45a1-8443-9bd672ac4092",
   "metadata": {},
   "outputs": [],
   "source": [
    "co_ref_aspect_ident_grouping.model_wv = None"
   ]
  },
  {
   "cell_type": "code",
   "execution_count": 233,
   "id": "01cbf0fb-2599-4c6f-88ca-6e938e7d6543",
   "metadata": {},
   "outputs": [
    {
     "data": {
      "text/plain": [
       "{'bed': ['shower', 'bathroom', 'bed', 'air'],\n",
       " 'door': ['wall', 'door'],\n",
       " 'restaurant': ['restaurant'],\n",
       " 'beach': ['beach'],\n",
       " 'towel': ['towel'],\n",
       " 'breakfast': ['evening',\n",
       "  'morning',\n",
       "  'meal',\n",
       "  'breakfast',\n",
       "  'choice',\n",
       "  'dinner',\n",
       "  'buffet'],\n",
       " 'night': ['couple', 'night', 'year', 'week', 'day'],\n",
       " 'people': ['guest', 'people'],\n",
       " 'hotel': ['riad', 'hotel', 'resort'],\n",
       " 'pool': ['pool'],\n",
       " 'way': ['way'],\n",
       " 'desk': ['desk', 'reception', 'manager'],\n",
       " 'time': ['time'],\n",
       " 'street': ['building', 'street', 'road'],\n",
       " 'size': ['size'],\n",
       " 'drink': ['drink'],\n",
       " 'place': ['place'],\n",
       " 'view': ['terrace', 'view'],\n",
       " 'food': ['service', 'food'],\n",
       " 'price': ['money', 'value', 'price'],\n",
       " 'thing': ['thing'],\n",
       " 'kid': ['family', 'child', 'kid'],\n",
       " 'quality': ['quality'],\n",
       " 'parking': ['parking'],\n",
       " 'stay': ['stay'],\n",
       " 'minute': ['minute', 'distance', 'station', 'walk', 'train', 'airport'],\n",
       " 'area': ['area'],\n",
       " 'car': ['car'],\n",
       " 'hour': ['hour'],\n",
       " 'location': ['location'],\n",
       " 'bit': ['bit'],\n",
       " 'experience': ['experience', 'review'],\n",
       " 'city': ['town', 'city'],\n",
       " 'bar': ['bar'],\n",
       " 'noise': ['noise'],\n",
       " 'room': ['room'],\n",
       " 'floor': ['floor'],\n",
       " 'water': ['water'],\n",
       " 'star': ['star'],\n",
       " 'lot': ['lot'],\n",
       " 'island': ['island'],\n",
       " 'trip': ['trip'],\n",
       " 'coffee': ['coffee'],\n",
       " 'facility': ['facility'],\n",
       " 'problem': ['problem'],\n",
       " 'staff': ['staff']}"
      ]
     },
     "execution_count": 233,
     "metadata": {},
     "output_type": "execute_result"
    }
   ],
   "source": [
    "co_ref_aspect_ident_grouping.get_co_reference_aspects_groups()"
   ]
  }
 ],
 "metadata": {
  "kernelspec": {
   "display_name": "Python 3 (ipykernel)",
   "language": "python",
   "name": "python3"
  },
  "language_info": {
   "codemirror_mode": {
    "name": "ipython",
    "version": 3
   },
   "file_extension": ".py",
   "mimetype": "text/x-python",
   "name": "python",
   "nbconvert_exporter": "python",
   "pygments_lexer": "ipython3",
   "version": "3.8.8"
  }
 },
 "nbformat": 4,
 "nbformat_minor": 5
}
