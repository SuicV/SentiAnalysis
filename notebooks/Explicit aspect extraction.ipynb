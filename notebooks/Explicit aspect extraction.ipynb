{
 "cells": [
  {
   "cell_type": "code",
   "execution_count": 21,
   "id": "cbf768a5-6801-41d1-b6dc-fbe862c3bee8",
   "metadata": {},
   "outputs": [],
   "source": [
    "import nltk\n",
    "from nltk.tag.stanford import StanfordPOSTagger\n",
    "import time\n",
    "from nltk.tokenize import word_tokenize"
   ]
  },
  {
   "cell_type": "code",
   "execution_count": 7,
   "id": "56b504ed-a7be-4295-a549-5dc56d92a1ae",
   "metadata": {},
   "outputs": [
    {
     "data": {
      "text/plain": [
       "[('hello', 'VB'), ('the', 'DT'), ('world', 'NN')]"
      ]
     },
     "execution_count": 7,
     "metadata": {},
     "output_type": "execute_result"
    }
   ],
   "source": [
    "def explicit_aspect_extraction(reviews):\n",
    "    for review in reviews:\n",
    "        sentences = sent_tokenize(review)\n",
    "        for sentence in sentences:\n",
    "            "
   ]
  },
  {
   "cell_type": "code",
   "execution_count": 17,
   "id": "1506ea28-19f3-4dc0-bf30-7a23e1673325",
   "metadata": {},
   "outputs": [],
   "source": [
    "jar = '../stanford-postagger-full-2020-11-17/stanford-postagger.jar'\n",
    "model = '../stanford-postagger-full-2020-11-17/models/english-bidirectional-distsim.tagger'\n",
    "stanford_tagger = StanfordPOSTagger(model, jar, encoding=\"utf-8\")"
   ]
  },
  {
   "cell_type": "code",
   "execution_count": 29,
   "id": "9902798f-b7e8-40c6-bce0-76fabda06cef",
   "metadata": {},
   "outputs": [
    {
     "name": "stdout",
     "output_type": "stream",
     "text": [
      "[('the', 'DT'), ('hotel', 'NN'), ('was', 'VBD'), ('awesome', 'JJ'), (',', ','), ('the', 'DT'), ('staff', 'NN'), ('was', 'VBD'), ('friendly', 'JJ'), ('.', '.')]\n"
     ]
    },
    {
     "data": {
      "text/plain": [
       "'2.1181113719940186 s'"
      ]
     },
     "execution_count": 29,
     "metadata": {},
     "output_type": "execute_result"
    }
   ],
   "source": [
    "time_ = time.time()\n",
    "print(stanford_tagger.tag(word_tokenize(\"the hotel was awesome, the staff was friendly.\")))\n",
    "str(time.time() - time_) + \" s\""
   ]
  }
 ],
 "metadata": {
  "kernelspec": {
   "display_name": "Python 3 (ipykernel)",
   "language": "python",
   "name": "python3"
  },
  "language_info": {
   "codemirror_mode": {
    "name": "ipython",
    "version": 3
   },
   "file_extension": ".py",
   "mimetype": "text/x-python",
   "name": "python",
   "nbconvert_exporter": "python",
   "pygments_lexer": "ipython3",
   "version": "3.8.8"
  }
 },
 "nbformat": 4,
 "nbformat_minor": 5
}
