{
 "cells": [
  {
   "cell_type": "code",
   "execution_count": 1,
   "id": "d3e8ba15-0ab4-4d63-a3ea-33ceb163a881",
   "metadata": {},
   "outputs": [],
   "source": [
    "%load_ext autoreload\n",
    "%autoreload 2"
   ]
  },
  {
   "cell_type": "markdown",
   "id": "df0a7c6a-5488-4b6a-a039-ff669b91711f",
   "metadata": {},
   "source": [
    "## Apprentissage des aspects explicites"
   ]
  },
  {
   "cell_type": "markdown",
   "id": "4dafcc2b-070e-41cc-a323-845d2bb100a7",
   "metadata": {},
   "source": [
    "### Importation des bibliothèques"
   ]
  },
  {
   "cell_type": "code",
   "execution_count": 2,
   "id": "6fae6d9f-e5a6-41c6-ba33-12dad63dd4da",
   "metadata": {},
   "outputs": [],
   "source": [
    "import os\n",
    "os.chdir(\"..\")"
   ]
  },
  {
   "cell_type": "code",
   "execution_count": 3,
   "id": "663157b3-b073-4643-9fed-850ead20ccc2",
   "metadata": {},
   "outputs": [],
   "source": [
    "import seaborn as sns\n",
    "from collections import Counter\n",
    "from time import time\n",
    "from Preprocessors.ReviewPreprocessor import ReviewPreprocessor\n",
    "from Aspects.ExplicitAspectExtractor import ExplicitAspectExtractor\n",
    "import pandas as pd\n",
    "import spacy\n",
    "nlp = spacy.load(\"en_core_web_sm\")"
   ]
  },
  {
   "cell_type": "markdown",
   "id": "22f8b3d3-22b4-4311-adef-edfc0a0d51d3",
   "metadata": {},
   "source": [
    "### Fonction de pretraitement des datasets"
   ]
  },
  {
   "cell_type": "markdown",
   "id": "da11d420-98b8-445a-b8c9-8404df322b2c",
   "metadata": {},
   "source": [
    "La fonction prend un dictionnaire de jeux de données. il a comme clé un nom pour identifier le dataset et comme valeur le chemin vers le dataset."
   ]
  },
  {
   "cell_type": "code",
   "execution_count": 4,
   "id": "28891f51-ed85-4584-becf-651c11f047c8",
   "metadata": {},
   "outputs": [],
   "source": [
    "def clean_datasets(datasets):\n",
    "    cleaned_datasets = []\n",
    "    for dataset_name in datasets:\n",
    "        print(f\"cleaning dataset {dataset_name}\")\n",
    "        dataset = pd.read_csv(datasets[dataset_name])\n",
    "        old = time()\n",
    "        review_preprocessor = ReviewPreprocessor(dataset['review'], nlp)\n",
    "        dataset['cleaned_data'] = review_preprocessor.remove_tags()\n",
    "        dataset['cleaned_data'] = review_preprocessor.lowercase_transformation()\n",
    "        dataset['cleaned_data'] = review_preprocessor.pararel_spelling_correction()\n",
    "        dataset['cleaned_data'] = review_preprocessor.remove_objective_sentences()\n",
    "        dataset = dataset[dataset['cleaned_data'] != \"\"]\n",
    "        print(f\"cleaning {dataset_name} took {time() - old}\")\n",
    "        cleaned_datasets.append((dataset_name, dataset))\n",
    "    return cleaned_datasets"
   ]
  },
  {
   "cell_type": "markdown",
   "id": "ae20ec88-8ab1-4ff9-934c-fb508a8a077d",
   "metadata": {},
   "source": [
    "### Fonction d'extraction des aspects et de calcule de proportion de chaque aspect."
   ]
  },
  {
   "attachments": {
    "7bebf527-a319-4403-8c48-804c41e243c3.png": {
     "image/png": "[encoded data removed]"
    }
   },
   "cell_type": "markdown",
   "id": "ab61c575-415b-4783-b3ec-3bca50bd82b9",
   "metadata": {},
   "source": [
    "La fonction prend comme paramètre un dictionnaire des datasets prétraités. Il applique l'algorithme de l'extraction des aspects explicites avec leur nombre d'occurrence. Pour calculer la proportion de chaque aspect nous utilisons la relation suivante:\n",
    "\n",
    "![image.png](attachment:7bebf527-a319-4403-8c48-804c41e243c3.png)\n",
    "\n",
    "avec \n",
    "\n",
    "- **nx :** le nombre d'occurrence de l'aspect x.\n",
    "- **m:** la somme d'occurrence de tous les aspects fréquents."
   ]
  },
  {
   "cell_type": "code",
   "execution_count": 5,
   "id": "d2bc117f-de7a-487a-bbd9-495aa8da5b92",
   "metadata": {},
   "outputs": [],
   "source": [
    "def extract_aspects_with_proportion(cleaned_datasets, aspects_threshold = 250):\n",
    "    result = []\n",
    "    for cleaned_dataset in cleaned_datasets:\n",
    "        print(f\"extracting aspects from {cleaned_dataset[0]}\")\n",
    "        old = time()\n",
    "        explicit_aspect_extractor = ExplicitAspectExtractor(cleaned_dataset[1]['cleaned_data'], nlp)\n",
    "        explicit_aspect_extractor.extract_aspects()\n",
    "        frequent_aspects = explicit_aspect_extractor.get_frequent_aspects(aspects_threshold)\n",
    "        sum_occurences = sum(Counter(dict(frequent_aspects)).values())\n",
    "        aspects_proportion = []\n",
    "        for i in frequent_aspects:\n",
    "            aspects_proportion.append((i[0], i[1]/sum_occurences))\n",
    "        result.append((cleaned_dataset[0], frequent_aspects, aspects_proportion))\n",
    "        print(f\"duration took for extracting explicit aspects and convert to proportion {time() - old}\")\n",
    "    return result"
   ]
  },
  {
   "cell_type": "markdown",
   "id": "9dc14617-0055-4573-b633-531562918dde",
   "metadata": {},
   "source": [
    "### Application de prétraitement"
   ]
  },
  {
   "cell_type": "markdown",
   "id": "d24c3517-a966-4412-b9da-4fe6d9931968",
   "metadata": {},
   "source": [
    "Les jeux de données utilisés dans cette notebook sont collectés à l'aide de module de scraping créé pour le projet.\n",
    "\n",
    "- les datasets **tripadvisor**, **booking** et **agoda** contient des commentaires de 10 hôtels à Paris, en total chaque dataset contient respectivement 2141, 1022, 230 commentaires.\n",
    "- les datasets **agoda_london** et **tripadivsor_london** contient des commentaires de 5 hôtels à Londres, en total chaque dataset contient respectivement 245 et 658."
   ]
  },
  {
   "cell_type": "code",
   "execution_count": 6,
   "id": "d64d022b-66a4-4516-8945-c61dce79b485",
   "metadata": {},
   "outputs": [
    {
     "name": "stdout",
     "output_type": "stream",
     "text": [
      "cleaning dataset tripadvisor\n"
     ]
    },
    {
     "name": "stderr",
     "output_type": "stream",
     "text": [
      "2141it [01:06, 32.11it/s]\n"
     ]
    },
    {
     "name": "stdout",
     "output_type": "stream",
     "text": [
      "cleaning tripadvisor took 264.56770300865173\n",
      "cleaning dataset booking\n"
     ]
    },
    {
     "name": "stderr",
     "output_type": "stream",
     "text": [
      "1022it [00:13, 73.02it/s]\n"
     ]
    },
    {
     "name": "stdout",
     "output_type": "stream",
     "text": [
      "cleaning booking took 41.86551642417908\n",
      "cleaning dataset agoda\n"
     ]
    },
    {
     "name": "stderr",
     "output_type": "stream",
     "text": [
      "230it [00:03, 63.32it/s]\n"
     ]
    },
    {
     "name": "stdout",
     "output_type": "stream",
     "text": [
      "cleaning agoda took 17.70045804977417\n",
      "cleaning dataset agoda_london\n"
     ]
    },
    {
     "name": "stderr",
     "output_type": "stream",
     "text": [
      "245it [00:03, 66.51it/s]\n"
     ]
    },
    {
     "name": "stdout",
     "output_type": "stream",
     "text": [
      "cleaning agoda_london took 23.623052835464478\n",
      "cleaning dataset tripadvisor_london\n"
     ]
    },
    {
     "name": "stderr",
     "output_type": "stream",
     "text": [
      "658it [00:18, 36.40it/s]"
     ]
    },
    {
     "name": "stdout",
     "output_type": "stream",
     "text": [
      "cleaning tripadvisor_london took 68.12376713752747\n",
      "duration : 418.884343624115\n"
     ]
    },
    {
     "name": "stderr",
     "output_type": "stream",
     "text": [
      "\n"
     ]
    }
   ],
   "source": [
    "old = time()\n",
    "datasets = {'tripadvisor': 'data/3 datasets/reviews_TripAdvisor_2022_5_20_11_27_56_ 10pages_10hotels.csv',\n",
    "                    'booking': 'data/3 datasets/reviews_Booking_2022_5_20_11_9_54_10links_10_pages.csv',\n",
    "                    'agoda': 'data/3 datasets/reviews_Agoda_2022_5_20_10_58_5_10pages_10_links.csv',\n",
    "                    'agoda_london':'data/3 datasets/reviews_Agoda_2022_5_21_11_32_11_London_5pages_5links.csv',\n",
    "                    'tripadvisor_london': 'data/3 datasets/reviews_TripAdvisor_2022_5_21_11_51_26_london_5pages_5links.csv'}\n",
    "cleaned_datasets = clean_datasets(datasets)\n",
    "print(f\"duration : {time() - old}\")"
   ]
  },
  {
   "cell_type": "markdown",
   "id": "c7477965-f8d6-47df-a999-0a775fcc6a88",
   "metadata": {},
   "source": [
    "### Application d'extraction des aspects explicites."
   ]
  },
  {
   "cell_type": "code",
   "execution_count": 7,
   "id": "d693bb62-fa96-4ee1-9a75-44f339815b5d",
   "metadata": {},
   "outputs": [
    {
     "name": "stdout",
     "output_type": "stream",
     "text": [
      "extracting aspects from tripadvisor\n",
      "duration took for extracting explicit aspects and convert to proportion 33.340646266937256\n",
      "extracting aspects from booking\n",
      "duration took for extracting explicit aspects and convert to proportion 7.794357061386108\n",
      "extracting aspects from agoda\n",
      "duration took for extracting explicit aspects and convert to proportion 1.7650060653686523\n",
      "extracting aspects from agoda_london\n",
      "duration took for extracting explicit aspects and convert to proportion 2.249317169189453\n",
      "extracting aspects from tripadvisor_london\n",
      "duration took for extracting explicit aspects and convert to proportion 10.27892518043518\n"
     ]
    }
   ],
   "source": [
    "all_aspects_prob_freq = extract_aspects_with_proportion(cleaned_datasets)"
   ]
  },
  {
   "cell_type": "markdown",
   "id": "5f523be2-e7a9-46e4-a8d8-1618cc6d482a",
   "metadata": {},
   "source": [
    "**Affichage des valeurs de proportion pour les 30 aspects explicites les plus fréquents.**"
   ]
  },
  {
   "cell_type": "code",
   "execution_count": 8,
   "id": "a091e696-a0f7-4a65-97ee-44999e93a2c7",
   "metadata": {},
   "outputs": [
    {
     "name": "stdout",
     "output_type": "stream",
     "text": [
      "tripadvisor\n",
      "--------------------------------------------------\n",
      "[('hotel', 0.09781887849089971), ('room', 0.08919755360695601), ('staff', 0.04686463783066834), ('breakfast', 0.03931176774003389), ('location', 0.03297472551764793), ('day', 0.01646894112445656), ('restaurant', 0.016321568049517354), ('stay', 0.01606366516837374), ('night', 0.014958367106329674), ('area', 0.014184658462898828), ('service', 0.014074128656694423), ('drink', 0.012747770982241545), ('bed', 0.012158278682484711), ('bar', 0.011716159457667085), ('time', 0.011163510426645052), ('bathroom', 0.010979294082971042), ('snack', 0.010647704664357821), ('eiffel', 0.01061086139562302), ('tower', 0.00943187679610935), ('place', 0.009395033527374549), ('lot', 0.0085476383464741), ('metro', 0.008437108540269692), ('coffee', 0.008363422002800089), ('minute', 0.007773929703043254), ('floor', 0.007294967209490826), ('reception', 0.007221280672021222), ('shower', 0.007073907597082013), ('station', 0.006779161447203596), ('street', 0.006521258566059981), ('distance', 0.006410728759855574)]\n",
      "===================================\n",
      "booking\n",
      "--------------------------------------------------\n",
      "[('room', 0.09388749960431768), ('hotel', 0.09262131619765122), ('staff', 0.048589788230825236), ('breakfast', 0.039251685606660126), ('location', 0.035453135386660756), ('restaurant', 0.015953910923997342), ('day', 0.015605710487164066), ('stay', 0.015067582539330823), ('night', 0.014909309613497516), ('bed', 0.014434490835997594), ('service', 0.01386470830299769), ('area', 0.0131999620144978), ('bathroom', 0.012123706118831313), ('time', 0.011585578170998069), ('drink', 0.011110759393498149), ('bar', 0.010825868126998196), ('eiffel', 0.010192776423664968), ('place', 0.00978126681649837), ('snack', 0.009211484283498465), ('tower', 0.009179829698331803), ('metro', 0.008388465069165268), ('reception', 0.008135228387831978), ('shower', 0.008008610047165332), ('lot', 0.008008610047165332), ('coffee', 0.007881991706498686), ('station', 0.007470482099332088), ('minute', 0.0073755183438321045), ('floor', 0.007312209173498781), ('water', 0.006647462884998892), ('street', 0.006046025766832326)]\n",
      "===================================\n",
      "agoda\n",
      "--------------------------------------------------\n",
      "[('room', 0.09388230962753881), ('hotel', 0.09262440940050316), ('staff', 0.048874025894336384), ('breakfast', 0.03881082407805118), ('location', 0.036479106584033874), ('restaurant', 0.0158311345646438), ('day', 0.015462968644535804), ('stay', 0.014972080751058476), ('night', 0.014818678284346812), ('bed', 0.014419831870896484), ('service', 0.013806222004049825), ('area', 0.013100570657176167), ('bathroom', 0.011934711910167515), ('time', 0.011750628950113518), ('drink', 0.010768853163158863), ('bar', 0.010554089709762533), ('eiffel', 0.010155243296312205), ('place', 0.009664355402834878), ('tower', 0.009142787016015218), ('snack', 0.008989384549303554), ('metro', 0.008774621095907223), ('reception', 0.008099650242375897), ('station', 0.008068969749033565), ('shower', 0.007946247775664233), ('lot', 0.007884886788979566), ('coffee', 0.007762164815610235), ('minute', 0.00739399889550224), ('floor', 0.007148554948763576), ('water', 0.00656562557525925), ('price', 0.006105418175124256)]\n",
      "===================================\n",
      "agoda_london\n",
      "--------------------------------------------------\n",
      "[('room', 0.09514809674275758), ('hotel', 0.09201783657679473), ('staff', 0.04934589374833889), ('breakfast', 0.03779936804181555), ('location', 0.03679532232820482), ('restaurant', 0.01547411629211824), ('night', 0.015415054779552904), ('stay', 0.015090216460443551), ('day', 0.015090216460443551), ('bed', 0.014972093435312878), ('service', 0.013702270915158138), ('area', 0.01290494049552609), ('bathroom', 0.012137140832176712), ('time', 0.011694179487936687), ('drink', 0.010453887724064614), ('bar', 0.010276703186368603), ('place', 0.010129049404955261), ('eiffel', 0.00977468032956324), ('tower', 0.008800165372235182), ('snack', 0.00868204234710451), ('station', 0.008593450078256504), ('metro', 0.008475327053125831), ('shower', 0.00829814251542982), ('reception', 0.00829814251542982), ('lot', 0.00791424268375513), ('coffee', 0.0076484658772111155), ('minute', 0.0074122198269497685), ('floor', 0.007353158314384431), ('water', 0.00664442016360039), ('price', 0.006555827894752384)]\n",
      "===================================\n",
      "tripadvisor_london\n",
      "--------------------------------------------------\n",
      "[('room', 0.09472299371436925), ('hotel', 0.09082492812941578), ('staff', 0.05074794133411294), ('breakfast', 0.03630073575987916), ('location', 0.03595965502119573), ('stay', 0.016006431808215173), ('night', 0.015982068898309214), ('bed', 0.015908980168591335), ('restaurant', 0.015372996150660234), ('service', 0.015031915411976807), ('day', 0.014203576475174194), ('area', 0.012668713151098767), ('time', 0.01201091458363787), ('bar', 0.011572382205330604), ('bathroom', 0.011499293475612727), ('drink', 0.010061881791161137), ('place', 0.0099644301515373), ('shower', 0.008965550845392974), ('reception', 0.008673195926521464), ('station', 0.008137211908590363), ('eiffel', 0.008064123178872484), ('lot', 0.007844856989718853), ('floor', 0.0077230424401890565), ('coffee', 0.00760122789065926), ('snack', 0.007455050431223505), ('tower', 0.0074306875213175465), ('food', 0.0072114213321639135), ('minute', 0.007187058422257955), ('metro', 0.00701651805291624), ('water', 0.0069921551430102815)]\n",
      "===================================\n"
     ]
    }
   ],
   "source": [
    "only_aspects = []\n",
    "for all_aspect_prob_freq in all_aspects_prob_freq:\n",
    "    print(all_aspect_prob_freq[0])\n",
    "    print(\"--------------------------------------------------\")\n",
    "    print(all_aspect_prob_freq[2][0:30])\n",
    "    print(\"===================================\")\n",
    "    only_aspects.append(set(dict(all_aspect_prob_freq[1]).keys()))"
   ]
  },
  {
   "cell_type": "code",
   "execution_count": 9,
   "id": "ae461964-e9d2-490b-b6d2-202c761a5911",
   "metadata": {},
   "outputs": [
    {
     "data": {
      "text/plain": [
       "221"
      ]
     },
     "execution_count": 9,
     "metadata": {},
     "output_type": "execute_result"
    }
   ],
   "source": [
    "len(set.intersection(*only_aspects))"
   ]
  },
  {
   "cell_type": "markdown",
   "id": "e8abbfad-3315-4fdb-a7d0-bddc4f07a2a5",
   "metadata": {},
   "source": [
    "- Parmi 250 aspects extraits depuis chaque dataset, il y a 221 aspects communs entre les cinq datasets.\n",
    "- les aspects plus fréquents ont des valeurs de proportion proches entre eux. par exemple\n",
    "    - l'aspects room {tripadvisor : 0.0891, booking: 0.0938, agoda: 0.0938, agoda_london: 0.0951, tripadvisor_london:0.0947}\n",
    "    - l'aspects hotel {tripadvisor : 0.0978, booking: 0.0926, agoda: 0.0926, agoda_london: 0.0920, tripadvisor_london:0.0908}"
   ]
  },
  {
   "cell_type": "markdown",
   "id": "5c8f6476-30a2-4db9-b270-894b22e2d1c2",
   "metadata": {},
   "source": [
    "### Construction d'un dataframe aspect/dataset"
   ]
  },
  {
   "cell_type": "markdown",
   "id": "e42bcb51-4045-48ce-b88c-5525f4cb1dfb",
   "metadata": {},
   "source": [
    "le dataframe a comme colonnes les aspects, et comme lignes le nom de dataset et comme valeurs la proportion calculé multiplié par 100.\n",
    "\n",
    "ce dataframe est construit afin de calculer la variance de proportion pour aspects."
   ]
  },
  {
   "cell_type": "code",
   "execution_count": 10,
   "id": "bf8384aa-c5f1-4fe8-a5be-8a40cb7c278a",
   "metadata": {},
   "outputs": [],
   "source": [
    "pds = []\n",
    "for all_aspect_prob_freq in all_aspects_prob_freq:\n",
    "    test_ = pd.DataFrame(all_aspect_prob_freq[2], columns=['aspect', 'proportion']).transpose()\n",
    "    test_.columns = test_.loc['aspect',:]\n",
    "    test_ = test_.drop('aspect')\n",
    "    pds.append(test_)"
   ]
  },
  {
   "cell_type": "code",
   "execution_count": 11,
   "id": "10461ca6-2757-43fb-8fcd-02d025b478a2",
   "metadata": {},
   "outputs": [],
   "source": [
    "rounded_proportion = pd.concat([pds[0], pds[1], pds[2], pds[3], pds[4]]).dropna(axis=1)*100\n",
    "rounded_proportion.index = list(datasets.keys())"
   ]
  },
  {
   "cell_type": "code",
   "execution_count": 12,
   "id": "31f078bb-229e-4188-bca3-0b745115c702",
   "metadata": {},
   "outputs": [
    {
     "data": {
      "text/html": [
       "<div>\n",
       "<style scoped>\n",
       "    .dataframe tbody tr th:only-of-type {\n",
       "        vertical-align: middle;\n",
       "    }\n",
       "\n",
       "    .dataframe tbody tr th {\n",
       "        vertical-align: top;\n",
       "    }\n",
       "\n",
       "    .dataframe thead th {\n",
       "        text-align: right;\n",
       "    }\n",
       "</style>\n",
       "<table border=\"1\" class=\"dataframe\">\n",
       "  <thead>\n",
       "    <tr style=\"text-align: right;\">\n",
       "      <th>aspect</th>\n",
       "      <th>hotel</th>\n",
       "      <th>room</th>\n",
       "      <th>staff</th>\n",
       "      <th>breakfast</th>\n",
       "      <th>location</th>\n",
       "      <th>day</th>\n",
       "      <th>restaurant</th>\n",
       "      <th>stay</th>\n",
       "      <th>night</th>\n",
       "      <th>area</th>\n",
       "      <th>...</th>\n",
       "      <th>hallway</th>\n",
       "      <th>light</th>\n",
       "      <th>rate</th>\n",
       "      <th>parking</th>\n",
       "      <th>carpet</th>\n",
       "      <th>reason</th>\n",
       "      <th>entrance</th>\n",
       "      <th>cleanliness</th>\n",
       "      <th>cup</th>\n",
       "      <th>pressure</th>\n",
       "    </tr>\n",
       "  </thead>\n",
       "  <tbody>\n",
       "    <tr>\n",
       "      <th>tripadvisor</th>\n",
       "      <td>9.781888</td>\n",
       "      <td>8.919755</td>\n",
       "      <td>4.686464</td>\n",
       "      <td>3.931177</td>\n",
       "      <td>3.297473</td>\n",
       "      <td>1.646894</td>\n",
       "      <td>1.632157</td>\n",
       "      <td>1.606367</td>\n",
       "      <td>1.495837</td>\n",
       "      <td>1.418466</td>\n",
       "      <td>...</td>\n",
       "      <td>0.08474</td>\n",
       "      <td>0.08474</td>\n",
       "      <td>0.08474</td>\n",
       "      <td>0.08474</td>\n",
       "      <td>0.08474</td>\n",
       "      <td>0.081055</td>\n",
       "      <td>0.081055</td>\n",
       "      <td>0.077371</td>\n",
       "      <td>0.077371</td>\n",
       "      <td>0.073687</td>\n",
       "    </tr>\n",
       "    <tr>\n",
       "      <th>booking</th>\n",
       "      <td>9.262132</td>\n",
       "      <td>9.38875</td>\n",
       "      <td>4.858979</td>\n",
       "      <td>3.925169</td>\n",
       "      <td>3.545314</td>\n",
       "      <td>1.560571</td>\n",
       "      <td>1.595391</td>\n",
       "      <td>1.506758</td>\n",
       "      <td>1.490931</td>\n",
       "      <td>1.319996</td>\n",
       "      <td>...</td>\n",
       "      <td>0.088633</td>\n",
       "      <td>0.098129</td>\n",
       "      <td>0.085467</td>\n",
       "      <td>0.158273</td>\n",
       "      <td>0.126618</td>\n",
       "      <td>0.098129</td>\n",
       "      <td>0.085467</td>\n",
       "      <td>0.091798</td>\n",
       "      <td>0.082302</td>\n",
       "      <td>0.085467</td>\n",
       "    </tr>\n",
       "    <tr>\n",
       "      <th>agoda</th>\n",
       "      <td>9.262441</td>\n",
       "      <td>9.388231</td>\n",
       "      <td>4.887403</td>\n",
       "      <td>3.881082</td>\n",
       "      <td>3.647911</td>\n",
       "      <td>1.546297</td>\n",
       "      <td>1.583113</td>\n",
       "      <td>1.497208</td>\n",
       "      <td>1.481868</td>\n",
       "      <td>1.310057</td>\n",
       "      <td>...</td>\n",
       "      <td>0.085905</td>\n",
       "      <td>0.098178</td>\n",
       "      <td>0.085905</td>\n",
       "      <td>0.153402</td>\n",
       "      <td>0.128858</td>\n",
       "      <td>0.101246</td>\n",
       "      <td>0.085905</td>\n",
       "      <td>0.09511</td>\n",
       "      <td>0.082837</td>\n",
       "      <td>0.082837</td>\n",
       "    </tr>\n",
       "    <tr>\n",
       "      <th>agoda_london</th>\n",
       "      <td>9.201784</td>\n",
       "      <td>9.51481</td>\n",
       "      <td>4.934589</td>\n",
       "      <td>3.779937</td>\n",
       "      <td>3.679532</td>\n",
       "      <td>1.509022</td>\n",
       "      <td>1.547412</td>\n",
       "      <td>1.509022</td>\n",
       "      <td>1.541505</td>\n",
       "      <td>1.290494</td>\n",
       "      <td>...</td>\n",
       "      <td>0.085639</td>\n",
       "      <td>0.100405</td>\n",
       "      <td>0.085639</td>\n",
       "      <td>0.156513</td>\n",
       "      <td>0.135841</td>\n",
       "      <td>0.100405</td>\n",
       "      <td>0.082686</td>\n",
       "      <td>0.097451</td>\n",
       "      <td>0.094498</td>\n",
       "      <td>0.085639</td>\n",
       "    </tr>\n",
       "    <tr>\n",
       "      <th>tripadvisor_london</th>\n",
       "      <td>9.082493</td>\n",
       "      <td>9.472299</td>\n",
       "      <td>5.074794</td>\n",
       "      <td>3.630074</td>\n",
       "      <td>3.595966</td>\n",
       "      <td>1.420358</td>\n",
       "      <td>1.5373</td>\n",
       "      <td>1.600643</td>\n",
       "      <td>1.598207</td>\n",
       "      <td>1.266871</td>\n",
       "      <td>...</td>\n",
       "      <td>0.080398</td>\n",
       "      <td>0.126687</td>\n",
       "      <td>0.099888</td>\n",
       "      <td>0.143741</td>\n",
       "      <td>0.136432</td>\n",
       "      <td>0.116942</td>\n",
       "      <td>0.082834</td>\n",
       "      <td>0.08527</td>\n",
       "      <td>0.08527</td>\n",
       "      <td>0.102324</td>\n",
       "    </tr>\n",
       "  </tbody>\n",
       "</table>\n",
       "<p>5 rows × 221 columns</p>\n",
       "</div>"
      ],
      "text/plain": [
       "aspect                 hotel      room     staff breakfast  location  \\\n",
       "tripadvisor         9.781888  8.919755  4.686464  3.931177  3.297473   \n",
       "booking             9.262132   9.38875  4.858979  3.925169  3.545314   \n",
       "agoda               9.262441  9.388231  4.887403  3.881082  3.647911   \n",
       "agoda_london        9.201784   9.51481  4.934589  3.779937  3.679532   \n",
       "tripadvisor_london  9.082493  9.472299  5.074794  3.630074  3.595966   \n",
       "\n",
       "aspect                   day restaurant      stay     night      area  ...  \\\n",
       "tripadvisor         1.646894   1.632157  1.606367  1.495837  1.418466  ...   \n",
       "booking             1.560571   1.595391  1.506758  1.490931  1.319996  ...   \n",
       "agoda               1.546297   1.583113  1.497208  1.481868  1.310057  ...   \n",
       "agoda_london        1.509022   1.547412  1.509022  1.541505  1.290494  ...   \n",
       "tripadvisor_london  1.420358     1.5373  1.600643  1.598207  1.266871  ...   \n",
       "\n",
       "aspect               hallway     light      rate   parking    carpet  \\\n",
       "tripadvisor          0.08474   0.08474   0.08474   0.08474   0.08474   \n",
       "booking             0.088633  0.098129  0.085467  0.158273  0.126618   \n",
       "agoda               0.085905  0.098178  0.085905  0.153402  0.128858   \n",
       "agoda_london        0.085639  0.100405  0.085639  0.156513  0.135841   \n",
       "tripadvisor_london  0.080398  0.126687  0.099888  0.143741  0.136432   \n",
       "\n",
       "aspect                reason  entrance cleanliness       cup  pressure  \n",
       "tripadvisor         0.081055  0.081055    0.077371  0.077371  0.073687  \n",
       "booking             0.098129  0.085467    0.091798  0.082302  0.085467  \n",
       "agoda               0.101246  0.085905     0.09511  0.082837  0.082837  \n",
       "agoda_london        0.100405  0.082686    0.097451  0.094498  0.085639  \n",
       "tripadvisor_london  0.116942  0.082834     0.08527   0.08527  0.102324  \n",
       "\n",
       "[5 rows x 221 columns]"
      ]
     },
     "execution_count": 12,
     "metadata": {},
     "output_type": "execute_result"
    }
   ],
   "source": [
    "rounded_proportion"
   ]
  },
  {
   "cell_type": "markdown",
   "id": "0d8d3b0e-3475-426c-955c-01b382be714c",
   "metadata": {},
   "source": [
    "### Calcul de Variance et écart type"
   ]
  },
  {
   "cell_type": "code",
   "execution_count": 13,
   "id": "d1944bdd-4cf7-4d98-aaff-5eda18b0cc1b",
   "metadata": {},
   "outputs": [],
   "source": [
    "vars_ = rounded_proportion.var()\n",
    "stds_ = rounded_proportion.std()"
   ]
  },
  {
   "cell_type": "code",
   "execution_count": 14,
   "id": "8f6534b7-d651-4208-a778-da39ae662d76",
   "metadata": {},
   "outputs": [],
   "source": [
    "vars_ = vars_.sort_values(ascending=False)\n",
    "stds_ = stds_.sort_values(ascending=False)"
   ]
  },
  {
   "cell_type": "markdown",
   "id": "609baf34-628f-4ecd-8be1-e43476a4c500",
   "metadata": {},
   "source": [
    "#### Graphique des variances"
   ]
  },
  {
   "cell_type": "code",
   "execution_count": 37,
   "id": "da951079-a89f-4bc2-b30e-c9d8e81e3d9c",
   "metadata": {},
   "outputs": [],
   "source": [
    "sns.set(rc={'figure.figsize':(18,8)})"
   ]
  },
  {
   "cell_type": "markdown",
   "id": "04dc7ac2-a198-47fe-b66c-940d2051267c",
   "metadata": {},
   "source": [
    "**variance des 30 premier aspects explicites**"
   ]
  },
  {
   "cell_type": "code",
   "execution_count": 38,
   "id": "b3a54f74-6a30-4837-893c-8140b1927a48",
   "metadata": {},
   "outputs": [
    {
     "data": {
      "text/plain": [
       "<AxesSubplot:>"
      ]
     },
     "execution_count": 38,
     "metadata": {},
     "output_type": "execute_result"
    },
    {
     "data": {
      "image/png": "[encoded data removed]",
      "text/plain": [
       "<Figure size 1296x576 with 1 Axes>"
      ]
     },
     "metadata": {},
     "output_type": "display_data"
    }
   ],
   "source": [
    "sns.barplot(x = list(vars_.index)[0:30], y= list(vars_)[0:30])"
   ]
  },
  {
   "cell_type": "markdown",
   "id": "e6794f50-3705-4c64-bdf2-3c7abf175e0f",
   "metadata": {},
   "source": [
    "**variance des 30 dernier aspects explicites**"
   ]
  },
  {
   "cell_type": "code",
   "execution_count": 39,
   "id": "424d9c78-afbf-45ee-b9ea-1468b58020b7",
   "metadata": {},
   "outputs": [
    {
     "data": {
      "text/plain": [
       "<AxesSubplot:>"
      ]
     },
     "execution_count": 39,
     "metadata": {},
     "output_type": "execute_result"
    },
    {
     "data": {
      "image/png": "[encoded data removed]",
      "text/plain": [
       "<Figure size 1296x576 with 1 Axes>"
      ]
     },
     "metadata": {},
     "output_type": "display_data"
    }
   ],
   "source": [
    "sns.barplot(x = list(vars_.index)[-30:], y= list(vars_)[-30:])"
   ]
  },
  {
   "cell_type": "markdown",
   "id": "f7cf6419-272c-4590-b35a-584b70f2ff8c",
   "metadata": {},
   "source": [
    "#### Graphique des écarts-types."
   ]
  },
  {
   "cell_type": "markdown",
   "id": "088e04e2-c062-4785-8dde-c093e6dacb84",
   "metadata": {},
   "source": [
    "**écart type des 30 premier aspects explicites.**"
   ]
  },
  {
   "cell_type": "code",
   "execution_count": 42,
   "id": "b2050a24-043f-4499-b37e-3781bacfd9e3",
   "metadata": {},
   "outputs": [
    {
     "data": {
      "text/plain": [
       "<AxesSubplot:>"
      ]
     },
     "execution_count": 42,
     "metadata": {},
     "output_type": "execute_result"
    },
    {
     "data": {
      "image/png": "[encoded data removed]",
      "text/plain": [
       "<Figure size 1296x576 with 1 Axes>"
      ]
     },
     "metadata": {},
     "output_type": "display_data"
    }
   ],
   "source": [
    "sns.barplot(x = list(stds_.index)[0:30], y= list(stds_)[0:30])"
   ]
  },
  {
   "cell_type": "markdown",
   "id": "b5729f3b-30ac-4eba-af43-26603867d088",
   "metadata": {},
   "source": [
    "**écart type des 30 dernier aspects explicites.**"
   ]
  },
  {
   "cell_type": "code",
   "execution_count": 43,
   "id": "19de28b4-bab8-4dcc-8295-4eedcf7faa6e",
   "metadata": {},
   "outputs": [
    {
     "data": {
      "text/plain": [
       "<AxesSubplot:>"
      ]
     },
     "execution_count": 43,
     "metadata": {},
     "output_type": "execute_result"
    },
    {
     "data": {
      "image/png": "[encoded data removed]",
      "text/plain": [
       "<Figure size 1296x576 with 1 Axes>"
      ]
     },
     "metadata": {},
     "output_type": "display_data"
    }
   ],
   "source": [
    "sns.barplot(x = list(stds_.index)[-30:], y= list(stds_)[-30:])"
   ]
  },
  {
   "cell_type": "markdown",
   "id": "108ba9e4-7918-4d82-bb1b-faf819c45f38",
   "metadata": {},
   "source": [
    "### Interprétations"
   ]
  },
  {
   "cell_type": "markdown",
   "id": "7c1f68ec-2762-4734-97b8-c8e33ee31f26",
   "metadata": {},
   "source": [
    "- Les aspects les plus fréquents dans les quatre jeux de données ont une petite variance , par exemple pour l’aspect hotel il a comme variance la valeur 0,07.\n",
    "- Si on compare la variance de l’aspect ‘hotel’ (0,07) avec la variance de l’aspect ‘lobby’ (0,0005), nous remarquons que la variance de ‘hotel’ est plus grande que ‘lobby’. Cette grande différence est due aux valeurs de proportions de ‘lobby’ qui sont proches de zéro."
   ]
  },
  {
   "cell_type": "code",
   "execution_count": 18,
   "id": "dc3353c3-14c9-4738-9cd8-06a820bed54e",
   "metadata": {},
   "outputs": [
    {
     "data": {
      "text/plain": [
       "tripadvisor           0.464225\n",
       "booking               0.433668\n",
       "agoda                 0.423391\n",
       "agoda_london          0.410478\n",
       "tripadvisor_london    0.406861\n",
       "Name: lobby, dtype: object"
      ]
     },
     "execution_count": 18,
     "metadata": {},
     "output_type": "execute_result"
    }
   ],
   "source": [
    "rounded_proportion['lobby']"
   ]
  },
  {
   "cell_type": "code",
   "execution_count": 19,
   "id": "b4b7a494-4e71-4c55-aa52-01b17761ad74",
   "metadata": {},
   "outputs": [
    {
     "data": {
      "text/plain": [
       "tripadvisor           9.781888\n",
       "booking               9.262132\n",
       "agoda                 9.262441\n",
       "agoda_london          9.201784\n",
       "tripadvisor_london    9.082493\n",
       "Name: hotel, dtype: object"
      ]
     },
     "execution_count": 19,
     "metadata": {},
     "output_type": "execute_result"
    }
   ],
   "source": [
    "rounded_proportion['hotel']"
   ]
  },
  {
   "cell_type": "code",
   "execution_count": 20,
   "id": "1f604657-ee87-46be-b1a2-2d7759222d04",
   "metadata": {},
   "outputs": [
    {
     "data": {
      "text/plain": [
       "(0.07259244659153166, 0.0005297912699953506)"
      ]
     },
     "execution_count": 20,
     "metadata": {},
     "output_type": "execute_result"
    }
   ],
   "source": [
    "vars_['hotel'], vars_['lobby']"
   ]
  }
 ],
 "metadata": {
  "kernelspec": {
   "display_name": "Python 3 (ipykernel)",
   "language": "python",
   "name": "python3"
  },
  "language_info": {
   "codemirror_mode": {
    "name": "ipython",
    "version": 3
   },
   "file_extension": ".py",
   "mimetype": "text/x-python",
   "name": "python",
   "nbconvert_exporter": "python",
   "pygments_lexer": "ipython3",
   "version": "3.8.8"
  }
 },
 "nbformat": 4,
 "nbformat_minor": 5
}
