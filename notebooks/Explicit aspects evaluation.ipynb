{
 "cells": [
  {
   "cell_type": "code",
   "execution_count": 167,
   "id": "7c278f9c-7eb0-4421-ac25-c8c67188a2e4",
   "metadata": {},
   "outputs": [],
   "source": [
    "%load_ext autoreload\n",
    "%autoreload 2"
   ]
  },
  {
   "cell_type": "markdown",
   "id": "e16bc005-1d6c-4fd6-a553-1c1f303f8a72",
   "metadata": {},
   "source": [
    "## Explicit Aspects evaluation"
   ]
  },
  {
   "cell_type": "code",
   "execution_count": 1,
   "id": "12274112-eeba-48bd-be46-35e40e452e95",
   "metadata": {},
   "outputs": [],
   "source": [
    "import os\n",
    "os.chdir(\"..\")"
   ]
  },
  {
   "cell_type": "code",
   "execution_count": 2,
   "id": "c2f7fbd5-b8c5-466b-bd80-6ab6a93e2632",
   "metadata": {},
   "outputs": [],
   "source": [
    "from Preprocessors.ReviewPreprocessor import ReviewPreprocessor\n",
    "from Aspects.ExplicitAspectExtractor import ExplicitAspectExtractor\n",
    "import re\n",
    "import pandas as pd"
   ]
  },
  {
   "cell_type": "code",
   "execution_count": 3,
   "id": "f2469fe0-0d2c-48d3-9ad9-fa2d74f057da",
   "metadata": {},
   "outputs": [],
   "source": [
    "tagged_hotels_corpus = open(\"data/tagged_hotels_corpus.txt\", \"r\")"
   ]
  },
  {
   "cell_type": "code",
   "execution_count": 80,
   "id": "6377a481-f126-4e3f-ab15-83270659f271",
   "metadata": {},
   "outputs": [],
   "source": [
    "tagged_hotels_corpus.seek(3)\n",
    "current_review_number = 1\n",
    "review_text = []\n",
    "temp_review_text = \"\"\n",
    "for line in tagged_hotels_corpus.readlines():\n",
    "    splited = line.split(\"###\")\n",
    "    sentence_text=splited[1]\n",
    "    sentence_meta_data = splited[0]\n",
    "    meta_data_items = sentence_meta_data.strip().split(\" \")\n",
    "    regex_groups = re.search(r'\\[c([0-9]+)\\]\\[s([0-9]+)\\]', meta_data_items[0]).groups()\n",
    "    review_id = int(regex_groups[0])\n",
    "    sentence_number = int(regex_groups[1])\n",
    "    if current_review_number == review_id:\n",
    "        temp_review_text += \" \" + sentence_text\n",
    "    elif review_id == current_review_number+1:\n",
    "        review_text.append(temp_review_text)\n",
    "        temp_review_text = sentence_text\n",
    "        current_review_number = review_id\n",
    "# add add the last review\n",
    "review_text.append(temp_review_text)"
   ]
  },
  {
   "cell_type": "code",
   "execution_count": 81,
   "id": "a0cba107-1fbd-4136-81f3-d72eea8baa73",
   "metadata": {},
   "outputs": [],
   "source": [
    "df = pd.DataFrame(review_text, columns = [\"review\"])"
   ]
  },
  {
   "cell_type": "code",
   "execution_count": 82,
   "id": "0ac82641-ce8c-41cd-8c3b-395f31e99076",
   "metadata": {},
   "outputs": [
    {
     "data": {
      "text/html": [
       "<div>\n",
       "<style scoped>\n",
       "    .dataframe tbody tr th:only-of-type {\n",
       "        vertical-align: middle;\n",
       "    }\n",
       "\n",
       "    .dataframe tbody tr th {\n",
       "        vertical-align: top;\n",
       "    }\n",
       "\n",
       "    .dataframe thead th {\n",
       "        text-align: right;\n",
       "    }\n",
       "</style>\n",
       "<table border=\"1\" class=\"dataframe\">\n",
       "  <thead>\n",
       "    <tr style=\"text-align: right;\">\n",
       "      <th></th>\n",
       "      <th>review</th>\n",
       "    </tr>\n",
       "  </thead>\n",
       "  <tbody>\n",
       "    <tr>\n",
       "      <th>0</th>\n",
       "      <td>this is quite the most delightful hotel i ha...</td>\n",
       "    </tr>\n",
       "    <tr>\n",
       "      <th>1</th>\n",
       "      <td>the actual hotel accomodations were very luxu...</td>\n",
       "    </tr>\n",
       "    <tr>\n",
       "      <th>2</th>\n",
       "      <td>very good, but i am going back and won't stay...</td>\n",
       "    </tr>\n",
       "    <tr>\n",
       "      <th>3</th>\n",
       "      <td>we stayed here for one night, in december 201...</td>\n",
       "    </tr>\n",
       "    <tr>\n",
       "      <th>4</th>\n",
       "      <td>the family that runs this hostel are wonderfu...</td>\n",
       "    </tr>\n",
       "    <tr>\n",
       "      <th>...</th>\n",
       "      <td>...</td>\n",
       "    </tr>\n",
       "    <tr>\n",
       "      <th>95</th>\n",
       "      <td>we arrived really late on friday evening and ...</td>\n",
       "    </tr>\n",
       "    <tr>\n",
       "      <th>96</th>\n",
       "      <td>bed and breakfast/ hostel style accommodation...</td>\n",
       "    </tr>\n",
       "    <tr>\n",
       "      <th>97</th>\n",
       "      <td>we stayed at cabanas del lago for one night f...</td>\n",
       "    </tr>\n",
       "    <tr>\n",
       "      <th>98</th>\n",
       "      <td>we found this place on the internet and staye...</td>\n",
       "    </tr>\n",
       "    <tr>\n",
       "      <th>99</th>\n",
       "      <td>this hotel is perfect!!!\\n  we got two days o...</td>\n",
       "    </tr>\n",
       "  </tbody>\n",
       "</table>\n",
       "<p>100 rows × 1 columns</p>\n",
       "</div>"
      ],
      "text/plain": [
       "                                               review\n",
       "0     this is quite the most delightful hotel i ha...\n",
       "1    the actual hotel accomodations were very luxu...\n",
       "2    very good, but i am going back and won't stay...\n",
       "3    we stayed here for one night, in december 201...\n",
       "4    the family that runs this hostel are wonderfu...\n",
       "..                                                ...\n",
       "95   we arrived really late on friday evening and ...\n",
       "96   bed and breakfast/ hostel style accommodation...\n",
       "97   we stayed at cabanas del lago for one night f...\n",
       "98   we found this place on the internet and staye...\n",
       "99   this hotel is perfect!!!\\n  we got two days o...\n",
       "\n",
       "[100 rows x 1 columns]"
      ]
     },
     "execution_count": 82,
     "metadata": {},
     "output_type": "execute_result"
    }
   ],
   "source": [
    "df"
   ]
  },
  {
   "cell_type": "markdown",
   "id": "6c182d0b-ce5e-46db-a0bb-92225bf7188d",
   "metadata": {},
   "source": [
    "### Preprocessing"
   ]
  },
  {
   "cell_type": "code",
   "execution_count": 84,
   "id": "374f3579-c3bc-45c7-8e6f-f2436e3bcfaf",
   "metadata": {},
   "outputs": [],
   "source": [
    "import spacy\n",
    "nlp = spacy.load(\"en_core_web_sm\")"
   ]
  },
  {
   "cell_type": "code",
   "execution_count": 112,
   "id": "fe4eaa81-22a5-4b9c-8bee-94b1e2e8ae48",
   "metadata": {},
   "outputs": [
    {
     "name": "stdout",
     "output_type": "stream",
     "text": [
      "remove_tags done\n"
     ]
    },
    {
     "name": "stderr",
     "output_type": "stream",
     "text": [
      "100it [00:22,  4.42it/s]\n"
     ]
    },
    {
     "name": "stdout",
     "output_type": "stream",
     "text": [
      "spelling_correction done\n"
     ]
    },
    {
     "name": "stderr",
     "output_type": "stream",
     "text": [
      "100it [00:02, 37.23it/s]"
     ]
    },
    {
     "name": "stdout",
     "output_type": "stream",
     "text": [
      "remove_objective_sentences done\n"
     ]
    },
    {
     "name": "stderr",
     "output_type": "stream",
     "text": [
      "\n"
     ]
    }
   ],
   "source": [
    "df[\"cleaned_review\"] = df[\"review\"]\n",
    "preprocessor = ReviewPreprocessor(df[\"cleaned_review\"], nlp, subjectivity_threshold=0.4)\n",
    "df[\"cleaned_review\"] = preprocessor.start()"
   ]
  },
  {
   "cell_type": "markdown",
   "id": "6e19848c-0c34-4d6f-91d4-e055976e61bc",
   "metadata": {},
   "source": [
    "### Extraction des aspects explicits"
   ]
  },
  {
   "cell_type": "code",
   "execution_count": 122,
   "id": "0cd73157-592a-44cb-a594-c30aa450f140",
   "metadata": {},
   "outputs": [],
   "source": [
    "explicit_aspects_extractor = ExplicitAspectExtractor(df[\"cleaned_review\"], nlp)\n",
    "explicit_10_aspects = explicit_aspects_extractor.start(10)\n",
    "explicit_10_aspects_ = list(dict(explicit_10_aspects).keys())"
   ]
  },
  {
   "cell_type": "code",
   "execution_count": 123,
   "id": "48ac9155-2851-4697-815c-19994d5e077a",
   "metadata": {},
   "outputs": [
    {
     "data": {
      "text/plain": [
       "['room',\n",
       " 'hotel',\n",
       " 'breakfast',\n",
       " 'view',\n",
       " 'staff',\n",
       " 'lake',\n",
       " 'place',\n",
       " 'service',\n",
       " 'town',\n",
       " 'restaurant']"
      ]
     },
     "execution_count": 123,
     "metadata": {},
     "output_type": "execute_result"
    }
   ],
   "source": [
    "explicit_10_aspects_"
   ]
  },
  {
   "cell_type": "markdown",
   "id": "ca1e7c66-f689-47da-98cf-4ea854350829",
   "metadata": {},
   "source": [
    "#### Extract explicit aspects from dataset"
   ]
  },
  {
   "cell_type": "code",
   "execution_count": null,
   "id": "6264a5f7-fb48-4aae-8ef7-20d9eac32c2b",
   "metadata": {},
   "outputs": [],
   "source": [
    "tagged_hotels_corpus.seek(3)\n",
    "true_explicit_aspects = set()\n",
    "for line in tagged_hotels_corpus.readlines():\n",
    "    splited = line.split(\"###\")\n",
    "    \n",
    "    aspects_metadata = splited[0].strip().split(\" \", maxsplit=1)\n",
    "    if len(aspects_metadata) > 1:\n",
    "        aspects_metadata = aspects_metadata[1].split(\",\")\n",
    "        for aspect in aspects_metadata:\n",
    "            if \"[p]\" in aspect or \"[u]\" in aspect or aspect == \"\" :\n",
    "                continue\n",
    "            else:\n",
    "                true_explicit_aspects.add(aspect[:-3].strip())"
   ]
  },
  {
   "cell_type": "code",
   "execution_count": 175,
   "id": "7fb2e195-c647-4c8f-a127-b303449058cd",
   "metadata": {},
   "outputs": [
    {
     "data": {
      "text/plain": [
       "{'A/C',\n",
       " 'accomodation',\n",
       " 'air-conditioning',\n",
       " 'amenity',\n",
       " 'animal',\n",
       " 'apartment',\n",
       " 'aspect',\n",
       " 'atmosphere',\n",
       " 'attendant',\n",
       " 'attention',\n",
       " 'back room',\n",
       " 'balcony',\n",
       " 'bar',\n",
       " 'bar area',\n",
       " 'bath',\n",
       " 'bathroom',\n",
       " 'bathroom clanliness',\n",
       " 'bathtub',\n",
       " 'beach service',\n",
       " 'bed',\n",
       " 'bed comfort',\n",
       " 'bedroom',\n",
       " 'bike',\n",
       " 'bike loan',\n",
       " 'book exchange',\n",
       " 'bookcase',\n",
       " 'bread',\n",
       " 'breakfast',\n",
       " 'breakfast area',\n",
       " 'breakfast selection',\n",
       " 'broadband',\n",
       " 'brunch',\n",
       " 'building',\n",
       " 'cabin',\n",
       " 'cafe',\n",
       " 'cafeteria',\n",
       " 'cake',\n",
       " 'carpet',\n",
       " 'ceiling',\n",
       " 'cereal',\n",
       " 'chair',\n",
       " 'cheese',\n",
       " 'chef',\n",
       " 'cleanliness',\n",
       " 'closet',\n",
       " 'coffee',\n",
       " 'coffee maker',\n",
       " 'coffee table',\n",
       " 'common area',\n",
       " 'common room',\n",
       " 'computer',\n",
       " 'computer room',\n",
       " 'condiments',\n",
       " 'cookware',\n",
       " 'cost',\n",
       " 'couch',\n",
       " 'crockery',\n",
       " 'croissant',\n",
       " 'deck',\n",
       " 'decor',\n",
       " 'decoration',\n",
       " 'dessert',\n",
       " 'detergent',\n",
       " 'dining',\n",
       " 'dining area',\n",
       " 'dining room',\n",
       " 'dinner',\n",
       " 'dinning',\n",
       " 'dinning room',\n",
       " 'distance',\n",
       " 'dog',\n",
       " 'doorman',\n",
       " 'drawer',\n",
       " 'driveway',\n",
       " 'easy chair',\n",
       " 'egg',\n",
       " 'egg freshness',\n",
       " 'elevator',\n",
       " 'english',\n",
       " 'entrance',\n",
       " 'environment',\n",
       " 'equipment',\n",
       " 'espresso',\n",
       " 'experience',\n",
       " 'facility',\n",
       " 'family',\n",
       " 'fire',\n",
       " 'fireplace',\n",
       " 'flower',\n",
       " 'food',\n",
       " 'food flavor',\n",
       " 'food options',\n",
       " 'food quality',\n",
       " 'food variety',\n",
       " 'fridge',\n",
       " 'front desk attendance',\n",
       " 'front desk service',\n",
       " 'front-desk service',\n",
       " 'fruit',\n",
       " 'fruit selection',\n",
       " 'furnishing',\n",
       " 'game',\n",
       " 'garden',\n",
       " 'gift',\n",
       " 'ground',\n",
       " 'gym',\n",
       " 'ham',\n",
       " 'hamburger',\n",
       " 'hanger',\n",
       " 'heated towel rack',\n",
       " 'heater',\n",
       " 'heating',\n",
       " 'host',\n",
       " 'hostel',\n",
       " 'hot food',\n",
       " 'hot spring',\n",
       " 'hot water',\n",
       " 'hotel',\n",
       " 'house',\n",
       " 'ingredient',\n",
       " 'internet',\n",
       " 'iron',\n",
       " 'jam',\n",
       " 'juice',\n",
       " 'kitchen',\n",
       " 'kitchen access',\n",
       " 'lake',\n",
       " 'lake access',\n",
       " 'lake view',\n",
       " 'lakeside',\n",
       " 'landscape',\n",
       " 'language barrier',\n",
       " 'laundry',\n",
       " 'laundry price',\n",
       " 'library',\n",
       " 'linen',\n",
       " 'linen quality',\n",
       " 'living room',\n",
       " 'lobby',\n",
       " 'lobby area',\n",
       " 'localization',\n",
       " 'location',\n",
       " 'lounge',\n",
       " 'lounge chair',\n",
       " 'lunch',\n",
       " 'manager',\n",
       " 'marmelade',\n",
       " 'matches',\n",
       " 'mattress',\n",
       " 'meat',\n",
       " 'menu',\n",
       " 'microwave',\n",
       " 'mold',\n",
       " 'mountain view',\n",
       " 'nbasketball hoop',\n",
       " 'neighbourhood',\n",
       " 'night',\n",
       " 'night activity',\n",
       " 'noise',\n",
       " 'outside',\n",
       " 'owner',\n",
       " 'owner family',\n",
       " 'paint',\n",
       " 'parking',\n",
       " 'parking area',\n",
       " 'parking system',\n",
       " 'party',\n",
       " 'pasta',\n",
       " 'pastry',\n",
       " 'patio',\n",
       " 'pen',\n",
       " 'people',\n",
       " 'personnel',\n",
       " 'personnell',\n",
       " 'ping ping table',\n",
       " 'place',\n",
       " 'poeople',\n",
       " 'pool',\n",
       " 'pot',\n",
       " 'price',\n",
       " 'property',\n",
       " 'propietor',\n",
       " 'public room',\n",
       " 'public space',\n",
       " 'quality',\n",
       " 'rec room',\n",
       " 'reception',\n",
       " 'reception service',\n",
       " 'receptionist',\n",
       " 'recommendation',\n",
       " 'refrigerator',\n",
       " 'region',\n",
       " 'reservation',\n",
       " 'restaurant',\n",
       " 'room',\n",
       " 'room breakfast',\n",
       " 'room ceiling',\n",
       " 'room cleanliness',\n",
       " 'room cleanliness[+]',\n",
       " 'room comfort',\n",
       " 'room light',\n",
       " 'room night light',\n",
       " 'room service',\n",
       " 'room size',\n",
       " 'safe',\n",
       " 'sandwich',\n",
       " 'sauna',\n",
       " 'seating area',\n",
       " 'service',\n",
       " 'setting',\n",
       " 'sheet',\n",
       " 'sheets',\n",
       " 'shelf space',\n",
       " 'shop',\n",
       " 'shower',\n",
       " 'site',\n",
       " 'sitting room',\n",
       " 'smoke',\n",
       " 'soap',\n",
       " 'sofa',\n",
       " 'spa',\n",
       " 'space',\n",
       " 'sponge',\n",
       " 'spot',\n",
       " 'squash court',\n",
       " 'staff',\n",
       " 'stay',\n",
       " 'stove',\n",
       " 'suite',\n",
       " 'surrounding',\n",
       " 'surroundings',\n",
       " 'surroundings cleanliness',\n",
       " 'table',\n",
       " 'tea',\n",
       " 'television',\n",
       " 'tennis court',\n",
       " 'terrace',\n",
       " 'terrace dinner',\n",
       " 'toaster',\n",
       " 'tour',\n",
       " 'towel',\n",
       " 'towel quality',\n",
       " 'trail',\n",
       " 'tv',\n",
       " 'tv cable',\n",
       " 'tv guide',\n",
       " 'tv remote',\n",
       " 'vacation',\n",
       " 'view',\n",
       " 'view lake',\n",
       " 'volcano view',\n",
       " 'waiter',\n",
       " 'waitress',\n",
       " 'wall',\n",
       " 'welcome',\n",
       " 'wi-fi',\n",
       " 'wi-fi signal',\n",
       " 'wifi',\n",
       " 'wifi signal',\n",
       " 'window',\n",
       " 'wine',\n",
       " 'wine choice',\n",
       " 'wireless',\n",
       " 'yoghurt',\n",
       " 'yogurt'}"
      ]
     },
     "execution_count": 175,
     "metadata": {},
     "output_type": "execute_result"
    }
   ],
   "source": [
    "true_explicit_aspects"
   ]
  },
  {
   "cell_type": "code",
   "execution_count": 171,
   "id": "ad5a252b-5d57-48b4-96b8-3f84861f7c1a",
   "metadata": {},
   "outputs": [
    {
     "data": {
      "text/plain": [
       "0.033962264150943396"
      ]
     },
     "execution_count": 171,
     "metadata": {},
     "output_type": "execute_result"
    }
   ],
   "source": [
    "aspects_in_true = 0\n",
    "for ie in explicit_10_aspects_:\n",
    "    if ie in true_explicit_aspects:\n",
    "        aspects_in_true += 1\n",
    "aspects_in_true/len(true_explicit_aspects)"
   ]
  }
 ],
 "metadata": {
  "kernelspec": {
   "display_name": "Python 3 (ipykernel)",
   "language": "python",
   "name": "python3"
  },
  "language_info": {
   "codemirror_mode": {
    "name": "ipython",
    "version": 3
   },
   "file_extension": ".py",
   "mimetype": "text/x-python",
   "name": "python",
   "nbconvert_exporter": "python",
   "pygments_lexer": "ipython3",
   "version": "3.8.8"
  }
 },
 "nbformat": 4,
 "nbformat_minor": 5
}
